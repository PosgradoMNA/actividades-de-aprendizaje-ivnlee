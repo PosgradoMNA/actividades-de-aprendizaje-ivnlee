{
 "cells": [
  {
   "cell_type": "markdown",
   "metadata": {},
   "source": [
    "## Ivan Lee Cancino  -  A01793491"
   ]
  },
  {
   "cell_type": "markdown",
   "metadata": {},
   "source": [
    "# MODULE 5: Working with Numpy, Arrays and Simple APIs"
   ]
  },
  {
   "cell_type": "markdown",
   "metadata": {},
   "source": [
    "## Numpy 1D Arrays"
   ]
  },
  {
   "cell_type": "markdown",
   "metadata": {},
   "source": [
    "NumPy is a Python library used for working with arrays, linear algebra, fourier transform, and matrices. A numpy array is similar to a list. The array object in NumPy is called **ndarray**."
   ]
  },
  {
   "cell_type": "code",
   "execution_count": 1,
   "metadata": {},
   "outputs": [],
   "source": [
    "# Import the library as np\n",
    "import numpy as np"
   ]
  },
  {
   "cell_type": "code",
   "execution_count": 2,
   "metadata": {},
   "outputs": [
    {
     "data": {
      "text/plain": [
       "array([0, 1, 2, 3, 4, 5])"
      ]
     },
     "execution_count": 2,
     "metadata": {},
     "output_type": "execute_result"
    }
   ],
   "source": [
    "# Create a Numpy array\n",
    "A = np.array([0,1,2,3,4,5])\n",
    "A"
   ]
  },
  {
   "cell_type": "code",
   "execution_count": 3,
   "metadata": {},
   "outputs": [
    {
     "name": "stdout",
     "output_type": "stream",
     "text": [
      "A[0]: 0\n",
      "A[1]: 1\n",
      "A[2]: 2\n",
      "A[3]: 3\n",
      "A[4]: 4\n",
      "A[5]: 5\n"
     ]
    }
   ],
   "source": [
    "# Print each element of the array A\n",
    "print('A[0]:', A[0])\n",
    "print('A[1]:', A[1])\n",
    "print('A[2]:', A[2])\n",
    "print('A[3]:', A[3])\n",
    "print('A[4]:', A[4])\n",
    "print('A[5]:', A[5])"
   ]
  },
  {
   "cell_type": "code",
   "execution_count": 4,
   "metadata": {},
   "outputs": [
    {
     "name": "stdout",
     "output_type": "stream",
     "text": [
      "1.23.3\n"
     ]
    }
   ],
   "source": [
    "# We can check the numpy version: \n",
    "print(np.__version__)"
   ]
  },
  {
   "cell_type": "code",
   "execution_count": 5,
   "metadata": {},
   "outputs": [
    {
     "data": {
      "text/plain": [
       "numpy.ndarray"
      ]
     },
     "execution_count": 5,
     "metadata": {},
     "output_type": "execute_result"
    }
   ],
   "source": [
    "# Check the type of the array\n",
    "type(A)"
   ]
  },
  {
   "cell_type": "markdown",
   "metadata": {},
   "source": [
    "As numpy arrays contain data of the same type, we can use the attribute \"dtype\" to obtain the data type of the array’s elements."
   ]
  },
  {
   "cell_type": "code",
   "execution_count": 6,
   "metadata": {},
   "outputs": [
    {
     "data": {
      "text/plain": [
       "dtype('int64')"
      ]
     },
     "execution_count": 6,
     "metadata": {},
     "output_type": "execute_result"
    }
   ],
   "source": [
    "A.dtype"
   ]
  },
  {
   "cell_type": "markdown",
   "metadata": {},
   "source": [
    "Check the type of the array and Value type for the given array"
   ]
  },
  {
   "cell_type": "code",
   "execution_count": 7,
   "metadata": {},
   "outputs": [
    {
     "name": "stdout",
     "output_type": "stream",
     "text": [
      "<class 'numpy.ndarray'>\n",
      "float64\n"
     ]
    }
   ],
   "source": [
    "b = np.array([3.1, 11.02, 6.2, 213.2, 5.2])\n",
    "print(type(b))\n",
    "print(b.dtype)"
   ]
  },
  {
   "cell_type": "markdown",
   "metadata": {},
   "source": [
    "**Asign Value:** We can change the value of the array elements"
   ]
  },
  {
   "cell_type": "code",
   "execution_count": 17,
   "metadata": {},
   "outputs": [
    {
     "data": {
      "text/plain": [
       "array([20,  1,  2,  3,  4])"
      ]
     },
     "execution_count": 17,
     "metadata": {},
     "output_type": "execute_result"
    }
   ],
   "source": [
    "# Create the array\n",
    "c = np.array([20, 1, 2, 3, 4])\n",
    "c"
   ]
  },
  {
   "cell_type": "code",
   "execution_count": 18,
   "metadata": {},
   "outputs": [
    {
     "data": {
      "text/plain": [
       "array([50,  1,  2,  0,  4])"
      ]
     },
     "execution_count": 18,
     "metadata": {},
     "output_type": "execute_result"
    }
   ],
   "source": [
    "# Change a value\n",
    "c[0] = 50\n",
    "c[3] = 0\n",
    "c"
   ]
  },
  {
   "cell_type": "markdown",
   "metadata": {},
   "source": [
    "**Slicing:** like lists, we can slice the numpy array."
   ]
  },
  {
   "cell_type": "code",
   "execution_count": 13,
   "metadata": {},
   "outputs": [
    {
     "data": {
      "text/plain": [
       "array([1, 2, 0])"
      ]
     },
     "execution_count": 13,
     "metadata": {},
     "output_type": "execute_result"
    }
   ],
   "source": [
    "# Slicing the array c\n",
    "d = c[1:4]\n",
    "d"
   ]
  },
  {
   "cell_type": "markdown",
   "metadata": {},
   "source": [
    "We can assign the corresponding indexes to new values:"
   ]
  },
  {
   "cell_type": "code",
   "execution_count": 19,
   "metadata": {},
   "outputs": [
    {
     "data": {
      "text/plain": [
       "array([ 50,   1, 100, 200,   4])"
      ]
     },
     "execution_count": 19,
     "metadata": {},
     "output_type": "execute_result"
    }
   ],
   "source": [
    "# assign a new value to the third and fourth elements\n",
    "c[2:4] = 100, 200\n",
    "c"
   ]
  },
  {
   "cell_type": "markdown",
   "metadata": {},
   "source": [
    "We can also define the steps in slicing, like this: **[start:end:step]**"
   ]
  },
  {
   "cell_type": "code",
   "execution_count": 20,
   "metadata": {},
   "outputs": [
    {
     "name": "stdout",
     "output_type": "stream",
     "text": [
      "[4 6]\n"
     ]
    }
   ],
   "source": [
    "arr = np.array([1, 2, 3, 4, 5, 6, 7])\n",
    "print(arr[3:6:2])"
   ]
  },
  {
   "cell_type": "code",
   "execution_count": 21,
   "metadata": {},
   "outputs": [
    {
     "name": "stdout",
     "output_type": "stream",
     "text": [
      "[2 4 6]\n"
     ]
    }
   ],
   "source": [
    "# Print the even elements in the given array.\n",
    "print(arr[1::2])"
   ]
  },
  {
   "cell_type": "markdown",
   "metadata": {},
   "source": [
    "**Assign Value with List**\n",
    "- We can use a list to select more than one specific index.\n",
    "- Usings the list as an argument in the brackets, the output is the elements corresponding to the particular indexes."
   ]
  },
  {
   "cell_type": "code",
   "execution_count": 22,
   "metadata": {},
   "outputs": [
    {
     "data": {
      "text/plain": [
       "[0, 2, 3, 4]"
      ]
     },
     "execution_count": 22,
     "metadata": {},
     "output_type": "execute_result"
    }
   ],
   "source": [
    "# Create a list with the indexes\n",
    "select = [0, 2, 3, 4]\n",
    "select"
   ]
  },
  {
   "cell_type": "code",
   "execution_count": 23,
   "metadata": {},
   "outputs": [
    {
     "data": {
      "text/plain": [
       "array([ 50, 100, 200,   4])"
      ]
     },
     "execution_count": 23,
     "metadata": {},
     "output_type": "execute_result"
    }
   ],
   "source": [
    "# Use the list to select the elements\n",
    "c[select]"
   ]
  },
  {
   "cell_type": "markdown",
   "metadata": {},
   "source": [
    "We can assign a new value to the specified elements in the list"
   ]
  },
  {
   "cell_type": "code",
   "execution_count": 24,
   "metadata": {},
   "outputs": [
    {
     "data": {
      "text/plain": [
       "array([500,   1, 500, 500, 500])"
      ]
     },
     "execution_count": 24,
     "metadata": {},
     "output_type": "execute_result"
    }
   ],
   "source": [
    "c[select] = 500\n",
    "c"
   ]
  },
  {
   "cell_type": "markdown",
   "metadata": {},
   "source": [
    "**Other Array Atributes**"
   ]
  },
  {
   "cell_type": "code",
   "execution_count": 25,
   "metadata": {},
   "outputs": [
    {
     "data": {
      "text/plain": [
       "array([0, 1, 2, 3, 4])"
      ]
     },
     "execution_count": 25,
     "metadata": {},
     "output_type": "execute_result"
    }
   ],
   "source": [
    "# Create new array\n",
    "a = np.array([0, 1, 2, 3, 4])\n",
    "a "
   ]
  },
  {
   "cell_type": "markdown",
   "metadata": {},
   "source": [
    "The attribute size is the number of elements in the array:"
   ]
  },
  {
   "cell_type": "code",
   "execution_count": 26,
   "metadata": {},
   "outputs": [
    {
     "data": {
      "text/plain": [
       "5"
      ]
     },
     "execution_count": 26,
     "metadata": {},
     "output_type": "execute_result"
    }
   ],
   "source": [
    "# Get the size of the arrray\n",
    "a.size"
   ]
  },
  {
   "cell_type": "markdown",
   "metadata": {},
   "source": [
    "he attribute **ndim** represents the number of array dimensions, or the rank of the array. In this case, one:"
   ]
  },
  {
   "cell_type": "code",
   "execution_count": 28,
   "metadata": {},
   "outputs": [
    {
     "data": {
      "text/plain": [
       "1"
      ]
     },
     "execution_count": 28,
     "metadata": {},
     "output_type": "execute_result"
    }
   ],
   "source": [
    "# check the number of dimensions\n",
    "a.ndim"
   ]
  },
  {
   "cell_type": "markdown",
   "metadata": {},
   "source": [
    "The attribute **shape** is a tuple of integers indicating the size of the array in each dimension.In our case we have a 1D array:"
   ]
  },
  {
   "cell_type": "code",
   "execution_count": 29,
   "metadata": {},
   "outputs": [
    {
     "data": {
      "text/plain": [
       "(5,)"
      ]
     },
     "execution_count": 29,
     "metadata": {},
     "output_type": "execute_result"
    }
   ],
   "source": [
    "# check the size of each dimension\n",
    "a.shape"
   ]
  },
  {
   "cell_type": "markdown",
   "metadata": {},
   "source": [
    "**Numpy Statistical Functions**"
   ]
  },
  {
   "cell_type": "code",
   "execution_count": 30,
   "metadata": {},
   "outputs": [
    {
     "data": {
      "text/plain": [
       "array([ 1, -1,  1, -1])"
      ]
     },
     "execution_count": 30,
     "metadata": {},
     "output_type": "execute_result"
    }
   ],
   "source": [
    "# create a new array\n",
    "a = np.array([1, -1, 1, -1])\n",
    "a "
   ]
  },
  {
   "cell_type": "code",
   "execution_count": 31,
   "metadata": {},
   "outputs": [
    {
     "data": {
      "text/plain": [
       "0.0"
      ]
     },
     "execution_count": 31,
     "metadata": {},
     "output_type": "execute_result"
    }
   ],
   "source": [
    "# calculete the mean\n",
    "mean_a = a.mean()\n",
    "mean_a"
   ]
  },
  {
   "cell_type": "code",
   "execution_count": 32,
   "metadata": {},
   "outputs": [
    {
     "data": {
      "text/plain": [
       "1.0"
      ]
     },
     "execution_count": 32,
     "metadata": {},
     "output_type": "execute_result"
    }
   ],
   "source": [
    "# calculete the standard deviation\n",
    "std_dev = a.std()\n",
    "std_dev"
   ]
  },
  {
   "cell_type": "code",
   "execution_count": 33,
   "metadata": {},
   "outputs": [
    {
     "data": {
      "text/plain": [
       "array([-1,  2,  3,  4,  5])"
      ]
     },
     "execution_count": 33,
     "metadata": {},
     "output_type": "execute_result"
    }
   ],
   "source": [
    "# create a new array\n",
    "b = np.array([-1, 2, 3, 4, 5])\n",
    "b"
   ]
  },
  {
   "cell_type": "code",
   "execution_count": 34,
   "metadata": {},
   "outputs": [
    {
     "data": {
      "text/plain": [
       "5"
      ]
     },
     "execution_count": 34,
     "metadata": {},
     "output_type": "execute_result"
    }
   ],
   "source": [
    "# Get the maximum value in the array\n",
    "max_b = b.max()\n",
    "max_b"
   ]
  },
  {
   "cell_type": "code",
   "execution_count": 35,
   "metadata": {},
   "outputs": [
    {
     "data": {
      "text/plain": [
       "-1"
      ]
     },
     "execution_count": 35,
     "metadata": {},
     "output_type": "execute_result"
    }
   ],
   "source": [
    "# Get the smallest value in the array\n",
    "min_b = b.min()\n",
    "min_b"
   ]
  },
  {
   "cell_type": "markdown",
   "metadata": {},
   "source": [
    "**Numpy Array Operations:** We can use arithmetic operators directly between NumPy arrays."
   ]
  },
  {
   "cell_type": "code",
   "execution_count": 37,
   "metadata": {},
   "outputs": [],
   "source": [
    "# create array u and v:\n",
    "u = np.array([1,0])\n",
    "v = np.array([0,1])"
   ]
  },
  {
   "cell_type": "markdown",
   "metadata": {},
   "source": [
    "We can add the two arrays and assign it to z:"
   ]
  },
  {
   "cell_type": "code",
   "execution_count": 38,
   "metadata": {},
   "outputs": [
    {
     "data": {
      "text/plain": [
       "array([1, 1])"
      ]
     },
     "execution_count": 38,
     "metadata": {},
     "output_type": "execute_result"
    }
   ],
   "source": [
    "# add u and v\n",
    "z = np.add(u, v)\n",
    "z "
   ]
  },
  {
   "cell_type": "code",
   "execution_count": 39,
   "metadata": {},
   "outputs": [
    {
     "data": {
      "text/plain": [
       "array([30, 32, 34, 36, 38, 40])"
      ]
     },
     "execution_count": 39,
     "metadata": {},
     "output_type": "execute_result"
    }
   ],
   "source": [
    "# Perform addition operation on the given numpy array arr1 and arr2\n",
    "arr1 = np.array([10, 11, 12, 13, 14, 15])\n",
    "arr2 = np.array([20, 21, 22, 23, 24, 25])\n",
    "\n",
    "arr3 = np.add(arr1, arr2)\n",
    "arr3"
   ]
  },
  {
   "cell_type": "markdown",
   "metadata": {},
   "source": [
    "Array Substraction:"
   ]
  },
  {
   "cell_type": "code",
   "execution_count": 40,
   "metadata": {},
   "outputs": [
    {
     "data": {
      "text/plain": [
       "array([ 5, 10, 15])"
      ]
     },
     "execution_count": 40,
     "metadata": {},
     "output_type": "execute_result"
    }
   ],
   "source": [
    "# Substract two arrays\n",
    "a = np.array([10, 20, 30])\n",
    "b = np.array([5, 10, 15])\n",
    "\n",
    "c = np.subtract(a,b)\n",
    "c"
   ]
  },
  {
   "cell_type": "markdown",
   "metadata": {},
   "source": [
    "Array Multiplication:"
   ]
  },
  {
   "cell_type": "code",
   "execution_count": 41,
   "metadata": {},
   "outputs": [
    {
     "data": {
      "text/plain": [
       "array([2, 2])"
      ]
     },
     "execution_count": 41,
     "metadata": {},
     "output_type": "execute_result"
    }
   ],
   "source": [
    "# Multiply two arrays\n",
    "x = np.array([1, 2])\n",
    "y = np.array([2, 1])\n",
    "\n",
    "z = np.multiply(x,y)\n",
    "z "
   ]
  },
  {
   "cell_type": "markdown",
   "metadata": {},
   "source": [
    "Array Division:"
   ]
  },
  {
   "cell_type": "code",
   "execution_count": 42,
   "metadata": {},
   "outputs": [
    {
     "data": {
      "text/plain": [
       "array([1., 1., 1.])"
      ]
     },
     "execution_count": 42,
     "metadata": {},
     "output_type": "execute_result"
    }
   ],
   "source": [
    "# Dicide two arrays\n",
    "a = np.array([10, 20, 30])\n",
    "b = np.array([10, 20, 30])\n",
    "\n",
    "c = np.divide(a,b)\n",
    "c "
   ]
  },
  {
   "cell_type": "markdown",
   "metadata": {},
   "source": [
    "Dot Product:"
   ]
  },
  {
   "cell_type": "code",
   "execution_count": 43,
   "metadata": {},
   "outputs": [
    {
     "data": {
      "text/plain": [
       "7"
      ]
     },
     "execution_count": 43,
     "metadata": {},
     "output_type": "execute_result"
    }
   ],
   "source": [
    "# Calculate the dot product\n",
    "X = np.array([1, 2])\n",
    "Y = np.array([3, 2])\n",
    "\n",
    "np.dot(X,Y)"
   ]
  },
  {
   "cell_type": "markdown",
   "metadata": {},
   "source": [
    "Adding a Constant to a Numpy Array"
   ]
  },
  {
   "cell_type": "code",
   "execution_count": 44,
   "metadata": {},
   "outputs": [
    {
     "data": {
      "text/plain": [
       "array([ 1,  2,  3, -1])"
      ]
     },
     "execution_count": 44,
     "metadata": {},
     "output_type": "execute_result"
    }
   ],
   "source": [
    "u = np.array([1, 2, 3, -1]) \n",
    "u"
   ]
  },
  {
   "cell_type": "code",
   "execution_count": 46,
   "metadata": {},
   "outputs": [
    {
     "data": {
      "text/plain": [
       "array([2, 3, 4, 0])"
      ]
     },
     "execution_count": 46,
     "metadata": {},
     "output_type": "execute_result"
    }
   ],
   "source": [
    "# add 1 to the array\n",
    "u + 1"
   ]
  },
  {
   "cell_type": "markdown",
   "metadata": {},
   "source": [
    "Mathematical Functions:"
   ]
  },
  {
   "cell_type": "code",
   "execution_count": 47,
   "metadata": {},
   "outputs": [
    {
     "data": {
      "text/plain": [
       "3.141592653589793"
      ]
     },
     "execution_count": 47,
     "metadata": {},
     "output_type": "execute_result"
    }
   ],
   "source": [
    "# Pi:\n",
    "np.pi"
   ]
  },
  {
   "cell_type": "markdown",
   "metadata": {},
   "source": [
    "We can create a numpy array in radians:"
   ]
  },
  {
   "cell_type": "code",
   "execution_count": 48,
   "metadata": {},
   "outputs": [
    {
     "data": {
      "text/plain": [
       "array([0.        , 1.57079633, 3.14159265])"
      ]
     },
     "execution_count": 48,
     "metadata": {},
     "output_type": "execute_result"
    }
   ],
   "source": [
    "x = np.array([0, np.pi/2, np.pi])\n",
    "x "
   ]
  },
  {
   "cell_type": "code",
   "execution_count": 49,
   "metadata": {},
   "outputs": [
    {
     "data": {
      "text/plain": [
       "array([0.0000000e+00, 1.0000000e+00, 1.2246468e-16])"
      ]
     },
     "execution_count": 49,
     "metadata": {},
     "output_type": "execute_result"
    }
   ],
   "source": [
    "# Calculate the sine of each element:\n",
    "y = np.sin(x)\n",
    "y "
   ]
  },
  {
   "cell_type": "markdown",
   "metadata": {},
   "source": [
    "**Linspace**\n",
    "-  Linspace returns evenly spaced numbers over a specified interval.\n",
    "- **np.linspace(start, stop, num = int value)**\n",
    "    - start : start of interval range\n",
    "    - stop : end of interval range\n",
    "    - num : Number of samples to generate"
   ]
  },
  {
   "cell_type": "code",
   "execution_count": 50,
   "metadata": {},
   "outputs": [
    {
     "data": {
      "text/plain": [
       "array([-2., -1.,  0.,  1.,  2.])"
      ]
     },
     "execution_count": 50,
     "metadata": {},
     "output_type": "execute_result"
    }
   ],
   "source": [
    "# Create a numpy array within [-2, 2] and 5 elements\n",
    "np.linspace(-2,2,num=5)"
   ]
  },
  {
   "cell_type": "code",
   "execution_count": 51,
   "metadata": {},
   "outputs": [
    {
     "data": {
      "text/plain": [
       "array([-2. , -1.5, -1. , -0.5,  0. ,  0.5,  1. ,  1.5,  2. ])"
      ]
     },
     "execution_count": 51,
     "metadata": {},
     "output_type": "execute_result"
    }
   ],
   "source": [
    "# Change the number of samples to 9:\n",
    "np.linspace(-2,2,num=9)"
   ]
  },
  {
   "cell_type": "code",
   "execution_count": 52,
   "metadata": {},
   "outputs": [],
   "source": [
    "# Make a numpy array within [0, 2π] and 100 elements \n",
    "x= np.linspace(0, 2*np.pi, num=100)"
   ]
  },
  {
   "cell_type": "code",
   "execution_count": 53,
   "metadata": {},
   "outputs": [],
   "source": [
    "# Calculate the sine of each element\n",
    "y = np.sin(x)"
   ]
  },
  {
   "cell_type": "code",
   "execution_count": 54,
   "metadata": {},
   "outputs": [
    {
     "data": {
      "image/png": "[encoded data removed]",
      "text/plain": [
       "<Figure size 432x288 with 1 Axes>"
      ]
     },
     "metadata": {
      "needs_background": "light"
     },
     "output_type": "display_data"
    }
   ],
   "source": [
    "## plot the results\n",
    "import matplotlib.pyplot as plt  #import the library\n",
    "\n",
    "plt.plot(x,y)\n",
    "plt.show()"
   ]
  },
  {
   "cell_type": "markdown",
   "metadata": {},
   "source": [
    "**Iterating 1-D Arrays**"
   ]
  },
  {
   "cell_type": "code",
   "execution_count": 55,
   "metadata": {},
   "outputs": [
    {
     "name": "stdout",
     "output_type": "stream",
     "text": [
      "[1 2 3]\n"
     ]
    }
   ],
   "source": [
    "# create array\n",
    "arr1 = np.array([1, 2, 3])\n",
    "print(arr1)"
   ]
  },
  {
   "cell_type": "code",
   "execution_count": 56,
   "metadata": {},
   "outputs": [
    {
     "name": "stdout",
     "output_type": "stream",
     "text": [
      "1\n",
      "2\n",
      "3\n"
     ]
    }
   ],
   "source": [
    "# Iterate to get a list instead\n",
    "for x in arr1:\n",
    "    print(x) "
   ]
  },
  {
   "cell_type": "code",
   "execution_count": 57,
   "metadata": {},
   "outputs": [
    {
     "name": "stdout",
     "output_type": "stream",
     "text": [
      "[ 9 11 13]\n",
      "[-7 -7 -7]\n",
      "[0.125      0.22222222 0.3       ]\n",
      "56\n"
     ]
    }
   ],
   "source": [
    "# Convert the list [1, 2, 3] and [8, 9, 10] to numpy arrays arr1 and arr2. # \n",
    "# Then perform Addition , Subtraction , Multiplication , Division and Dot Operation on the arr1 and arr2.\n",
    "\n",
    "arr1 = np.array([1, 2, 3])\n",
    "arr2 = np.array([8, 9, 10])\n",
    "\n",
    "print(np.add(arr1,arr2))\n",
    "print(np.subtract(arr1,arr2))\n",
    "print(np.divide(arr1,arr2))\n",
    "print(np.dot(arr1,arr2))"
   ]
  },
  {
   "cell_type": "code",
   "execution_count": 58,
   "metadata": {},
   "outputs": [
    {
     "name": "stdout",
     "output_type": "stream",
     "text": [
      "arr1 even numbers: [2 4]\n",
      "arr1 odd numbers: [1 3 5]\n",
      "arr2 even numbers: [ 6  8 10]\n",
      "arr2 odd numbers: [7 9]\n"
     ]
    }
   ],
   "source": [
    "# Convert the list [1, 2, 3, 4, 5] and [6, 7, 8, 9, 10] to numpy arrays arr1 and arr2.\n",
    "# Then find the even and odd numbers from arr1 and arr2.\n",
    "\n",
    "arr1 = np.array([1, 2, 3, 4, 5])\n",
    "arr2 = np.array([6, 7, 8, 9, 10])\n",
    "\n",
    "even_num1, odd_num1 = arr1[1:5:2], arr1[:6:2]\n",
    "print('arr1 even numbers:', even_num1)\n",
    "print('arr1 odd numbers:', odd_num1)\n",
    "\n",
    "even_num2, odd_num2 = arr2[:6:2], arr2[1:6:2]\n",
    "print('arr2 even numbers:', even_num2)\n",
    "print('arr2 odd numbers:', odd_num2)"
   ]
  },
  {
   "cell_type": "markdown",
   "metadata": {},
   "source": [
    "## Numpy 2D Arrays"
   ]
  },
  {
   "cell_type": "markdown",
   "metadata": {},
   "source": [
    "2D arrays have the same attributes as 1D arrays"
   ]
  },
  {
   "cell_type": "markdown",
   "metadata": {},
   "source": [
    "Consider the list **a**, which contains three nested lists each of equal size."
   ]
  },
  {
   "cell_type": "code",
   "execution_count": 60,
   "metadata": {},
   "outputs": [
    {
     "data": {
      "text/plain": [
       "[[11, 12, 13], [21, 22, 23], [31, 32, 33]]"
      ]
     },
     "execution_count": 60,
     "metadata": {},
     "output_type": "execute_result"
    }
   ],
   "source": [
    "# Create a list\n",
    "a = [[11, 12, 13], [21, 22, 23], [31, 32, 33]]\n",
    "a"
   ]
  },
  {
   "cell_type": "markdown",
   "metadata": {},
   "source": [
    "We can cast the list to a Numpy Array as follows:"
   ]
  },
  {
   "cell_type": "code",
   "execution_count": 61,
   "metadata": {},
   "outputs": [
    {
     "data": {
      "text/plain": [
       "array([[11, 12, 13],\n",
       "       [21, 22, 23],\n",
       "       [31, 32, 33]])"
      ]
     },
     "execution_count": 61,
     "metadata": {},
     "output_type": "execute_result"
    }
   ],
   "source": [
    "## Convert the nested list to a 2D Numpy Array\n",
    "\n",
    "A = np.array(a)\n",
    "A "
   ]
  },
  {
   "cell_type": "markdown",
   "metadata": {},
   "source": [
    "Get the attributes of the array using **ndim**, **shape** and **size**"
   ]
  },
  {
   "cell_type": "code",
   "execution_count": 62,
   "metadata": {},
   "outputs": [
    {
     "name": "stdout",
     "output_type": "stream",
     "text": [
      "2\n",
      "(3, 3)\n",
      "9\n"
     ]
    }
   ],
   "source": [
    "print(A.ndim)  # 2 dimensionall array\n",
    "print(A.shape)  # 3-rows, 3-columms\n",
    "print(A.size)  # 9 elements (3x3)"
   ]
  },
  {
   "cell_type": "markdown",
   "metadata": {},
   "source": [
    "**Accessing different elements of a Numpy Array**\n",
    "- We can use rectangular brackets to access the different elements of the array."
   ]
  },
  {
   "cell_type": "code",
   "execution_count": 64,
   "metadata": {},
   "outputs": [
    {
     "name": "stdout",
     "output_type": "stream",
     "text": [
      "[[11 12 13]\n",
      " [21 22 23]\n",
      " [31 32 33]]\n",
      "23\n"
     ]
    }
   ],
   "source": [
    "# Access the element on the second row and third column\n",
    "print(A)\n",
    "print(A[1, 2]) "
   ]
  },
  {
   "cell_type": "code",
   "execution_count": 65,
   "metadata": {},
   "outputs": [
    {
     "data": {
      "text/plain": [
       "array([11, 12])"
      ]
     },
     "execution_count": 65,
     "metadata": {},
     "output_type": "execute_result"
    }
   ],
   "source": [
    "# Access the element on the first row and first and second columns\n",
    "\n",
    "A[0][0:2]"
   ]
  },
  {
   "cell_type": "code",
   "execution_count": 66,
   "metadata": {},
   "outputs": [
    {
     "data": {
      "text/plain": [
       "array([13, 23])"
      ]
     },
     "execution_count": 66,
     "metadata": {},
     "output_type": "execute_result"
    }
   ],
   "source": [
    "# Access the element on the first and second rows and third column\n",
    "\n",
    "A[0:2, 2]"
   ]
  },
  {
   "cell_type": "markdown",
   "metadata": {},
   "source": [
    "**Basic Operations**\n",
    "- We can also add arrays. The process is identical to matrix addition.\n",
    "- Multiplication of two arrays corresponds to an element-wise product or Hadamard product."
   ]
  },
  {
   "cell_type": "code",
   "execution_count": 70,
   "metadata": {},
   "outputs": [
    {
     "name": "stdout",
     "output_type": "stream",
     "text": [
      "[[1 0]\n",
      " [0 1]]\n",
      "[[2 1]\n",
      " [1 2]]\n"
     ]
    }
   ],
   "source": [
    "# Create numpy arrays X and Y\n",
    "\n",
    "X = np.array([[1, 0], [0, 1]]) \n",
    "Y = np.array([[2, 1], [1, 2]]) \n",
    "print(X)\n",
    "print(Y)"
   ]
  },
  {
   "cell_type": "code",
   "execution_count": 71,
   "metadata": {},
   "outputs": [
    {
     "data": {
      "text/plain": [
       "array([[3, 1],\n",
       "       [1, 3]])"
      ]
     },
     "execution_count": 71,
     "metadata": {},
     "output_type": "execute_result"
    }
   ],
   "source": [
    "# Add X and Y\n",
    "X+Y"
   ]
  },
  {
   "cell_type": "markdown",
   "metadata": {},
   "source": [
    "Multiplication by a scalar"
   ]
  },
  {
   "cell_type": "code",
   "execution_count": 72,
   "metadata": {},
   "outputs": [
    {
     "data": {
      "text/plain": [
       "array([[4, 2],\n",
       "       [2, 4]])"
      ]
     },
     "execution_count": 72,
     "metadata": {},
     "output_type": "execute_result"
    }
   ],
   "source": [
    "# multiply Y by 2\n",
    "\n",
    "2*Y"
   ]
  },
  {
   "cell_type": "markdown",
   "metadata": {},
   "source": [
    "Dot product"
   ]
  },
  {
   "cell_type": "code",
   "execution_count": 73,
   "metadata": {},
   "outputs": [
    {
     "data": {
      "text/plain": [
       "array([[0, 2],\n",
       "       [0, 2]])"
      ]
     },
     "execution_count": 73,
     "metadata": {},
     "output_type": "execute_result"
    }
   ],
   "source": [
    "A = np.array([[0, 1, 1], [1, 0, 1]])\n",
    "B = np.array([[1, 1], [1, 1], [-1, 1]])\n",
    "\n",
    "Z = np.dot(A,B)\n",
    "Z "
   ]
  },
  {
   "cell_type": "code",
   "execution_count": 74,
   "metadata": {},
   "outputs": [
    {
     "data": {
      "text/plain": [
       "array([[0.        , 0.90929743],\n",
       "       [0.        , 0.90929743]])"
      ]
     },
     "execution_count": 74,
     "metadata": {},
     "output_type": "execute_result"
    }
   ],
   "source": [
    "# calculate the sine of Z:\n",
    "np.sin(Z)"
   ]
  },
  {
   "cell_type": "markdown",
   "metadata": {},
   "source": [
    "We use the numpy attribute T to calculate the transposed matrix"
   ]
  },
  {
   "cell_type": "code",
   "execution_count": 75,
   "metadata": {},
   "outputs": [
    {
     "data": {
      "text/plain": [
       "array([[1, 1],\n",
       "       [2, 2],\n",
       "       [3, 3]])"
      ]
     },
     "execution_count": 75,
     "metadata": {},
     "output_type": "execute_result"
    }
   ],
   "source": [
    "# Create a matrix C\n",
    "C = np.array([[1,1],[2,2],[3,3]])\n",
    "C "
   ]
  },
  {
   "cell_type": "code",
   "execution_count": 76,
   "metadata": {},
   "outputs": [
    {
     "data": {
      "text/plain": [
       "array([[1, 2, 3],\n",
       "       [1, 2, 3]])"
      ]
     },
     "execution_count": 76,
     "metadata": {},
     "output_type": "execute_result"
    }
   ],
   "source": [
    "# Get the transposed of C\n",
    "\n",
    "C.T"
   ]
  },
  {
   "cell_type": "markdown",
   "metadata": {},
   "source": [
    "## Simple APIs"
   ]
  },
  {
   "cell_type": "markdown",
   "metadata": {},
   "source": [
    "Application Program Interfaces (API), lets two pieces of software talk to each other"
   ]
  },
  {
   "cell_type": "markdown",
   "metadata": {},
   "source": [
    "### HTTP Requests Overview"
   ]
  },
  {
   "cell_type": "markdown",
   "metadata": {},
   "source": [
    "When you, the client, use a web page your browser sends an HTTP request to the server where the page is hosted. The server tries to find the desired resource by default \"index.html\". If your request is successful, the server will send the object to the client in an HTTP response. This includes information like the type of the resource, the length of the resource, and other information."
   ]
  },
  {
   "cell_type": "markdown",
   "metadata": {},
   "source": [
    "- In Python we can make HTTP requests using the Requests library"
   ]
  },
  {
   "cell_type": "code",
   "execution_count": 14,
   "metadata": {},
   "outputs": [],
   "source": [
    "# import the requests library\n",
    "import requests\n",
    "# we will also need these libraries\n",
    "import os     \n",
    "from PIL import Image\n",
    "from IPython.display import IFrame"
   ]
  },
  {
   "cell_type": "markdown",
   "metadata": {},
   "source": [
    "You can make a GET request via the method get to www.ibm.com"
   ]
  },
  {
   "cell_type": "code",
   "execution_count": 7,
   "metadata": {},
   "outputs": [],
   "source": [
    "url='https://www.ibm.com/'\n",
    "r = requests.get(url)"
   ]
  },
  {
   "cell_type": "markdown",
   "metadata": {},
   "source": [
    "We can view the status code using the attribute **status_code**"
   ]
  },
  {
   "cell_type": "code",
   "execution_count": 8,
   "metadata": {},
   "outputs": [
    {
     "data": {
      "text/plain": [
       "200"
      ]
     },
     "execution_count": 8,
     "metadata": {},
     "output_type": "execute_result"
    }
   ],
   "source": [
    "r.status_code\n",
    "# 200 means succesful"
   ]
  },
  {
   "cell_type": "code",
   "execution_count": 10,
   "metadata": {},
   "outputs": [
    {
     "name": "stdout",
     "output_type": "stream",
     "text": [
      "{'User-Agent': 'python-requests/2.28.0', 'Accept-Encoding': 'gzip, deflate', 'Accept': '*/*', 'Connection': 'keep-alive', 'Cookie': '_abck=6896D32CBC04197080647C2551D65F36~-1~YAAQ3Mb3vfGrEUKDAQAAmmR3jAjE+Xf7TqYmsJeIDwY1mTm2LQkP7Q+nSsu+CD0WxewidvBkJxy8Zp6jkS+MdqaZ3pHsPbadtlSnvZpLEmnQ15eHekKTN7GLlPR8Xikx1qtmGf5VyJ04Vgzz4dWDLODxLX9rmJcRRzonOLp7PP+IFxPNItYwOQFLpmSzAS6a4oEUuVWH9++0jyz2zrUhxhgZjSB6AcXfVZge+nNHkaTuSlo048aXSMY+Fqcb1Wfwmr2+OgLt9vOB/lnsp25dTtMhK6RGI98A/B/IkFiz5Rb/C0W3+fnzNpPg+aI8jBTu8yzcjnXcEhVBrz47ZIff4j34BWfOUebMahdPm262VpAAHOYSX8c=~-1~-1~-1; bm_sz=950B15AD147CE5BE5730D4B18AC12E02~YAAQ3Mb3vfKrEUKDAQAAmmR3jBFABku54k+TxiRdbpS2nhjLEQYYT/j1E3ALP+PRA8+K5YTdInxYSNTt6bS14GKS8wRXXccIN6lI9D4faxAL0Zg6VY+wW0AJDqph30ogbF1OY+vYf0lUVvxAB7tBGgB6gTYV0W4OScluE83W34rLY32kz8L7migAAsw+EoHavxTLyFyGbm/O5mM/6RV9jya+IHQZ4SG/vflCKdlUkWR687LthRNPVgeuJZlSALZgZqPEJE7rY0P/AQCbtA+eaptauplTUhuRlmcXOOvrQM8=~3159096~3553590'}\n"
     ]
    }
   ],
   "source": [
    "# we can view the request headers:\n",
    "print(r.request.headers) "
   ]
  },
  {
   "cell_type": "code",
   "execution_count": 12,
   "metadata": {},
   "outputs": [
    {
     "name": "stdout",
     "output_type": "stream",
     "text": [
      "None\n"
     ]
    }
   ],
   "source": [
    "# You can view the request body, inthis case there is none\n",
    "print(r.request.body)"
   ]
  },
  {
   "cell_type": "markdown",
   "metadata": {},
   "source": [
    "You can view the HTTP response header using the attribute headers. This returns a python dictionary of HTTP response headers."
   ]
  },
  {
   "cell_type": "code",
   "execution_count": 13,
   "metadata": {},
   "outputs": [
    {
     "name": "stdout",
     "output_type": "stream",
     "text": [
      "{'Server': 'Apache', 'x-drupal-dynamic-cache': 'UNCACHEABLE', 'Link': '<https://www.ibm.com/mx-es>; rel=\"canonical\", <//1.cms.s81c.com>; rel=preconnect; crossorigin, <//1.cms.s81c.com>; rel=dns-prefetch', 'x-ua-compatible': 'IE=edge', 'Content-Language': 'es-mx', 'Permissions-Policy': 'interest-cohort=()', 'x-generator': 'Drupal 9 (https://www.drupal.org)', 'x-dns-prefetch-control': 'on', 'x-drupal-cache': 'MISS', 'Last-Modified': 'Thu, 29 Sep 2022 10:44:56 GMT', 'ETag': '\"1664448296\"', 'Content-Type': 'text/html; charset=UTF-8', 'x-acquia-host': 'www.ibm.com', 'x-acquia-path': '/mx-es', 'x-acquia-site': '', 'x-acquia-purge-tags': '', 'x-varnish': '604543024 601332124', 'x-cache-hits': '2', 'x-age': '0', 'Accept-Ranges': 'bytes', 'Content-Encoding': 'gzip', 'Cache-Control': 'public, max-age=300', 'Expires': 'Fri, 30 Sep 2022 03:41:19 GMT', 'X-Akamai-Transformed': '9 10850 0 pmb=mTOE,2', 'Date': 'Fri, 30 Sep 2022 03:36:19 GMT', 'Content-Length': '11024', 'Connection': 'keep-alive', 'Vary': 'Accept-Encoding', 'x-content-type-options': 'nosniff', 'X-XSS-Protection': '1; mode=block', 'Content-Security-Policy': 'upgrade-insecure-requests', 'Strict-Transport-Security': 'max-age=31536000', 'x-ibm-trace': 'www-dipatcher: dynamic rule'}\n"
     ]
    }
   ],
   "source": [
    "header=r.headers\n",
    "print(r.headers)"
   ]
  },
  {
   "cell_type": "code",
   "execution_count": 14,
   "metadata": {},
   "outputs": [
    {
     "data": {
      "text/plain": [
       "'Fri, 30 Sep 2022 03:36:19 GMT'"
      ]
     },
     "execution_count": 14,
     "metadata": {},
     "output_type": "execute_result"
    }
   ],
   "source": [
    "# We can obtain the date the request was sent using the key Date\n",
    "header['date']"
   ]
  },
  {
   "cell_type": "code",
   "execution_count": 15,
   "metadata": {},
   "outputs": [
    {
     "data": {
      "text/plain": [
       "'text/html; charset=UTF-8'"
      ]
     },
     "execution_count": 15,
     "metadata": {},
     "output_type": "execute_result"
    }
   ],
   "source": [
    "# Content-Type indicates the type of data\n",
    "header['Content-Type'] "
   ]
  },
  {
   "cell_type": "code",
   "execution_count": 16,
   "metadata": {},
   "outputs": [
    {
     "data": {
      "text/plain": [
       "'UTF-8'"
      ]
     },
     "execution_count": 16,
     "metadata": {},
     "output_type": "execute_result"
    }
   ],
   "source": [
    "# We can also check the encoding:\n",
    "r.encoding"
   ]
  },
  {
   "cell_type": "markdown",
   "metadata": {},
   "source": [
    "As the Content-Type is text/html we can use the attribute text to display the HTML in the body. We can review the first 100 characters"
   ]
  },
  {
   "cell_type": "code",
   "execution_count": 17,
   "metadata": {},
   "outputs": [
    {
     "data": {
      "text/plain": [
       "'<!DOCTYPE html>\\n<html lang=\"es-mx\" dir=\"ltr\">\\n  <head>\\n    <meta charset=\"utf-8\" />\\n<script>digitalD'"
      ]
     },
     "execution_count": 17,
     "metadata": {},
     "output_type": "execute_result"
    }
   ],
   "source": [
    "r.text[0:100]"
   ]
  },
  {
   "cell_type": "markdown",
   "metadata": {},
   "source": [
    "You can load other types of data for non-text requests, like images. Consider the URL of the following image:"
   ]
  },
  {
   "cell_type": "code",
   "execution_count": 18,
   "metadata": {},
   "outputs": [],
   "source": [
    "url='https://cf-courses-data.s3.us.cloud-object-storage.appdomain.cloud/IBMDeveloperSkillsNetwork-PY0101EN-SkillsNetwork/IDSNlogo.png'"
   ]
  },
  {
   "cell_type": "code",
   "execution_count": 19,
   "metadata": {},
   "outputs": [],
   "source": [
    "# make a request\n",
    "r = requests.get(url)"
   ]
  },
  {
   "cell_type": "code",
   "execution_count": 20,
   "metadata": {},
   "outputs": [
    {
     "name": "stdout",
     "output_type": "stream",
     "text": [
      "{'Date': 'Fri, 30 Sep 2022 03:46:28 GMT', 'X-Clv-Request-Id': '5b6e42f3-b71f-4246-b76d-6885281ca87b', 'Server': 'Cleversafe', 'X-Clv-S3-Version': '2.5', 'Accept-Ranges': 'bytes', 'x-amz-request-id': '5b6e42f3-b71f-4246-b76d-6885281ca87b', 'Cache-Control': 'max-age=0,public', 'ETag': '\"a831e767d02efd21b904ec485ac0c769\"', 'Content-Type': 'image/png', 'Last-Modified': 'Wed, 14 Sep 2022 05:47:46 GMT', 'Content-Length': '21590'}\n"
     ]
    }
   ],
   "source": [
    "# look at the response header\n",
    "print(r.headers)"
   ]
  },
  {
   "cell_type": "code",
   "execution_count": 21,
   "metadata": {},
   "outputs": [
    {
     "data": {
      "text/plain": [
       "'image/png'"
      ]
     },
     "execution_count": 21,
     "metadata": {},
     "output_type": "execute_result"
    }
   ],
   "source": [
    "# content type\n",
    "r.headers['Content-Type']"
   ]
  },
  {
   "cell_type": "markdown",
   "metadata": {},
   "source": [
    "An image is a response object that contains the image as a bytes-like object. As a result, we must save it using a file object. First, we specify the file path and name"
   ]
  },
  {
   "cell_type": "code",
   "execution_count": 22,
   "metadata": {},
   "outputs": [
    {
     "data": {
      "text/plain": [
       "'/Users/ivanlee/github-classroom/PosgradoMNA/actividades-de-aprendizaje-ivnlee/image.png'"
      ]
     },
     "execution_count": 22,
     "metadata": {},
     "output_type": "execute_result"
    }
   ],
   "source": [
    "path=os.path.join(os.getcwd(),'image.png')\n",
    "path"
   ]
  },
  {
   "cell_type": "markdown",
   "metadata": {},
   "source": [
    "We save the file, in order to access the body of the response we use the attribute content then save it using the open function and write method:"
   ]
  },
  {
   "cell_type": "code",
   "execution_count": 23,
   "metadata": {},
   "outputs": [],
   "source": [
    "with open(path,'wb') as f:\n",
    "    f.write(r.content) "
   ]
  },
  {
   "cell_type": "code",
   "execution_count": 24,
   "metadata": {},
   "outputs": [
    {
     "data": {
      "image/png": "[encoded data removed]",
      "text/plain": [
       "<PIL.PngImagePlugin.PngImageFile image mode=P size=800x800 at 0x11548DD50>"
      ]
     },
     "execution_count": 24,
     "metadata": {},
     "output_type": "execute_result"
    }
   ],
   "source": [
    "# open the image file:\n",
    "Image.open(path) "
   ]
  },
  {
   "cell_type": "markdown",
   "metadata": {},
   "source": [
    "### API and REST API"
   ]
  },
  {
   "cell_type": "markdown",
   "metadata": {},
   "source": [
    "**Advantages of using APIs:**\n",
    "- Automation: Less human effort is required and workflows can be easily updated to become faster and more\n",
    "productive.\n",
    "- Efficiency: It allows to use the capabilities of one of the already developed APIs than to try to independently implement some functionality from scratch.\n",
    "\n",
    "**Disadvantage of using APIs:**\n",
    "- Secuirity: If the API is poorly integrated, it means it will be vulnerable to attacks, resulting in data\n",
    "breeches or losses having financial or reputation implications.\n",
    "\n",
    "\n",
    "\n"
   ]
  },
  {
   "cell_type": "markdown",
   "metadata": {},
   "source": [
    "**Example 1: RandomUser API**"
   ]
  },
  {
   "cell_type": "markdown",
   "metadata": {},
   "source": [
    "**Get Methods:**\n",
    "- get_cell()\n",
    "- get_city()\n",
    "- get_dob()\n",
    "- get_email()\n",
    "- get_first_name()\n",
    "- get_full_name()\n",
    "- get_gender()\n",
    "- get_id()\n",
    "- get_id_number()\n",
    "- get_id_type()\n",
    "- get_info()\n",
    "- get_last_name()\n",
    "- get_login_md5()\n",
    "- get_login_salt()\n",
    "- get_login_sha1()\n",
    "- get_login_sha256()\n",
    "- get_nat()\n",
    "- get_password()\n",
    "- get_phone()\n",
    "- get_picture()\n",
    "- get_postcode()\n",
    "- get_registered()\n",
    "- get_state()\n",
    "- get_street()\n",
    "- get_username()\n",
    "- get_zipcode()"
   ]
  },
  {
   "cell_type": "code",
   "execution_count": 4,
   "metadata": {},
   "outputs": [],
   "source": [
    "#import the libraries\n",
    "from randomuser import RandomUser\n",
    "import pandas as pd"
   ]
  },
  {
   "cell_type": "markdown",
   "metadata": {},
   "source": [
    "First, we will create a random user object, r."
   ]
  },
  {
   "cell_type": "code",
   "execution_count": 5,
   "metadata": {},
   "outputs": [],
   "source": [
    "r = RandomUser()"
   ]
  },
  {
   "cell_type": "markdown",
   "metadata": {},
   "source": [
    "Then, using generate_users() function, we get a list of random 10 users."
   ]
  },
  {
   "cell_type": "code",
   "execution_count": 7,
   "metadata": {},
   "outputs": [
    {
     "data": {
      "text/plain": [
       "[<randomuser.RandomUser at 0x134a05990>,\n",
       " <randomuser.RandomUser at 0x134bcf7f0>,\n",
       " <randomuser.RandomUser at 0x134bce740>,\n",
       " <randomuser.RandomUser at 0x134bee860>,\n",
       " <randomuser.RandomUser at 0x134becd90>,\n",
       " <randomuser.RandomUser at 0x134bece20>,\n",
       " <randomuser.RandomUser at 0x134bed120>,\n",
       " <randomuser.RandomUser at 0x134bed420>,\n",
       " <randomuser.RandomUser at 0x147caee90>,\n",
       " <randomuser.RandomUser at 0x147caf1f0>]"
      ]
     },
     "execution_count": 7,
     "metadata": {},
     "output_type": "execute_result"
    }
   ],
   "source": [
    "some_list = r.generate_users(10)\n",
    "some_list "
   ]
  },
  {
   "cell_type": "markdown",
   "metadata": {},
   "source": [
    "To get the full names, we call get_full_name() function."
   ]
  },
  {
   "cell_type": "code",
   "execution_count": 8,
   "metadata": {},
   "outputs": [],
   "source": [
    "names = r.get_full_name() "
   ]
  },
  {
   "cell_type": "code",
   "execution_count": 9,
   "metadata": {},
   "outputs": [
    {
     "name": "stdout",
     "output_type": "stream",
     "text": [
      "Alberto Henry  alberto.henry@example.com\n",
      "Noah Lavigne  noah.lavigne@example.com\n",
      "Alessio Lefevre  alessio.lefevre@example.com\n",
      "Jean-Pierre Duval  jean-pierre.duval@example.com\n",
      "Katrine Jørgensen  katrine.jorgensen@example.com\n",
      "Herman Sanders  herman.sanders@example.com\n",
      "Baptiste Roger  baptiste.roger@example.com\n",
      "Maria Patterson  maria.patterson@example.com\n",
      "Ryder Gagnon  ryder.gagnon@example.com\n",
      "Sara Kristensen  sara.kristensen@example.com\n"
     ]
    }
   ],
   "source": [
    "# Write a for loop to get the name and email address for 10 users\n",
    "for user in some_list:\n",
    "    print(user.get_full_name(), '', user.get_email())"
   ]
  },
  {
   "cell_type": "markdown",
   "metadata": {},
   "source": [
    "**Excersise 1:** generate photos of the 10 random users."
   ]
  },
  {
   "cell_type": "code",
   "execution_count": 10,
   "metadata": {},
   "outputs": [
    {
     "name": "stdout",
     "output_type": "stream",
     "text": [
      "https://randomuser.me/api/portraits/men/17.jpg\n",
      "https://randomuser.me/api/portraits/men/21.jpg\n",
      "https://randomuser.me/api/portraits/men/35.jpg\n",
      "https://randomuser.me/api/portraits/men/39.jpg\n",
      "https://randomuser.me/api/portraits/women/25.jpg\n",
      "https://randomuser.me/api/portraits/men/74.jpg\n",
      "https://randomuser.me/api/portraits/men/30.jpg\n",
      "https://randomuser.me/api/portraits/women/21.jpg\n",
      "https://randomuser.me/api/portraits/men/78.jpg\n",
      "https://randomuser.me/api/portraits/women/93.jpg\n"
     ]
    }
   ],
   "source": [
    "# write a for loop to generate the user photos\n",
    "for user in some_list:\n",
    "    print(user.get_picture()) "
   ]
  },
  {
   "cell_type": "markdown",
   "metadata": {},
   "source": [
    "To generate a table with information about the users, we can write a function containing all desirable parameters. The parameters will depend on the requirements of the test to be performed. We call the Get Methods, listed at the beginning of this notebook. Then, we return pandas dataframe with the users."
   ]
  },
  {
   "cell_type": "code",
   "execution_count": 11,
   "metadata": {},
   "outputs": [
    {
     "data": {
      "text/html": [
       "<div>\n",
       "<style scoped>\n",
       "    .dataframe tbody tr th:only-of-type {\n",
       "        vertical-align: middle;\n",
       "    }\n",
       "\n",
       "    .dataframe tbody tr th {\n",
       "        vertical-align: top;\n",
       "    }\n",
       "\n",
       "    .dataframe thead th {\n",
       "        text-align: right;\n",
       "    }\n",
       "</style>\n",
       "<table border=\"1\" class=\"dataframe\">\n",
       "  <thead>\n",
       "    <tr style=\"text-align: right;\">\n",
       "      <th></th>\n",
       "      <th>Name</th>\n",
       "      <th>Gender</th>\n",
       "      <th>City</th>\n",
       "      <th>State</th>\n",
       "      <th>Email</th>\n",
       "      <th>DOB</th>\n",
       "      <th>Picture</th>\n",
       "    </tr>\n",
       "  </thead>\n",
       "  <tbody>\n",
       "    <tr>\n",
       "      <th>0</th>\n",
       "      <td>Kayla Evans</td>\n",
       "      <td>female</td>\n",
       "      <td>Whanganui</td>\n",
       "      <td>Southland</td>\n",
       "      <td>kayla.evans@example.com</td>\n",
       "      <td>1964-04-10T20:04:22.523Z</td>\n",
       "      <td>https://randomuser.me/api/portraits/women/9.jpg</td>\n",
       "    </tr>\n",
       "    <tr>\n",
       "      <th>1</th>\n",
       "      <td>Ilyès Roux</td>\n",
       "      <td>male</td>\n",
       "      <td>Vitry-sur-Seine</td>\n",
       "      <td>Loire-Atlantique</td>\n",
       "      <td>ilyes.roux@example.com</td>\n",
       "      <td>1994-08-13T22:26:22.458Z</td>\n",
       "      <td>https://randomuser.me/api/portraits/men/89.jpg</td>\n",
       "    </tr>\n",
       "    <tr>\n",
       "      <th>2</th>\n",
       "      <td>Tilde Christensen</td>\n",
       "      <td>female</td>\n",
       "      <td>Aarhus</td>\n",
       "      <td>Sjælland</td>\n",
       "      <td>tilde.christensen@example.com</td>\n",
       "      <td>1986-10-29T05:51:03.352Z</td>\n",
       "      <td>https://randomuser.me/api/portraits/women/89.jpg</td>\n",
       "    </tr>\n",
       "    <tr>\n",
       "      <th>3</th>\n",
       "      <td>Leah Wallace</td>\n",
       "      <td>female</td>\n",
       "      <td>Elgin</td>\n",
       "      <td>Nevada</td>\n",
       "      <td>leah.wallace@example.com</td>\n",
       "      <td>1957-04-07T15:22:01.500Z</td>\n",
       "      <td>https://randomuser.me/api/portraits/women/63.jpg</td>\n",
       "    </tr>\n",
       "    <tr>\n",
       "      <th>4</th>\n",
       "      <td>André Barbosa</td>\n",
       "      <td>male</td>\n",
       "      <td>Palmas</td>\n",
       "      <td>Bahia</td>\n",
       "      <td>andre.barbosa@example.com</td>\n",
       "      <td>1973-04-19T20:31:54.470Z</td>\n",
       "      <td>https://randomuser.me/api/portraits/men/7.jpg</td>\n",
       "    </tr>\n",
       "    <tr>\n",
       "      <th>5</th>\n",
       "      <td>Amaury Boyer</td>\n",
       "      <td>male</td>\n",
       "      <td>Rouen</td>\n",
       "      <td>Ardèche</td>\n",
       "      <td>amaury.boyer@example.com</td>\n",
       "      <td>1972-03-06T14:45:07.766Z</td>\n",
       "      <td>https://randomuser.me/api/portraits/men/47.jpg</td>\n",
       "    </tr>\n",
       "    <tr>\n",
       "      <th>6</th>\n",
       "      <td>James Bishop</td>\n",
       "      <td>male</td>\n",
       "      <td>Cape Coral</td>\n",
       "      <td>Florida</td>\n",
       "      <td>james.bishop@example.com</td>\n",
       "      <td>1963-05-17T11:41:44.085Z</td>\n",
       "      <td>https://randomuser.me/api/portraits/men/9.jpg</td>\n",
       "    </tr>\n",
       "    <tr>\n",
       "      <th>7</th>\n",
       "      <td>Gerardo Vargas</td>\n",
       "      <td>male</td>\n",
       "      <td>Elche</td>\n",
       "      <td>Islas Baleares</td>\n",
       "      <td>gerardo.vargas@example.com</td>\n",
       "      <td>1966-03-15T15:41:54.373Z</td>\n",
       "      <td>https://randomuser.me/api/portraits/men/87.jpg</td>\n",
       "    </tr>\n",
       "    <tr>\n",
       "      <th>8</th>\n",
       "      <td>Ali Baykam</td>\n",
       "      <td>male</td>\n",
       "      <td>Kars</td>\n",
       "      <td>Ankara</td>\n",
       "      <td>ali.baykam@example.com</td>\n",
       "      <td>1944-12-19T05:14:10.366Z</td>\n",
       "      <td>https://randomuser.me/api/portraits/men/44.jpg</td>\n",
       "    </tr>\n",
       "    <tr>\n",
       "      <th>9</th>\n",
       "      <td>Mikai De Kreij</td>\n",
       "      <td>male</td>\n",
       "      <td>Gerner</td>\n",
       "      <td>Zeeland</td>\n",
       "      <td>mikai.dekreij@example.com</td>\n",
       "      <td>1977-08-05T22:08:30.827Z</td>\n",
       "      <td>https://randomuser.me/api/portraits/men/40.jpg</td>\n",
       "    </tr>\n",
       "  </tbody>\n",
       "</table>\n",
       "</div>"
      ],
      "text/plain": [
       "                Name  Gender             City             State  \\\n",
       "0        Kayla Evans  female        Whanganui         Southland   \n",
       "1         Ilyès Roux    male  Vitry-sur-Seine  Loire-Atlantique   \n",
       "2  Tilde Christensen  female           Aarhus          Sjælland   \n",
       "3       Leah Wallace  female            Elgin            Nevada   \n",
       "4      André Barbosa    male           Palmas             Bahia   \n",
       "5       Amaury Boyer    male            Rouen           Ardèche   \n",
       "6       James Bishop    male       Cape Coral           Florida   \n",
       "7     Gerardo Vargas    male            Elche    Islas Baleares   \n",
       "8         Ali Baykam    male             Kars            Ankara   \n",
       "9     Mikai De Kreij    male           Gerner           Zeeland   \n",
       "\n",
       "                           Email                       DOB  \\\n",
       "0        kayla.evans@example.com  1964-04-10T20:04:22.523Z   \n",
       "1         ilyes.roux@example.com  1994-08-13T22:26:22.458Z   \n",
       "2  tilde.christensen@example.com  1986-10-29T05:51:03.352Z   \n",
       "3       leah.wallace@example.com  1957-04-07T15:22:01.500Z   \n",
       "4      andre.barbosa@example.com  1973-04-19T20:31:54.470Z   \n",
       "5       amaury.boyer@example.com  1972-03-06T14:45:07.766Z   \n",
       "6       james.bishop@example.com  1963-05-17T11:41:44.085Z   \n",
       "7     gerardo.vargas@example.com  1966-03-15T15:41:54.373Z   \n",
       "8         ali.baykam@example.com  1944-12-19T05:14:10.366Z   \n",
       "9      mikai.dekreij@example.com  1977-08-05T22:08:30.827Z   \n",
       "\n",
       "                                            Picture  \n",
       "0   https://randomuser.me/api/portraits/women/9.jpg  \n",
       "1    https://randomuser.me/api/portraits/men/89.jpg  \n",
       "2  https://randomuser.me/api/portraits/women/89.jpg  \n",
       "3  https://randomuser.me/api/portraits/women/63.jpg  \n",
       "4     https://randomuser.me/api/portraits/men/7.jpg  \n",
       "5    https://randomuser.me/api/portraits/men/47.jpg  \n",
       "6     https://randomuser.me/api/portraits/men/9.jpg  \n",
       "7    https://randomuser.me/api/portraits/men/87.jpg  \n",
       "8    https://randomuser.me/api/portraits/men/44.jpg  \n",
       "9    https://randomuser.me/api/portraits/men/40.jpg  "
      ]
     },
     "execution_count": 11,
     "metadata": {},
     "output_type": "execute_result"
    }
   ],
   "source": [
    "def get_users():\n",
    "    users = []\n",
    "    for user in RandomUser.generate_users(10):\n",
    "        users.append({'Name':user.get_full_name(), 'Gender':user.get_gender(), 'City':user.get_city(),\n",
    "        'State':user.get_state(), 'Email':user.get_email(), 'DOB':user.get_dob(), 'Picture':user.get_picture()})\n",
    "\n",
    "    return pd.DataFrame(users)\n",
    "\n",
    "get_users()"
   ]
  },
  {
   "cell_type": "markdown",
   "metadata": {},
   "source": [
    "Now we have a pandas dataframe that can be used for any testing purposes that the tester might have."
   ]
  },
  {
   "cell_type": "markdown",
   "metadata": {},
   "source": [
    "**Example 2:** Fruitvice API\n",
    "Another, more common way to use APIs, is through requests library. "
   ]
  },
  {
   "cell_type": "code",
   "execution_count": 12,
   "metadata": {},
   "outputs": [],
   "source": [
    "# import the required libraries\n",
    "## request library is already loaded\n",
    "import json"
   ]
  },
  {
   "cell_type": "markdown",
   "metadata": {},
   "source": [
    "We will obtain the fruitvice API data using requests.get(\"url\") function. The data is in a json format."
   ]
  },
  {
   "cell_type": "code",
   "execution_count": 15,
   "metadata": {},
   "outputs": [],
   "source": [
    "# get the data\n",
    "data = requests.get('https://www.fruityvice.com/api/fruit/all')"
   ]
  },
  {
   "cell_type": "markdown",
   "metadata": {},
   "source": [
    "We will retrieve results using json.loads() function."
   ]
  },
  {
   "cell_type": "code",
   "execution_count": 16,
   "metadata": {},
   "outputs": [],
   "source": [
    "results = json.loads(data.text)"
   ]
  },
  {
   "cell_type": "markdown",
   "metadata": {},
   "source": [
    "We will convert our json data into pandas data frame."
   ]
  },
  {
   "cell_type": "code",
   "execution_count": 17,
   "metadata": {},
   "outputs": [
    {
     "data": {
      "text/html": [
       "<div>\n",
       "<style scoped>\n",
       "    .dataframe tbody tr th:only-of-type {\n",
       "        vertical-align: middle;\n",
       "    }\n",
       "\n",
       "    .dataframe tbody tr th {\n",
       "        vertical-align: top;\n",
       "    }\n",
       "\n",
       "    .dataframe thead th {\n",
       "        text-align: right;\n",
       "    }\n",
       "</style>\n",
       "<table border=\"1\" class=\"dataframe\">\n",
       "  <thead>\n",
       "    <tr style=\"text-align: right;\">\n",
       "      <th></th>\n",
       "      <th>genus</th>\n",
       "      <th>name</th>\n",
       "      <th>id</th>\n",
       "      <th>family</th>\n",
       "      <th>order</th>\n",
       "      <th>nutritions</th>\n",
       "    </tr>\n",
       "  </thead>\n",
       "  <tbody>\n",
       "    <tr>\n",
       "      <th>0</th>\n",
       "      <td>Malus</td>\n",
       "      <td>Apple</td>\n",
       "      <td>6</td>\n",
       "      <td>Rosaceae</td>\n",
       "      <td>Rosales</td>\n",
       "      <td>{'carbohydrates': 11.4, 'protein': 0.3, 'fat':...</td>\n",
       "    </tr>\n",
       "    <tr>\n",
       "      <th>1</th>\n",
       "      <td>Prunus</td>\n",
       "      <td>Apricot</td>\n",
       "      <td>35</td>\n",
       "      <td>Rosaceae</td>\n",
       "      <td>Rosales</td>\n",
       "      <td>{'carbohydrates': 3.9, 'protein': 0.5, 'fat': ...</td>\n",
       "    </tr>\n",
       "    <tr>\n",
       "      <th>2</th>\n",
       "      <td>Musa</td>\n",
       "      <td>Banana</td>\n",
       "      <td>1</td>\n",
       "      <td>Musaceae</td>\n",
       "      <td>Zingiberales</td>\n",
       "      <td>{'carbohydrates': 22, 'protein': 1, 'fat': 0.2...</td>\n",
       "    </tr>\n",
       "    <tr>\n",
       "      <th>3</th>\n",
       "      <td>Rubus</td>\n",
       "      <td>Blackberry</td>\n",
       "      <td>64</td>\n",
       "      <td>Rosaceae</td>\n",
       "      <td>Rosales</td>\n",
       "      <td>{'carbohydrates': 9, 'protein': 1.3, 'fat': 0....</td>\n",
       "    </tr>\n",
       "    <tr>\n",
       "      <th>4</th>\n",
       "      <td>Fragaria</td>\n",
       "      <td>Blueberry</td>\n",
       "      <td>33</td>\n",
       "      <td>Rosaceae</td>\n",
       "      <td>Rosales</td>\n",
       "      <td>{'carbohydrates': 5.5, 'protein': 0, 'fat': 0....</td>\n",
       "    </tr>\n",
       "    <tr>\n",
       "      <th>5</th>\n",
       "      <td>Prunus</td>\n",
       "      <td>Cherry</td>\n",
       "      <td>9</td>\n",
       "      <td>Rosaceae</td>\n",
       "      <td>None</td>\n",
       "      <td>{'carbohydrates': 12, 'protein': 1, 'fat': 0.3...</td>\n",
       "    </tr>\n",
       "    <tr>\n",
       "      <th>6</th>\n",
       "      <td>Durio</td>\n",
       "      <td>Durian</td>\n",
       "      <td>60</td>\n",
       "      <td>Malvaceae</td>\n",
       "      <td>Malvales</td>\n",
       "      <td>{'carbohydrates': 27.1, 'protein': 1.5, 'fat':...</td>\n",
       "    </tr>\n",
       "    <tr>\n",
       "      <th>7</th>\n",
       "      <td>Ficus</td>\n",
       "      <td>Fig</td>\n",
       "      <td>68</td>\n",
       "      <td>Moraceae</td>\n",
       "      <td>Rosales</td>\n",
       "      <td>{'carbohydrates': 19, 'protein': 0.8, 'fat': 0...</td>\n",
       "    </tr>\n",
       "    <tr>\n",
       "      <th>8</th>\n",
       "      <td>Ribes</td>\n",
       "      <td>Gooseberry</td>\n",
       "      <td>69</td>\n",
       "      <td>Grossulariaceae</td>\n",
       "      <td>Saxifragales</td>\n",
       "      <td>{'carbohydrates': 10, 'protein': 0.9, 'fat': 0...</td>\n",
       "    </tr>\n",
       "    <tr>\n",
       "      <th>9</th>\n",
       "      <td>Vitis</td>\n",
       "      <td>Grapes</td>\n",
       "      <td>47</td>\n",
       "      <td>Vitaceae</td>\n",
       "      <td>Vitales</td>\n",
       "      <td>{'carbohydrates': 18.1, 'protein': 0.72, 'fat'...</td>\n",
       "    </tr>\n",
       "    <tr>\n",
       "      <th>10</th>\n",
       "      <td>Malus</td>\n",
       "      <td>GreenApple</td>\n",
       "      <td>72</td>\n",
       "      <td>Rosaceae</td>\n",
       "      <td>Rosales</td>\n",
       "      <td>{'carbohydrates': 3.1, 'protein': 0.4, 'fat': ...</td>\n",
       "    </tr>\n",
       "    <tr>\n",
       "      <th>11</th>\n",
       "      <td>Psidium</td>\n",
       "      <td>Guava</td>\n",
       "      <td>37</td>\n",
       "      <td>Myrtaceae</td>\n",
       "      <td>Myrtales</td>\n",
       "      <td>{'carbohydrates': 14, 'protein': 2.6, 'fat': 1...</td>\n",
       "    </tr>\n",
       "    <tr>\n",
       "      <th>12</th>\n",
       "      <td>Apteryx</td>\n",
       "      <td>Kiwi</td>\n",
       "      <td>66</td>\n",
       "      <td>Actinidiaceae</td>\n",
       "      <td>Struthioniformes</td>\n",
       "      <td>{'carbohydrates': 15, 'protein': 1.1, 'fat': 0...</td>\n",
       "    </tr>\n",
       "    <tr>\n",
       "      <th>13</th>\n",
       "      <td>Citrus</td>\n",
       "      <td>Lemon</td>\n",
       "      <td>26</td>\n",
       "      <td>Rutaceae</td>\n",
       "      <td>Sapindales</td>\n",
       "      <td>{'carbohydrates': 9, 'protein': 1.1, 'fat': 0....</td>\n",
       "    </tr>\n",
       "    <tr>\n",
       "      <th>14</th>\n",
       "      <td>Citrus</td>\n",
       "      <td>Lime</td>\n",
       "      <td>44</td>\n",
       "      <td>Rutaceae</td>\n",
       "      <td>Sapindales</td>\n",
       "      <td>{'carbohydrates': 8.4, 'protein': 0.3, 'fat': ...</td>\n",
       "    </tr>\n",
       "    <tr>\n",
       "      <th>15</th>\n",
       "      <td>Vaccinium</td>\n",
       "      <td>Lingonberry</td>\n",
       "      <td>65</td>\n",
       "      <td>Ericaceae</td>\n",
       "      <td>Ericales</td>\n",
       "      <td>{'carbohydrates': 11.3, 'protein': 0.75, 'fat'...</td>\n",
       "    </tr>\n",
       "    <tr>\n",
       "      <th>16</th>\n",
       "      <td>Litchi</td>\n",
       "      <td>Lychee</td>\n",
       "      <td>67</td>\n",
       "      <td>Sapindaceae</td>\n",
       "      <td>Sapindales</td>\n",
       "      <td>{'carbohydrates': 17, 'protein': 0.8, 'fat': 0...</td>\n",
       "    </tr>\n",
       "    <tr>\n",
       "      <th>17</th>\n",
       "      <td>Mangifera</td>\n",
       "      <td>Mango</td>\n",
       "      <td>27</td>\n",
       "      <td>Anacardiaceae</td>\n",
       "      <td>Sapindales</td>\n",
       "      <td>{'carbohydrates': 15, 'protein': 0.82, 'fat': ...</td>\n",
       "    </tr>\n",
       "    <tr>\n",
       "      <th>18</th>\n",
       "      <td>Cucumis</td>\n",
       "      <td>Melon</td>\n",
       "      <td>41</td>\n",
       "      <td>Cucurbitaceae</td>\n",
       "      <td>Cucurbitaceae</td>\n",
       "      <td>{'carbohydrates': 8, 'protein': 0, 'fat': 0, '...</td>\n",
       "    </tr>\n",
       "    <tr>\n",
       "      <th>19</th>\n",
       "      <td>Citrus</td>\n",
       "      <td>Orange</td>\n",
       "      <td>2</td>\n",
       "      <td>Rutaceae</td>\n",
       "      <td>Sapindales</td>\n",
       "      <td>{'carbohydrates': 8.3, 'protein': 1, 'fat': 0....</td>\n",
       "    </tr>\n",
       "    <tr>\n",
       "      <th>20</th>\n",
       "      <td>Carica</td>\n",
       "      <td>Papaya</td>\n",
       "      <td>42</td>\n",
       "      <td>Caricaceae</td>\n",
       "      <td>Caricacea</td>\n",
       "      <td>{'carbohydrates': 11, 'protein': 0, 'fat': 0.4...</td>\n",
       "    </tr>\n",
       "    <tr>\n",
       "      <th>21</th>\n",
       "      <td>Passiflora</td>\n",
       "      <td>Passionfruit</td>\n",
       "      <td>70</td>\n",
       "      <td>Passifloraceae</td>\n",
       "      <td>Malpighiales</td>\n",
       "      <td>{'carbohydrates': 22.4, 'protein': 2.2, 'fat':...</td>\n",
       "    </tr>\n",
       "    <tr>\n",
       "      <th>22</th>\n",
       "      <td>Pyrus</td>\n",
       "      <td>Pear</td>\n",
       "      <td>4</td>\n",
       "      <td>Rosaceae</td>\n",
       "      <td>Rosales</td>\n",
       "      <td>{'carbohydrates': 15, 'protein': 0.4, 'fat': 0...</td>\n",
       "    </tr>\n",
       "    <tr>\n",
       "      <th>23</th>\n",
       "      <td>Diospyros</td>\n",
       "      <td>Persimmon</td>\n",
       "      <td>52</td>\n",
       "      <td>Ebenaceae</td>\n",
       "      <td>Rosales</td>\n",
       "      <td>{'carbohydrates': 18, 'protein': 0, 'fat': 0, ...</td>\n",
       "    </tr>\n",
       "    <tr>\n",
       "      <th>24</th>\n",
       "      <td>Ananas</td>\n",
       "      <td>Pineapple</td>\n",
       "      <td>10</td>\n",
       "      <td>Bromeliaceae</td>\n",
       "      <td>Poales</td>\n",
       "      <td>{'carbohydrates': 13.12, 'protein': 0.54, 'fat...</td>\n",
       "    </tr>\n",
       "    <tr>\n",
       "      <th>25</th>\n",
       "      <td>Prunus</td>\n",
       "      <td>Plum</td>\n",
       "      <td>71</td>\n",
       "      <td>Rosaceae</td>\n",
       "      <td>Rosales</td>\n",
       "      <td>{'carbohydrates': 11.4, 'protein': 0.7, 'fat':...</td>\n",
       "    </tr>\n",
       "    <tr>\n",
       "      <th>26</th>\n",
       "      <td>Rubus</td>\n",
       "      <td>Raspberry</td>\n",
       "      <td>23</td>\n",
       "      <td>Rosaceae</td>\n",
       "      <td>Rosales</td>\n",
       "      <td>{'carbohydrates': 12, 'protein': 1.2, 'fat': 0...</td>\n",
       "    </tr>\n",
       "    <tr>\n",
       "      <th>27</th>\n",
       "      <td>Fragaria</td>\n",
       "      <td>Strawberry</td>\n",
       "      <td>3</td>\n",
       "      <td>Rosaceae</td>\n",
       "      <td>Rosales</td>\n",
       "      <td>{'carbohydrates': 5.5, 'protein': 0.8, 'fat': ...</td>\n",
       "    </tr>\n",
       "    <tr>\n",
       "      <th>28</th>\n",
       "      <td>Solanum</td>\n",
       "      <td>Tomato</td>\n",
       "      <td>5</td>\n",
       "      <td>Solanaceae</td>\n",
       "      <td>Solanales</td>\n",
       "      <td>{'carbohydrates': 3.9, 'protein': 0.9, 'fat': ...</td>\n",
       "    </tr>\n",
       "    <tr>\n",
       "      <th>29</th>\n",
       "      <td>Spondias</td>\n",
       "      <td>Umbu</td>\n",
       "      <td>73</td>\n",
       "      <td>Anacardiaceae</td>\n",
       "      <td>0</td>\n",
       "      <td>{'carbohydrates': 0, 'protein': 0, 'fat': 0, '...</td>\n",
       "    </tr>\n",
       "    <tr>\n",
       "      <th>30</th>\n",
       "      <td>Citrullus</td>\n",
       "      <td>Watermelon</td>\n",
       "      <td>25</td>\n",
       "      <td>Cucurbitaceae</td>\n",
       "      <td>Cucurbitales</td>\n",
       "      <td>{'carbohydrates': 8, 'protein': 0.6, 'fat': 0....</td>\n",
       "    </tr>\n",
       "  </tbody>\n",
       "</table>\n",
       "</div>"
      ],
      "text/plain": [
       "         genus          name  id           family             order  \\\n",
       "0        Malus         Apple   6         Rosaceae           Rosales   \n",
       "1       Prunus       Apricot  35         Rosaceae           Rosales   \n",
       "2         Musa        Banana   1         Musaceae      Zingiberales   \n",
       "3        Rubus    Blackberry  64         Rosaceae           Rosales   \n",
       "4     Fragaria     Blueberry  33         Rosaceae           Rosales   \n",
       "5       Prunus        Cherry   9         Rosaceae              None   \n",
       "6        Durio        Durian  60        Malvaceae          Malvales   \n",
       "7        Ficus           Fig  68         Moraceae           Rosales   \n",
       "8        Ribes    Gooseberry  69  Grossulariaceae      Saxifragales   \n",
       "9        Vitis        Grapes  47         Vitaceae           Vitales   \n",
       "10       Malus    GreenApple  72         Rosaceae           Rosales   \n",
       "11     Psidium         Guava  37        Myrtaceae          Myrtales   \n",
       "12     Apteryx          Kiwi  66    Actinidiaceae  Struthioniformes   \n",
       "13      Citrus         Lemon  26         Rutaceae        Sapindales   \n",
       "14      Citrus          Lime  44         Rutaceae        Sapindales   \n",
       "15   Vaccinium   Lingonberry  65        Ericaceae          Ericales   \n",
       "16      Litchi        Lychee  67      Sapindaceae        Sapindales   \n",
       "17   Mangifera         Mango  27    Anacardiaceae        Sapindales   \n",
       "18     Cucumis         Melon  41    Cucurbitaceae     Cucurbitaceae   \n",
       "19      Citrus        Orange   2         Rutaceae        Sapindales   \n",
       "20      Carica        Papaya  42       Caricaceae         Caricacea   \n",
       "21  Passiflora  Passionfruit  70   Passifloraceae      Malpighiales   \n",
       "22       Pyrus          Pear   4         Rosaceae           Rosales   \n",
       "23   Diospyros     Persimmon  52        Ebenaceae           Rosales   \n",
       "24      Ananas     Pineapple  10     Bromeliaceae            Poales   \n",
       "25      Prunus          Plum  71         Rosaceae           Rosales   \n",
       "26       Rubus     Raspberry  23         Rosaceae           Rosales   \n",
       "27    Fragaria    Strawberry   3         Rosaceae           Rosales   \n",
       "28     Solanum        Tomato   5       Solanaceae         Solanales   \n",
       "29    Spondias          Umbu  73    Anacardiaceae                 0   \n",
       "30   Citrullus    Watermelon  25    Cucurbitaceae      Cucurbitales   \n",
       "\n",
       "                                           nutritions  \n",
       "0   {'carbohydrates': 11.4, 'protein': 0.3, 'fat':...  \n",
       "1   {'carbohydrates': 3.9, 'protein': 0.5, 'fat': ...  \n",
       "2   {'carbohydrates': 22, 'protein': 1, 'fat': 0.2...  \n",
       "3   {'carbohydrates': 9, 'protein': 1.3, 'fat': 0....  \n",
       "4   {'carbohydrates': 5.5, 'protein': 0, 'fat': 0....  \n",
       "5   {'carbohydrates': 12, 'protein': 1, 'fat': 0.3...  \n",
       "6   {'carbohydrates': 27.1, 'protein': 1.5, 'fat':...  \n",
       "7   {'carbohydrates': 19, 'protein': 0.8, 'fat': 0...  \n",
       "8   {'carbohydrates': 10, 'protein': 0.9, 'fat': 0...  \n",
       "9   {'carbohydrates': 18.1, 'protein': 0.72, 'fat'...  \n",
       "10  {'carbohydrates': 3.1, 'protein': 0.4, 'fat': ...  \n",
       "11  {'carbohydrates': 14, 'protein': 2.6, 'fat': 1...  \n",
       "12  {'carbohydrates': 15, 'protein': 1.1, 'fat': 0...  \n",
       "13  {'carbohydrates': 9, 'protein': 1.1, 'fat': 0....  \n",
       "14  {'carbohydrates': 8.4, 'protein': 0.3, 'fat': ...  \n",
       "15  {'carbohydrates': 11.3, 'protein': 0.75, 'fat'...  \n",
       "16  {'carbohydrates': 17, 'protein': 0.8, 'fat': 0...  \n",
       "17  {'carbohydrates': 15, 'protein': 0.82, 'fat': ...  \n",
       "18  {'carbohydrates': 8, 'protein': 0, 'fat': 0, '...  \n",
       "19  {'carbohydrates': 8.3, 'protein': 1, 'fat': 0....  \n",
       "20  {'carbohydrates': 11, 'protein': 0, 'fat': 0.4...  \n",
       "21  {'carbohydrates': 22.4, 'protein': 2.2, 'fat':...  \n",
       "22  {'carbohydrates': 15, 'protein': 0.4, 'fat': 0...  \n",
       "23  {'carbohydrates': 18, 'protein': 0, 'fat': 0, ...  \n",
       "24  {'carbohydrates': 13.12, 'protein': 0.54, 'fat...  \n",
       "25  {'carbohydrates': 11.4, 'protein': 0.7, 'fat':...  \n",
       "26  {'carbohydrates': 12, 'protein': 1.2, 'fat': 0...  \n",
       "27  {'carbohydrates': 5.5, 'protein': 0.8, 'fat': ...  \n",
       "28  {'carbohydrates': 3.9, 'protein': 0.9, 'fat': ...  \n",
       "29  {'carbohydrates': 0, 'protein': 0, 'fat': 0, '...  \n",
       "30  {'carbohydrates': 8, 'protein': 0.6, 'fat': 0....  "
      ]
     },
     "execution_count": 17,
     "metadata": {},
     "output_type": "execute_result"
    }
   ],
   "source": [
    "pd.DataFrame(results)"
   ]
  },
  {
   "cell_type": "markdown",
   "metadata": {},
   "source": [
    "The result is in a nested json format. The 'nutrition' column contains multiple subcolumns, so the data needs to be 'flattened' or normalized."
   ]
  },
  {
   "cell_type": "code",
   "execution_count": 18,
   "metadata": {},
   "outputs": [
    {
     "data": {
      "text/html": [
       "<div>\n",
       "<style scoped>\n",
       "    .dataframe tbody tr th:only-of-type {\n",
       "        vertical-align: middle;\n",
       "    }\n",
       "\n",
       "    .dataframe tbody tr th {\n",
       "        vertical-align: top;\n",
       "    }\n",
       "\n",
       "    .dataframe thead th {\n",
       "        text-align: right;\n",
       "    }\n",
       "</style>\n",
       "<table border=\"1\" class=\"dataframe\">\n",
       "  <thead>\n",
       "    <tr style=\"text-align: right;\">\n",
       "      <th></th>\n",
       "      <th>genus</th>\n",
       "      <th>name</th>\n",
       "      <th>id</th>\n",
       "      <th>family</th>\n",
       "      <th>order</th>\n",
       "      <th>nutritions.carbohydrates</th>\n",
       "      <th>nutritions.protein</th>\n",
       "      <th>nutritions.fat</th>\n",
       "      <th>nutritions.calories</th>\n",
       "      <th>nutritions.sugar</th>\n",
       "    </tr>\n",
       "  </thead>\n",
       "  <tbody>\n",
       "    <tr>\n",
       "      <th>0</th>\n",
       "      <td>Malus</td>\n",
       "      <td>Apple</td>\n",
       "      <td>6</td>\n",
       "      <td>Rosaceae</td>\n",
       "      <td>Rosales</td>\n",
       "      <td>11.40</td>\n",
       "      <td>0.30</td>\n",
       "      <td>0.40</td>\n",
       "      <td>52</td>\n",
       "      <td>10.30</td>\n",
       "    </tr>\n",
       "    <tr>\n",
       "      <th>1</th>\n",
       "      <td>Prunus</td>\n",
       "      <td>Apricot</td>\n",
       "      <td>35</td>\n",
       "      <td>Rosaceae</td>\n",
       "      <td>Rosales</td>\n",
       "      <td>3.90</td>\n",
       "      <td>0.50</td>\n",
       "      <td>0.10</td>\n",
       "      <td>15</td>\n",
       "      <td>3.20</td>\n",
       "    </tr>\n",
       "    <tr>\n",
       "      <th>2</th>\n",
       "      <td>Musa</td>\n",
       "      <td>Banana</td>\n",
       "      <td>1</td>\n",
       "      <td>Musaceae</td>\n",
       "      <td>Zingiberales</td>\n",
       "      <td>22.00</td>\n",
       "      <td>1.00</td>\n",
       "      <td>0.20</td>\n",
       "      <td>96</td>\n",
       "      <td>17.20</td>\n",
       "    </tr>\n",
       "    <tr>\n",
       "      <th>3</th>\n",
       "      <td>Rubus</td>\n",
       "      <td>Blackberry</td>\n",
       "      <td>64</td>\n",
       "      <td>Rosaceae</td>\n",
       "      <td>Rosales</td>\n",
       "      <td>9.00</td>\n",
       "      <td>1.30</td>\n",
       "      <td>0.40</td>\n",
       "      <td>40</td>\n",
       "      <td>4.50</td>\n",
       "    </tr>\n",
       "    <tr>\n",
       "      <th>4</th>\n",
       "      <td>Fragaria</td>\n",
       "      <td>Blueberry</td>\n",
       "      <td>33</td>\n",
       "      <td>Rosaceae</td>\n",
       "      <td>Rosales</td>\n",
       "      <td>5.50</td>\n",
       "      <td>0.00</td>\n",
       "      <td>0.40</td>\n",
       "      <td>29</td>\n",
       "      <td>5.40</td>\n",
       "    </tr>\n",
       "    <tr>\n",
       "      <th>5</th>\n",
       "      <td>Prunus</td>\n",
       "      <td>Cherry</td>\n",
       "      <td>9</td>\n",
       "      <td>Rosaceae</td>\n",
       "      <td>None</td>\n",
       "      <td>12.00</td>\n",
       "      <td>1.00</td>\n",
       "      <td>0.30</td>\n",
       "      <td>50</td>\n",
       "      <td>8.00</td>\n",
       "    </tr>\n",
       "    <tr>\n",
       "      <th>6</th>\n",
       "      <td>Durio</td>\n",
       "      <td>Durian</td>\n",
       "      <td>60</td>\n",
       "      <td>Malvaceae</td>\n",
       "      <td>Malvales</td>\n",
       "      <td>27.10</td>\n",
       "      <td>1.50</td>\n",
       "      <td>5.30</td>\n",
       "      <td>147</td>\n",
       "      <td>6.75</td>\n",
       "    </tr>\n",
       "    <tr>\n",
       "      <th>7</th>\n",
       "      <td>Ficus</td>\n",
       "      <td>Fig</td>\n",
       "      <td>68</td>\n",
       "      <td>Moraceae</td>\n",
       "      <td>Rosales</td>\n",
       "      <td>19.00</td>\n",
       "      <td>0.80</td>\n",
       "      <td>0.30</td>\n",
       "      <td>74</td>\n",
       "      <td>16.00</td>\n",
       "    </tr>\n",
       "    <tr>\n",
       "      <th>8</th>\n",
       "      <td>Ribes</td>\n",
       "      <td>Gooseberry</td>\n",
       "      <td>69</td>\n",
       "      <td>Grossulariaceae</td>\n",
       "      <td>Saxifragales</td>\n",
       "      <td>10.00</td>\n",
       "      <td>0.90</td>\n",
       "      <td>0.60</td>\n",
       "      <td>44</td>\n",
       "      <td>0.00</td>\n",
       "    </tr>\n",
       "    <tr>\n",
       "      <th>9</th>\n",
       "      <td>Vitis</td>\n",
       "      <td>Grapes</td>\n",
       "      <td>47</td>\n",
       "      <td>Vitaceae</td>\n",
       "      <td>Vitales</td>\n",
       "      <td>18.10</td>\n",
       "      <td>0.72</td>\n",
       "      <td>0.16</td>\n",
       "      <td>69</td>\n",
       "      <td>15.48</td>\n",
       "    </tr>\n",
       "    <tr>\n",
       "      <th>10</th>\n",
       "      <td>Malus</td>\n",
       "      <td>GreenApple</td>\n",
       "      <td>72</td>\n",
       "      <td>Rosaceae</td>\n",
       "      <td>Rosales</td>\n",
       "      <td>3.10</td>\n",
       "      <td>0.40</td>\n",
       "      <td>0.10</td>\n",
       "      <td>21</td>\n",
       "      <td>6.40</td>\n",
       "    </tr>\n",
       "    <tr>\n",
       "      <th>11</th>\n",
       "      <td>Psidium</td>\n",
       "      <td>Guava</td>\n",
       "      <td>37</td>\n",
       "      <td>Myrtaceae</td>\n",
       "      <td>Myrtales</td>\n",
       "      <td>14.00</td>\n",
       "      <td>2.60</td>\n",
       "      <td>1.00</td>\n",
       "      <td>68</td>\n",
       "      <td>9.00</td>\n",
       "    </tr>\n",
       "    <tr>\n",
       "      <th>12</th>\n",
       "      <td>Apteryx</td>\n",
       "      <td>Kiwi</td>\n",
       "      <td>66</td>\n",
       "      <td>Actinidiaceae</td>\n",
       "      <td>Struthioniformes</td>\n",
       "      <td>15.00</td>\n",
       "      <td>1.10</td>\n",
       "      <td>0.50</td>\n",
       "      <td>61</td>\n",
       "      <td>9.00</td>\n",
       "    </tr>\n",
       "    <tr>\n",
       "      <th>13</th>\n",
       "      <td>Citrus</td>\n",
       "      <td>Lemon</td>\n",
       "      <td>26</td>\n",
       "      <td>Rutaceae</td>\n",
       "      <td>Sapindales</td>\n",
       "      <td>9.00</td>\n",
       "      <td>1.10</td>\n",
       "      <td>0.30</td>\n",
       "      <td>29</td>\n",
       "      <td>2.50</td>\n",
       "    </tr>\n",
       "    <tr>\n",
       "      <th>14</th>\n",
       "      <td>Citrus</td>\n",
       "      <td>Lime</td>\n",
       "      <td>44</td>\n",
       "      <td>Rutaceae</td>\n",
       "      <td>Sapindales</td>\n",
       "      <td>8.40</td>\n",
       "      <td>0.30</td>\n",
       "      <td>0.10</td>\n",
       "      <td>25</td>\n",
       "      <td>1.70</td>\n",
       "    </tr>\n",
       "    <tr>\n",
       "      <th>15</th>\n",
       "      <td>Vaccinium</td>\n",
       "      <td>Lingonberry</td>\n",
       "      <td>65</td>\n",
       "      <td>Ericaceae</td>\n",
       "      <td>Ericales</td>\n",
       "      <td>11.30</td>\n",
       "      <td>0.75</td>\n",
       "      <td>0.34</td>\n",
       "      <td>50</td>\n",
       "      <td>5.74</td>\n",
       "    </tr>\n",
       "    <tr>\n",
       "      <th>16</th>\n",
       "      <td>Litchi</td>\n",
       "      <td>Lychee</td>\n",
       "      <td>67</td>\n",
       "      <td>Sapindaceae</td>\n",
       "      <td>Sapindales</td>\n",
       "      <td>17.00</td>\n",
       "      <td>0.80</td>\n",
       "      <td>0.44</td>\n",
       "      <td>66</td>\n",
       "      <td>15.00</td>\n",
       "    </tr>\n",
       "    <tr>\n",
       "      <th>17</th>\n",
       "      <td>Mangifera</td>\n",
       "      <td>Mango</td>\n",
       "      <td>27</td>\n",
       "      <td>Anacardiaceae</td>\n",
       "      <td>Sapindales</td>\n",
       "      <td>15.00</td>\n",
       "      <td>0.82</td>\n",
       "      <td>0.38</td>\n",
       "      <td>60</td>\n",
       "      <td>13.70</td>\n",
       "    </tr>\n",
       "    <tr>\n",
       "      <th>18</th>\n",
       "      <td>Cucumis</td>\n",
       "      <td>Melon</td>\n",
       "      <td>41</td>\n",
       "      <td>Cucurbitaceae</td>\n",
       "      <td>Cucurbitaceae</td>\n",
       "      <td>8.00</td>\n",
       "      <td>0.00</td>\n",
       "      <td>0.00</td>\n",
       "      <td>34</td>\n",
       "      <td>8.00</td>\n",
       "    </tr>\n",
       "    <tr>\n",
       "      <th>19</th>\n",
       "      <td>Citrus</td>\n",
       "      <td>Orange</td>\n",
       "      <td>2</td>\n",
       "      <td>Rutaceae</td>\n",
       "      <td>Sapindales</td>\n",
       "      <td>8.30</td>\n",
       "      <td>1.00</td>\n",
       "      <td>0.20</td>\n",
       "      <td>43</td>\n",
       "      <td>8.20</td>\n",
       "    </tr>\n",
       "    <tr>\n",
       "      <th>20</th>\n",
       "      <td>Carica</td>\n",
       "      <td>Papaya</td>\n",
       "      <td>42</td>\n",
       "      <td>Caricaceae</td>\n",
       "      <td>Caricacea</td>\n",
       "      <td>11.00</td>\n",
       "      <td>0.00</td>\n",
       "      <td>0.40</td>\n",
       "      <td>43</td>\n",
       "      <td>1.00</td>\n",
       "    </tr>\n",
       "    <tr>\n",
       "      <th>21</th>\n",
       "      <td>Passiflora</td>\n",
       "      <td>Passionfruit</td>\n",
       "      <td>70</td>\n",
       "      <td>Passifloraceae</td>\n",
       "      <td>Malpighiales</td>\n",
       "      <td>22.40</td>\n",
       "      <td>2.20</td>\n",
       "      <td>0.70</td>\n",
       "      <td>97</td>\n",
       "      <td>11.20</td>\n",
       "    </tr>\n",
       "    <tr>\n",
       "      <th>22</th>\n",
       "      <td>Pyrus</td>\n",
       "      <td>Pear</td>\n",
       "      <td>4</td>\n",
       "      <td>Rosaceae</td>\n",
       "      <td>Rosales</td>\n",
       "      <td>15.00</td>\n",
       "      <td>0.40</td>\n",
       "      <td>0.10</td>\n",
       "      <td>57</td>\n",
       "      <td>10.00</td>\n",
       "    </tr>\n",
       "    <tr>\n",
       "      <th>23</th>\n",
       "      <td>Diospyros</td>\n",
       "      <td>Persimmon</td>\n",
       "      <td>52</td>\n",
       "      <td>Ebenaceae</td>\n",
       "      <td>Rosales</td>\n",
       "      <td>18.00</td>\n",
       "      <td>0.00</td>\n",
       "      <td>0.00</td>\n",
       "      <td>81</td>\n",
       "      <td>18.00</td>\n",
       "    </tr>\n",
       "    <tr>\n",
       "      <th>24</th>\n",
       "      <td>Ananas</td>\n",
       "      <td>Pineapple</td>\n",
       "      <td>10</td>\n",
       "      <td>Bromeliaceae</td>\n",
       "      <td>Poales</td>\n",
       "      <td>13.12</td>\n",
       "      <td>0.54</td>\n",
       "      <td>0.12</td>\n",
       "      <td>50</td>\n",
       "      <td>9.85</td>\n",
       "    </tr>\n",
       "    <tr>\n",
       "      <th>25</th>\n",
       "      <td>Prunus</td>\n",
       "      <td>Plum</td>\n",
       "      <td>71</td>\n",
       "      <td>Rosaceae</td>\n",
       "      <td>Rosales</td>\n",
       "      <td>11.40</td>\n",
       "      <td>0.70</td>\n",
       "      <td>0.28</td>\n",
       "      <td>46</td>\n",
       "      <td>9.92</td>\n",
       "    </tr>\n",
       "    <tr>\n",
       "      <th>26</th>\n",
       "      <td>Rubus</td>\n",
       "      <td>Raspberry</td>\n",
       "      <td>23</td>\n",
       "      <td>Rosaceae</td>\n",
       "      <td>Rosales</td>\n",
       "      <td>12.00</td>\n",
       "      <td>1.20</td>\n",
       "      <td>0.70</td>\n",
       "      <td>53</td>\n",
       "      <td>4.40</td>\n",
       "    </tr>\n",
       "    <tr>\n",
       "      <th>27</th>\n",
       "      <td>Fragaria</td>\n",
       "      <td>Strawberry</td>\n",
       "      <td>3</td>\n",
       "      <td>Rosaceae</td>\n",
       "      <td>Rosales</td>\n",
       "      <td>5.50</td>\n",
       "      <td>0.80</td>\n",
       "      <td>0.40</td>\n",
       "      <td>29</td>\n",
       "      <td>5.40</td>\n",
       "    </tr>\n",
       "    <tr>\n",
       "      <th>28</th>\n",
       "      <td>Solanum</td>\n",
       "      <td>Tomato</td>\n",
       "      <td>5</td>\n",
       "      <td>Solanaceae</td>\n",
       "      <td>Solanales</td>\n",
       "      <td>3.90</td>\n",
       "      <td>0.90</td>\n",
       "      <td>0.20</td>\n",
       "      <td>74</td>\n",
       "      <td>2.60</td>\n",
       "    </tr>\n",
       "    <tr>\n",
       "      <th>29</th>\n",
       "      <td>Spondias</td>\n",
       "      <td>Umbu</td>\n",
       "      <td>73</td>\n",
       "      <td>Anacardiaceae</td>\n",
       "      <td>0</td>\n",
       "      <td>0.00</td>\n",
       "      <td>0.00</td>\n",
       "      <td>0.00</td>\n",
       "      <td>0</td>\n",
       "      <td>0.00</td>\n",
       "    </tr>\n",
       "    <tr>\n",
       "      <th>30</th>\n",
       "      <td>Citrullus</td>\n",
       "      <td>Watermelon</td>\n",
       "      <td>25</td>\n",
       "      <td>Cucurbitaceae</td>\n",
       "      <td>Cucurbitales</td>\n",
       "      <td>8.00</td>\n",
       "      <td>0.60</td>\n",
       "      <td>0.20</td>\n",
       "      <td>30</td>\n",
       "      <td>6.00</td>\n",
       "    </tr>\n",
       "  </tbody>\n",
       "</table>\n",
       "</div>"
      ],
      "text/plain": [
       "         genus          name  id           family             order  \\\n",
       "0        Malus         Apple   6         Rosaceae           Rosales   \n",
       "1       Prunus       Apricot  35         Rosaceae           Rosales   \n",
       "2         Musa        Banana   1         Musaceae      Zingiberales   \n",
       "3        Rubus    Blackberry  64         Rosaceae           Rosales   \n",
       "4     Fragaria     Blueberry  33         Rosaceae           Rosales   \n",
       "5       Prunus        Cherry   9         Rosaceae              None   \n",
       "6        Durio        Durian  60        Malvaceae          Malvales   \n",
       "7        Ficus           Fig  68         Moraceae           Rosales   \n",
       "8        Ribes    Gooseberry  69  Grossulariaceae      Saxifragales   \n",
       "9        Vitis        Grapes  47         Vitaceae           Vitales   \n",
       "10       Malus    GreenApple  72         Rosaceae           Rosales   \n",
       "11     Psidium         Guava  37        Myrtaceae          Myrtales   \n",
       "12     Apteryx          Kiwi  66    Actinidiaceae  Struthioniformes   \n",
       "13      Citrus         Lemon  26         Rutaceae        Sapindales   \n",
       "14      Citrus          Lime  44         Rutaceae        Sapindales   \n",
       "15   Vaccinium   Lingonberry  65        Ericaceae          Ericales   \n",
       "16      Litchi        Lychee  67      Sapindaceae        Sapindales   \n",
       "17   Mangifera         Mango  27    Anacardiaceae        Sapindales   \n",
       "18     Cucumis         Melon  41    Cucurbitaceae     Cucurbitaceae   \n",
       "19      Citrus        Orange   2         Rutaceae        Sapindales   \n",
       "20      Carica        Papaya  42       Caricaceae         Caricacea   \n",
       "21  Passiflora  Passionfruit  70   Passifloraceae      Malpighiales   \n",
       "22       Pyrus          Pear   4         Rosaceae           Rosales   \n",
       "23   Diospyros     Persimmon  52        Ebenaceae           Rosales   \n",
       "24      Ananas     Pineapple  10     Bromeliaceae            Poales   \n",
       "25      Prunus          Plum  71         Rosaceae           Rosales   \n",
       "26       Rubus     Raspberry  23         Rosaceae           Rosales   \n",
       "27    Fragaria    Strawberry   3         Rosaceae           Rosales   \n",
       "28     Solanum        Tomato   5       Solanaceae         Solanales   \n",
       "29    Spondias          Umbu  73    Anacardiaceae                 0   \n",
       "30   Citrullus    Watermelon  25    Cucurbitaceae      Cucurbitales   \n",
       "\n",
       "    nutritions.carbohydrates  nutritions.protein  nutritions.fat  \\\n",
       "0                      11.40                0.30            0.40   \n",
       "1                       3.90                0.50            0.10   \n",
       "2                      22.00                1.00            0.20   \n",
       "3                       9.00                1.30            0.40   \n",
       "4                       5.50                0.00            0.40   \n",
       "5                      12.00                1.00            0.30   \n",
       "6                      27.10                1.50            5.30   \n",
       "7                      19.00                0.80            0.30   \n",
       "8                      10.00                0.90            0.60   \n",
       "9                      18.10                0.72            0.16   \n",
       "10                      3.10                0.40            0.10   \n",
       "11                     14.00                2.60            1.00   \n",
       "12                     15.00                1.10            0.50   \n",
       "13                      9.00                1.10            0.30   \n",
       "14                      8.40                0.30            0.10   \n",
       "15                     11.30                0.75            0.34   \n",
       "16                     17.00                0.80            0.44   \n",
       "17                     15.00                0.82            0.38   \n",
       "18                      8.00                0.00            0.00   \n",
       "19                      8.30                1.00            0.20   \n",
       "20                     11.00                0.00            0.40   \n",
       "21                     22.40                2.20            0.70   \n",
       "22                     15.00                0.40            0.10   \n",
       "23                     18.00                0.00            0.00   \n",
       "24                     13.12                0.54            0.12   \n",
       "25                     11.40                0.70            0.28   \n",
       "26                     12.00                1.20            0.70   \n",
       "27                      5.50                0.80            0.40   \n",
       "28                      3.90                0.90            0.20   \n",
       "29                      0.00                0.00            0.00   \n",
       "30                      8.00                0.60            0.20   \n",
       "\n",
       "    nutritions.calories  nutritions.sugar  \n",
       "0                    52             10.30  \n",
       "1                    15              3.20  \n",
       "2                    96             17.20  \n",
       "3                    40              4.50  \n",
       "4                    29              5.40  \n",
       "5                    50              8.00  \n",
       "6                   147              6.75  \n",
       "7                    74             16.00  \n",
       "8                    44              0.00  \n",
       "9                    69             15.48  \n",
       "10                   21              6.40  \n",
       "11                   68              9.00  \n",
       "12                   61              9.00  \n",
       "13                   29              2.50  \n",
       "14                   25              1.70  \n",
       "15                   50              5.74  \n",
       "16                   66             15.00  \n",
       "17                   60             13.70  \n",
       "18                   34              8.00  \n",
       "19                   43              8.20  \n",
       "20                   43              1.00  \n",
       "21                   97             11.20  \n",
       "22                   57             10.00  \n",
       "23                   81             18.00  \n",
       "24                   50              9.85  \n",
       "25                   46              9.92  \n",
       "26                   53              4.40  \n",
       "27                   29              5.40  \n",
       "28                   74              2.60  \n",
       "29                    0              0.00  \n",
       "30                   30              6.00  "
      ]
     },
     "execution_count": 18,
     "metadata": {},
     "output_type": "execute_result"
    }
   ],
   "source": [
    "df2 = pd.json_normalize(results)\n",
    "df2 "
   ]
  },
  {
   "cell_type": "markdown",
   "metadata": {},
   "source": [
    "Perhaps, we need to know the family and genus of a cherry."
   ]
  },
  {
   "cell_type": "code",
   "execution_count": 28,
   "metadata": {},
   "outputs": [
    {
     "data": {
      "text/plain": [
       "('Rosaceae', 'Prunus')"
      ]
     },
     "execution_count": 28,
     "metadata": {},
     "output_type": "execute_result"
    }
   ],
   "source": [
    "cherry = df2.loc[df2['name'] == 'Cherry']\n",
    "(cherry.iloc[0]['family']) , (cherry.iloc[0]['genus'])"
   ]
  },
  {
   "cell_type": "markdown",
   "metadata": {},
   "source": [
    "**Exercise 2:** In this Exercise, find out how many calories are contained in a banana."
   ]
  },
  {
   "cell_type": "code",
   "execution_count": 29,
   "metadata": {},
   "outputs": [
    {
     "data": {
      "text/plain": [
       "96"
      ]
     },
     "execution_count": 29,
     "metadata": {},
     "output_type": "execute_result"
    }
   ],
   "source": [
    "banana = df2.loc[df2['name'] == 'Banana']\n",
    "(banana.iloc[0]['nutritions.calories']) "
   ]
  },
  {
   "cell_type": "code",
   "execution_count": 35,
   "metadata": {},
   "outputs": [
    {
     "data": {
      "text/plain": [
       "array([11, 11, 11, 11, 11])"
      ]
     },
     "execution_count": 35,
     "metadata": {},
     "output_type": "execute_result"
    }
   ],
   "source": [
    "import numpy as np\n",
    "\n",
    "a=np.array([1,1,1,1,1])\n",
    "\n",
    "a+10"
   ]
  },
  {
   "cell_type": "code",
   "execution_count": null,
   "metadata": {},
   "outputs": [],
   "source": []
  }
 ],
 "metadata": {
  "kernelspec": {
   "display_name": "Python 3.10.1 64-bit",
   "language": "python",
   "name": "python3"
  },
  "language_info": {
   "codemirror_mode": {
    "name": "ipython",
    "version": 3
   },
   "file_extension": ".py",
   "mimetype": "text/x-python",
   "name": "python",
   "nbconvert_exporter": "python",
   "pygments_lexer": "ipython3",
   "version": "3.10.1"
  },
  "orig_nbformat": 4,
  "vscode": {
   "interpreter": {
    "hash": "aee8b7b246df8f9039afb4144a1f6fd8d2ca17a180786b69acc140d282b71a49"
   }
  }
 },
 "nbformat": 4,
 "nbformat_minor": 2
}
