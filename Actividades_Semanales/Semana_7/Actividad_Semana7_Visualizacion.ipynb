{
 "cells": [
  {
   "cell_type": "markdown",
   "metadata": {},
   "source": [
    "### **Semana 7: Actividad 1** - Visualización\n",
    "\n",
    "**Iván Lee Cancino - A01793491**\n",
    "\n",
    "### **TC4029 - Ciencia y Analítica de Datos**\n",
    "\n",
    "**Prof. María de la Paz Rico Fernández**\n",
    "\n",
    "**Prof. Julio César Galindo López**\n",
    "\n",
    "*01 - Noviembre - 2022*\n",
    "\n",
    "---\n",
    "\n",
    "\n",
    "---"
   ]
  },
  {
   "cell_type": "code",
   "execution_count": 2,
   "metadata": {},
   "outputs": [],
   "source": [
    "#importamos librerías\n",
    "import pandas as pd\n",
    "import numpy as np\n",
    "import seaborn as sns \n",
    "import matplotlib.pyplot as plt"
   ]
  },
  {
   "cell_type": "markdown",
   "metadata": {},
   "source": [
    "### 1. Descarga los datos y carga el dataset en tu libreta"
   ]
  },
  {
   "cell_type": "markdown",
   "metadata": {},
   "source": [
    "Este dataset contiene información crediticia de clientes en Taiwan. La información ha sido usada para comparar la exactitud de seis diferentes modelos predictivos. Desde la perspectiva de gestión de riesgo, es mas valioso contar con una estimación de la probabilidad de incumplimiento de los clientes que solo tener una segmentación binaria. \n",
    "\n",
    "La variable de salida 'Y' representa la probabilidad real de que el cliente incumpla con el pago crediticio (1=Si, 0=No).\n",
    "\n",
    "X1: Monto del credito otorgado\n",
    "\n",
    "X2: Genero(1=masculino, 2=femenino)\n",
    "\n",
    "X3: Nivel educativo (1=posgrado, 2=universidad, 3=preparatoria, 4=otros)\n",
    "\n",
    "X4: Estado civil (1=casado 2=soltero 3=otro)\n",
    "\n",
    "X5: Edad\n",
    "\n",
    "X6-X11: Historial de status de pago (de Abril a Septiembre 2005)\n",
    "\n",
    "X12-X17: Monto por pagar (de Abril a Septiembre 2005)\n",
    "\n",
    "X18-X23: Monto de pago anterior (de Abril a Septiembre 2005)\n",
    "_ _ _\n",
    "> Fuente: \n",
    "\n",
    "> * Yeh, I. C., & Lien, C. H. (2009). The comparisons of data mining techniques for the predictive accuracy of probability of default of credit card clients. Expert Systems with Applications, 36(2), 2473-2480."
   ]
  },
  {
   "cell_type": "code",
   "execution_count": 3,
   "metadata": {},
   "outputs": [],
   "source": [
    "#Creamos dataframe del archivo csv\n",
    "df = pd.read_csv('default_of_credit_card_clients.csv')"
   ]
  },
  {
   "cell_type": "markdown",
   "metadata": {},
   "source": [
    "### 2. Obten la información del DataFrame con los métodos y propiedades: shape, columns, head(), dtypes, info(), isna()"
   ]
  },
  {
   "cell_type": "code",
   "execution_count": 4,
   "metadata": {},
   "outputs": [
    {
     "data": {
      "text/plain": [
       "(30000, 25)"
      ]
     },
     "execution_count": 4,
     "metadata": {},
     "output_type": "execute_result"
    }
   ],
   "source": [
    "# numero de filas y columnas del dataframe\n",
    "df.shape "
   ]
  },
  {
   "cell_type": "code",
   "execution_count": 5,
   "metadata": {},
   "outputs": [
    {
     "data": {
      "text/plain": [
       "Index(['ID', 'X1', 'X2', 'X3', 'X4', 'X5', 'X6', 'X7', 'X8', 'X9', 'X10',\n",
       "       'X11', 'X12', 'X13', 'X14', 'X15', 'X16', 'X17', 'X18', 'X19', 'X20',\n",
       "       'X21', 'X22', 'X23', 'Y'],\n",
       "      dtype='object')"
      ]
     },
     "execution_count": 5,
     "metadata": {},
     "output_type": "execute_result"
    }
   ],
   "source": [
    "# nombres de las columnas\n",
    "df.columns "
   ]
  },
  {
   "cell_type": "code",
   "execution_count": 6,
   "metadata": {},
   "outputs": [
    {
     "data": {
      "text/html": [
       "<div>\n",
       "<style scoped>\n",
       "    .dataframe tbody tr th:only-of-type {\n",
       "        vertical-align: middle;\n",
       "    }\n",
       "\n",
       "    .dataframe tbody tr th {\n",
       "        vertical-align: top;\n",
       "    }\n",
       "\n",
       "    .dataframe thead th {\n",
       "        text-align: right;\n",
       "    }\n",
       "</style>\n",
       "<table border=\"1\" class=\"dataframe\">\n",
       "  <thead>\n",
       "    <tr style=\"text-align: right;\">\n",
       "      <th></th>\n",
       "      <th>ID</th>\n",
       "      <th>X1</th>\n",
       "      <th>X2</th>\n",
       "      <th>X3</th>\n",
       "      <th>X4</th>\n",
       "      <th>X5</th>\n",
       "      <th>X6</th>\n",
       "      <th>X7</th>\n",
       "      <th>X8</th>\n",
       "      <th>X9</th>\n",
       "      <th>...</th>\n",
       "      <th>X15</th>\n",
       "      <th>X16</th>\n",
       "      <th>X17</th>\n",
       "      <th>X18</th>\n",
       "      <th>X19</th>\n",
       "      <th>X20</th>\n",
       "      <th>X21</th>\n",
       "      <th>X22</th>\n",
       "      <th>X23</th>\n",
       "      <th>Y</th>\n",
       "    </tr>\n",
       "  </thead>\n",
       "  <tbody>\n",
       "    <tr>\n",
       "      <th>0</th>\n",
       "      <td>1</td>\n",
       "      <td>20000</td>\n",
       "      <td>2.0</td>\n",
       "      <td>2.0</td>\n",
       "      <td>1.0</td>\n",
       "      <td>24.0</td>\n",
       "      <td>2.0</td>\n",
       "      <td>2.0</td>\n",
       "      <td>-1.0</td>\n",
       "      <td>-1.0</td>\n",
       "      <td>...</td>\n",
       "      <td>0.0</td>\n",
       "      <td>0.0</td>\n",
       "      <td>0.0</td>\n",
       "      <td>0.0</td>\n",
       "      <td>689.0</td>\n",
       "      <td>0.0</td>\n",
       "      <td>0.0</td>\n",
       "      <td>0.0</td>\n",
       "      <td>0.0</td>\n",
       "      <td>1.0</td>\n",
       "    </tr>\n",
       "    <tr>\n",
       "      <th>1</th>\n",
       "      <td>2</td>\n",
       "      <td>120000</td>\n",
       "      <td>2.0</td>\n",
       "      <td>2.0</td>\n",
       "      <td>2.0</td>\n",
       "      <td>26.0</td>\n",
       "      <td>-1.0</td>\n",
       "      <td>2.0</td>\n",
       "      <td>0.0</td>\n",
       "      <td>0.0</td>\n",
       "      <td>...</td>\n",
       "      <td>3272.0</td>\n",
       "      <td>3455.0</td>\n",
       "      <td>3261.0</td>\n",
       "      <td>0.0</td>\n",
       "      <td>1000.0</td>\n",
       "      <td>1000.0</td>\n",
       "      <td>1000.0</td>\n",
       "      <td>0.0</td>\n",
       "      <td>2000.0</td>\n",
       "      <td>1.0</td>\n",
       "    </tr>\n",
       "    <tr>\n",
       "      <th>2</th>\n",
       "      <td>3</td>\n",
       "      <td>90000</td>\n",
       "      <td>2.0</td>\n",
       "      <td>2.0</td>\n",
       "      <td>2.0</td>\n",
       "      <td>34.0</td>\n",
       "      <td>0.0</td>\n",
       "      <td>0.0</td>\n",
       "      <td>0.0</td>\n",
       "      <td>0.0</td>\n",
       "      <td>...</td>\n",
       "      <td>14331.0</td>\n",
       "      <td>14948.0</td>\n",
       "      <td>15549.0</td>\n",
       "      <td>1518.0</td>\n",
       "      <td>1500.0</td>\n",
       "      <td>1000.0</td>\n",
       "      <td>1000.0</td>\n",
       "      <td>1000.0</td>\n",
       "      <td>5000.0</td>\n",
       "      <td>0.0</td>\n",
       "    </tr>\n",
       "    <tr>\n",
       "      <th>3</th>\n",
       "      <td>4</td>\n",
       "      <td>50000</td>\n",
       "      <td>2.0</td>\n",
       "      <td>2.0</td>\n",
       "      <td>1.0</td>\n",
       "      <td>37.0</td>\n",
       "      <td>0.0</td>\n",
       "      <td>0.0</td>\n",
       "      <td>0.0</td>\n",
       "      <td>0.0</td>\n",
       "      <td>...</td>\n",
       "      <td>28314.0</td>\n",
       "      <td>28959.0</td>\n",
       "      <td>29547.0</td>\n",
       "      <td>2000.0</td>\n",
       "      <td>2019.0</td>\n",
       "      <td>1200.0</td>\n",
       "      <td>1100.0</td>\n",
       "      <td>1069.0</td>\n",
       "      <td>1000.0</td>\n",
       "      <td>0.0</td>\n",
       "    </tr>\n",
       "    <tr>\n",
       "      <th>4</th>\n",
       "      <td>5</td>\n",
       "      <td>50000</td>\n",
       "      <td>1.0</td>\n",
       "      <td>2.0</td>\n",
       "      <td>1.0</td>\n",
       "      <td>57.0</td>\n",
       "      <td>-1.0</td>\n",
       "      <td>0.0</td>\n",
       "      <td>-1.0</td>\n",
       "      <td>0.0</td>\n",
       "      <td>...</td>\n",
       "      <td>20940.0</td>\n",
       "      <td>19146.0</td>\n",
       "      <td>19131.0</td>\n",
       "      <td>2000.0</td>\n",
       "      <td>36681.0</td>\n",
       "      <td>10000.0</td>\n",
       "      <td>9000.0</td>\n",
       "      <td>689.0</td>\n",
       "      <td>679.0</td>\n",
       "      <td>0.0</td>\n",
       "    </tr>\n",
       "  </tbody>\n",
       "</table>\n",
       "<p>5 rows × 25 columns</p>\n",
       "</div>"
      ],
      "text/plain": [
       "   ID      X1   X2   X3   X4    X5   X6   X7   X8   X9  ...      X15      X16  \\\n",
       "0   1   20000  2.0  2.0  1.0  24.0  2.0  2.0 -1.0 -1.0  ...      0.0      0.0   \n",
       "1   2  120000  2.0  2.0  2.0  26.0 -1.0  2.0  0.0  0.0  ...   3272.0   3455.0   \n",
       "2   3   90000  2.0  2.0  2.0  34.0  0.0  0.0  0.0  0.0  ...  14331.0  14948.0   \n",
       "3   4   50000  2.0  2.0  1.0  37.0  0.0  0.0  0.0  0.0  ...  28314.0  28959.0   \n",
       "4   5   50000  1.0  2.0  1.0  57.0 -1.0  0.0 -1.0  0.0  ...  20940.0  19146.0   \n",
       "\n",
       "       X17     X18      X19      X20     X21     X22     X23    Y  \n",
       "0      0.0     0.0    689.0      0.0     0.0     0.0     0.0  1.0  \n",
       "1   3261.0     0.0   1000.0   1000.0  1000.0     0.0  2000.0  1.0  \n",
       "2  15549.0  1518.0   1500.0   1000.0  1000.0  1000.0  5000.0  0.0  \n",
       "3  29547.0  2000.0   2019.0   1200.0  1100.0  1069.0  1000.0  0.0  \n",
       "4  19131.0  2000.0  36681.0  10000.0  9000.0   689.0   679.0  0.0  \n",
       "\n",
       "[5 rows x 25 columns]"
      ]
     },
     "execution_count": 6,
     "metadata": {},
     "output_type": "execute_result"
    }
   ],
   "source": [
    "# Visualisamos las primeras 5 filas del dataset\n",
    "df.head() "
   ]
  },
  {
   "cell_type": "code",
   "execution_count": 7,
   "metadata": {},
   "outputs": [
    {
     "data": {
      "text/plain": [
       "ID       int64\n",
       "X1       int64\n",
       "X2     float64\n",
       "X3     float64\n",
       "X4     float64\n",
       "X5     float64\n",
       "X6     float64\n",
       "X7     float64\n",
       "X8     float64\n",
       "X9     float64\n",
       "X10    float64\n",
       "X11    float64\n",
       "X12    float64\n",
       "X13    float64\n",
       "X14    float64\n",
       "X15    float64\n",
       "X16    float64\n",
       "X17    float64\n",
       "X18    float64\n",
       "X19    float64\n",
       "X20    float64\n",
       "X21    float64\n",
       "X22    float64\n",
       "X23    float64\n",
       "Y      float64\n",
       "dtype: object"
      ]
     },
     "execution_count": 7,
     "metadata": {},
     "output_type": "execute_result"
    }
   ],
   "source": [
    "# Revisamos el tipo de dato en cada columna\n",
    "df.dtypes "
   ]
  },
  {
   "cell_type": "code",
   "execution_count": 8,
   "metadata": {},
   "outputs": [
    {
     "name": "stdout",
     "output_type": "stream",
     "text": [
      "<class 'pandas.core.frame.DataFrame'>\n",
      "RangeIndex: 30000 entries, 0 to 29999\n",
      "Data columns (total 25 columns):\n",
      " #   Column  Non-Null Count  Dtype  \n",
      "---  ------  --------------  -----  \n",
      " 0   ID      30000 non-null  int64  \n",
      " 1   X1      30000 non-null  int64  \n",
      " 2   X2      29999 non-null  float64\n",
      " 3   X3      29998 non-null  float64\n",
      " 4   X4      29998 non-null  float64\n",
      " 5   X5      29995 non-null  float64\n",
      " 6   X6      29997 non-null  float64\n",
      " 7   X7      29995 non-null  float64\n",
      " 8   X8      29993 non-null  float64\n",
      " 9   X9      29991 non-null  float64\n",
      " 10  X10     29984 non-null  float64\n",
      " 11  X11     29986 non-null  float64\n",
      " 12  X12     29989 non-null  float64\n",
      " 13  X13     29989 non-null  float64\n",
      " 14  X14     29987 non-null  float64\n",
      " 15  X15     29985 non-null  float64\n",
      " 16  X16     29983 non-null  float64\n",
      " 17  X17     29990 non-null  float64\n",
      " 18  X18     29992 non-null  float64\n",
      " 19  X19     29991 non-null  float64\n",
      " 20  X20     29992 non-null  float64\n",
      " 21  X21     29989 non-null  float64\n",
      " 22  X22     29989 non-null  float64\n",
      " 23  X23     29995 non-null  float64\n",
      " 24  Y       29997 non-null  float64\n",
      "dtypes: float64(23), int64(2)\n",
      "memory usage: 5.7 MB\n"
     ]
    }
   ],
   "source": [
    "# Con .info obtenemos mas detalles del dataframe \n",
    "df.info()"
   ]
  },
  {
   "cell_type": "markdown",
   "metadata": {},
   "source": [
    "Observamos que todas las columnas tienen datos nulos, a excepción de las primeras 2: **ID**, **X1**. "
   ]
  },
  {
   "cell_type": "code",
   "execution_count": 9,
   "metadata": {},
   "outputs": [
    {
     "data": {
      "text/plain": [
       "True"
      ]
     },
     "execution_count": 9,
     "metadata": {},
     "output_type": "execute_result"
    }
   ],
   "source": [
    "# Confirmamos que existen valores faltantes \n",
    "df.isna().values.any()"
   ]
  },
  {
   "cell_type": "markdown",
   "metadata": {},
   "source": [
    "### 3. Limpia los datos eliminando los registros nulos o rellena con la media de la columna"
   ]
  },
  {
   "cell_type": "code",
   "execution_count": 10,
   "metadata": {},
   "outputs": [],
   "source": [
    "# Creamos una copia del dataframe original para trabajar\n",
    "df2 = df.copy()"
   ]
  },
  {
   "cell_type": "markdown",
   "metadata": {},
   "source": [
    "Iniciamos por la variable de salida **Y:** representa la probabilidad real de que el cliente incumpla con el pago crediticio (1=Si, 0=No).  "
   ]
  },
  {
   "cell_type": "code",
   "execution_count": 11,
   "metadata": {},
   "outputs": [
    {
     "data": {
      "text/plain": [
       "array([ 1.,  0., nan])"
      ]
     },
     "execution_count": 11,
     "metadata": {},
     "output_type": "execute_result"
    }
   ],
   "source": [
    "# verificamos valores únicos en la columna Y\n",
    "df2['Y'].unique()"
   ]
  },
  {
   "cell_type": "markdown",
   "metadata": {},
   "source": [
    "Optamos por eliminar las filas con valores nulos."
   ]
  },
  {
   "cell_type": "code",
   "execution_count": 12,
   "metadata": {},
   "outputs": [],
   "source": [
    "# eliminamos valores nulos de columna Y\n",
    "df2.dropna(inplace=True, subset=['Y'])"
   ]
  },
  {
   "cell_type": "markdown",
   "metadata": {},
   "source": [
    "La columna X1 representa el monto del crédito otorgado al cliente, No tiene registros nulos."
   ]
  },
  {
   "cell_type": "markdown",
   "metadata": {},
   "source": [
    "**Imputamos con la moda las variables categoricas y con la media las variables numericas.**"
   ]
  },
  {
   "cell_type": "markdown",
   "metadata": {},
   "source": [
    "Columna **X2:** género (1=masculino, 2=femenino). Verificamos que solo existan estos dos valores posibles e imputamos los faltantes con el valor de la moda."
   ]
  },
  {
   "cell_type": "code",
   "execution_count": 13,
   "metadata": {},
   "outputs": [
    {
     "data": {
      "text/plain": [
       "array([ 2.,  1., nan])"
      ]
     },
     "execution_count": 13,
     "metadata": {},
     "output_type": "execute_result"
    }
   ],
   "source": [
    "# verificamos valores únicos en la columna\n",
    "df2['X2'].unique()"
   ]
  },
  {
   "cell_type": "code",
   "execution_count": 101,
   "metadata": {},
   "outputs": [],
   "source": [
    "# imputamos faltantes con la moda\n",
    "x2mode = (df2['X2'].mode())\n",
    "df2['X2'].fillna(x2mode, inplace=True)"
   ]
  },
  {
   "cell_type": "markdown",
   "metadata": {},
   "source": [
    "Columna **X3:** nivel escolar (1=posgrado, 2=universidad, 3=preparatoria, 4=otros). similar a la columna X2 imputamos el valor de la moda a los faltantes. "
   ]
  },
  {
   "cell_type": "code",
   "execution_count": 15,
   "metadata": {},
   "outputs": [
    {
     "data": {
      "text/plain": [
       "array([ 2.,  1.,  3.,  5.,  4.,  6.,  0., nan])"
      ]
     },
     "execution_count": 15,
     "metadata": {},
     "output_type": "execute_result"
    }
   ],
   "source": [
    "# verificamos valores únicos en la columna\n",
    "df2['X3'].unique()"
   ]
  },
  {
   "cell_type": "markdown",
   "metadata": {},
   "source": [
    "Los valores 0, 5, y 6 no corresponden a una de las categorias posibles, por lo que los convertiremos a *NaN* y posteriormente imputaremos el valor de la moda usando solo valores permitidos (1, 2, 3 o 4)."
   ]
  },
  {
   "cell_type": "code",
   "execution_count": 16,
   "metadata": {},
   "outputs": [
    {
     "data": {
      "text/plain": [
       "array([ 2.,  1.,  3., nan,  4.])"
      ]
     },
     "execution_count": 16,
     "metadata": {},
     "output_type": "execute_result"
    }
   ],
   "source": [
    "# convertimos a NaN los valores \n",
    "N = len(df2['X3'])\n",
    "for i in range(N):\n",
    "    if df2.iloc[i, 3] > 4:\n",
    "        df2.iloc[i, 3] = np.nan \n",
    "    elif df2.iloc[i, 3] == 0:\n",
    "        df2.iloc[i, 3] = np.nan\n",
    "\n",
    "df2['X3'].unique()"
   ]
  },
  {
   "cell_type": "code",
   "execution_count": 102,
   "metadata": {},
   "outputs": [],
   "source": [
    "# imputamos faltantes con la moda\n",
    "x3mode = (df2['X3'].mode())\n",
    "df2['X3'].fillna(x3mode, inplace=True)"
   ]
  },
  {
   "cell_type": "markdown",
   "metadata": {},
   "source": [
    "Columna **X4:** estado civil (1=casado, 2=soltero, 3=otro). Nuevamente imputamos el valor de la moda a los valores faltantes."
   ]
  },
  {
   "cell_type": "code",
   "execution_count": 18,
   "metadata": {},
   "outputs": [
    {
     "data": {
      "text/plain": [
       "array([ 1.,  2.,  3.,  0., nan])"
      ]
     },
     "execution_count": 18,
     "metadata": {},
     "output_type": "execute_result"
    }
   ],
   "source": [
    "# verificamos valores únicos en la columna\n",
    "df2['X4'].unique() "
   ]
  },
  {
   "cell_type": "markdown",
   "metadata": {},
   "source": [
    "En este caso, el valor 0 no representa una categoria, por tanto lo que convertimos a nulo, e imputamos con la moda. "
   ]
  },
  {
   "cell_type": "code",
   "execution_count": 19,
   "metadata": {},
   "outputs": [
    {
     "data": {
      "text/plain": [
       "array([ 1.,  2.,  3., nan])"
      ]
     },
     "execution_count": 19,
     "metadata": {},
     "output_type": "execute_result"
    }
   ],
   "source": [
    "# sustituimos los valores 0 por NaN\n",
    "for i in range(N):\n",
    "    if df2.iloc[i, 4] == 0:\n",
    "        df2.iloc[i, 4] = np.nan \n",
    "\n",
    "df2['X4'].unique()"
   ]
  },
  {
   "cell_type": "code",
   "execution_count": 103,
   "metadata": {},
   "outputs": [],
   "source": [
    "# imputamos faltantes con la moda\n",
    "x4mode = df2['X4'].mode()\n",
    "df2['X4'].fillna(x4mode, inplace=True)"
   ]
  },
  {
   "cell_type": "markdown",
   "metadata": {},
   "source": [
    "Columna **X5:** edad del cliente (años)"
   ]
  },
  {
   "cell_type": "code",
   "execution_count": 21,
   "metadata": {},
   "outputs": [],
   "source": [
    "# imputamos faltantes con la media\n",
    "x5mean = df2['X5'].mean().round(0)\n",
    "df2['X5'].fillna(x5mean, inplace=True)\n"
   ]
  },
  {
   "cell_type": "markdown",
   "metadata": {},
   "source": [
    "Columnas **X6 - X11:** record de pago mensual de abril a septiembre (X6:septiembre, X7:agosto,...,X11:abril)\n",
    "\n",
    "Valores: -1=pago a tiempo; 1=retraso 1 mes; 2=retraso 2 meses;...; 8=retraso 8 meses; 9=retraso 9 o mas meses."
   ]
  },
  {
   "cell_type": "code",
   "execution_count": 90,
   "metadata": {},
   "outputs": [
    {
     "data": {
      "text/html": [
       "<div>\n",
       "<style scoped>\n",
       "    .dataframe tbody tr th:only-of-type {\n",
       "        vertical-align: middle;\n",
       "    }\n",
       "\n",
       "    .dataframe tbody tr th {\n",
       "        vertical-align: top;\n",
       "    }\n",
       "\n",
       "    .dataframe thead th {\n",
       "        text-align: right;\n",
       "    }\n",
       "</style>\n",
       "<table border=\"1\" class=\"dataframe\">\n",
       "  <thead>\n",
       "    <tr style=\"text-align: right;\">\n",
       "      <th></th>\n",
       "      <th>X6</th>\n",
       "      <th>X7</th>\n",
       "      <th>X8</th>\n",
       "      <th>X9</th>\n",
       "      <th>X10</th>\n",
       "      <th>X11</th>\n",
       "    </tr>\n",
       "  </thead>\n",
       "  <tbody>\n",
       "    <tr>\n",
       "      <th>0</th>\n",
       "      <td>2.0</td>\n",
       "      <td>2.0</td>\n",
       "      <td>-1.0</td>\n",
       "      <td>-1.0</td>\n",
       "      <td>-2.0</td>\n",
       "      <td>-2.0</td>\n",
       "    </tr>\n",
       "    <tr>\n",
       "      <th>1</th>\n",
       "      <td>-1.0</td>\n",
       "      <td>2.0</td>\n",
       "      <td>0.0</td>\n",
       "      <td>0.0</td>\n",
       "      <td>0.0</td>\n",
       "      <td>2.0</td>\n",
       "    </tr>\n",
       "    <tr>\n",
       "      <th>2</th>\n",
       "      <td>0.0</td>\n",
       "      <td>0.0</td>\n",
       "      <td>0.0</td>\n",
       "      <td>0.0</td>\n",
       "      <td>0.0</td>\n",
       "      <td>0.0</td>\n",
       "    </tr>\n",
       "    <tr>\n",
       "      <th>3</th>\n",
       "      <td>0.0</td>\n",
       "      <td>0.0</td>\n",
       "      <td>0.0</td>\n",
       "      <td>0.0</td>\n",
       "      <td>0.0</td>\n",
       "      <td>0.0</td>\n",
       "    </tr>\n",
       "    <tr>\n",
       "      <th>4</th>\n",
       "      <td>-1.0</td>\n",
       "      <td>0.0</td>\n",
       "      <td>-1.0</td>\n",
       "      <td>0.0</td>\n",
       "      <td>0.0</td>\n",
       "      <td>0.0</td>\n",
       "    </tr>\n",
       "    <tr>\n",
       "      <th>...</th>\n",
       "      <td>...</td>\n",
       "      <td>...</td>\n",
       "      <td>...</td>\n",
       "      <td>...</td>\n",
       "      <td>...</td>\n",
       "      <td>...</td>\n",
       "    </tr>\n",
       "    <tr>\n",
       "      <th>29995</th>\n",
       "      <td>0.0</td>\n",
       "      <td>0.0</td>\n",
       "      <td>0.0</td>\n",
       "      <td>0.0</td>\n",
       "      <td>0.0</td>\n",
       "      <td>0.0</td>\n",
       "    </tr>\n",
       "    <tr>\n",
       "      <th>29996</th>\n",
       "      <td>-1.0</td>\n",
       "      <td>-1.0</td>\n",
       "      <td>-1.0</td>\n",
       "      <td>-1.0</td>\n",
       "      <td>0.0</td>\n",
       "      <td>0.0</td>\n",
       "    </tr>\n",
       "    <tr>\n",
       "      <th>29997</th>\n",
       "      <td>4.0</td>\n",
       "      <td>3.0</td>\n",
       "      <td>2.0</td>\n",
       "      <td>-1.0</td>\n",
       "      <td>0.0</td>\n",
       "      <td>0.0</td>\n",
       "    </tr>\n",
       "    <tr>\n",
       "      <th>29998</th>\n",
       "      <td>1.0</td>\n",
       "      <td>-1.0</td>\n",
       "      <td>0.0</td>\n",
       "      <td>0.0</td>\n",
       "      <td>0.0</td>\n",
       "      <td>-1.0</td>\n",
       "    </tr>\n",
       "    <tr>\n",
       "      <th>29999</th>\n",
       "      <td>0.0</td>\n",
       "      <td>0.0</td>\n",
       "      <td>0.0</td>\n",
       "      <td>0.0</td>\n",
       "      <td>0.0</td>\n",
       "      <td>0.0</td>\n",
       "    </tr>\n",
       "  </tbody>\n",
       "</table>\n",
       "<p>30000 rows × 6 columns</p>\n",
       "</div>"
      ],
      "text/plain": [
       "        X6   X7   X8   X9  X10  X11\n",
       "0      2.0  2.0 -1.0 -1.0 -2.0 -2.0\n",
       "1     -1.0  2.0  0.0  0.0  0.0  2.0\n",
       "2      0.0  0.0  0.0  0.0  0.0  0.0\n",
       "3      0.0  0.0  0.0  0.0  0.0  0.0\n",
       "4     -1.0  0.0 -1.0  0.0  0.0  0.0\n",
       "...    ...  ...  ...  ...  ...  ...\n",
       "29995  0.0  0.0  0.0  0.0  0.0  0.0\n",
       "29996 -1.0 -1.0 -1.0 -1.0  0.0  0.0\n",
       "29997  4.0  3.0  2.0 -1.0  0.0  0.0\n",
       "29998  1.0 -1.0  0.0  0.0  0.0 -1.0\n",
       "29999  0.0  0.0  0.0  0.0  0.0  0.0\n",
       "\n",
       "[30000 rows x 6 columns]"
      ]
     },
     "execution_count": 90,
     "metadata": {},
     "output_type": "execute_result"
    }
   ],
   "source": [
    "# revisamos columnas X6 a X11\n",
    "x6_x11 = df[['X6', 'X7', 'X8', 'X9', 'X10', 'X11']]\n",
    "x6_x11"
   ]
  },
  {
   "cell_type": "markdown",
   "metadata": {},
   "source": [
    "Se observan valores de **-2.0** y **0** que no corresponden a ninguna categoría de estas columnas. Por lo tanto asignamos el valor *NaN* a todos los valores no permitidos. "
   ]
  },
  {
   "cell_type": "code",
   "execution_count": 91,
   "metadata": {},
   "outputs": [],
   "source": [
    "# Iteramos fila por fila de la columna X6 a la X11\n",
    "for j in range(6):\n",
    "    for i in range(N):\n",
    "        if df2.iloc[i, 6+j] < -1:\n",
    "            df2.iloc[i, 6+j] = np.nan \n",
    "        elif df2.iloc[i, 6+j] == 0:\n",
    "            df2.iloc[i, 6+j] = np.nan\n",
    "        elif df2.iloc[i, 6+j] > 9:\n",
    "            df2.iloc[i, 6+j] = np.nan "
   ]
  },
  {
   "cell_type": "markdown",
   "metadata": {},
   "source": [
    "Imputamos los nulos con el valor de la moda de cada columna."
   ]
  },
  {
   "cell_type": "code",
   "execution_count": 92,
   "metadata": {},
   "outputs": [],
   "source": [
    "# calculamos la moda\n",
    "x6mode = df2['X6'].mode()\n",
    "x7mode = df2['X7'].mode()\n",
    "x8mode = df2['X8'].mode()\n",
    "x9mode = df2['X9'].mode()\n",
    "x10mode = df2['X10'].mode()\n",
    "x11mode = df2['X11'].mode()"
   ]
  },
  {
   "cell_type": "code",
   "execution_count": 104,
   "metadata": {},
   "outputs": [
    {
     "data": {
      "text/plain": [
       "False"
      ]
     },
     "execution_count": 104,
     "metadata": {},
     "output_type": "execute_result"
    }
   ],
   "source": [
    "# imputamos valores\n",
    "df2['X6'].fillna(x6mode, inplace=True)\n",
    "df2['X7'].fillna(x7mode, inplace=True)\n",
    "df2['X8'].fillna(x8mode, inplace=True)\n",
    "df2['X9'].fillna(x9mode, inplace=True)\n",
    "df2['X10'].fillna(x10mode, inplace=True)\n",
    "df2['X11'].fillna(x11mode, inplace=True)\n",
    "\n",
    "# verificamos\n",
    "df2[['X6', 'X7', 'X8', 'X9', 'X10', 'X11']].isnull().values.any()"
   ]
  },
  {
   "cell_type": "markdown",
   "metadata": {},
   "source": [
    "Columnas **X12 - X17:** monto por pagar de abril a septiembre (X12:septiembre, X13:agosto,...,X17:abril)"
   ]
  },
  {
   "cell_type": "code",
   "execution_count": 26,
   "metadata": {},
   "outputs": [
    {
     "data": {
      "text/html": [
       "<div>\n",
       "<style scoped>\n",
       "    .dataframe tbody tr th:only-of-type {\n",
       "        vertical-align: middle;\n",
       "    }\n",
       "\n",
       "    .dataframe tbody tr th {\n",
       "        vertical-align: top;\n",
       "    }\n",
       "\n",
       "    .dataframe thead th {\n",
       "        text-align: right;\n",
       "    }\n",
       "</style>\n",
       "<table border=\"1\" class=\"dataframe\">\n",
       "  <thead>\n",
       "    <tr style=\"text-align: right;\">\n",
       "      <th></th>\n",
       "      <th>X12</th>\n",
       "      <th>X13</th>\n",
       "      <th>X14</th>\n",
       "      <th>X15</th>\n",
       "      <th>X16</th>\n",
       "      <th>X17</th>\n",
       "    </tr>\n",
       "  </thead>\n",
       "  <tbody>\n",
       "    <tr>\n",
       "      <th>count</th>\n",
       "      <td>29988.000000</td>\n",
       "      <td>29988.000000</td>\n",
       "      <td>2.998700e+04</td>\n",
       "      <td>29985.000000</td>\n",
       "      <td>29983.000000</td>\n",
       "      <td>29990.000000</td>\n",
       "    </tr>\n",
       "    <tr>\n",
       "      <th>mean</th>\n",
       "      <td>51237.191210</td>\n",
       "      <td>49190.970555</td>\n",
       "      <td>4.702535e+04</td>\n",
       "      <td>43275.652326</td>\n",
       "      <td>40324.493980</td>\n",
       "      <td>38881.135745</td>\n",
       "    </tr>\n",
       "    <tr>\n",
       "      <th>std</th>\n",
       "      <td>73646.425254</td>\n",
       "      <td>71184.560296</td>\n",
       "      <td>6.936086e+04</td>\n",
       "      <td>64345.500073</td>\n",
       "      <td>60809.984983</td>\n",
       "      <td>59561.312967</td>\n",
       "    </tr>\n",
       "    <tr>\n",
       "      <th>min</th>\n",
       "      <td>-165580.000000</td>\n",
       "      <td>-69777.000000</td>\n",
       "      <td>-1.572640e+05</td>\n",
       "      <td>-170000.000000</td>\n",
       "      <td>-81334.000000</td>\n",
       "      <td>-339603.000000</td>\n",
       "    </tr>\n",
       "    <tr>\n",
       "      <th>25%</th>\n",
       "      <td>3564.750000</td>\n",
       "      <td>2985.750000</td>\n",
       "      <td>2.667500e+03</td>\n",
       "      <td>2329.000000</td>\n",
       "      <td>1763.500000</td>\n",
       "      <td>1256.250000</td>\n",
       "    </tr>\n",
       "    <tr>\n",
       "      <th>50%</th>\n",
       "      <td>22385.500000</td>\n",
       "      <td>21205.000000</td>\n",
       "      <td>2.008900e+04</td>\n",
       "      <td>19052.000000</td>\n",
       "      <td>18107.000000</td>\n",
       "      <td>17081.000000</td>\n",
       "    </tr>\n",
       "    <tr>\n",
       "      <th>75%</th>\n",
       "      <td>67139.750000</td>\n",
       "      <td>64027.250000</td>\n",
       "      <td>6.018200e+04</td>\n",
       "      <td>54560.000000</td>\n",
       "      <td>50213.000000</td>\n",
       "      <td>49208.250000</td>\n",
       "    </tr>\n",
       "    <tr>\n",
       "      <th>max</th>\n",
       "      <td>964511.000000</td>\n",
       "      <td>983931.000000</td>\n",
       "      <td>1.664089e+06</td>\n",
       "      <td>891586.000000</td>\n",
       "      <td>927171.000000</td>\n",
       "      <td>961664.000000</td>\n",
       "    </tr>\n",
       "  </tbody>\n",
       "</table>\n",
       "</div>"
      ],
      "text/plain": [
       "                 X12            X13           X14            X15  \\\n",
       "count   29988.000000   29988.000000  2.998700e+04   29985.000000   \n",
       "mean    51237.191210   49190.970555  4.702535e+04   43275.652326   \n",
       "std     73646.425254   71184.560296  6.936086e+04   64345.500073   \n",
       "min   -165580.000000  -69777.000000 -1.572640e+05 -170000.000000   \n",
       "25%      3564.750000    2985.750000  2.667500e+03    2329.000000   \n",
       "50%     22385.500000   21205.000000  2.008900e+04   19052.000000   \n",
       "75%     67139.750000   64027.250000  6.018200e+04   54560.000000   \n",
       "max    964511.000000  983931.000000  1.664089e+06  891586.000000   \n",
       "\n",
       "                 X16            X17  \n",
       "count   29983.000000   29990.000000  \n",
       "mean    40324.493980   38881.135745  \n",
       "std     60809.984983   59561.312967  \n",
       "min    -81334.000000 -339603.000000  \n",
       "25%      1763.500000    1256.250000  \n",
       "50%     18107.000000   17081.000000  \n",
       "75%     50213.000000   49208.250000  \n",
       "max    927171.000000  961664.000000  "
      ]
     },
     "execution_count": 26,
     "metadata": {},
     "output_type": "execute_result"
    }
   ],
   "source": [
    "# revisamos estadisticas\n",
    "amnt= df2[['X12', 'X13', 'X14', 'X15', 'X16', 'X17']]\n",
    "amnt.describe() "
   ]
  },
  {
   "cell_type": "markdown",
   "metadata": {},
   "source": [
    "Observamos montos negativos, los cuales tendremos que asumir como error de captura y los convertimos a monto positivo."
   ]
  },
  {
   "cell_type": "code",
   "execution_count": 27,
   "metadata": {},
   "outputs": [],
   "source": [
    "# usamos metodo abs para regresar solo valores positivos\n",
    "for m in df2.iloc[:,12:18]:\n",
    "    df2[m] = df2[m].abs()"
   ]
  },
  {
   "cell_type": "markdown",
   "metadata": {},
   "source": [
    "Debido a que se observan valores extremos (*outliers*), usamos la mediana para los valores nulos."
   ]
  },
  {
   "cell_type": "code",
   "execution_count": 28,
   "metadata": {},
   "outputs": [],
   "source": [
    "# calculamos la mediana\n",
    "x12med = df2['X12'].median()\n",
    "x13med = df2['X13'].median()\n",
    "x14med = df2['X14'].median()\n",
    "x15med = df2['X15'].median()\n",
    "x16med = df2['X16'].median()\n",
    "x17med = df2['X17'].median()"
   ]
  },
  {
   "cell_type": "code",
   "execution_count": 105,
   "metadata": {},
   "outputs": [
    {
     "data": {
      "text/plain": [
       "False"
      ]
     },
     "execution_count": 105,
     "metadata": {},
     "output_type": "execute_result"
    }
   ],
   "source": [
    "# imputamos valores\n",
    "df2['X12'].fillna(x12med, inplace=True)\n",
    "df2['X13'].fillna(x13med, inplace=True)\n",
    "df2['X14'].fillna(x14med, inplace=True)\n",
    "df2['X15'].fillna(x15med, inplace=True)\n",
    "df2['X16'].fillna(x16med, inplace=True)\n",
    "df2['X17'].fillna(x17med, inplace=True)\n",
    "\n",
    "# verificamos\n",
    "df2[['X12', 'X13', 'X14', 'X15', 'X16', 'X17']].isnull().values.any()"
   ]
  },
  {
   "cell_type": "markdown",
   "metadata": {},
   "source": [
    "Columnas **X18 - X23:** monto de pago anterior de abril a septiembre (X18:septiembre, X19:agosto,...,X23:abril)"
   ]
  },
  {
   "cell_type": "code",
   "execution_count": 30,
   "metadata": {},
   "outputs": [
    {
     "data": {
      "text/html": [
       "<div>\n",
       "<style scoped>\n",
       "    .dataframe tbody tr th:only-of-type {\n",
       "        vertical-align: middle;\n",
       "    }\n",
       "\n",
       "    .dataframe tbody tr th {\n",
       "        vertical-align: top;\n",
       "    }\n",
       "\n",
       "    .dataframe thead th {\n",
       "        text-align: right;\n",
       "    }\n",
       "</style>\n",
       "<table border=\"1\" class=\"dataframe\">\n",
       "  <thead>\n",
       "    <tr style=\"text-align: right;\">\n",
       "      <th></th>\n",
       "      <th>X18</th>\n",
       "      <th>X19</th>\n",
       "      <th>X20</th>\n",
       "      <th>X21</th>\n",
       "      <th>X22</th>\n",
       "      <th>X23</th>\n",
       "    </tr>\n",
       "  </thead>\n",
       "  <tbody>\n",
       "    <tr>\n",
       "      <th>count</th>\n",
       "      <td>29992.000000</td>\n",
       "      <td>2.999100e+04</td>\n",
       "      <td>29992.000000</td>\n",
       "      <td>29989.000000</td>\n",
       "      <td>29989.000000</td>\n",
       "      <td>29995.000000</td>\n",
       "    </tr>\n",
       "    <tr>\n",
       "      <th>mean</th>\n",
       "      <td>5662.945886</td>\n",
       "      <td>5.922489e+03</td>\n",
       "      <td>5225.623400</td>\n",
       "      <td>4827.252526</td>\n",
       "      <td>4800.297209</td>\n",
       "      <td>5216.259977</td>\n",
       "    </tr>\n",
       "    <tr>\n",
       "      <th>std</th>\n",
       "      <td>16564.165089</td>\n",
       "      <td>2.304418e+04</td>\n",
       "      <td>17608.422625</td>\n",
       "      <td>15668.751975</td>\n",
       "      <td>15280.842069</td>\n",
       "      <td>17778.848359</td>\n",
       "    </tr>\n",
       "    <tr>\n",
       "      <th>min</th>\n",
       "      <td>0.000000</td>\n",
       "      <td>0.000000e+00</td>\n",
       "      <td>0.000000</td>\n",
       "      <td>0.000000</td>\n",
       "      <td>0.000000</td>\n",
       "      <td>0.000000</td>\n",
       "    </tr>\n",
       "    <tr>\n",
       "      <th>25%</th>\n",
       "      <td>1000.000000</td>\n",
       "      <td>8.355000e+02</td>\n",
       "      <td>390.000000</td>\n",
       "      <td>296.000000</td>\n",
       "      <td>251.000000</td>\n",
       "      <td>118.000000</td>\n",
       "    </tr>\n",
       "    <tr>\n",
       "      <th>50%</th>\n",
       "      <td>2100.000000</td>\n",
       "      <td>2.009000e+03</td>\n",
       "      <td>1800.000000</td>\n",
       "      <td>1500.000000</td>\n",
       "      <td>1500.000000</td>\n",
       "      <td>1500.000000</td>\n",
       "    </tr>\n",
       "    <tr>\n",
       "      <th>75%</th>\n",
       "      <td>5006.000000</td>\n",
       "      <td>5.000000e+03</td>\n",
       "      <td>4505.500000</td>\n",
       "      <td>4014.000000</td>\n",
       "      <td>4033.000000</td>\n",
       "      <td>4000.000000</td>\n",
       "    </tr>\n",
       "    <tr>\n",
       "      <th>max</th>\n",
       "      <td>873552.000000</td>\n",
       "      <td>1.684259e+06</td>\n",
       "      <td>896040.000000</td>\n",
       "      <td>621000.000000</td>\n",
       "      <td>426529.000000</td>\n",
       "      <td>528666.000000</td>\n",
       "    </tr>\n",
       "  </tbody>\n",
       "</table>\n",
       "</div>"
      ],
      "text/plain": [
       "                 X18           X19            X20            X21  \\\n",
       "count   29992.000000  2.999100e+04   29992.000000   29989.000000   \n",
       "mean     5662.945886  5.922489e+03    5225.623400    4827.252526   \n",
       "std     16564.165089  2.304418e+04   17608.422625   15668.751975   \n",
       "min         0.000000  0.000000e+00       0.000000       0.000000   \n",
       "25%      1000.000000  8.355000e+02     390.000000     296.000000   \n",
       "50%      2100.000000  2.009000e+03    1800.000000    1500.000000   \n",
       "75%      5006.000000  5.000000e+03    4505.500000    4014.000000   \n",
       "max    873552.000000  1.684259e+06  896040.000000  621000.000000   \n",
       "\n",
       "                 X22            X23  \n",
       "count   29989.000000   29995.000000  \n",
       "mean     4800.297209    5216.259977  \n",
       "std     15280.842069   17778.848359  \n",
       "min         0.000000       0.000000  \n",
       "25%       251.000000     118.000000  \n",
       "50%      1500.000000    1500.000000  \n",
       "75%      4033.000000    4000.000000  \n",
       "max    426529.000000  528666.000000  "
      ]
     },
     "execution_count": 30,
     "metadata": {},
     "output_type": "execute_result"
    }
   ],
   "source": [
    "# revisamos estadisticas\n",
    "amnt2 = df2[['X18', 'X19', 'X20', 'X21', 'X22', 'X23']]\n",
    "amnt2.describe() "
   ]
  },
  {
   "cell_type": "markdown",
   "metadata": {},
   "source": [
    "En este caso no hay valores negativos por lo que procedemos a imputar valores nulos con la mediana."
   ]
  },
  {
   "cell_type": "code",
   "execution_count": 31,
   "metadata": {},
   "outputs": [],
   "source": [
    "# calculamos la mediana\n",
    "x18med = df2['X18'].median()\n",
    "x19med = df2['X19'].median()\n",
    "x20med = df2['X20'].median()\n",
    "x21med = df2['X21'].median()\n",
    "x22med = df2['X22'].median()\n",
    "x23med = df2['X23'].median()"
   ]
  },
  {
   "cell_type": "code",
   "execution_count": 106,
   "metadata": {},
   "outputs": [
    {
     "data": {
      "text/plain": [
       "False"
      ]
     },
     "execution_count": 106,
     "metadata": {},
     "output_type": "execute_result"
    }
   ],
   "source": [
    "# imputamos valores\n",
    "df2['X18'].fillna(x18med, inplace=True)\n",
    "df2['X19'].fillna(x19med, inplace=True)\n",
    "df2['X20'].fillna(x20med, inplace=True)\n",
    "df2['X21'].fillna(x21med, inplace=True)\n",
    "df2['X22'].fillna(x22med, inplace=True)\n",
    "df2['X23'].fillna(x23med, inplace=True)\n",
    "\n",
    "# verificamos\n",
    "df2[['X18', 'X19', 'X20', 'X21', 'X22', 'X23']].isnull().values.any()"
   ]
  },
  {
   "cell_type": "markdown",
   "metadata": {},
   "source": [
    "Finalmente verificamos nuevamente que no existan columnas con valores nulos en el data frame:"
   ]
  },
  {
   "cell_type": "code",
   "execution_count": 107,
   "metadata": {},
   "outputs": [
    {
     "data": {
      "text/plain": [
       "ID     False\n",
       "X1     False\n",
       "X2     False\n",
       "X3     False\n",
       "X4     False\n",
       "X5     False\n",
       "X6     False\n",
       "X7     False\n",
       "X8     False\n",
       "X9     False\n",
       "X10    False\n",
       "X11    False\n",
       "X12    False\n",
       "X13    False\n",
       "X14    False\n",
       "X15    False\n",
       "X16    False\n",
       "X17    False\n",
       "X18    False\n",
       "X19    False\n",
       "X20    False\n",
       "X21    False\n",
       "X22    False\n",
       "X23    False\n",
       "Y      False\n",
       "dtype: bool"
      ]
     },
     "execution_count": 107,
     "metadata": {},
     "output_type": "execute_result"
    }
   ],
   "source": [
    "df2.isnull().any()"
   ]
  },
  {
   "cell_type": "markdown",
   "metadata": {},
   "source": [
    "### 4. Calcula la estadística descriptiva con describe() y explica las medidas de tendencia central y dispersión"
   ]
  },
  {
   "cell_type": "code",
   "execution_count": 34,
   "metadata": {},
   "outputs": [
    {
     "data": {
      "text/html": [
       "<div>\n",
       "<style scoped>\n",
       "    .dataframe tbody tr th:only-of-type {\n",
       "        vertical-align: middle;\n",
       "    }\n",
       "\n",
       "    .dataframe tbody tr th {\n",
       "        vertical-align: top;\n",
       "    }\n",
       "\n",
       "    .dataframe thead th {\n",
       "        text-align: right;\n",
       "    }\n",
       "</style>\n",
       "<table border=\"1\" class=\"dataframe\">\n",
       "  <thead>\n",
       "    <tr style=\"text-align: right;\">\n",
       "      <th></th>\n",
       "      <th>ID</th>\n",
       "      <th>X1</th>\n",
       "      <th>X2</th>\n",
       "      <th>X3</th>\n",
       "      <th>X4</th>\n",
       "      <th>X5</th>\n",
       "      <th>X6</th>\n",
       "      <th>X7</th>\n",
       "      <th>X8</th>\n",
       "      <th>X9</th>\n",
       "      <th>...</th>\n",
       "      <th>X15</th>\n",
       "      <th>X16</th>\n",
       "      <th>X17</th>\n",
       "      <th>X18</th>\n",
       "      <th>X19</th>\n",
       "      <th>X20</th>\n",
       "      <th>X21</th>\n",
       "      <th>X22</th>\n",
       "      <th>X23</th>\n",
       "      <th>Y</th>\n",
       "    </tr>\n",
       "  </thead>\n",
       "  <tbody>\n",
       "    <tr>\n",
       "      <th>count</th>\n",
       "      <td>29997.0000</td>\n",
       "      <td>29997.0000</td>\n",
       "      <td>29997.0000</td>\n",
       "      <td>29997.0000</td>\n",
       "      <td>29941.0000</td>\n",
       "      <td>29997.0000</td>\n",
       "      <td>29997.0000</td>\n",
       "      <td>29997.0000</td>\n",
       "      <td>29997.0000</td>\n",
       "      <td>29997.0000</td>\n",
       "      <td>...</td>\n",
       "      <td>29997.0000</td>\n",
       "      <td>29997.0000</td>\n",
       "      <td>29997.0000</td>\n",
       "      <td>29997.0000</td>\n",
       "      <td>2.999700e+04</td>\n",
       "      <td>29997.0000</td>\n",
       "      <td>29997.0000</td>\n",
       "      <td>29997.0000</td>\n",
       "      <td>29997.0000</td>\n",
       "      <td>29997.0000</td>\n",
       "    </tr>\n",
       "    <tr>\n",
       "      <th>mean</th>\n",
       "      <td>14999.8038</td>\n",
       "      <td>167496.0723</td>\n",
       "      <td>1.6038</td>\n",
       "      <td>1.8192</td>\n",
       "      <td>1.5547</td>\n",
       "      <td>35.4838</td>\n",
       "      <td>-0.4161</td>\n",
       "      <td>-0.5322</td>\n",
       "      <td>-0.5560</td>\n",
       "      <td>-0.6245</td>\n",
       "      <td>...</td>\n",
       "      <td>43339.3816</td>\n",
       "      <td>40385.5240</td>\n",
       "      <td>39017.0920</td>\n",
       "      <td>5662.3520</td>\n",
       "      <td>5.921706e+03</td>\n",
       "      <td>5225.0524</td>\n",
       "      <td>4826.3652</td>\n",
       "      <td>4799.4170</td>\n",
       "      <td>5216.0122</td>\n",
       "      <td>0.2212</td>\n",
       "    </tr>\n",
       "    <tr>\n",
       "      <th>std</th>\n",
       "      <td>8659.8374</td>\n",
       "      <td>129748.8039</td>\n",
       "      <td>0.4891</td>\n",
       "      <td>0.7074</td>\n",
       "      <td>0.5183</td>\n",
       "      <td>9.2173</td>\n",
       "      <td>1.1425</td>\n",
       "      <td>1.1463</td>\n",
       "      <td>1.1251</td>\n",
       "      <td>1.0673</td>\n",
       "      <td>...</td>\n",
       "      <td>64285.0151</td>\n",
       "      <td>60750.2834</td>\n",
       "      <td>59462.9865</td>\n",
       "      <td>16562.8484</td>\n",
       "      <td>2.304194e+04</td>\n",
       "      <td>17607.0105</td>\n",
       "      <td>15666.7566</td>\n",
       "      <td>15278.8993</td>\n",
       "      <td>17778.2815</td>\n",
       "      <td>0.4151</td>\n",
       "    </tr>\n",
       "    <tr>\n",
       "      <th>min</th>\n",
       "      <td>1.0000</td>\n",
       "      <td>10000.0000</td>\n",
       "      <td>1.0000</td>\n",
       "      <td>1.0000</td>\n",
       "      <td>1.0000</td>\n",
       "      <td>21.0000</td>\n",
       "      <td>-1.0000</td>\n",
       "      <td>-1.0000</td>\n",
       "      <td>-1.0000</td>\n",
       "      <td>-1.0000</td>\n",
       "      <td>...</td>\n",
       "      <td>0.0000</td>\n",
       "      <td>0.0000</td>\n",
       "      <td>0.0000</td>\n",
       "      <td>0.0000</td>\n",
       "      <td>0.000000e+00</td>\n",
       "      <td>0.0000</td>\n",
       "      <td>0.0000</td>\n",
       "      <td>0.0000</td>\n",
       "      <td>0.0000</td>\n",
       "      <td>0.0000</td>\n",
       "    </tr>\n",
       "    <tr>\n",
       "      <th>25%</th>\n",
       "      <td>7501.0000</td>\n",
       "      <td>50000.0000</td>\n",
       "      <td>1.0000</td>\n",
       "      <td>1.0000</td>\n",
       "      <td>1.0000</td>\n",
       "      <td>28.0000</td>\n",
       "      <td>-1.0000</td>\n",
       "      <td>-1.0000</td>\n",
       "      <td>-1.0000</td>\n",
       "      <td>-1.0000</td>\n",
       "      <td>...</td>\n",
       "      <td>2400.0000</td>\n",
       "      <td>1868.0000</td>\n",
       "      <td>1361.0000</td>\n",
       "      <td>1000.0000</td>\n",
       "      <td>8.360000e+02</td>\n",
       "      <td>390.0000</td>\n",
       "      <td>298.0000</td>\n",
       "      <td>254.0000</td>\n",
       "      <td>118.0000</td>\n",
       "      <td>0.0000</td>\n",
       "    </tr>\n",
       "    <tr>\n",
       "      <th>50%</th>\n",
       "      <td>15000.0000</td>\n",
       "      <td>140000.0000</td>\n",
       "      <td>2.0000</td>\n",
       "      <td>2.0000</td>\n",
       "      <td>2.0000</td>\n",
       "      <td>34.0000</td>\n",
       "      <td>-1.0000</td>\n",
       "      <td>-1.0000</td>\n",
       "      <td>-1.0000</td>\n",
       "      <td>-1.0000</td>\n",
       "      <td>...</td>\n",
       "      <td>19068.0000</td>\n",
       "      <td>18128.0000</td>\n",
       "      <td>17135.0000</td>\n",
       "      <td>2100.0000</td>\n",
       "      <td>2.009000e+03</td>\n",
       "      <td>1800.0000</td>\n",
       "      <td>1500.0000</td>\n",
       "      <td>1500.0000</td>\n",
       "      <td>1500.0000</td>\n",
       "      <td>0.0000</td>\n",
       "    </tr>\n",
       "    <tr>\n",
       "      <th>75%</th>\n",
       "      <td>22499.0000</td>\n",
       "      <td>240000.0000</td>\n",
       "      <td>2.0000</td>\n",
       "      <td>2.0000</td>\n",
       "      <td>2.0000</td>\n",
       "      <td>41.0000</td>\n",
       "      <td>-1.0000</td>\n",
       "      <td>-1.0000</td>\n",
       "      <td>-1.0000</td>\n",
       "      <td>-1.0000</td>\n",
       "      <td>...</td>\n",
       "      <td>54560.0000</td>\n",
       "      <td>50209.0000</td>\n",
       "      <td>49252.0000</td>\n",
       "      <td>5006.0000</td>\n",
       "      <td>5.000000e+03</td>\n",
       "      <td>4505.0000</td>\n",
       "      <td>4013.0000</td>\n",
       "      <td>4031.0000</td>\n",
       "      <td>4000.0000</td>\n",
       "      <td>0.0000</td>\n",
       "    </tr>\n",
       "    <tr>\n",
       "      <th>max</th>\n",
       "      <td>30000.0000</td>\n",
       "      <td>1000000.0000</td>\n",
       "      <td>2.0000</td>\n",
       "      <td>4.0000</td>\n",
       "      <td>3.0000</td>\n",
       "      <td>79.0000</td>\n",
       "      <td>8.0000</td>\n",
       "      <td>8.0000</td>\n",
       "      <td>8.0000</td>\n",
       "      <td>8.0000</td>\n",
       "      <td>...</td>\n",
       "      <td>891586.0000</td>\n",
       "      <td>927171.0000</td>\n",
       "      <td>961664.0000</td>\n",
       "      <td>873552.0000</td>\n",
       "      <td>1.684259e+06</td>\n",
       "      <td>896040.0000</td>\n",
       "      <td>621000.0000</td>\n",
       "      <td>426529.0000</td>\n",
       "      <td>528666.0000</td>\n",
       "      <td>1.0000</td>\n",
       "    </tr>\n",
       "  </tbody>\n",
       "</table>\n",
       "<p>8 rows × 25 columns</p>\n",
       "</div>"
      ],
      "text/plain": [
       "               ID            X1          X2          X3          X4  \\\n",
       "count  29997.0000    29997.0000  29997.0000  29997.0000  29941.0000   \n",
       "mean   14999.8038   167496.0723      1.6038      1.8192      1.5547   \n",
       "std     8659.8374   129748.8039      0.4891      0.7074      0.5183   \n",
       "min        1.0000    10000.0000      1.0000      1.0000      1.0000   \n",
       "25%     7501.0000    50000.0000      1.0000      1.0000      1.0000   \n",
       "50%    15000.0000   140000.0000      2.0000      2.0000      2.0000   \n",
       "75%    22499.0000   240000.0000      2.0000      2.0000      2.0000   \n",
       "max    30000.0000  1000000.0000      2.0000      4.0000      3.0000   \n",
       "\n",
       "               X5          X6          X7          X8          X9  ...  \\\n",
       "count  29997.0000  29997.0000  29997.0000  29997.0000  29997.0000  ...   \n",
       "mean      35.4838     -0.4161     -0.5322     -0.5560     -0.6245  ...   \n",
       "std        9.2173      1.1425      1.1463      1.1251      1.0673  ...   \n",
       "min       21.0000     -1.0000     -1.0000     -1.0000     -1.0000  ...   \n",
       "25%       28.0000     -1.0000     -1.0000     -1.0000     -1.0000  ...   \n",
       "50%       34.0000     -1.0000     -1.0000     -1.0000     -1.0000  ...   \n",
       "75%       41.0000     -1.0000     -1.0000     -1.0000     -1.0000  ...   \n",
       "max       79.0000      8.0000      8.0000      8.0000      8.0000  ...   \n",
       "\n",
       "               X15          X16          X17          X18           X19  \\\n",
       "count   29997.0000   29997.0000   29997.0000   29997.0000  2.999700e+04   \n",
       "mean    43339.3816   40385.5240   39017.0920    5662.3520  5.921706e+03   \n",
       "std     64285.0151   60750.2834   59462.9865   16562.8484  2.304194e+04   \n",
       "min         0.0000       0.0000       0.0000       0.0000  0.000000e+00   \n",
       "25%      2400.0000    1868.0000    1361.0000    1000.0000  8.360000e+02   \n",
       "50%     19068.0000   18128.0000   17135.0000    2100.0000  2.009000e+03   \n",
       "75%     54560.0000   50209.0000   49252.0000    5006.0000  5.000000e+03   \n",
       "max    891586.0000  927171.0000  961664.0000  873552.0000  1.684259e+06   \n",
       "\n",
       "               X20          X21          X22          X23           Y  \n",
       "count   29997.0000   29997.0000   29997.0000   29997.0000  29997.0000  \n",
       "mean     5225.0524    4826.3652    4799.4170    5216.0122      0.2212  \n",
       "std     17607.0105   15666.7566   15278.8993   17778.2815      0.4151  \n",
       "min         0.0000       0.0000       0.0000       0.0000      0.0000  \n",
       "25%       390.0000     298.0000     254.0000     118.0000      0.0000  \n",
       "50%      1800.0000    1500.0000    1500.0000    1500.0000      0.0000  \n",
       "75%      4505.0000    4013.0000    4031.0000    4000.0000      0.0000  \n",
       "max    896040.0000  621000.0000  426529.0000  528666.0000      1.0000  \n",
       "\n",
       "[8 rows x 25 columns]"
      ]
     },
     "execution_count": 34,
     "metadata": {},
     "output_type": "execute_result"
    }
   ],
   "source": [
    "df2.describe().round(4)"
   ]
  },
  {
   "cell_type": "markdown",
   "metadata": {},
   "source": [
    "En las variables numericas (X12 a X23) podemos ver una gran dispersión de los datos, con una desviación estandar muy grande. De esta tabla no es posible observar los valores atípicos pero podemos deducir que existen, ya que del tercer cuartil al valor máximo observamos grandes diferencias. Se observa también que la media esta muy por arriba de la mediana, y como sabemos la media es suceptible a valores atípicos."
   ]
  },
  {
   "cell_type": "markdown",
   "metadata": {},
   "source": [
    "### 5. Realiza el conteo de las variables categóricas"
   ]
  },
  {
   "cell_type": "markdown",
   "metadata": {},
   "source": [
    "De acuerdo a la documentación de la base de datos, las variables categóricas son las siguientes: **'X2', 'X3', 'X4', 'X6', 'X7', 'X8', 'X9', 'X10', 'X11', 'Y'**"
   ]
  },
  {
   "cell_type": "code",
   "execution_count": 94,
   "metadata": {},
   "outputs": [
    {
     "data": {
      "text/html": [
       "<div>\n",
       "<style scoped>\n",
       "    .dataframe tbody tr th:only-of-type {\n",
       "        vertical-align: middle;\n",
       "    }\n",
       "\n",
       "    .dataframe tbody tr th {\n",
       "        vertical-align: top;\n",
       "    }\n",
       "\n",
       "    .dataframe thead th {\n",
       "        text-align: right;\n",
       "    }\n",
       "</style>\n",
       "<table border=\"1\" class=\"dataframe\">\n",
       "  <thead>\n",
       "    <tr style=\"text-align: right;\">\n",
       "      <th></th>\n",
       "      <th>X2</th>\n",
       "      <th>X3</th>\n",
       "      <th>X4</th>\n",
       "      <th>X6</th>\n",
       "      <th>X7</th>\n",
       "      <th>X8</th>\n",
       "      <th>X9</th>\n",
       "      <th>X10</th>\n",
       "      <th>X11</th>\n",
       "      <th>Y</th>\n",
       "    </tr>\n",
       "  </thead>\n",
       "  <tbody>\n",
       "    <tr>\n",
       "      <th>0</th>\n",
       "      <td>2.0</td>\n",
       "      <td>2.0</td>\n",
       "      <td>1.0</td>\n",
       "      <td>2.0</td>\n",
       "      <td>2.0</td>\n",
       "      <td>-1.0</td>\n",
       "      <td>-1.0</td>\n",
       "      <td>-1.0</td>\n",
       "      <td>-1.0</td>\n",
       "      <td>1.0</td>\n",
       "    </tr>\n",
       "    <tr>\n",
       "      <th>1</th>\n",
       "      <td>2.0</td>\n",
       "      <td>2.0</td>\n",
       "      <td>2.0</td>\n",
       "      <td>-1.0</td>\n",
       "      <td>2.0</td>\n",
       "      <td>-1.0</td>\n",
       "      <td>-1.0</td>\n",
       "      <td>-1.0</td>\n",
       "      <td>2.0</td>\n",
       "      <td>1.0</td>\n",
       "    </tr>\n",
       "    <tr>\n",
       "      <th>2</th>\n",
       "      <td>2.0</td>\n",
       "      <td>2.0</td>\n",
       "      <td>2.0</td>\n",
       "      <td>-1.0</td>\n",
       "      <td>-1.0</td>\n",
       "      <td>-1.0</td>\n",
       "      <td>-1.0</td>\n",
       "      <td>-1.0</td>\n",
       "      <td>-1.0</td>\n",
       "      <td>0.0</td>\n",
       "    </tr>\n",
       "    <tr>\n",
       "      <th>3</th>\n",
       "      <td>2.0</td>\n",
       "      <td>2.0</td>\n",
       "      <td>1.0</td>\n",
       "      <td>-1.0</td>\n",
       "      <td>-1.0</td>\n",
       "      <td>-1.0</td>\n",
       "      <td>-1.0</td>\n",
       "      <td>-1.0</td>\n",
       "      <td>-1.0</td>\n",
       "      <td>0.0</td>\n",
       "    </tr>\n",
       "    <tr>\n",
       "      <th>4</th>\n",
       "      <td>1.0</td>\n",
       "      <td>2.0</td>\n",
       "      <td>1.0</td>\n",
       "      <td>-1.0</td>\n",
       "      <td>-1.0</td>\n",
       "      <td>-1.0</td>\n",
       "      <td>-1.0</td>\n",
       "      <td>-1.0</td>\n",
       "      <td>-1.0</td>\n",
       "      <td>0.0</td>\n",
       "    </tr>\n",
       "    <tr>\n",
       "      <th>...</th>\n",
       "      <td>...</td>\n",
       "      <td>...</td>\n",
       "      <td>...</td>\n",
       "      <td>...</td>\n",
       "      <td>...</td>\n",
       "      <td>...</td>\n",
       "      <td>...</td>\n",
       "      <td>...</td>\n",
       "      <td>...</td>\n",
       "      <td>...</td>\n",
       "    </tr>\n",
       "    <tr>\n",
       "      <th>29995</th>\n",
       "      <td>1.0</td>\n",
       "      <td>3.0</td>\n",
       "      <td>1.0</td>\n",
       "      <td>-1.0</td>\n",
       "      <td>-1.0</td>\n",
       "      <td>-1.0</td>\n",
       "      <td>-1.0</td>\n",
       "      <td>-1.0</td>\n",
       "      <td>-1.0</td>\n",
       "      <td>0.0</td>\n",
       "    </tr>\n",
       "    <tr>\n",
       "      <th>29996</th>\n",
       "      <td>1.0</td>\n",
       "      <td>3.0</td>\n",
       "      <td>2.0</td>\n",
       "      <td>-1.0</td>\n",
       "      <td>-1.0</td>\n",
       "      <td>-1.0</td>\n",
       "      <td>-1.0</td>\n",
       "      <td>-1.0</td>\n",
       "      <td>-1.0</td>\n",
       "      <td>0.0</td>\n",
       "    </tr>\n",
       "    <tr>\n",
       "      <th>29997</th>\n",
       "      <td>1.0</td>\n",
       "      <td>2.0</td>\n",
       "      <td>2.0</td>\n",
       "      <td>4.0</td>\n",
       "      <td>3.0</td>\n",
       "      <td>2.0</td>\n",
       "      <td>-1.0</td>\n",
       "      <td>-1.0</td>\n",
       "      <td>-1.0</td>\n",
       "      <td>1.0</td>\n",
       "    </tr>\n",
       "    <tr>\n",
       "      <th>29998</th>\n",
       "      <td>1.0</td>\n",
       "      <td>3.0</td>\n",
       "      <td>1.0</td>\n",
       "      <td>1.0</td>\n",
       "      <td>-1.0</td>\n",
       "      <td>-1.0</td>\n",
       "      <td>-1.0</td>\n",
       "      <td>-1.0</td>\n",
       "      <td>-1.0</td>\n",
       "      <td>1.0</td>\n",
       "    </tr>\n",
       "    <tr>\n",
       "      <th>29999</th>\n",
       "      <td>1.0</td>\n",
       "      <td>2.0</td>\n",
       "      <td>1.0</td>\n",
       "      <td>-1.0</td>\n",
       "      <td>-1.0</td>\n",
       "      <td>-1.0</td>\n",
       "      <td>-1.0</td>\n",
       "      <td>-1.0</td>\n",
       "      <td>-1.0</td>\n",
       "      <td>1.0</td>\n",
       "    </tr>\n",
       "  </tbody>\n",
       "</table>\n",
       "<p>29997 rows × 10 columns</p>\n",
       "</div>"
      ],
      "text/plain": [
       "        X2   X3   X4   X6   X7   X8   X9  X10  X11    Y\n",
       "0      2.0  2.0  1.0  2.0  2.0 -1.0 -1.0 -1.0 -1.0  1.0\n",
       "1      2.0  2.0  2.0 -1.0  2.0 -1.0 -1.0 -1.0  2.0  1.0\n",
       "2      2.0  2.0  2.0 -1.0 -1.0 -1.0 -1.0 -1.0 -1.0  0.0\n",
       "3      2.0  2.0  1.0 -1.0 -1.0 -1.0 -1.0 -1.0 -1.0  0.0\n",
       "4      1.0  2.0  1.0 -1.0 -1.0 -1.0 -1.0 -1.0 -1.0  0.0\n",
       "...    ...  ...  ...  ...  ...  ...  ...  ...  ...  ...\n",
       "29995  1.0  3.0  1.0 -1.0 -1.0 -1.0 -1.0 -1.0 -1.0  0.0\n",
       "29996  1.0  3.0  2.0 -1.0 -1.0 -1.0 -1.0 -1.0 -1.0  0.0\n",
       "29997  1.0  2.0  2.0  4.0  3.0  2.0 -1.0 -1.0 -1.0  1.0\n",
       "29998  1.0  3.0  1.0  1.0 -1.0 -1.0 -1.0 -1.0 -1.0  1.0\n",
       "29999  1.0  2.0  1.0 -1.0 -1.0 -1.0 -1.0 -1.0 -1.0  1.0\n",
       "\n",
       "[29997 rows x 10 columns]"
      ]
     },
     "execution_count": 94,
     "metadata": {},
     "output_type": "execute_result"
    }
   ],
   "source": [
    "# Creamos un dataframe solo con las variables categoricas\n",
    "df_cat = df2[['X2', 'X3', 'X4', 'X6', 'X7', 'X8', 'X9', 'X10', 'X11', 'Y']] \n",
    "df_cat "
   ]
  },
  {
   "cell_type": "code",
   "execution_count": 115,
   "metadata": {},
   "outputs": [
    {
     "name": "stdout",
     "output_type": "stream",
     "text": [
      "<class 'pandas.core.frame.DataFrame'>\n",
      "Int64Index: 29997 entries, 0 to 29999\n",
      "Data columns (total 10 columns):\n",
      " #   Column  Non-Null Count  Dtype  \n",
      "---  ------  --------------  -----  \n",
      " 0   X2      29997 non-null  float64\n",
      " 1   X3      29997 non-null  float64\n",
      " 2   X4      29997 non-null  float64\n",
      " 3   X6      29997 non-null  float64\n",
      " 4   X7      29997 non-null  float64\n",
      " 5   X8      29997 non-null  float64\n",
      " 6   X9      29997 non-null  float64\n",
      " 7   X10     29997 non-null  float64\n",
      " 8   X11     29997 non-null  float64\n",
      " 9   Y       29997 non-null  float64\n",
      "dtypes: float64(10)\n",
      "memory usage: 2.5 MB\n"
     ]
    }
   ],
   "source": [
    "df_cat.info() "
   ]
  },
  {
   "cell_type": "markdown",
   "metadata": {},
   "source": [
    "Imprimimos el conteo de las variables categóricas:"
   ]
  },
  {
   "cell_type": "code",
   "execution_count": 113,
   "metadata": {},
   "outputs": [
    {
     "name": "stdout",
     "output_type": "stream",
     "text": [
      "X2:\n",
      "2.0    18112\n",
      "1.0    11885\n",
      "Name: X2, dtype: int64\n"
     ]
    }
   ],
   "source": [
    "print('X2:')\n",
    "print(df2['X2'].value_counts())"
   ]
  },
  {
   "cell_type": "code",
   "execution_count": 114,
   "metadata": {},
   "outputs": [
    {
     "name": "stdout",
     "output_type": "stream",
     "text": [
      "X3\n",
      "2.0    14375\n",
      "1.0    10584\n",
      "3.0     4915\n",
      "4.0      123\n",
      "Name: X3, dtype: int64\n"
     ]
    }
   ],
   "source": [
    "print('X3')\n",
    "print(df2['X3'].value_counts())"
   ]
  },
  {
   "cell_type": "code",
   "execution_count": 116,
   "metadata": {},
   "outputs": [
    {
     "name": "stdout",
     "output_type": "stream",
     "text": [
      "X4\n",
      "2.0    16019\n",
      "1.0    13655\n",
      "3.0      323\n",
      "Name: X4, dtype: int64\n"
     ]
    }
   ],
   "source": [
    "print('X4')\n",
    "print(df2['X4'].value_counts())"
   ]
  },
  {
   "cell_type": "code",
   "execution_count": 117,
   "metadata": {},
   "outputs": [
    {
     "name": "stdout",
     "output_type": "stream",
     "text": [
      "X6\n",
      "-1.0    23181\n",
      " 1.0     3688\n",
      " 2.0     2665\n",
      " 3.0      322\n",
      " 4.0       76\n",
      " 5.0       26\n",
      " 8.0       19\n",
      " 6.0       11\n",
      " 7.0        9\n",
      "Name: X6, dtype: int64\n"
     ]
    }
   ],
   "source": [
    "print('X6')\n",
    "print(df2['X6'].value_counts())"
   ]
  },
  {
   "cell_type": "code",
   "execution_count": 118,
   "metadata": {},
   "outputs": [
    {
     "name": "stdout",
     "output_type": "stream",
     "text": [
      "X7\n",
      "-1.0    25561\n",
      " 2.0     3925\n",
      " 3.0      326\n",
      " 4.0       99\n",
      " 1.0       28\n",
      " 5.0       25\n",
      " 7.0       20\n",
      " 6.0       12\n",
      " 8.0        1\n",
      "Name: X7, dtype: int64\n"
     ]
    }
   ],
   "source": [
    "print('X7')\n",
    "print(df2['X7'].value_counts())"
   ]
  },
  {
   "cell_type": "code",
   "execution_count": 119,
   "metadata": {},
   "outputs": [
    {
     "name": "stdout",
     "output_type": "stream",
     "text": [
      "X8:\n",
      "-1.0    25787\n",
      " 2.0     3817\n",
      " 3.0      240\n",
      " 4.0       76\n",
      " 7.0       27\n",
      " 6.0       23\n",
      " 5.0       21\n",
      " 1.0        4\n",
      " 8.0        2\n",
      "Name: X8, dtype: int64\n"
     ]
    }
   ],
   "source": [
    "print('X8:')\n",
    "print(df2['X8'].value_counts())"
   ]
  },
  {
   "cell_type": "code",
   "execution_count": 120,
   "metadata": {},
   "outputs": [
    {
     "name": "stdout",
     "output_type": "stream",
     "text": [
      "X9:\n",
      "-1.0    26490\n",
      " 2.0     3156\n",
      " 3.0      180\n",
      " 4.0       69\n",
      " 7.0       58\n",
      " 5.0       35\n",
      " 6.0        5\n",
      " 1.0        2\n",
      " 8.0        2\n",
      "Name: X9, dtype: int64\n"
     ]
    }
   ],
   "source": [
    "print('X9:')\n",
    "print(df2['X9'].value_counts())"
   ]
  },
  {
   "cell_type": "code",
   "execution_count": 121,
   "metadata": {},
   "outputs": [
    {
     "name": "stdout",
     "output_type": "stream",
     "text": [
      "X10:\n",
      "-1.0    27032\n",
      " 2.0     2623\n",
      " 3.0      178\n",
      " 4.0       84\n",
      " 7.0       58\n",
      " 5.0       17\n",
      " 6.0        4\n",
      " 8.0        1\n",
      "Name: X10, dtype: int64\n"
     ]
    }
   ],
   "source": [
    "print('X10:')\n",
    "print(df2['X10'].value_counts())"
   ]
  },
  {
   "cell_type": "code",
   "execution_count": 122,
   "metadata": {},
   "outputs": [
    {
     "name": "stdout",
     "output_type": "stream",
     "text": [
      "X11:\n",
      "-1.0    26920\n",
      " 2.0     2764\n",
      " 3.0      184\n",
      " 4.0       49\n",
      " 7.0       46\n",
      " 6.0       19\n",
      " 5.0       13\n",
      " 8.0        2\n",
      "Name: X11, dtype: int64\n"
     ]
    }
   ],
   "source": [
    "print('X11:')\n",
    "print(df2['X11'].value_counts())"
   ]
  },
  {
   "cell_type": "code",
   "execution_count": 123,
   "metadata": {},
   "outputs": [
    {
     "name": "stdout",
     "output_type": "stream",
     "text": [
      "Y:\n",
      "0.0    23362\n",
      "1.0     6635\n",
      "Name: Y, dtype: int64\n"
     ]
    }
   ],
   "source": [
    "print('Y:')\n",
    "print(df2['Y'].value_counts())"
   ]
  },
  {
   "cell_type": "markdown",
   "metadata": {},
   "source": [
    "### 6. Escala los datos, si consideras necesario"
   ]
  },
  {
   "cell_type": "markdown",
   "metadata": {},
   "source": [
    "Para realizar un PCA es necesario que los datos de cada variable esten en una escala similar para evitar que se le atribuya mayor importancia a las variables cuya escala de medición sea mayor. "
   ]
  },
  {
   "cell_type": "code",
   "execution_count": 37,
   "metadata": {},
   "outputs": [],
   "source": [
    "# importamos modulos de scikit-learn\n",
    "from sklearn import preprocessing \n",
    "from sklearn.preprocessing import StandardScaler \n",
    "from sklearn.decomposition import PCA"
   ]
  },
  {
   "cell_type": "code",
   "execution_count": 38,
   "metadata": {},
   "outputs": [],
   "source": [
    "# Creamos un dataframe solo con variables numericas \n",
    "df_num = df2.copy() \n",
    "df_num.drop(['ID', 'X2', 'X3', 'X4', 'X6', 'X7', 'X8', 'X9', 'X10', 'X11', 'Y'],\n",
    "            axis=1, inplace=True)"
   ]
  },
  {
   "cell_type": "markdown",
   "metadata": {},
   "source": [
    "Usamos *StandardScaler* de Scikit-learn para estandarizar los datos. StandardScaler hace una **Normalización de puntuación Z** "
   ]
  },
  {
   "cell_type": "code",
   "execution_count": 39,
   "metadata": {},
   "outputs": [],
   "source": [
    "# Usamos StandardScaler para estandarizar los datos\n",
    "scaler = StandardScaler()\n",
    "ndf_scaled = pd.DataFrame(scaler.fit_transform(df_num),\n",
    "                          columns = df_num.columns)"
   ]
  },
  {
   "cell_type": "code",
   "execution_count": 40,
   "metadata": {},
   "outputs": [
    {
     "data": {
      "text/html": [
       "<div>\n",
       "<style scoped>\n",
       "    .dataframe tbody tr th:only-of-type {\n",
       "        vertical-align: middle;\n",
       "    }\n",
       "\n",
       "    .dataframe tbody tr th {\n",
       "        vertical-align: top;\n",
       "    }\n",
       "\n",
       "    .dataframe thead th {\n",
       "        text-align: right;\n",
       "    }\n",
       "</style>\n",
       "<table border=\"1\" class=\"dataframe\">\n",
       "  <thead>\n",
       "    <tr style=\"text-align: right;\">\n",
       "      <th></th>\n",
       "      <th>X1</th>\n",
       "      <th>X5</th>\n",
       "      <th>X12</th>\n",
       "      <th>X13</th>\n",
       "      <th>X14</th>\n",
       "      <th>X15</th>\n",
       "      <th>X16</th>\n",
       "      <th>X17</th>\n",
       "      <th>X18</th>\n",
       "      <th>X19</th>\n",
       "      <th>X20</th>\n",
       "      <th>X21</th>\n",
       "      <th>X22</th>\n",
       "      <th>X23</th>\n",
       "    </tr>\n",
       "  </thead>\n",
       "  <tbody>\n",
       "    <tr>\n",
       "      <th>count</th>\n",
       "      <td>29997.00</td>\n",
       "      <td>29997.00</td>\n",
       "      <td>29997.00</td>\n",
       "      <td>29997.00</td>\n",
       "      <td>29997.00</td>\n",
       "      <td>29997.00</td>\n",
       "      <td>29997.00</td>\n",
       "      <td>29997.00</td>\n",
       "      <td>29997.00</td>\n",
       "      <td>29997.00</td>\n",
       "      <td>29997.00</td>\n",
       "      <td>29997.00</td>\n",
       "      <td>29997.00</td>\n",
       "      <td>29997.00</td>\n",
       "    </tr>\n",
       "    <tr>\n",
       "      <th>mean</th>\n",
       "      <td>-0.00</td>\n",
       "      <td>-0.00</td>\n",
       "      <td>0.00</td>\n",
       "      <td>-0.00</td>\n",
       "      <td>-0.00</td>\n",
       "      <td>-0.00</td>\n",
       "      <td>0.00</td>\n",
       "      <td>-0.00</td>\n",
       "      <td>0.00</td>\n",
       "      <td>0.00</td>\n",
       "      <td>-0.00</td>\n",
       "      <td>0.00</td>\n",
       "      <td>-0.00</td>\n",
       "      <td>0.00</td>\n",
       "    </tr>\n",
       "    <tr>\n",
       "      <th>std</th>\n",
       "      <td>1.00</td>\n",
       "      <td>1.00</td>\n",
       "      <td>1.00</td>\n",
       "      <td>1.00</td>\n",
       "      <td>1.00</td>\n",
       "      <td>1.00</td>\n",
       "      <td>1.00</td>\n",
       "      <td>1.00</td>\n",
       "      <td>1.00</td>\n",
       "      <td>1.00</td>\n",
       "      <td>1.00</td>\n",
       "      <td>1.00</td>\n",
       "      <td>1.00</td>\n",
       "      <td>1.00</td>\n",
       "    </tr>\n",
       "    <tr>\n",
       "      <th>min</th>\n",
       "      <td>-1.21</td>\n",
       "      <td>-1.57</td>\n",
       "      <td>-0.70</td>\n",
       "      <td>-0.69</td>\n",
       "      <td>-0.68</td>\n",
       "      <td>-0.67</td>\n",
       "      <td>-0.66</td>\n",
       "      <td>-0.66</td>\n",
       "      <td>-0.34</td>\n",
       "      <td>-0.26</td>\n",
       "      <td>-0.30</td>\n",
       "      <td>-0.31</td>\n",
       "      <td>-0.31</td>\n",
       "      <td>-0.29</td>\n",
       "    </tr>\n",
       "    <tr>\n",
       "      <th>25%</th>\n",
       "      <td>-0.91</td>\n",
       "      <td>-0.81</td>\n",
       "      <td>-0.65</td>\n",
       "      <td>-0.65</td>\n",
       "      <td>-0.64</td>\n",
       "      <td>-0.64</td>\n",
       "      <td>-0.63</td>\n",
       "      <td>-0.63</td>\n",
       "      <td>-0.28</td>\n",
       "      <td>-0.22</td>\n",
       "      <td>-0.27</td>\n",
       "      <td>-0.29</td>\n",
       "      <td>-0.30</td>\n",
       "      <td>-0.29</td>\n",
       "    </tr>\n",
       "    <tr>\n",
       "      <th>50%</th>\n",
       "      <td>-0.21</td>\n",
       "      <td>-0.16</td>\n",
       "      <td>-0.39</td>\n",
       "      <td>-0.39</td>\n",
       "      <td>-0.39</td>\n",
       "      <td>-0.38</td>\n",
       "      <td>-0.37</td>\n",
       "      <td>-0.37</td>\n",
       "      <td>-0.22</td>\n",
       "      <td>-0.17</td>\n",
       "      <td>-0.19</td>\n",
       "      <td>-0.21</td>\n",
       "      <td>-0.22</td>\n",
       "      <td>-0.21</td>\n",
       "    </tr>\n",
       "    <tr>\n",
       "      <th>75%</th>\n",
       "      <td>0.56</td>\n",
       "      <td>0.60</td>\n",
       "      <td>0.22</td>\n",
       "      <td>0.21</td>\n",
       "      <td>0.19</td>\n",
       "      <td>0.17</td>\n",
       "      <td>0.16</td>\n",
       "      <td>0.17</td>\n",
       "      <td>-0.04</td>\n",
       "      <td>-0.04</td>\n",
       "      <td>-0.04</td>\n",
       "      <td>-0.05</td>\n",
       "      <td>-0.05</td>\n",
       "      <td>-0.07</td>\n",
       "    </tr>\n",
       "    <tr>\n",
       "      <th>max</th>\n",
       "      <td>6.42</td>\n",
       "      <td>4.72</td>\n",
       "      <td>12.41</td>\n",
       "      <td>13.14</td>\n",
       "      <td>23.33</td>\n",
       "      <td>13.20</td>\n",
       "      <td>14.60</td>\n",
       "      <td>15.52</td>\n",
       "      <td>52.40</td>\n",
       "      <td>72.84</td>\n",
       "      <td>50.60</td>\n",
       "      <td>39.33</td>\n",
       "      <td>27.60</td>\n",
       "      <td>29.44</td>\n",
       "    </tr>\n",
       "  </tbody>\n",
       "</table>\n",
       "</div>"
      ],
      "text/plain": [
       "             X1        X5       X12       X13       X14       X15       X16  \\\n",
       "count  29997.00  29997.00  29997.00  29997.00  29997.00  29997.00  29997.00   \n",
       "mean      -0.00     -0.00      0.00     -0.00     -0.00     -0.00      0.00   \n",
       "std        1.00      1.00      1.00      1.00      1.00      1.00      1.00   \n",
       "min       -1.21     -1.57     -0.70     -0.69     -0.68     -0.67     -0.66   \n",
       "25%       -0.91     -0.81     -0.65     -0.65     -0.64     -0.64     -0.63   \n",
       "50%       -0.21     -0.16     -0.39     -0.39     -0.39     -0.38     -0.37   \n",
       "75%        0.56      0.60      0.22      0.21      0.19      0.17      0.16   \n",
       "max        6.42      4.72     12.41     13.14     23.33     13.20     14.60   \n",
       "\n",
       "            X17       X18       X19       X20       X21       X22       X23  \n",
       "count  29997.00  29997.00  29997.00  29997.00  29997.00  29997.00  29997.00  \n",
       "mean      -0.00      0.00      0.00     -0.00      0.00     -0.00      0.00  \n",
       "std        1.00      1.00      1.00      1.00      1.00      1.00      1.00  \n",
       "min       -0.66     -0.34     -0.26     -0.30     -0.31     -0.31     -0.29  \n",
       "25%       -0.63     -0.28     -0.22     -0.27     -0.29     -0.30     -0.29  \n",
       "50%       -0.37     -0.22     -0.17     -0.19     -0.21     -0.22     -0.21  \n",
       "75%        0.17     -0.04     -0.04     -0.04     -0.05     -0.05     -0.07  \n",
       "max       15.52     52.40     72.84     50.60     39.33     27.60     29.44  "
      ]
     },
     "execution_count": 40,
     "metadata": {},
     "output_type": "execute_result"
    }
   ],
   "source": [
    "# Verificamos resultado de la estandarización\n",
    "ndf_scaled.describe().round(2) "
   ]
  },
  {
   "cell_type": "markdown",
   "metadata": {},
   "source": [
    "### 7. Reduce las dimensiones con PCA, si consideras necesario.\n",
    "\n",
    "* 1. Indica la varianza de los datos explicada por cada componente seleccionado. Para actividades de exploración de los datos la varianza > 70%\n",
    "\n",
    "* 2. Indica la importancia de las variables en cada componente"
   ]
  },
  {
   "cell_type": "code",
   "execution_count": 41,
   "metadata": {},
   "outputs": [],
   "source": [
    "# Realizamos PCA\n",
    "pcs = PCA()\n",
    "p_comp = pcs.fit_transform(ndf_scaled)"
   ]
  },
  {
   "cell_type": "code",
   "execution_count": 42,
   "metadata": {},
   "outputs": [
    {
     "data": {
      "text/html": [
       "<div>\n",
       "<style scoped>\n",
       "    .dataframe tbody tr th:only-of-type {\n",
       "        vertical-align: middle;\n",
       "    }\n",
       "\n",
       "    .dataframe tbody tr th {\n",
       "        vertical-align: top;\n",
       "    }\n",
       "\n",
       "    .dataframe thead th {\n",
       "        text-align: right;\n",
       "    }\n",
       "</style>\n",
       "<table border=\"1\" class=\"dataframe\">\n",
       "  <thead>\n",
       "    <tr style=\"text-align: right;\">\n",
       "      <th></th>\n",
       "      <th>PC1</th>\n",
       "      <th>PC2</th>\n",
       "      <th>PC3</th>\n",
       "      <th>PC4</th>\n",
       "      <th>PC5</th>\n",
       "      <th>PC6</th>\n",
       "      <th>PC7</th>\n",
       "      <th>PC8</th>\n",
       "      <th>PC9</th>\n",
       "      <th>PC10</th>\n",
       "      <th>PC11</th>\n",
       "      <th>PC12</th>\n",
       "      <th>PC13</th>\n",
       "      <th>PC14</th>\n",
       "    </tr>\n",
       "  </thead>\n",
       "  <tbody>\n",
       "    <tr>\n",
       "      <th>Proporcion de varianza</th>\n",
       "      <td>0.4235</td>\n",
       "      <td>0.1223</td>\n",
       "      <td>0.0746</td>\n",
       "      <td>0.0661</td>\n",
       "      <td>0.0629</td>\n",
       "      <td>0.0622</td>\n",
       "      <td>0.0556</td>\n",
       "      <td>0.0519</td>\n",
       "      <td>0.0505</td>\n",
       "      <td>0.0189</td>\n",
       "      <td>0.0051</td>\n",
       "      <td>0.0029</td>\n",
       "      <td>0.0018</td>\n",
       "      <td>0.0017</td>\n",
       "    </tr>\n",
       "    <tr>\n",
       "      <th>Proporcion acumulada</th>\n",
       "      <td>0.4235</td>\n",
       "      <td>0.5458</td>\n",
       "      <td>0.6204</td>\n",
       "      <td>0.6865</td>\n",
       "      <td>0.7494</td>\n",
       "      <td>0.8116</td>\n",
       "      <td>0.8672</td>\n",
       "      <td>0.9190</td>\n",
       "      <td>0.9696</td>\n",
       "      <td>0.9884</td>\n",
       "      <td>0.9936</td>\n",
       "      <td>0.9965</td>\n",
       "      <td>0.9983</td>\n",
       "      <td>1.0000</td>\n",
       "    </tr>\n",
       "  </tbody>\n",
       "</table>\n",
       "</div>"
      ],
      "text/plain": [
       "                           PC1     PC2     PC3     PC4     PC5     PC6  \\\n",
       "Proporcion de varianza  0.4235  0.1223  0.0746  0.0661  0.0629  0.0622   \n",
       "Proporcion acumulada    0.4235  0.5458  0.6204  0.6865  0.7494  0.8116   \n",
       "\n",
       "                           PC7     PC8     PC9    PC10    PC11    PC12  \\\n",
       "Proporcion de varianza  0.0556  0.0519  0.0505  0.0189  0.0051  0.0029   \n",
       "Proporcion acumulada    0.8672  0.9190  0.9696  0.9884  0.9936  0.9965   \n",
       "\n",
       "                          PC13    PC14  \n",
       "Proporcion de varianza  0.0018  0.0017  \n",
       "Proporcion acumulada    0.9983  1.0000  "
      ]
     },
     "execution_count": 42,
     "metadata": {},
     "output_type": "execute_result"
    }
   ],
   "source": [
    "# Creamos una tabla con los datos de la varianza \n",
    "pcsSummary_df = pd.DataFrame({\n",
    "                              'Proporcion de varianza': pcs.explained_variance_ratio_,\n",
    "                              'Proporcion acumulada': np.cumsum(pcs.explained_variance_ratio_)\n",
    "                             })\n",
    "pcsSummary_df = pcsSummary_df.transpose()\n",
    "\n",
    "# Cambiamos el nombre de las columnas\n",
    "pcsSummary_df.columns = ['PC{}'.format(i) for i in range(1, len(pcsSummary_df.columns) + 1)]\n",
    "pcsSummary_df.round(4)"
   ]
  },
  {
   "cell_type": "markdown",
   "metadata": {},
   "source": [
    "De acuerdo a la tabla, observamos que los primeros **5 PCs** explican el **74.94%** de la variaza total."
   ]
  },
  {
   "cell_type": "code",
   "execution_count": 43,
   "metadata": {},
   "outputs": [
    {
     "data": {
      "text/html": [
       "<div>\n",
       "<style scoped>\n",
       "    .dataframe tbody tr th:only-of-type {\n",
       "        vertical-align: middle;\n",
       "    }\n",
       "\n",
       "    .dataframe tbody tr th {\n",
       "        vertical-align: top;\n",
       "    }\n",
       "\n",
       "    .dataframe thead th {\n",
       "        text-align: right;\n",
       "    }\n",
       "</style>\n",
       "<table border=\"1\" class=\"dataframe\">\n",
       "  <thead>\n",
       "    <tr style=\"text-align: right;\">\n",
       "      <th></th>\n",
       "      <th>PC1</th>\n",
       "      <th>PC2</th>\n",
       "      <th>PC3</th>\n",
       "      <th>PC4</th>\n",
       "      <th>PC5</th>\n",
       "    </tr>\n",
       "  </thead>\n",
       "  <tbody>\n",
       "    <tr>\n",
       "      <th>X1</th>\n",
       "      <td>0.165529</td>\n",
       "      <td>0.300661</td>\n",
       "      <td>-0.378415</td>\n",
       "      <td>-0.199345</td>\n",
       "      <td>-0.024800</td>\n",
       "    </tr>\n",
       "    <tr>\n",
       "      <th>X5</th>\n",
       "      <td>0.032734</td>\n",
       "      <td>0.071987</td>\n",
       "      <td>-0.870440</td>\n",
       "      <td>0.335521</td>\n",
       "      <td>0.028277</td>\n",
       "    </tr>\n",
       "    <tr>\n",
       "      <th>X12</th>\n",
       "      <td>0.372373</td>\n",
       "      <td>-0.191242</td>\n",
       "      <td>-0.032498</td>\n",
       "      <td>-0.058676</td>\n",
       "      <td>-0.035700</td>\n",
       "    </tr>\n",
       "    <tr>\n",
       "      <th>X13</th>\n",
       "      <td>0.382983</td>\n",
       "      <td>-0.175872</td>\n",
       "      <td>-0.001271</td>\n",
       "      <td>0.010324</td>\n",
       "      <td>-0.078062</td>\n",
       "    </tr>\n",
       "    <tr>\n",
       "      <th>X14</th>\n",
       "      <td>0.388063</td>\n",
       "      <td>-0.127835</td>\n",
       "      <td>0.034720</td>\n",
       "      <td>0.063193</td>\n",
       "      <td>-0.124188</td>\n",
       "    </tr>\n",
       "    <tr>\n",
       "      <th>X15</th>\n",
       "      <td>0.391464</td>\n",
       "      <td>-0.120511</td>\n",
       "      <td>0.033677</td>\n",
       "      <td>0.074012</td>\n",
       "      <td>-0.022010</td>\n",
       "    </tr>\n",
       "    <tr>\n",
       "      <th>X16</th>\n",
       "      <td>0.388207</td>\n",
       "      <td>-0.107126</td>\n",
       "      <td>0.033011</td>\n",
       "      <td>0.036893</td>\n",
       "      <td>0.120896</td>\n",
       "    </tr>\n",
       "    <tr>\n",
       "      <th>X17</th>\n",
       "      <td>0.380657</td>\n",
       "      <td>-0.092993</td>\n",
       "      <td>0.016897</td>\n",
       "      <td>-0.077381</td>\n",
       "      <td>0.143620</td>\n",
       "    </tr>\n",
       "    <tr>\n",
       "      <th>X18</th>\n",
       "      <td>0.135578</td>\n",
       "      <td>0.382611</td>\n",
       "      <td>0.172536</td>\n",
       "      <td>0.362357</td>\n",
       "      <td>-0.233257</td>\n",
       "    </tr>\n",
       "    <tr>\n",
       "      <th>X19</th>\n",
       "      <td>0.117018</td>\n",
       "      <td>0.408542</td>\n",
       "      <td>0.199775</td>\n",
       "      <td>0.347381</td>\n",
       "      <td>-0.204056</td>\n",
       "    </tr>\n",
       "    <tr>\n",
       "      <th>X20</th>\n",
       "      <td>0.128372</td>\n",
       "      <td>0.392587</td>\n",
       "      <td>0.121715</td>\n",
       "      <td>0.244395</td>\n",
       "      <td>0.255059</td>\n",
       "    </tr>\n",
       "    <tr>\n",
       "      <th>X21</th>\n",
       "      <td>0.117566</td>\n",
       "      <td>0.349137</td>\n",
       "      <td>0.062888</td>\n",
       "      <td>-0.092613</td>\n",
       "      <td>0.642869</td>\n",
       "    </tr>\n",
       "    <tr>\n",
       "      <th>X22</th>\n",
       "      <td>0.114051</td>\n",
       "      <td>0.304365</td>\n",
       "      <td>-0.060089</td>\n",
       "      <td>-0.610281</td>\n",
       "      <td>0.107047</td>\n",
       "    </tr>\n",
       "    <tr>\n",
       "      <th>X23</th>\n",
       "      <td>0.106611</td>\n",
       "      <td>0.322444</td>\n",
       "      <td>-0.048011</td>\n",
       "      <td>-0.366869</td>\n",
       "      <td>-0.595168</td>\n",
       "    </tr>\n",
       "  </tbody>\n",
       "</table>\n",
       "</div>"
      ],
      "text/plain": [
       "          PC1       PC2       PC3       PC4       PC5\n",
       "X1   0.165529  0.300661 -0.378415 -0.199345 -0.024800\n",
       "X5   0.032734  0.071987 -0.870440  0.335521  0.028277\n",
       "X12  0.372373 -0.191242 -0.032498 -0.058676 -0.035700\n",
       "X13  0.382983 -0.175872 -0.001271  0.010324 -0.078062\n",
       "X14  0.388063 -0.127835  0.034720  0.063193 -0.124188\n",
       "X15  0.391464 -0.120511  0.033677  0.074012 -0.022010\n",
       "X16  0.388207 -0.107126  0.033011  0.036893  0.120896\n",
       "X17  0.380657 -0.092993  0.016897 -0.077381  0.143620\n",
       "X18  0.135578  0.382611  0.172536  0.362357 -0.233257\n",
       "X19  0.117018  0.408542  0.199775  0.347381 -0.204056\n",
       "X20  0.128372  0.392587  0.121715  0.244395  0.255059\n",
       "X21  0.117566  0.349137  0.062888 -0.092613  0.642869\n",
       "X22  0.114051  0.304365 -0.060089 -0.610281  0.107047\n",
       "X23  0.106611  0.322444 -0.048011 -0.366869 -0.595168"
      ]
     },
     "execution_count": 43,
     "metadata": {},
     "output_type": "execute_result"
    }
   ],
   "source": [
    "# Obtenemos los coeficientes o pesos de cada PC\n",
    "pcsComponents_df = pd.DataFrame(pcs.components_.transpose(),\n",
    "                                 columns = pcsSummary_df.columns,\n",
    "                                 index = df_num.columns)\n",
    "                                 \n",
    "# Imprimimos los primeros 5 PC                                \n",
    "pcsComponents_df.iloc[:,:5] "
   ]
  },
  {
   "cell_type": "markdown",
   "metadata": {},
   "source": [
    "La importancia de las variables en cada componente se determina por su valor absoluto. Entre mayor sea el valor, mas importancia tendrá para el PC correspondiente.   "
   ]
  },
  {
   "cell_type": "code",
   "execution_count": 44,
   "metadata": {},
   "outputs": [
    {
     "data": {
      "text/html": [
       "<div>\n",
       "<style scoped>\n",
       "    .dataframe tbody tr th:only-of-type {\n",
       "        vertical-align: middle;\n",
       "    }\n",
       "\n",
       "    .dataframe tbody tr th {\n",
       "        vertical-align: top;\n",
       "    }\n",
       "\n",
       "    .dataframe thead th {\n",
       "        text-align: right;\n",
       "    }\n",
       "</style>\n",
       "<table border=\"1\" class=\"dataframe\">\n",
       "  <thead>\n",
       "    <tr style=\"text-align: right;\">\n",
       "      <th></th>\n",
       "      <th>X15</th>\n",
       "      <th>X16</th>\n",
       "      <th>X14</th>\n",
       "      <th>X13</th>\n",
       "      <th>X17</th>\n",
       "    </tr>\n",
       "  </thead>\n",
       "  <tbody>\n",
       "    <tr>\n",
       "      <th>PC1</th>\n",
       "      <td>0.391464</td>\n",
       "      <td>0.388207</td>\n",
       "      <td>0.388063</td>\n",
       "      <td>0.382983</td>\n",
       "      <td>0.380657</td>\n",
       "    </tr>\n",
       "  </tbody>\n",
       "</table>\n",
       "</div>"
      ],
      "text/plain": [
       "          X15       X16       X14       X13       X17\n",
       "PC1  0.391464  0.388207  0.388063  0.382983  0.380657"
      ]
     },
     "execution_count": 44,
     "metadata": {},
     "output_type": "execute_result"
    }
   ],
   "source": [
    "# seleccionamos los 5 coeficientes mas importantes del PC \n",
    "pd.DataFrame(pcsComponents_df.PC1.abs().nlargest(5)).transpose()"
   ]
  },
  {
   "cell_type": "code",
   "execution_count": 45,
   "metadata": {},
   "outputs": [
    {
     "data": {
      "text/html": [
       "<div>\n",
       "<style scoped>\n",
       "    .dataframe tbody tr th:only-of-type {\n",
       "        vertical-align: middle;\n",
       "    }\n",
       "\n",
       "    .dataframe tbody tr th {\n",
       "        vertical-align: top;\n",
       "    }\n",
       "\n",
       "    .dataframe thead th {\n",
       "        text-align: right;\n",
       "    }\n",
       "</style>\n",
       "<table border=\"1\" class=\"dataframe\">\n",
       "  <thead>\n",
       "    <tr style=\"text-align: right;\">\n",
       "      <th></th>\n",
       "      <th>X19</th>\n",
       "      <th>X20</th>\n",
       "      <th>X18</th>\n",
       "      <th>X21</th>\n",
       "      <th>X23</th>\n",
       "    </tr>\n",
       "  </thead>\n",
       "  <tbody>\n",
       "    <tr>\n",
       "      <th>PC2</th>\n",
       "      <td>0.408542</td>\n",
       "      <td>0.392587</td>\n",
       "      <td>0.382611</td>\n",
       "      <td>0.349137</td>\n",
       "      <td>0.322444</td>\n",
       "    </tr>\n",
       "  </tbody>\n",
       "</table>\n",
       "</div>"
      ],
      "text/plain": [
       "          X19       X20       X18       X21       X23\n",
       "PC2  0.408542  0.392587  0.382611  0.349137  0.322444"
      ]
     },
     "execution_count": 45,
     "metadata": {},
     "output_type": "execute_result"
    }
   ],
   "source": [
    "pd.DataFrame(pcsComponents_df.PC2.abs().nlargest(5)).transpose()"
   ]
  },
  {
   "cell_type": "code",
   "execution_count": 46,
   "metadata": {},
   "outputs": [
    {
     "data": {
      "text/html": [
       "<div>\n",
       "<style scoped>\n",
       "    .dataframe tbody tr th:only-of-type {\n",
       "        vertical-align: middle;\n",
       "    }\n",
       "\n",
       "    .dataframe tbody tr th {\n",
       "        vertical-align: top;\n",
       "    }\n",
       "\n",
       "    .dataframe thead th {\n",
       "        text-align: right;\n",
       "    }\n",
       "</style>\n",
       "<table border=\"1\" class=\"dataframe\">\n",
       "  <thead>\n",
       "    <tr style=\"text-align: right;\">\n",
       "      <th></th>\n",
       "      <th>X5</th>\n",
       "      <th>X1</th>\n",
       "      <th>X19</th>\n",
       "      <th>X18</th>\n",
       "      <th>X20</th>\n",
       "    </tr>\n",
       "  </thead>\n",
       "  <tbody>\n",
       "    <tr>\n",
       "      <th>PC3</th>\n",
       "      <td>0.87044</td>\n",
       "      <td>0.378415</td>\n",
       "      <td>0.199775</td>\n",
       "      <td>0.172536</td>\n",
       "      <td>0.121715</td>\n",
       "    </tr>\n",
       "  </tbody>\n",
       "</table>\n",
       "</div>"
      ],
      "text/plain": [
       "          X5        X1       X19       X18       X20\n",
       "PC3  0.87044  0.378415  0.199775  0.172536  0.121715"
      ]
     },
     "execution_count": 46,
     "metadata": {},
     "output_type": "execute_result"
    }
   ],
   "source": [
    "pd.DataFrame(pcsComponents_df.PC3.abs().nlargest(5)).transpose()"
   ]
  },
  {
   "cell_type": "code",
   "execution_count": 47,
   "metadata": {},
   "outputs": [
    {
     "data": {
      "text/html": [
       "<div>\n",
       "<style scoped>\n",
       "    .dataframe tbody tr th:only-of-type {\n",
       "        vertical-align: middle;\n",
       "    }\n",
       "\n",
       "    .dataframe tbody tr th {\n",
       "        vertical-align: top;\n",
       "    }\n",
       "\n",
       "    .dataframe thead th {\n",
       "        text-align: right;\n",
       "    }\n",
       "</style>\n",
       "<table border=\"1\" class=\"dataframe\">\n",
       "  <thead>\n",
       "    <tr style=\"text-align: right;\">\n",
       "      <th></th>\n",
       "      <th>X22</th>\n",
       "      <th>X23</th>\n",
       "      <th>X18</th>\n",
       "      <th>X19</th>\n",
       "      <th>X5</th>\n",
       "    </tr>\n",
       "  </thead>\n",
       "  <tbody>\n",
       "    <tr>\n",
       "      <th>PC4</th>\n",
       "      <td>0.610281</td>\n",
       "      <td>0.366869</td>\n",
       "      <td>0.362357</td>\n",
       "      <td>0.347381</td>\n",
       "      <td>0.335521</td>\n",
       "    </tr>\n",
       "  </tbody>\n",
       "</table>\n",
       "</div>"
      ],
      "text/plain": [
       "          X22       X23       X18       X19        X5\n",
       "PC4  0.610281  0.366869  0.362357  0.347381  0.335521"
      ]
     },
     "execution_count": 47,
     "metadata": {},
     "output_type": "execute_result"
    }
   ],
   "source": [
    "pd.DataFrame(pcsComponents_df.PC4.abs().nlargest(5)).transpose()"
   ]
  },
  {
   "cell_type": "code",
   "execution_count": 48,
   "metadata": {},
   "outputs": [
    {
     "data": {
      "text/html": [
       "<div>\n",
       "<style scoped>\n",
       "    .dataframe tbody tr th:only-of-type {\n",
       "        vertical-align: middle;\n",
       "    }\n",
       "\n",
       "    .dataframe tbody tr th {\n",
       "        vertical-align: top;\n",
       "    }\n",
       "\n",
       "    .dataframe thead th {\n",
       "        text-align: right;\n",
       "    }\n",
       "</style>\n",
       "<table border=\"1\" class=\"dataframe\">\n",
       "  <thead>\n",
       "    <tr style=\"text-align: right;\">\n",
       "      <th></th>\n",
       "      <th>X21</th>\n",
       "      <th>X23</th>\n",
       "      <th>X20</th>\n",
       "      <th>X18</th>\n",
       "      <th>X19</th>\n",
       "    </tr>\n",
       "  </thead>\n",
       "  <tbody>\n",
       "    <tr>\n",
       "      <th>PC5</th>\n",
       "      <td>0.642869</td>\n",
       "      <td>0.595168</td>\n",
       "      <td>0.255059</td>\n",
       "      <td>0.233257</td>\n",
       "      <td>0.204056</td>\n",
       "    </tr>\n",
       "  </tbody>\n",
       "</table>\n",
       "</div>"
      ],
      "text/plain": [
       "          X21       X23       X20       X18       X19\n",
       "PC5  0.642869  0.595168  0.255059  0.233257  0.204056"
      ]
     },
     "execution_count": 48,
     "metadata": {},
     "output_type": "execute_result"
    }
   ],
   "source": [
    "pd.DataFrame(pcsComponents_df.PC5.abs().nlargest(5)).transpose()"
   ]
  },
  {
   "cell_type": "markdown",
   "metadata": {},
   "source": [
    "### 8. Elabora los histogramas de los atributos para visualizar su distribución"
   ]
  },
  {
   "cell_type": "markdown",
   "metadata": {},
   "source": [
    "Con el histograma de la variable **X1** visualizamos la distribución del monto de créditos otorgados."
   ]
  },
  {
   "cell_type": "code",
   "execution_count": 49,
   "metadata": {},
   "outputs": [
    {
     "data": {
      "image/png": "[encoded data removed]",
      "text/plain": [
       "<Figure size 432x288 with 1 Axes>"
      ]
     },
     "metadata": {
      "needs_background": "light"
     },
     "output_type": "display_data"
    }
   ],
   "source": [
    "plt.hist(df2['X1'], bins=15, alpha=0.7, edgecolor='black')\n",
    "plt.xlabel('NT dollar (x 1mill.)')\n",
    "plt.show()"
   ]
  },
  {
   "cell_type": "markdown",
   "metadata": {},
   "source": [
    "Con la variable **X5** visualizamos la distribución de la edad de los clientes."
   ]
  },
  {
   "cell_type": "code",
   "execution_count": 50,
   "metadata": {},
   "outputs": [
    {
     "data": {
      "image/png": "[encoded data removed]",
      "text/plain": [
       "<Figure size 432x288 with 1 Axes>"
      ]
     },
     "metadata": {
      "needs_background": "light"
     },
     "output_type": "display_data"
    }
   ],
   "source": [
    "plt.hist(df2['X5'], bins=10, alpha=0.7, edgecolor='black')\n",
    "plt.xlabel('Edad (años)')\n",
    "plt.show()"
   ]
  },
  {
   "cell_type": "markdown",
   "metadata": {},
   "source": [
    "Las variables **X12** a la **X17** representan el estado de cuenta del mes de septiemre a abril respectivamente. Graficamos los histogramas agrupados para visualizar la distribución de los 6 meses."
   ]
  },
  {
   "cell_type": "code",
   "execution_count": 51,
   "metadata": {},
   "outputs": [
    {
     "data": {
      "image/png": "[encoded data removed]",
      "text/plain": [
       "<Figure size 1800x360 with 2 Axes>"
      ]
     },
     "metadata": {
      "needs_background": "light"
     },
     "output_type": "display_data"
    },
    {
     "data": {
      "image/png": "[encoded data removed]",
      "text/plain": [
       "<Figure size 1800x360 with 2 Axes>"
      ]
     },
     "metadata": {
      "needs_background": "light"
     },
     "output_type": "display_data"
    },
    {
     "data": {
      "image/png": "[encoded data removed]",
      "text/plain": [
       "<Figure size 1800x360 with 2 Axes>"
      ]
     },
     "metadata": {
      "needs_background": "light"
     },
     "output_type": "display_data"
    }
   ],
   "source": [
    "# Primer fila variables X12 y X13\n",
    "# ajustamos la misma escala en ejes X, Y con parametros 'sharex' y 'sharey'\n",
    "fig1, axs1 = plt.subplots(nrows=1, ncols=2, figsize=(25, 5), sharex=True, sharey=True)\n",
    "axs1[0].hist(df2['X12'], bins=20, alpha=0.7, edgecolor='black')\n",
    "axs1[0].set_title('X12')\n",
    "axs1[0].set_xlabel('Septiembre')\n",
    "axs1[0].grid(visible=True, axis='y')\n",
    "axs1[1].hist(df2['X13'], bins=20, alpha=0.7, edgecolor='black')\n",
    "axs1[1].set_title('X13')\n",
    "axs1[1].set_xlabel('Agosto')\n",
    "axs1[1].grid(visible=True, axis='y')\n",
    "\n",
    "# Segunda fila variables X14 y X15\n",
    "fig2, axs2 = plt.subplots(nrows=1, ncols=2, figsize=(25, 5), sharex=True, sharey=True)\n",
    "axs2[0].hist(df2['X14'], bins=20, alpha=0.7, edgecolor='black')\n",
    "axs2[0].set_title('X14')\n",
    "axs2[0].set_xlabel('Julio')\n",
    "axs2[0].grid(visible=True, axis='y')\n",
    "axs2[1].hist(df2['X15'], bins=20, alpha=0.7, edgecolor='black')\n",
    "axs2[1].set_title('X15')\n",
    "axs2[1].set_xlabel('Junio')\n",
    "axs2[1].grid(visible=True, axis='y')\n",
    "\n",
    "# Tercera fila variables X16 y X17\n",
    "fig3, axs3 = plt.subplots(nrows=1, ncols=2, figsize=(25, 5), sharex=True, sharey=True)\n",
    "axs3[0].hist(df2['X16'], bins=20, alpha=0.7, edgecolor='black')\n",
    "axs3[0].set_title('X16')\n",
    "axs3[0].set_xlabel('Mayo')\n",
    "axs3[0].grid(visible=True, axis='y')\n",
    "axs3[1].hist(df2['X17'], bins=20, alpha=0.7, edgecolor='black')\n",
    "axs3[1].set_title('X17')\n",
    "axs3[1].set_xlabel('Abril')\n",
    "axs3[1].grid(visible=True, axis='y')\n",
    "\n",
    "fig1.suptitle('Estado de Cuenta Mensual', fontsize=16)\n",
    "fig3.supxlabel('NT dollar (x 1mill.)', fontsize=16)\n",
    "plt.show()"
   ]
  },
  {
   "cell_type": "markdown",
   "metadata": {},
   "source": [
    "Las variables **X18** a la **X23** representan el monto mensual de pago anterior de septiemre a abril respectivamente. De igual manera, graficamos los histogramas agrupados para visualizar la distribución de los 6 meses."
   ]
  },
  {
   "cell_type": "code",
   "execution_count": 52,
   "metadata": {},
   "outputs": [
    {
     "data": {
      "image/png": "[encoded data removed]",
      "text/plain": [
       "<Figure size 1440x360 with 2 Axes>"
      ]
     },
     "metadata": {
      "needs_background": "light"
     },
     "output_type": "display_data"
    },
    {
     "data": {
      "image/png": "[encoded data removed]",
      "text/plain": [
       "<Figure size 1440x360 with 2 Axes>"
      ]
     },
     "metadata": {
      "needs_background": "light"
     },
     "output_type": "display_data"
    },
    {
     "data": {
      "image/png": "[encoded data removed]",
      "text/plain": [
       "<Figure size 1440x360 with 2 Axes>"
      ]
     },
     "metadata": {
      "needs_background": "light"
     },
     "output_type": "display_data"
    }
   ],
   "source": [
    "# Primer fila variables X18 y X19\n",
    "# ajustamos la misma escala en ejes X, Y con parametros 'sharex' y 'sharey'\n",
    "fig1, axs1 = plt.subplots(nrows=1, ncols=2, figsize=(20, 5), sharex=True, sharey=True,)\n",
    "axs1[0].hist(df2['X18'], bins=25, alpha=0.7, edgecolor='black')\n",
    "axs1[0].set_title('X18')\n",
    "axs1[0].set_xlabel('Septiembre')\n",
    "axs1[0].grid(visible=True, axis='y')\n",
    "axs1[1].hist(df2['X19'], bins=25, alpha=0.7, edgecolor='black')\n",
    "axs1[1].set_title('X19')\n",
    "axs1[1].set_xlabel('Agosto')\n",
    "axs1[1].grid(visible=True, axis='y')\n",
    "\n",
    "# Segunda fila variables X20 y X21\n",
    "fig2, axs2 = plt.subplots(nrows=1, ncols=2, figsize=(20, 5), sharex=True, sharey=True)\n",
    "axs2[0].hist(df2['X20'], bins=25, alpha=0.7, edgecolor='black')\n",
    "axs2[0].set_title('X20')\n",
    "axs2[0].set_xlabel('Julio')\n",
    "axs2[0].grid(visible=True, axis='y')\n",
    "axs2[1].hist(df2['X21'], bins=25, alpha=0.7, edgecolor='black')\n",
    "axs2[1].set_title('X21')\n",
    "axs2[1].set_xlabel('Junio')\n",
    "axs2[1].grid(visible=True, axis='y')\n",
    "\n",
    "# Tercera fila variables X22 y X23\n",
    "fig3, axs3 = plt.subplots(nrows=1, ncols=2, figsize=(20,5), sharex=True, sharey=True)\n",
    "axs3[0].hist(df2['X22'], bins=25, alpha=0.7, edgecolor='black')\n",
    "axs3[0].set_title('X22')\n",
    "axs3[0].set_xlabel('Mayo')\n",
    "axs3[0].grid(visible=True, axis='y')\n",
    "axs3[1].hist(df2['X23'], bins=25, alpha=0.7, edgecolor='black')\n",
    "axs3[1].set_title('X23')\n",
    "axs3[1].set_xlabel('Abril')\n",
    "axs3[1].grid(visible=True, axis='y')\n",
    "\n",
    "fig1.suptitle('Monto de Pago Anterior Mensual', fontsize=16)\n",
    "fig3.supxlabel('NT dollar', fontsize=16)\n",
    "\n",
    "plt.show()"
   ]
  },
  {
   "cell_type": "markdown",
   "metadata": {},
   "source": [
    "### 9. Realiza la visualización de los datos usando por lo menos 3 gráficos que consideres adecuados: plot, scatter, jointplot, boxplot, areaplot, pie chart, pairplot, bar chart, etc."
   ]
  },
  {
   "cell_type": "markdown",
   "metadata": {},
   "source": [
    "**1. Box-and-whisker plot**"
   ]
  },
  {
   "cell_type": "markdown",
   "metadata": {},
   "source": [
    "De los histogramas anteriores podemos tener una mejor visualizacion sobre la distribución de los datos con un diagrama de caja y bigotes"
   ]
  },
  {
   "cell_type": "code",
   "execution_count": 53,
   "metadata": {},
   "outputs": [
    {
     "data": {
      "image/png": "[encoded data removed]",
      "text/plain": [
       "<Figure size 720x432 with 1 Axes>"
      ]
     },
     "metadata": {},
     "output_type": "display_data"
    }
   ],
   "source": [
    "datos1 = df2[['X12', 'X13', 'X14', 'X15', 'X16', 'X17']]\n",
    "\n",
    "sns.set(rc={'figure.figsize':(10,6)})\n",
    "sns.boxplot(data=datos1)\n",
    "\n",
    "plt.show()"
   ]
  },
  {
   "cell_type": "code",
   "execution_count": 54,
   "metadata": {},
   "outputs": [
    {
     "data": {
      "image/png": "[encoded data removed]",
      "text/plain": [
       "<Figure size 720x432 with 1 Axes>"
      ]
     },
     "metadata": {},
     "output_type": "display_data"
    }
   ],
   "source": [
    "datos2 = df2[['X18', 'X19', 'X20', 'X21', 'X22', 'X23']]\n",
    "\n",
    "sns.set(rc={'figure.figsize':(10,6)})\n",
    "sns.boxplot(data=datos2)\n",
    "\n",
    "plt.show()"
   ]
  },
  {
   "cell_type": "markdown",
   "metadata": {},
   "source": [
    "**2. Strip plot**"
   ]
  },
  {
   "cell_type": "markdown",
   "metadata": {},
   "source": [
    "La gráfica **Strip-plot** nos da una imagenn un poco mas clara de los datos. Como vemos, la gran cantidad de valores atípicos hacen que con la gráfica de caja y bigotes sea prácticamente imposible de visualizar los datos de la tendencia central."
   ]
  },
  {
   "cell_type": "code",
   "execution_count": 87,
   "metadata": {},
   "outputs": [
    {
     "data": {
      "image/png": "[encoded data removed]",
      "text/plain": [
       "<Figure size 1152x432 with 1 Axes>"
      ]
     },
     "metadata": {},
     "output_type": "display_data"
    }
   ],
   "source": [
    "sns.set(rc={'figure.figsize':(16,6)})\n",
    "sns.stripplot(data=datos2, orient='h')\n",
    "\n",
    "plt.show()"
   ]
  },
  {
   "cell_type": "markdown",
   "metadata": {},
   "source": [
    "**3. Joint plot**"
   ]
  },
  {
   "cell_type": "code",
   "execution_count": 100,
   "metadata": {},
   "outputs": [
    {
     "data": {
      "image/png": "[encoded data removed]",
      "text/plain": [
       "<Figure size 576x576 with 3 Axes>"
      ]
     },
     "metadata": {},
     "output_type": "display_data"
    }
   ],
   "source": [
    "datos3 = df2[['X5', 'X1']]\n",
    "\n",
    "sns.set(rc={'figure.figsize':(20,20)})\n",
    "sns.jointplot(datos3, x=\"X1\", y=\"X5\", kind=\"reg\",\n",
    "              marker=\"+\", height=8, ratio=4\n",
    "              )\n",
    "\n",
    "plt.xlabel('Credito (NT dollars)')\n",
    "plt.ylabel('Edad')             \n",
    "plt.show()"
   ]
  },
  {
   "cell_type": "markdown",
   "metadata": {},
   "source": [
    "### 10. Interpreta y explica cada uno de los gráficos indicando cuál es la información más relevante que podría ayudar en el proceso de toma de decisiones."
   ]
  },
  {
   "cell_type": "markdown",
   "metadata": {},
   "source": [
    "**1. Box-and-whisker plot**\n",
    "\n",
    "La gráfica de caja y bigotes es bastante útil para identificar la disperción de los datos, y para identificar rápidamente valores atípicos. \n",
    "Nos indica la distribución del primer cuatil (25%), la media (50%), y el tercer cuartil (75%) asi como los puntos fuera de los \"bigotes\" que representan valores atípicos. De esta gráfica podemos ver la gran cantidad de outliers que tenemos en nuestro dataset."
   ]
  },
  {
   "cell_type": "markdown",
   "metadata": {},
   "source": [
    "**2. Strip plot**\n",
    "\n",
    "Esta gráfica la usamos para complementar y visualizar mejor los datos de la gráfica de caja y bigotes. Nos da una buena intuición de la distribución y disperción de los datos. Tambien puede ser utilizada como complemento de una gráfica de violín. Aquí observamos mejor cómo gran cantidad de los datos están agrupados por debajo de 200,000 aproximadamente. \n",
    "\n"
   ]
  },
  {
   "cell_type": "markdown",
   "metadata": {},
   "source": [
    "**3. Joint plot**\n",
    "\n",
    "Este tipo de gráfica nos muestra la correlación de dos variables, incluyendo una linea de regresión. En los márgenes de cada eje nos muestra además la distribución de cada variable por medio de un histograma.\n",
    "En nuestro caso mostramos la correlación entre la edad del cliente (X5) y el monto de crédito otorgado (X1). Como se puede observar, existe muy poca correlación entre estas dos variables."
   ]
  },
  {
   "cell_type": "markdown",
   "metadata": {},
   "source": [
    "En general estos gráficos nos ayudan a entender mejor nuestro set de datos en la fase de exploración. Esta información a su vez nos servirá para decidir si podemos continuar con el proceso de modelado, si es necesario realizar mayor limpieza o incluso obtener mas datos. "
   ]
  },
  {
   "cell_type": "markdown",
   "metadata": {},
   "source": [
    "_ _ _\n",
    "_ _ _"
   ]
  }
 ],
 "metadata": {
  "kernelspec": {
   "display_name": "Python 3.10.1 64-bit",
   "language": "python",
   "name": "python3"
  },
  "language_info": {
   "codemirror_mode": {
    "name": "ipython",
    "version": 3
   },
   "file_extension": ".py",
   "mimetype": "text/x-python",
   "name": "python",
   "nbconvert_exporter": "python",
   "pygments_lexer": "ipython3",
   "version": "3.10.1"
  },
  "orig_nbformat": 4,
  "vscode": {
   "interpreter": {
    "hash": "aee8b7b246df8f9039afb4144a1f6fd8d2ca17a180786b69acc140d282b71a49"
   }
  }
 },
 "nbformat": 4,
 "nbformat_minor": 2
}
