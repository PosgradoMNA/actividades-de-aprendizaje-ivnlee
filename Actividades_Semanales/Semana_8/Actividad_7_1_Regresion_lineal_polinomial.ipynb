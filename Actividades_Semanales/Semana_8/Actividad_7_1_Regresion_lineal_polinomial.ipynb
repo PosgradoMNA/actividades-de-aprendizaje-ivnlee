{
  "cells": [
    {
      "cell_type": "markdown",
      "metadata": {
        "id": "TjA-zGimBxiR"
      },
      "source": [
        "### **Semana 8: Actividad 1** - Regresión\n",
        "\n",
        "**Iván Lee Cancino - A01793491**\n",
        "\n",
        "### **TC4029 - Ciencia y Analítica de Datos**\n",
        "\n",
        "**Prof. María de la Paz Rico Fernández**\n",
        "\n",
        "**Prof. Julio César Galindo López**\n",
        "\n",
        "*09 - Noviembre - 2022*\n",
        "\n",
        "\n",
        "---\n",
        "\n",
        "\n",
        "---"
      ]
    },
    {
      "cell_type": "markdown",
      "metadata": {
        "id": "WUO-kdryVQwK"
      },
      "source": [
        "# Linear Models\n"
      ]
    },
    {
      "cell_type": "markdown",
      "metadata": {
        "id": "u3ytB4LpVQwM"
      },
      "source": [
        "- In supervised learning, the training data fed to the algorithm includes the desired solutions, called labels. \n",
        "- In **regression**, the labels are continuous quantities.\n",
        "- Linear models predict by computing a weighted sum of input features plus a bias term."
      ]
    },
    {
      "cell_type": "code",
      "execution_count": 1,
      "metadata": {
        "id": "HMp_I4Y6VQwN"
      },
      "outputs": [],
      "source": [
        "import numpy as np\n",
        "%matplotlib inline\n",
        "import matplotlib\n",
        "import matplotlib.pyplot as plt\n",
        "import pandas as pd\n",
        "import seaborn as sns\n",
        "# to make this notebook's output stable across runs\n",
        "np.random.seed(42)"
      ]
    },
    {
      "cell_type": "markdown",
      "metadata": {
        "id": "szpzFXgiVQwN"
      },
      "source": [
        "## Simple Linear Regression\n",
        "\n",
        "Simple linear regression equation:\n",
        "\n",
        "$y = ax + b$\n",
        "<br>\n",
        "$a$: slope\n",
        "<br>\n",
        "$b$: intercept\n",
        "\n",
        "Generate linear-looking data with the equation:\n",
        "\n",
        "$y = 3X + 4 + noise$"
      ]
    },
    {
      "cell_type": "code",
      "execution_count": 2,
      "metadata": {
        "colab": {
          "base_uri": "https://localhost:8080/"
        },
        "id": "mitJFYeiMQqD",
        "outputId": "dba65116-fd24-4134-e210-4178e5df5b0b"
      },
      "outputs": [
        {
          "data": {
            "text/plain": [
              "array([[0.37454012],\n",
              "       [0.95071431],\n",
              "       [0.73199394],\n",
              "       [0.59865848],\n",
              "       [0.15601864],\n",
              "       [0.15599452],\n",
              "       [0.05808361],\n",
              "       [0.86617615],\n",
              "       [0.60111501],\n",
              "       [0.70807258],\n",
              "       [0.02058449],\n",
              "       [0.96990985],\n",
              "       [0.83244264],\n",
              "       [0.21233911],\n",
              "       [0.18182497],\n",
              "       [0.18340451],\n",
              "       [0.30424224],\n",
              "       [0.52475643],\n",
              "       [0.43194502],\n",
              "       [0.29122914],\n",
              "       [0.61185289],\n",
              "       [0.13949386],\n",
              "       [0.29214465],\n",
              "       [0.36636184],\n",
              "       [0.45606998],\n",
              "       [0.78517596],\n",
              "       [0.19967378],\n",
              "       [0.51423444],\n",
              "       [0.59241457],\n",
              "       [0.04645041],\n",
              "       [0.60754485],\n",
              "       [0.17052412],\n",
              "       [0.06505159],\n",
              "       [0.94888554],\n",
              "       [0.96563203],\n",
              "       [0.80839735],\n",
              "       [0.30461377],\n",
              "       [0.09767211],\n",
              "       [0.68423303],\n",
              "       [0.44015249],\n",
              "       [0.12203823],\n",
              "       [0.49517691],\n",
              "       [0.03438852],\n",
              "       [0.9093204 ],\n",
              "       [0.25877998],\n",
              "       [0.66252228],\n",
              "       [0.31171108],\n",
              "       [0.52006802],\n",
              "       [0.54671028],\n",
              "       [0.18485446],\n",
              "       [0.96958463],\n",
              "       [0.77513282],\n",
              "       [0.93949894],\n",
              "       [0.89482735],\n",
              "       [0.59789998],\n",
              "       [0.92187424],\n",
              "       [0.0884925 ],\n",
              "       [0.19598286],\n",
              "       [0.04522729],\n",
              "       [0.32533033],\n",
              "       [0.38867729],\n",
              "       [0.27134903],\n",
              "       [0.82873751],\n",
              "       [0.35675333],\n",
              "       [0.28093451],\n",
              "       [0.54269608],\n",
              "       [0.14092422],\n",
              "       [0.80219698],\n",
              "       [0.07455064],\n",
              "       [0.98688694],\n",
              "       [0.77224477],\n",
              "       [0.19871568],\n",
              "       [0.00552212],\n",
              "       [0.81546143],\n",
              "       [0.70685734],\n",
              "       [0.72900717],\n",
              "       [0.77127035],\n",
              "       [0.07404465],\n",
              "       [0.35846573],\n",
              "       [0.11586906],\n",
              "       [0.86310343],\n",
              "       [0.62329813],\n",
              "       [0.33089802],\n",
              "       [0.06355835],\n",
              "       [0.31098232],\n",
              "       [0.32518332],\n",
              "       [0.72960618],\n",
              "       [0.63755747],\n",
              "       [0.88721274],\n",
              "       [0.47221493],\n",
              "       [0.11959425],\n",
              "       [0.71324479],\n",
              "       [0.76078505],\n",
              "       [0.5612772 ],\n",
              "       [0.77096718],\n",
              "       [0.4937956 ],\n",
              "       [0.52273283],\n",
              "       [0.42754102],\n",
              "       [0.02541913],\n",
              "       [0.10789143]])"
            ]
          },
          "execution_count": 2,
          "metadata": {},
          "output_type": "execute_result"
        }
      ],
      "source": [
        "np.random.rand(100, 1)"
      ]
    },
    {
      "cell_type": "code",
      "execution_count": 3,
      "metadata": {
        "colab": {
          "base_uri": "https://localhost:8080/",
          "height": 0
        },
        "id": "QyubE1VEVQwN",
        "outputId": "a98efea5-c1b0-4a5e-cb10-1e7abf993b10"
      },
      "outputs": [
        {
          "data": {
            "image/png": "[encoded data removed]",
            "text/plain": [
              "<Figure size 432x288 with 1 Axes>"
            ]
          },
          "metadata": {
            "needs_background": "light"
          },
          "output_type": "display_data"
        }
      ],
      "source": [
        "X = 2*np.random.rand(100, 1)\n",
        "y = 4 + 3 * X + np.random.randn(100, 1)\n",
        "plt.scatter(X, y);"
      ]
    },
    {
      "cell_type": "code",
      "execution_count": 4,
      "metadata": {
        "colab": {
          "base_uri": "https://localhost:8080/",
          "height": 0
        },
        "id": "M5kaENJ4bZY5",
        "outputId": "806539c0-dda2-40c2-d015-89a9a85bd54a"
      },
      "outputs": [
        {
          "data": {
            "text/html": [
              "\n",
              "  <div id=\"df-32f26d3c-8bc7-421e-8711-41ab68179b7f\">\n",
              "    <div class=\"colab-df-container\">\n",
              "      <div>\n",
              "<style scoped>\n",
              "    .dataframe tbody tr th:only-of-type {\n",
              "        vertical-align: middle;\n",
              "    }\n",
              "\n",
              "    .dataframe tbody tr th {\n",
              "        vertical-align: top;\n",
              "    }\n",
              "\n",
              "    .dataframe thead th {\n",
              "        text-align: right;\n",
              "    }\n",
              "</style>\n",
              "<table border=\"1\" class=\"dataframe\">\n",
              "  <thead>\n",
              "    <tr style=\"text-align: right;\">\n",
              "      <th></th>\n",
              "      <th>0</th>\n",
              "    </tr>\n",
              "  </thead>\n",
              "  <tbody>\n",
              "    <tr>\n",
              "      <th>0</th>\n",
              "      <td>3.508550</td>\n",
              "    </tr>\n",
              "    <tr>\n",
              "      <th>1</th>\n",
              "      <td>8.050716</td>\n",
              "    </tr>\n",
              "    <tr>\n",
              "      <th>2</th>\n",
              "      <td>6.179208</td>\n",
              "    </tr>\n",
              "    <tr>\n",
              "      <th>3</th>\n",
              "      <td>6.337073</td>\n",
              "    </tr>\n",
              "    <tr>\n",
              "      <th>4</th>\n",
              "      <td>11.311173</td>\n",
              "    </tr>\n",
              "    <tr>\n",
              "      <th>...</th>\n",
              "      <td>...</td>\n",
              "    </tr>\n",
              "    <tr>\n",
              "      <th>95</th>\n",
              "      <td>5.441928</td>\n",
              "    </tr>\n",
              "    <tr>\n",
              "      <th>96</th>\n",
              "      <td>10.121188</td>\n",
              "    </tr>\n",
              "    <tr>\n",
              "      <th>97</th>\n",
              "      <td>9.787643</td>\n",
              "    </tr>\n",
              "    <tr>\n",
              "      <th>98</th>\n",
              "      <td>8.061635</td>\n",
              "    </tr>\n",
              "    <tr>\n",
              "      <th>99</th>\n",
              "      <td>9.597115</td>\n",
              "    </tr>\n",
              "  </tbody>\n",
              "</table>\n",
              "<p>100 rows × 1 columns</p>\n",
              "</div>\n",
              "      <button class=\"colab-df-convert\" onclick=\"convertToInteractive('df-32f26d3c-8bc7-421e-8711-41ab68179b7f')\"\n",
              "              title=\"Convert this dataframe to an interactive table.\"\n",
              "              style=\"display:none;\">\n",
              "        \n",
              "  <svg xmlns=\"http://www.w3.org/2000/svg\" height=\"24px\"viewBox=\"0 0 24 24\"\n",
              "       width=\"24px\">\n",
              "    <path d=\"M0 0h24v24H0V0z\" fill=\"none\"/>\n",
              "    <path d=\"M18.56 5.44l.94 2.06.94-2.06 2.06-.94-2.06-.94-.94-2.06-.94 2.06-2.06.94zm-11 1L8.5 8.5l.94-2.06 2.06-.94-2.06-.94L8.5 2.5l-.94 2.06-2.06.94zm10 10l.94 2.06.94-2.06 2.06-.94-2.06-.94-.94-2.06-.94 2.06-2.06.94z\"/><path d=\"M17.41 7.96l-1.37-1.37c-.4-.4-.92-.59-1.43-.59-.52 0-1.04.2-1.43.59L10.3 9.45l-7.72 7.72c-.78.78-.78 2.05 0 2.83L4 21.41c.39.39.9.59 1.41.59.51 0 1.02-.2 1.41-.59l7.78-7.78 2.81-2.81c.8-.78.8-2.07 0-2.86zM5.41 20L4 18.59l7.72-7.72 1.47 1.35L5.41 20z\"/>\n",
              "  </svg>\n",
              "      </button>\n",
              "      \n",
              "  <style>\n",
              "    .colab-df-container {\n",
              "      display:flex;\n",
              "      flex-wrap:wrap;\n",
              "      gap: 12px;\n",
              "    }\n",
              "\n",
              "    .colab-df-convert {\n",
              "      background-color: #E8F0FE;\n",
              "      border: none;\n",
              "      border-radius: 50%;\n",
              "      cursor: pointer;\n",
              "      display: none;\n",
              "      fill: #1967D2;\n",
              "      height: 32px;\n",
              "      padding: 0 0 0 0;\n",
              "      width: 32px;\n",
              "    }\n",
              "\n",
              "    .colab-df-convert:hover {\n",
              "      background-color: #E2EBFA;\n",
              "      box-shadow: 0px 1px 2px rgba(60, 64, 67, 0.3), 0px 1px 3px 1px rgba(60, 64, 67, 0.15);\n",
              "      fill: #174EA6;\n",
              "    }\n",
              "\n",
              "    [theme=dark] .colab-df-convert {\n",
              "      background-color: #3B4455;\n",
              "      fill: #D2E3FC;\n",
              "    }\n",
              "\n",
              "    [theme=dark] .colab-df-convert:hover {\n",
              "      background-color: #434B5C;\n",
              "      box-shadow: 0px 1px 3px 1px rgba(0, 0, 0, 0.15);\n",
              "      filter: drop-shadow(0px 1px 2px rgba(0, 0, 0, 0.3));\n",
              "      fill: #FFFFFF;\n",
              "    }\n",
              "  </style>\n",
              "\n",
              "      <script>\n",
              "        const buttonEl =\n",
              "          document.querySelector('#df-32f26d3c-8bc7-421e-8711-41ab68179b7f button.colab-df-convert');\n",
              "        buttonEl.style.display =\n",
              "          google.colab.kernel.accessAllowed ? 'block' : 'none';\n",
              "\n",
              "        async function convertToInteractive(key) {\n",
              "          const element = document.querySelector('#df-32f26d3c-8bc7-421e-8711-41ab68179b7f');\n",
              "          const dataTable =\n",
              "            await google.colab.kernel.invokeFunction('convertToInteractive',\n",
              "                                                     [key], {});\n",
              "          if (!dataTable) return;\n",
              "\n",
              "          const docLinkHtml = 'Like what you see? Visit the ' +\n",
              "            '<a target=\"_blank\" href=https://colab.research.google.com/notebooks/data_table.ipynb>data table notebook</a>'\n",
              "            + ' to learn more about interactive tables.';\n",
              "          element.innerHTML = '';\n",
              "          dataTable['output_type'] = 'display_data';\n",
              "          await google.colab.output.renderOutput(dataTable, element);\n",
              "          const docLink = document.createElement('div');\n",
              "          docLink.innerHTML = docLinkHtml;\n",
              "          element.appendChild(docLink);\n",
              "        }\n",
              "      </script>\n",
              "    </div>\n",
              "  </div>\n",
              "  "
            ],
            "text/plain": [
              "            0\n",
              "0    3.508550\n",
              "1    8.050716\n",
              "2    6.179208\n",
              "3    6.337073\n",
              "4   11.311173\n",
              "..        ...\n",
              "95   5.441928\n",
              "96  10.121188\n",
              "97   9.787643\n",
              "98   8.061635\n",
              "99   9.597115\n",
              "\n",
              "[100 rows x 1 columns]"
            ]
          },
          "execution_count": 4,
          "metadata": {},
          "output_type": "execute_result"
        }
      ],
      "source": [
        "import pandas as pd\n",
        "pd.DataFrame(y)"
      ]
    },
    {
      "cell_type": "code",
      "execution_count": 5,
      "metadata": {
        "colab": {
          "base_uri": "https://localhost:8080/"
        },
        "id": "x6XGt_iAVQwO",
        "outputId": "5c4561e5-a11d-4712-f0a6-d3f9eaf8ee76"
      },
      "outputs": [
        {
          "data": {
            "text/plain": [
              "LinearRegression()"
            ]
          },
          "execution_count": 5,
          "metadata": {},
          "output_type": "execute_result"
        }
      ],
      "source": [
        "from sklearn.linear_model import LinearRegression\n",
        "\n",
        "linear_reg = LinearRegression(fit_intercept=True)\n",
        "linear_reg.fit(X, y)"
      ]
    },
    {
      "cell_type": "markdown",
      "metadata": {
        "id": "Hnm9YgjbVQwO"
      },
      "source": [
        "Plot the model's predictions:"
      ]
    },
    {
      "cell_type": "code",
      "execution_count": 6,
      "metadata": {
        "id": "9NtrLfGGVQwP"
      },
      "outputs": [],
      "source": [
        "#X_fit[]"
      ]
    },
    {
      "cell_type": "code",
      "execution_count": 7,
      "metadata": {
        "colab": {
          "base_uri": "https://localhost:8080/",
          "height": 0
        },
        "id": "1ZTT31igVQwP",
        "outputId": "32c009db-c005-41a1-f237-537dc0d9e823"
      },
      "outputs": [
        {
          "data": {
            "image/png": "[encoded data removed]",
            "text/plain": [
              "<Figure size 432x288 with 1 Axes>"
            ]
          },
          "metadata": {
            "needs_background": "light"
          },
          "output_type": "display_data"
        }
      ],
      "source": [
        "# construct best fit line\n",
        "X_fit = np.linspace(0, 2, 100)\n",
        "y_fit = linear_reg.predict(X_fit[:, np.newaxis])\n",
        "\n",
        "plt.scatter(X, y)\n",
        "plt.plot(X_fit, y_fit, \"r-\", linewidth=2, label=\"Predictions\")\n",
        "plt.xlabel(\"$X$\", fontsize=18)\n",
        "plt.ylabel(\"$y$\", rotation=0, fontsize=18)\n",
        "plt.legend(loc=\"upper left\", fontsize=14);"
      ]
    },
    {
      "cell_type": "markdown",
      "metadata": {
        "id": "kIfOsEcWVQwP"
      },
      "source": [
        "Predictions are a good fit."
      ]
    },
    {
      "cell_type": "markdown",
      "metadata": {
        "id": "z2VYUeGrVQwQ"
      },
      "source": [
        "Generate new data to make predictions with the model:"
      ]
    },
    {
      "cell_type": "code",
      "execution_count": 8,
      "metadata": {
        "colab": {
          "base_uri": "https://localhost:8080/"
        },
        "id": "FuEd0Wp0VQwQ",
        "outputId": "15ba2dde-7156-4017-a18c-e71a7346fcf5"
      },
      "outputs": [
        {
          "data": {
            "text/plain": [
              "array([[0],\n",
              "       [2]])"
            ]
          },
          "execution_count": 8,
          "metadata": {},
          "output_type": "execute_result"
        }
      ],
      "source": [
        "X_new = np.array([[0], [2]])\n",
        "X_new"
      ]
    },
    {
      "cell_type": "code",
      "execution_count": 9,
      "metadata": {
        "colab": {
          "base_uri": "https://localhost:8080/"
        },
        "id": "lLCnLm7_VQwQ",
        "outputId": "5075c3c7-8a03-4f76-ca8f-115112961e47"
      },
      "outputs": [
        {
          "data": {
            "text/plain": [
              "(2, 1)"
            ]
          },
          "execution_count": 9,
          "metadata": {},
          "output_type": "execute_result"
        }
      ],
      "source": [
        "X_new.shape"
      ]
    },
    {
      "cell_type": "code",
      "execution_count": 10,
      "metadata": {
        "colab": {
          "base_uri": "https://localhost:8080/"
        },
        "id": "zJIzUfZsVQwQ",
        "outputId": "42de5055-c2be-4c7c-e931-02436c004195"
      },
      "outputs": [
        {
          "data": {
            "text/plain": [
              "array([[ 3.74406122],\n",
              "       [10.47517611]])"
            ]
          },
          "execution_count": 10,
          "metadata": {},
          "output_type": "execute_result"
        }
      ],
      "source": [
        "y_new = linear_reg.predict(X_new)\n",
        "y_new"
      ]
    },
    {
      "cell_type": "code",
      "execution_count": 11,
      "metadata": {
        "colab": {
          "base_uri": "https://localhost:8080/"
        },
        "id": "ICiEnkbdVQwQ",
        "outputId": "d612326a-12b0-4014-eeef-fc6e8cd346bb"
      },
      "outputs": [
        {
          "data": {
            "text/plain": [
              "(array([[3.36555744]]), array([3.74406122]))"
            ]
          },
          "execution_count": 11,
          "metadata": {},
          "output_type": "execute_result"
        }
      ],
      "source": [
        " linear_reg.coef_, linear_reg.intercept_"
      ]
    },
    {
      "cell_type": "markdown",
      "metadata": {
        "id": "iBXzOecgVQwR"
      },
      "source": [
        "The model estimates:\n",
        "\n",
        "$\\hat{y} = 3.36X + 3.74$"
      ]
    },
    {
      "cell_type": "code",
      "execution_count": 12,
      "metadata": {
        "id": "ZNvipq0wQYfj"
      },
      "outputs": [],
      "source": [
        "#|VENTAS|GANANCIAS|\n",
        "#COEF*VENTAS+B\n",
        "#|VENTAS|COMPRAS|GANANCIAS|\n",
        "#COEF1*X1+COEF2*X2+B=Y"
      ]
    },
    {
      "cell_type": "markdown",
      "metadata": {
        "id": "_Rv-RJSnVQwR"
      },
      "source": [
        "## Polynomial Regression\n",
        "\n",
        "If data is more complex than a straight line, you can use a linear model ti fit non-linear data adding powers of each feature as new features and then train a linear model on the extended set of features. "
      ]
    },
    {
      "cell_type": "markdown",
      "metadata": {
        "id": "dPrpAVsZVQwR"
      },
      "source": [
        "$$y = a_0 + a_1x_1 + a_2x_2 + a_3x_3 + ...$$ to $$y = a_0 + a_1x + a_2x^2 + a_3x^3+ ...$$ "
      ]
    },
    {
      "cell_type": "markdown",
      "metadata": {
        "id": "9kjMWzEfVQwR"
      },
      "source": [
        "This is still a linear model, the linearity refers to the fact that the coefficients never multiply or divide each other."
      ]
    },
    {
      "cell_type": "markdown",
      "metadata": {
        "id": "2M3fp_CSVQwR"
      },
      "source": [
        "To generate polynomial data we use the function:\n",
        "\n",
        "$y = 0.50X^2 + X + 2 + noise$"
      ]
    },
    {
      "cell_type": "code",
      "execution_count": 13,
      "metadata": {
        "id": "sSrueMnPVQwR"
      },
      "outputs": [],
      "source": [
        "# generate non-linear data e.g. quadratic equation\n",
        "m = 100\n",
        "X = 6 * np.random.rand(m, 1) - 3\n",
        "y = 0.5 * X**2 + X + 2 + np.random.randn(m, 1)"
      ]
    },
    {
      "cell_type": "code",
      "execution_count": 14,
      "metadata": {
        "colab": {
          "base_uri": "https://localhost:8080/",
          "height": 0
        },
        "id": "GNQQoXkMVQwS",
        "outputId": "9df0d201-fa24-4647-cba8-dd6b4ecad9ca"
      },
      "outputs": [
        {
          "data": {
            "image/png": "[encoded data removed]",
            "text/plain": [
              "<Figure size 432x288 with 1 Axes>"
            ]
          },
          "metadata": {
            "needs_background": "light"
          },
          "output_type": "display_data"
        }
      ],
      "source": [
        "plt.plot(X, y, \"b.\")\n",
        "plt.xlabel(\"$x_1$\", fontsize=18)\n",
        "plt.ylabel(\"$y$\", rotation=0, fontsize=18)\n",
        "plt.axis([-3, 3, 0, 10]);"
      ]
    },
    {
      "cell_type": "code",
      "execution_count": 15,
      "metadata": {
        "colab": {
          "base_uri": "https://localhost:8080/",
          "height": 0
        },
        "id": "YtaK_dsidNcP",
        "outputId": "9ce7a536-eb55-45c4-df71-ac584f6c01fb"
      },
      "outputs": [
        {
          "data": {
            "text/html": [
              "\n",
              "  <div id=\"df-2bd137d5-08a7-4d62-8994-4775f552d2b4\">\n",
              "    <div class=\"colab-df-container\">\n",
              "      <div>\n",
              "<style scoped>\n",
              "    .dataframe tbody tr th:only-of-type {\n",
              "        vertical-align: middle;\n",
              "    }\n",
              "\n",
              "    .dataframe tbody tr th {\n",
              "        vertical-align: top;\n",
              "    }\n",
              "\n",
              "    .dataframe thead th {\n",
              "        text-align: right;\n",
              "    }\n",
              "</style>\n",
              "<table border=\"1\" class=\"dataframe\">\n",
              "  <thead>\n",
              "    <tr style=\"text-align: right;\">\n",
              "      <th></th>\n",
              "      <th>0</th>\n",
              "    </tr>\n",
              "  </thead>\n",
              "  <tbody>\n",
              "    <tr>\n",
              "      <th>0</th>\n",
              "      <td>8.529240</td>\n",
              "    </tr>\n",
              "    <tr>\n",
              "      <th>1</th>\n",
              "      <td>3.768929</td>\n",
              "    </tr>\n",
              "    <tr>\n",
              "      <th>2</th>\n",
              "      <td>3.354423</td>\n",
              "    </tr>\n",
              "    <tr>\n",
              "      <th>3</th>\n",
              "      <td>2.747935</td>\n",
              "    </tr>\n",
              "    <tr>\n",
              "      <th>4</th>\n",
              "      <td>0.808458</td>\n",
              "    </tr>\n",
              "    <tr>\n",
              "      <th>...</th>\n",
              "      <td>...</td>\n",
              "    </tr>\n",
              "    <tr>\n",
              "      <th>95</th>\n",
              "      <td>5.346771</td>\n",
              "    </tr>\n",
              "    <tr>\n",
              "      <th>96</th>\n",
              "      <td>6.338229</td>\n",
              "    </tr>\n",
              "    <tr>\n",
              "      <th>97</th>\n",
              "      <td>3.488785</td>\n",
              "    </tr>\n",
              "    <tr>\n",
              "      <th>98</th>\n",
              "      <td>1.372002</td>\n",
              "    </tr>\n",
              "    <tr>\n",
              "      <th>99</th>\n",
              "      <td>-0.072150</td>\n",
              "    </tr>\n",
              "  </tbody>\n",
              "</table>\n",
              "<p>100 rows × 1 columns</p>\n",
              "</div>\n",
              "      <button class=\"colab-df-convert\" onclick=\"convertToInteractive('df-2bd137d5-08a7-4d62-8994-4775f552d2b4')\"\n",
              "              title=\"Convert this dataframe to an interactive table.\"\n",
              "              style=\"display:none;\">\n",
              "        \n",
              "  <svg xmlns=\"http://www.w3.org/2000/svg\" height=\"24px\"viewBox=\"0 0 24 24\"\n",
              "       width=\"24px\">\n",
              "    <path d=\"M0 0h24v24H0V0z\" fill=\"none\"/>\n",
              "    <path d=\"M18.56 5.44l.94 2.06.94-2.06 2.06-.94-2.06-.94-.94-2.06-.94 2.06-2.06.94zm-11 1L8.5 8.5l.94-2.06 2.06-.94-2.06-.94L8.5 2.5l-.94 2.06-2.06.94zm10 10l.94 2.06.94-2.06 2.06-.94-2.06-.94-.94-2.06-.94 2.06-2.06.94z\"/><path d=\"M17.41 7.96l-1.37-1.37c-.4-.4-.92-.59-1.43-.59-.52 0-1.04.2-1.43.59L10.3 9.45l-7.72 7.72c-.78.78-.78 2.05 0 2.83L4 21.41c.39.39.9.59 1.41.59.51 0 1.02-.2 1.41-.59l7.78-7.78 2.81-2.81c.8-.78.8-2.07 0-2.86zM5.41 20L4 18.59l7.72-7.72 1.47 1.35L5.41 20z\"/>\n",
              "  </svg>\n",
              "      </button>\n",
              "      \n",
              "  <style>\n",
              "    .colab-df-container {\n",
              "      display:flex;\n",
              "      flex-wrap:wrap;\n",
              "      gap: 12px;\n",
              "    }\n",
              "\n",
              "    .colab-df-convert {\n",
              "      background-color: #E8F0FE;\n",
              "      border: none;\n",
              "      border-radius: 50%;\n",
              "      cursor: pointer;\n",
              "      display: none;\n",
              "      fill: #1967D2;\n",
              "      height: 32px;\n",
              "      padding: 0 0 0 0;\n",
              "      width: 32px;\n",
              "    }\n",
              "\n",
              "    .colab-df-convert:hover {\n",
              "      background-color: #E2EBFA;\n",
              "      box-shadow: 0px 1px 2px rgba(60, 64, 67, 0.3), 0px 1px 3px 1px rgba(60, 64, 67, 0.15);\n",
              "      fill: #174EA6;\n",
              "    }\n",
              "\n",
              "    [theme=dark] .colab-df-convert {\n",
              "      background-color: #3B4455;\n",
              "      fill: #D2E3FC;\n",
              "    }\n",
              "\n",
              "    [theme=dark] .colab-df-convert:hover {\n",
              "      background-color: #434B5C;\n",
              "      box-shadow: 0px 1px 3px 1px rgba(0, 0, 0, 0.15);\n",
              "      filter: drop-shadow(0px 1px 2px rgba(0, 0, 0, 0.3));\n",
              "      fill: #FFFFFF;\n",
              "    }\n",
              "  </style>\n",
              "\n",
              "      <script>\n",
              "        const buttonEl =\n",
              "          document.querySelector('#df-2bd137d5-08a7-4d62-8994-4775f552d2b4 button.colab-df-convert');\n",
              "        buttonEl.style.display =\n",
              "          google.colab.kernel.accessAllowed ? 'block' : 'none';\n",
              "\n",
              "        async function convertToInteractive(key) {\n",
              "          const element = document.querySelector('#df-2bd137d5-08a7-4d62-8994-4775f552d2b4');\n",
              "          const dataTable =\n",
              "            await google.colab.kernel.invokeFunction('convertToInteractive',\n",
              "                                                     [key], {});\n",
              "          if (!dataTable) return;\n",
              "\n",
              "          const docLinkHtml = 'Like what you see? Visit the ' +\n",
              "            '<a target=\"_blank\" href=https://colab.research.google.com/notebooks/data_table.ipynb>data table notebook</a>'\n",
              "            + ' to learn more about interactive tables.';\n",
              "          element.innerHTML = '';\n",
              "          dataTable['output_type'] = 'display_data';\n",
              "          await google.colab.output.renderOutput(dataTable, element);\n",
              "          const docLink = document.createElement('div');\n",
              "          docLink.innerHTML = docLinkHtml;\n",
              "          element.appendChild(docLink);\n",
              "        }\n",
              "      </script>\n",
              "    </div>\n",
              "  </div>\n",
              "  "
            ],
            "text/plain": [
              "           0\n",
              "0   8.529240\n",
              "1   3.768929\n",
              "2   3.354423\n",
              "3   2.747935\n",
              "4   0.808458\n",
              "..       ...\n",
              "95  5.346771\n",
              "96  6.338229\n",
              "97  3.488785\n",
              "98  1.372002\n",
              "99 -0.072150\n",
              "\n",
              "[100 rows x 1 columns]"
            ]
          },
          "execution_count": 15,
          "metadata": {},
          "output_type": "execute_result"
        }
      ],
      "source": [
        "import pandas as pd\n",
        "pd.DataFrame(y)"
      ]
    },
    {
      "cell_type": "markdown",
      "metadata": {
        "id": "vrZTRaLNVQwS"
      },
      "source": [
        "Now we can use `PolynomialFeatues` to transform training data adding the square of each feature as new features."
      ]
    },
    {
      "cell_type": "code",
      "execution_count": 16,
      "metadata": {
        "id": "BXo0Hm56VQwS"
      },
      "outputs": [],
      "source": [
        "from sklearn.preprocessing import PolynomialFeatures\n",
        "\n",
        "poly_features = PolynomialFeatures(degree=2, include_bias=False)\n",
        "X_poly = poly_features.fit_transform(X)"
      ]
    },
    {
      "cell_type": "code",
      "execution_count": 17,
      "metadata": {
        "colab": {
          "base_uri": "https://localhost:8080/"
        },
        "id": "1FqY9-I4VQwS",
        "outputId": "c7cfc803-a6e5-4e63-fdfc-7556c6655ab8"
      },
      "outputs": [
        {
          "data": {
            "text/plain": [
              "array([[ 2.72919168e+00,  7.44848725e+00],\n",
              "       [ 1.42738150e+00,  2.03741795e+00],\n",
              "       [ 3.26124315e-01,  1.06357069e-01],\n",
              "       [ 6.70324477e-01,  4.49334905e-01],\n",
              "       [-4.82399625e-01,  2.32709399e-01],\n",
              "       [-1.51361406e+00,  2.29102753e+00],\n",
              "       [-8.64163928e-01,  7.46779295e-01],\n",
              "       [ 1.54707666e+00,  2.39344620e+00],\n",
              "       [-2.91363907e+00,  8.48929262e+00],\n",
              "       [-2.30356416e+00,  5.30640783e+00],\n",
              "       [-2.72398415e+00,  7.42008964e+00],\n",
              "       [-2.75562719e+00,  7.59348119e+00],\n",
              "       [ 2.13276350e+00,  4.54868016e+00],\n",
              "       [ 1.22194716e+00,  1.49315485e+00],\n",
              "       [-1.54957025e-01,  2.40116797e-02],\n",
              "       [-2.41299504e+00,  5.82254504e+00],\n",
              "       [-5.03047493e-02,  2.53056780e-03],\n",
              "       [-1.59169375e-01,  2.53348900e-02],\n",
              "       [-1.96078878e+00,  3.84469264e+00],\n",
              "       [-3.96890105e-01,  1.57521755e-01],\n",
              "       [-6.08971594e-01,  3.70846402e-01],\n",
              "       [ 6.95100588e-01,  4.83164828e-01],\n",
              "       [ 8.10561905e-01,  6.57010602e-01],\n",
              "       [-2.72817594e+00,  7.44294397e+00],\n",
              "       [-7.52324312e-01,  5.65991871e-01],\n",
              "       [ 7.55159494e-01,  5.70265862e-01],\n",
              "       [ 1.88175515e-02,  3.54100244e-04],\n",
              "       [ 2.13893905e+00,  4.57506025e+00],\n",
              "       [ 9.52161790e-01,  9.06612074e-01],\n",
              "       [-2.02239344e+00,  4.09007522e+00],\n",
              "       [-2.57658752e+00,  6.63880323e+00],\n",
              "       [ 8.54515669e-01,  7.30197029e-01],\n",
              "       [-2.84093214e+00,  8.07089541e+00],\n",
              "       [ 5.14653488e-01,  2.64868212e-01],\n",
              "       [ 2.64138145e+00,  6.97689596e+00],\n",
              "       [ 4.52845067e-01,  2.05068655e-01],\n",
              "       [-6.70980443e-01,  4.50214755e-01],\n",
              "       [ 8.59729311e-01,  7.39134488e-01],\n",
              "       [-2.50482657e-01,  6.27415615e-02],\n",
              "       [ 2.73700736e-01,  7.49120928e-02],\n",
              "       [ 2.64878885e+00,  7.01608239e+00],\n",
              "       [-6.83384173e-01,  4.67013928e-01],\n",
              "       [ 2.76714338e+00,  7.65708250e+00],\n",
              "       [ 2.43210385e+00,  5.91512915e+00],\n",
              "       [-1.82525319e+00,  3.33154921e+00],\n",
              "       [-2.58383219e+00,  6.67618881e+00],\n",
              "       [-2.39533199e+00,  5.73761535e+00],\n",
              "       [-2.89066905e+00,  8.35596753e+00],\n",
              "       [-2.43334224e+00,  5.92115443e+00],\n",
              "       [ 1.09804064e+00,  1.20569325e+00],\n",
              "       [-2.57286811e+00,  6.61965031e+00],\n",
              "       [-1.08614622e+00,  1.17971361e+00],\n",
              "       [ 2.06925187e+00,  4.28180328e+00],\n",
              "       [-2.86036839e+00,  8.18170730e+00],\n",
              "       [ 1.88681090e+00,  3.56005536e+00],\n",
              "       [-1.30887135e+00,  1.71314421e+00],\n",
              "       [-2.29101103e+00,  5.24873156e+00],\n",
              "       [ 1.18042299e+00,  1.39339844e+00],\n",
              "       [ 7.73657081e-01,  5.98545278e-01],\n",
              "       [ 2.26483208e+00,  5.12946436e+00],\n",
              "       [ 1.41042626e+00,  1.98930224e+00],\n",
              "       [ 1.82088558e+00,  3.31562430e+00],\n",
              "       [-1.30779256e+00,  1.71032139e+00],\n",
              "       [-1.93536274e+00,  3.74562893e+00],\n",
              "       [ 1.50368851e+00,  2.26107913e+00],\n",
              "       [ 1.84100844e+00,  3.38931206e+00],\n",
              "       [ 2.94303085e+00,  8.66143060e+00],\n",
              "       [-5.24293939e-01,  2.74884134e-01],\n",
              "       [-7.67891485e-01,  5.89657333e-01],\n",
              "       [ 1.65847776e+00,  2.75054850e+00],\n",
              "       [-9.55178758e-01,  9.12366461e-01],\n",
              "       [ 2.58454395e+00,  6.67986745e+00],\n",
              "       [ 2.15047651e+00,  4.62454922e+00],\n",
              "       [-4.26035836e-01,  1.81506533e-01],\n",
              "       [ 1.50522641e+00,  2.26570654e+00],\n",
              "       [ 1.52725724e+00,  2.33251469e+00],\n",
              "       [-2.38125679e+00,  5.67038389e+00],\n",
              "       [ 2.41531744e+00,  5.83375834e+00],\n",
              "       [ 3.15142347e-02,  9.93146988e-04],\n",
              "       [ 1.95874480e+00,  3.83668118e+00],\n",
              "       [-1.07970239e+00,  1.16575726e+00],\n",
              "       [ 2.37313937e+00,  5.63179047e+00],\n",
              "       [-6.64789928e-01,  4.41945648e-01],\n",
              "       [-2.93497409e+00,  8.61407292e+00],\n",
              "       [ 2.43229186e+00,  5.91604369e+00],\n",
              "       [-2.45227994e+00,  6.01367690e+00],\n",
              "       [-1.08411817e+00,  1.17531222e+00],\n",
              "       [ 2.70037180e+00,  7.29200787e+00],\n",
              "       [ 2.70364288e+00,  7.30968483e+00],\n",
              "       [ 4.40627329e-01,  1.94152443e-01],\n",
              "       [ 7.91023273e-01,  6.25717818e-01],\n",
              "       [-3.09326868e-01,  9.56831113e-02],\n",
              "       [-1.24073537e+00,  1.53942426e+00],\n",
              "       [-1.02801273e+00,  1.05681017e+00],\n",
              "       [ 1.03511074e+00,  1.07145424e+00],\n",
              "       [ 1.51424718e+00,  2.29294451e+00],\n",
              "       [ 1.74947426e+00,  3.06066019e+00],\n",
              "       [ 1.73770886e+00,  3.01963207e+00],\n",
              "       [-2.45276338e+00,  6.01604821e+00],\n",
              "       [-3.34781718e-02,  1.12078799e-03]])"
            ]
          },
          "execution_count": 17,
          "metadata": {},
          "output_type": "execute_result"
        }
      ],
      "source": [
        "X_poly"
      ]
    },
    {
      "cell_type": "markdown",
      "metadata": {
        "id": "GrFMRU_eVQwS"
      },
      "source": [
        "`X_poly` now contains the original feature of X plus the square of the feature:"
      ]
    },
    {
      "cell_type": "code",
      "execution_count": 18,
      "metadata": {
        "colab": {
          "base_uri": "https://localhost:8080/"
        },
        "id": "M8FH1dY2UwgN",
        "outputId": "50aaa194-8dfa-484c-d6a4-be18cc742a16"
      },
      "outputs": [
        {
          "name": "stdout",
          "output_type": "stream",
          "text": [
            "[2.72919168]\n",
            "[7.44848725]\n"
          ]
        }
      ],
      "source": [
        "print(X[0])\n",
        "print(X[0]*X[0])\n"
      ]
    },
    {
      "cell_type": "code",
      "execution_count": 19,
      "metadata": {
        "colab": {
          "base_uri": "https://localhost:8080/"
        },
        "id": "PSflPniWVQwT",
        "outputId": "60429215-944d-4f19-fe0b-fcb6590ff0e2"
      },
      "outputs": [
        {
          "data": {
            "text/plain": [
              "array([2.72919168, 7.44848725])"
            ]
          },
          "execution_count": 19,
          "metadata": {},
          "output_type": "execute_result"
        }
      ],
      "source": [
        "X_poly[0]"
      ]
    },
    {
      "cell_type": "markdown",
      "metadata": {
        "id": "HaXjXg7FVQwT"
      },
      "source": [
        "Fit the model to this extended training data:"
      ]
    },
    {
      "cell_type": "code",
      "execution_count": 20,
      "metadata": {
        "colab": {
          "base_uri": "https://localhost:8080/"
        },
        "id": "c0Qu93dgVQwT",
        "outputId": "4e1a5283-64f5-4d5e-be54-c59030c68440"
      },
      "outputs": [
        {
          "data": {
            "text/plain": [
              "(array([[1.04271531, 0.50866711]]), array([2.01873554]))"
            ]
          },
          "execution_count": 20,
          "metadata": {},
          "output_type": "execute_result"
        }
      ],
      "source": [
        "lin_reg = LinearRegression(fit_intercept=True)\n",
        "lin_reg.fit(X_poly, y)\n",
        "lin_reg.coef_, lin_reg.intercept_"
      ]
    },
    {
      "cell_type": "markdown",
      "metadata": {
        "id": "rKOSwvnmVQwT"
      },
      "source": [
        "The model estimates:\n",
        "\n",
        "$\\hat{y} =  1.04X +0.51X^2 + 2.02$"
      ]
    },
    {
      "cell_type": "markdown",
      "metadata": {
        "id": "_EtZEKz5VQwT"
      },
      "source": [
        "Plot the data and the predictions:"
      ]
    },
    {
      "cell_type": "code",
      "execution_count": 21,
      "metadata": {
        "colab": {
          "base_uri": "https://localhost:8080/",
          "height": 0
        },
        "id": "6Q8dHRgdVQwT",
        "outputId": "2f181219-ced6-47e7-89b9-6285ece95f2c"
      },
      "outputs": [
        {
          "data": {
            "image/png": "[encoded data removed]",
            "text/plain": [
              "<Figure size 432x288 with 1 Axes>"
            ]
          },
          "metadata": {
            "needs_background": "light"
          },
          "output_type": "display_data"
        }
      ],
      "source": [
        "X_new = np.linspace(-3, 3, 100).reshape(100, 1)\n",
        "X_new_poly = poly_features.transform(X_new)\n",
        "y_new = lin_reg.predict(X_new_poly)\n",
        "plt.plot(X, y, \"b.\")\n",
        "plt.plot(X_new, y_new, \"r-\", linewidth=2, label=\"Predictions\")\n",
        "plt.xlabel(\"$x_1$\", fontsize=18)\n",
        "plt.ylabel(\"$y$\", rotation=0, fontsize=18)\n",
        "plt.legend(loc=\"upper left\", fontsize=14)\n",
        "plt.axis([-3, 3, 0, 10]);"
      ]
    },
    {
      "cell_type": "markdown",
      "metadata": {
        "id": "TIFwAtW1pc6h"
      },
      "source": [
        "## R square\n",
        "\n",
        "R² es una medida estadística de qué tan cerca están los datos de la línea de regresión ajustada. También se conoce como el coeficiente de determinación o el coeficiente de determinación múltiple para la regresión múltiple. Para decirlo en un lenguaje más simple, R² es una medida de ajuste para los modelos de regresión lineal.\n",
        "\n",
        "\n",
        "\n",
        "R² no indica si un modelo de regresión se ajusta adecuadamente a sus datos. Un buen modelo puede tener un valor R² bajo. Por otro lado, un modelo sesgado puede tener un valor alto de R².\n",
        "\n",
        " SSres + SSreg = SStot, R² = Explained variation / Total Variation\n",
        " \n",
        " ![image.png](https://i.stack.imgur.com/xb1VY.png)\n",
        " \n",
        "![image.png](https://3.bp.blogspot.com/-MFqQLwbGwd4/WMO7tz39beI/AAAAAAAAF9I/Bjpfohgv_5E4lu7HzHJBQtXsBM--byqPwCLcB/s1600/rsquared.png)\n"
      ]
    },
    {
      "cell_type": "markdown",
      "metadata": {
        "id": "nTKFj4x9LMXm"
      },
      "source": [
        "# **Ejercicio 1**\n",
        "\n",
        "Utiliza la base de datos de \n",
        "https://www.kaggle.com/vinicius150987/manufacturing-cost\n",
        "\n",
        "Suponga que trabaja como consultor de una empresa de nueva creación que busca desarrollar un modelo para estimar el costo de los bienes vendidos a medida que varían el volumen de producción (número de unidades producidas). La startup recopiló datos y le pidió que desarrollara un modelo para predecir su costo frente a la cantidad de unidades vendidas."
      ]
    },
    {
      "cell_type": "code",
      "execution_count": 22,
      "metadata": {
        "colab": {
          "base_uri": "https://localhost:8080/",
          "height": 363
        },
        "id": "oTnErQOkL3oa",
        "outputId": "0e7a9c06-80c5-427b-fee7-c8c32b8c03e7"
      },
      "outputs": [
        {
          "data": {
            "text/html": [
              "\n",
              "  <div id=\"df-983fa9ac-0667-4adf-8bc7-09afe437f0be\">\n",
              "    <div class=\"colab-df-container\">\n",
              "      <div>\n",
              "<style scoped>\n",
              "    .dataframe tbody tr th:only-of-type {\n",
              "        vertical-align: middle;\n",
              "    }\n",
              "\n",
              "    .dataframe tbody tr th {\n",
              "        vertical-align: top;\n",
              "    }\n",
              "\n",
              "    .dataframe thead th {\n",
              "        text-align: right;\n",
              "    }\n",
              "</style>\n",
              "<table border=\"1\" class=\"dataframe\">\n",
              "  <thead>\n",
              "    <tr style=\"text-align: right;\">\n",
              "      <th></th>\n",
              "      <th>Number of Units</th>\n",
              "      <th>Manufacturing Cost</th>\n",
              "    </tr>\n",
              "  </thead>\n",
              "  <tbody>\n",
              "    <tr>\n",
              "      <th>968</th>\n",
              "      <td>7.065653</td>\n",
              "      <td>27.804027</td>\n",
              "    </tr>\n",
              "    <tr>\n",
              "      <th>212</th>\n",
              "      <td>3.372115</td>\n",
              "      <td>41.127212</td>\n",
              "    </tr>\n",
              "    <tr>\n",
              "      <th>416</th>\n",
              "      <td>4.194513</td>\n",
              "      <td>43.832711</td>\n",
              "    </tr>\n",
              "    <tr>\n",
              "      <th>677</th>\n",
              "      <td>5.068888</td>\n",
              "      <td>41.225741</td>\n",
              "    </tr>\n",
              "    <tr>\n",
              "      <th>550</th>\n",
              "      <td>4.604122</td>\n",
              "      <td>37.569764</td>\n",
              "    </tr>\n",
              "    <tr>\n",
              "      <th>764</th>\n",
              "      <td>5.389522</td>\n",
              "      <td>31.191501</td>\n",
              "    </tr>\n",
              "    <tr>\n",
              "      <th>386</th>\n",
              "      <td>4.104190</td>\n",
              "      <td>42.988730</td>\n",
              "    </tr>\n",
              "    <tr>\n",
              "      <th>339</th>\n",
              "      <td>3.942214</td>\n",
              "      <td>46.291435</td>\n",
              "    </tr>\n",
              "    <tr>\n",
              "      <th>82</th>\n",
              "      <td>2.665856</td>\n",
              "      <td>48.578425</td>\n",
              "    </tr>\n",
              "    <tr>\n",
              "      <th>487</th>\n",
              "      <td>4.399514</td>\n",
              "      <td>37.567914</td>\n",
              "    </tr>\n",
              "  </tbody>\n",
              "</table>\n",
              "</div>\n",
              "      <button class=\"colab-df-convert\" onclick=\"convertToInteractive('df-983fa9ac-0667-4adf-8bc7-09afe437f0be')\"\n",
              "              title=\"Convert this dataframe to an interactive table.\"\n",
              "              style=\"display:none;\">\n",
              "        \n",
              "  <svg xmlns=\"http://www.w3.org/2000/svg\" height=\"24px\"viewBox=\"0 0 24 24\"\n",
              "       width=\"24px\">\n",
              "    <path d=\"M0 0h24v24H0V0z\" fill=\"none\"/>\n",
              "    <path d=\"M18.56 5.44l.94 2.06.94-2.06 2.06-.94-2.06-.94-.94-2.06-.94 2.06-2.06.94zm-11 1L8.5 8.5l.94-2.06 2.06-.94-2.06-.94L8.5 2.5l-.94 2.06-2.06.94zm10 10l.94 2.06.94-2.06 2.06-.94-2.06-.94-.94-2.06-.94 2.06-2.06.94z\"/><path d=\"M17.41 7.96l-1.37-1.37c-.4-.4-.92-.59-1.43-.59-.52 0-1.04.2-1.43.59L10.3 9.45l-7.72 7.72c-.78.78-.78 2.05 0 2.83L4 21.41c.39.39.9.59 1.41.59.51 0 1.02-.2 1.41-.59l7.78-7.78 2.81-2.81c.8-.78.8-2.07 0-2.86zM5.41 20L4 18.59l7.72-7.72 1.47 1.35L5.41 20z\"/>\n",
              "  </svg>\n",
              "      </button>\n",
              "      \n",
              "  <style>\n",
              "    .colab-df-container {\n",
              "      display:flex;\n",
              "      flex-wrap:wrap;\n",
              "      gap: 12px;\n",
              "    }\n",
              "\n",
              "    .colab-df-convert {\n",
              "      background-color: #E8F0FE;\n",
              "      border: none;\n",
              "      border-radius: 50%;\n",
              "      cursor: pointer;\n",
              "      display: none;\n",
              "      fill: #1967D2;\n",
              "      height: 32px;\n",
              "      padding: 0 0 0 0;\n",
              "      width: 32px;\n",
              "    }\n",
              "\n",
              "    .colab-df-convert:hover {\n",
              "      background-color: #E2EBFA;\n",
              "      box-shadow: 0px 1px 2px rgba(60, 64, 67, 0.3), 0px 1px 3px 1px rgba(60, 64, 67, 0.15);\n",
              "      fill: #174EA6;\n",
              "    }\n",
              "\n",
              "    [theme=dark] .colab-df-convert {\n",
              "      background-color: #3B4455;\n",
              "      fill: #D2E3FC;\n",
              "    }\n",
              "\n",
              "    [theme=dark] .colab-df-convert:hover {\n",
              "      background-color: #434B5C;\n",
              "      box-shadow: 0px 1px 3px 1px rgba(0, 0, 0, 0.15);\n",
              "      filter: drop-shadow(0px 1px 2px rgba(0, 0, 0, 0.3));\n",
              "      fill: #FFFFFF;\n",
              "    }\n",
              "  </style>\n",
              "\n",
              "      <script>\n",
              "        const buttonEl =\n",
              "          document.querySelector('#df-983fa9ac-0667-4adf-8bc7-09afe437f0be button.colab-df-convert');\n",
              "        buttonEl.style.display =\n",
              "          google.colab.kernel.accessAllowed ? 'block' : 'none';\n",
              "\n",
              "        async function convertToInteractive(key) {\n",
              "          const element = document.querySelector('#df-983fa9ac-0667-4adf-8bc7-09afe437f0be');\n",
              "          const dataTable =\n",
              "            await google.colab.kernel.invokeFunction('convertToInteractive',\n",
              "                                                     [key], {});\n",
              "          if (!dataTable) return;\n",
              "\n",
              "          const docLinkHtml = 'Like what you see? Visit the ' +\n",
              "            '<a target=\"_blank\" href=https://colab.research.google.com/notebooks/data_table.ipynb>data table notebook</a>'\n",
              "            + ' to learn more about interactive tables.';\n",
              "          element.innerHTML = '';\n",
              "          dataTable['output_type'] = 'display_data';\n",
              "          await google.colab.output.renderOutput(dataTable, element);\n",
              "          const docLink = document.createElement('div');\n",
              "          docLink.innerHTML = docLinkHtml;\n",
              "          element.appendChild(docLink);\n",
              "        }\n",
              "      </script>\n",
              "    </div>\n",
              "  </div>\n",
              "  "
            ],
            "text/plain": [
              "     Number of Units  Manufacturing Cost\n",
              "968         7.065653           27.804027\n",
              "212         3.372115           41.127212\n",
              "416         4.194513           43.832711\n",
              "677         5.068888           41.225741\n",
              "550         4.604122           37.569764\n",
              "764         5.389522           31.191501\n",
              "386         4.104190           42.988730\n",
              "339         3.942214           46.291435\n",
              "82          2.665856           48.578425\n",
              "487         4.399514           37.567914"
            ]
          },
          "execution_count": 22,
          "metadata": {},
          "output_type": "execute_result"
        }
      ],
      "source": [
        "import pandas as pd\n",
        "df = pd.read_csv('https://raw.githubusercontent.com/marypazrf/bdd/main/EconomiesOfScale.csv')\n",
        "df.sample(10)"
      ]
    },
    {
      "cell_type": "code",
      "execution_count": 23,
      "metadata": {
        "id": "14kGO5nkMGlV"
      },
      "outputs": [],
      "source": [
        "X = df[['Number of Units']]\n",
        "y = df['Manufacturing Cost']"
      ]
    },
    {
      "cell_type": "code",
      "execution_count": 24,
      "metadata": {
        "colab": {
          "base_uri": "https://localhost:8080/"
        },
        "id": "ksh_OrkjY3GW",
        "outputId": "189864d1-2bf9-4d59-db34-cfb7d102c65d"
      },
      "outputs": [
        {
          "data": {
            "text/plain": [
              "1000"
            ]
          },
          "execution_count": 24,
          "metadata": {},
          "output_type": "execute_result"
        }
      ],
      "source": [
        "len(X)"
      ]
    },
    {
      "cell_type": "code",
      "execution_count": 25,
      "metadata": {
        "colab": {
          "base_uri": "https://localhost:8080/"
        },
        "id": "bwR6SSqQDfC2",
        "outputId": "2ca6d273-f8b9-43ba-a5ad-d893aa04860b"
      },
      "outputs": [
        {
          "data": {
            "text/plain": [
              "<bound method NDFrame.describe of 0      95.066056\n",
              "1      96.531750\n",
              "2      73.661311\n",
              "3      95.566843\n",
              "4      98.777013\n",
              "         ...    \n",
              "995    23.855067\n",
              "996    27.536542\n",
              "997    25.973787\n",
              "998    25.138311\n",
              "999    21.547777\n",
              "Name: Manufacturing Cost, Length: 1000, dtype: float64>"
            ]
          },
          "execution_count": 25,
          "metadata": {},
          "output_type": "execute_result"
        }
      ],
      "source": [
        "y.describe"
      ]
    },
    {
      "cell_type": "code",
      "execution_count": 26,
      "metadata": {
        "colab": {
          "base_uri": "https://localhost:8080/",
          "height": 283
        },
        "id": "idoEjfEhMoxk",
        "outputId": "763ede2a-1e17-46c3-d2d3-c5051c8029db"
      },
      "outputs": [
        {
          "data": {
            "text/plain": [
              "[<matplotlib.lines.Line2D at 0x7f6f002c4f10>]"
            ]
          },
          "execution_count": 26,
          "metadata": {},
          "output_type": "execute_result"
        },
        {
          "data": {
            "image/png": "[encoded data removed]",
            "text/plain": [
              "<Figure size 432x288 with 1 Axes>"
            ]
          },
          "metadata": {
            "needs_background": "light"
          },
          "output_type": "display_data"
        }
      ],
      "source": [
        "plt.plot(X,y,'b.')"
      ]
    },
    {
      "cell_type": "markdown",
      "metadata": {
        "id": "y6eRNOeOIjr9"
      },
      "source": [
        "## **Inicio del Ejecicio 1**:\n",
        "\n",
        "### Divide los datos del costo de manufactura. Utiliza la función **train_test_split** (viene el ejemplo al final del notebook)."
      ]
    },
    {
      "cell_type": "code",
      "execution_count": 27,
      "metadata": {
        "colab": {
          "base_uri": "https://localhost:8080/"
        },
        "id": "LbktfKKUInEv",
        "outputId": "d426a093-23e6-49c2-accc-f72749e298b6"
      },
      "outputs": [
        {
          "name": "stdout",
          "output_type": "stream",
          "text": [
            "X_train:  (800, 1)\n",
            "X_test:  (200, 1)\n",
            "y_train:  (800,)\n",
            "y_test:  (200,)\n"
          ]
        }
      ],
      "source": [
        "from sklearn.model_selection import train_test_split \n",
        "\n",
        "# Dividimos los datos con un 20% para prueba\n",
        "X_train, X_test, y_train, y_test = train_test_split(X, y, test_size = 0.2, random_state = 42)\n",
        "\n",
        "print('X_train: ', X_train.shape)\n",
        "print('X_test: ', X_test.shape)\n",
        "print('y_train: ', y_train.shape)\n",
        "print('y_test: ', y_test.shape)"
      ]
    },
    {
      "cell_type": "markdown",
      "metadata": {
        "id": "dWMFoADxKluF"
      },
      "source": [
        "### **Regresión Lineal** \n",
        "### Realiza la regresión lineal: modelo generado (ecuación), su visualización, sus errores y r cuadrada."
      ]
    },
    {
      "cell_type": "code",
      "execution_count": 28,
      "metadata": {
        "colab": {
          "base_uri": "https://localhost:8080/"
        },
        "id": "kMmOy97puOLE",
        "outputId": "74ef997a-d0e8-451f-96a7-7176c7bb84f2"
      },
      "outputs": [
        {
          "name": "stdout",
          "output_type": "stream",
          "text": [
            "a =  [-6.21850698]\n",
            "b =  67.89012908512075\n"
          ]
        }
      ],
      "source": [
        "#lineal\n",
        "linreg = LinearRegression(fit_intercept=True)  \n",
        "\n",
        "# Entrenamos el modelo\n",
        "linreg.fit(X_train, y_train)\n",
        "y_pred = linreg.predict(X_train)\n",
        "\n",
        "# Calculamos los parametros\n",
        "print('a = ', linreg.coef_)\n",
        "print('b = ', linreg.intercept_)"
      ]
    },
    {
      "cell_type": "markdown",
      "metadata": {
        "id": "R6uqj_JCRjp2"
      },
      "source": [
        "**Modelo generado:**\n",
        "\n",
        "${y} = -6.22X + 67.89$"
      ]
    },
    {
      "cell_type": "code",
      "execution_count": 29,
      "metadata": {
        "colab": {
          "base_uri": "https://localhost:8080/",
          "height": 396
        },
        "id": "dqmLyljHZp0C",
        "outputId": "10f2c370-87cc-4669-c7bc-bc5b79241a87"
      },
      "outputs": [
        {
          "data": {
            "image/png": "[encoded data removed]",
            "text/plain": [
              "<Figure size 720x432 with 1 Axes>"
            ]
          },
          "metadata": {
            "needs_background": "light"
          },
          "output_type": "display_data"
        }
      ],
      "source": [
        "# visualizacion\n",
        "plt.figure(figsize=[10, 6])\n",
        "plt.scatter(X, y, alpha=0.6)\n",
        "plt.plot(X_train, y_pred, \"r-\", linewidth=2, label=\"Predicciones\")\n",
        " \n",
        "plt.xlabel(\"$X$\", fontsize=18)\n",
        "plt.ylabel(\"$y$\", rotation=0, fontsize=18)\n",
        "plt.legend(loc=\"upper right\", fontsize=15);"
      ]
    },
    {
      "cell_type": "markdown",
      "metadata": {
        "id": "3GUCOza3lolF"
      },
      "source": [
        "Calculamos los errores **MAE**, **MSE** y **R²** para los datos de entrenamiento:"
      ]
    },
    {
      "cell_type": "code",
      "execution_count": 30,
      "metadata": {
        "colab": {
          "base_uri": "https://localhost:8080/"
        },
        "id": "SiEyFyeQm3ZN",
        "outputId": "acfd42ed-d5a1-4c35-8ff5-c73cd524842f"
      },
      "outputs": [
        {
          "name": "stdout",
          "output_type": "stream",
          "text": [
            "Datos de Entrenamiento:\n",
            "Error medio Absoluto (MAE): 5.053412838264229\n",
            "Root Mean Squared Error (MSE): 7.092192048104233\n",
            "R-cuadrada 0.5796922294528\n"
          ]
        }
      ],
      "source": [
        "from sklearn import metrics\n",
        "from sklearn.metrics import r2_score\n",
        "\n",
        "print('Datos de Entrenamiento:')\n",
        "print('Error medio Absoluto (MAE):', metrics.mean_absolute_error(y_train, y_pred))\n",
        "print('Root Mean Squared Error (MSE):', np.sqrt(metrics.mean_squared_error(y_train, y_pred)))\n",
        "print('R-cuadrada', r2_score(y_train, y_pred))"
      ]
    },
    {
      "cell_type": "markdown",
      "metadata": {
        "id": "uYI9ltyTphvs"
      },
      "source": [
        "Ahora calculamos los errores de la predicción con datos de prueba:"
      ]
    },
    {
      "cell_type": "code",
      "execution_count": 31,
      "metadata": {
        "id": "jIzUSfGsqfw5"
      },
      "outputs": [],
      "source": [
        "# Predicciones con los datos de prueba\n",
        "\n",
        "y_hat = linreg.predict(X_test)"
      ]
    },
    {
      "cell_type": "code",
      "execution_count": 32,
      "metadata": {
        "colab": {
          "base_uri": "https://localhost:8080/"
        },
        "id": "7mse0meFprR_",
        "outputId": "346bae75-93b9-44e0-cf27-a77421bfc11f"
      },
      "outputs": [
        {
          "name": "stdout",
          "output_type": "stream",
          "text": [
            "Datos de Prueba:\n",
            "Error medio Absoluto (MAE)= 4.513943834797746\n",
            "Root Mean Squared Error (MSE)= 5.932738736518161\n",
            "R-cuadrada = 0.5695897011831419\n"
          ]
        }
      ],
      "source": [
        "MAE_lineal = metrics.mean_absolute_error(y_test, y_hat)\n",
        "MSE_lineal = np.sqrt(metrics.mean_squared_error(y_test, y_hat))\n",
        "R2_lineal = r2_score(y_test, y_hat)\n",
        "\n",
        "print('Datos de Prueba:')\n",
        "print('Error medio Absoluto (MAE)=', MAE_lineal)\n",
        "print('Root Mean Squared Error (MSE)=', MSE_lineal)\n",
        "print('R-cuadrada =', R2_lineal)"
      ]
    },
    {
      "cell_type": "markdown",
      "metadata": {
        "id": "lk4oSyq_tZZb"
      },
      "source": [
        "### **Regresión Polinomial**\n",
        "\n",
        "### Realiza la  regresión polinomial completa, tu modelo generado (ecuación), su visualización, sus errores y r cuadrada."
      ]
    },
    {
      "cell_type": "code",
      "execution_count": 33,
      "metadata": {
        "colab": {
          "base_uri": "https://localhost:8080/"
        },
        "id": "J74i9ZjWWqmJ",
        "outputId": "85661054-f0b9-4d6b-90f8-5bfcf26dbefb"
      },
      "outputs": [
        {
          "name": "stdout",
          "output_type": "stream",
          "text": [
            "X_train1:  (800, 1)\n",
            "X_test1:  (200, 1)\n",
            "y_train1:  (800,)\n",
            "y_test1:  (200,)\n"
          ]
        }
      ],
      "source": [
        "# Dividimos de nuevo los datos de entrenamiento y prueba\n",
        "X_train1, X_test1, y_train1, y_test1 = train_test_split(X, y, test_size = 0.2, random_state = 42)\n",
        "\n",
        "print('X_train1: ', X_train1.shape)\n",
        "print('X_test1: ', X_test1.shape)\n",
        "print('y_train1: ', y_train1.shape)\n",
        "print('y_test1: ', y_test1.shape)"
      ]
    },
    {
      "cell_type": "code",
      "execution_count": 34,
      "metadata": {
        "colab": {
          "base_uri": "https://localhost:8080/"
        },
        "id": "TRgbtm3xxlvj",
        "outputId": "1288fc91-77d2-4116-f370-7ec8ea14c4eb"
      },
      "outputs": [
        {
          "data": {
            "text/plain": [
              "array([[   1.86522775,    3.47907457,    6.48926643,   12.10395984],\n",
              "       [   4.54842911,   20.68820735,   94.09884451,  428.00192338],\n",
              "       [   5.11287348,   26.14147523,  133.65805547,  683.37672734],\n",
              "       ...,\n",
              "       [   5.85509721,   34.2821633 ,  200.72539861, 1175.26672076],\n",
              "       [   4.24212411,   17.99561697,   76.33964065,  323.84223024],\n",
              "       [   2.79408325,    7.80690121,   21.81313192,   60.94770656]])"
            ]
          },
          "execution_count": 34,
          "metadata": {},
          "output_type": "execute_result"
        }
      ],
      "source": [
        "#polinomial\n",
        "# Generamos nueva matriz con las combinaciones ploinomiales de grado especificado\n",
        "poly_features1 = PolynomialFeatures(degree=4, include_bias=False)\n",
        "X_train_poly1 = poly_features1.fit_transform(X_train1) \n",
        "\n",
        "X_train_poly1"
      ]
    },
    {
      "cell_type": "code",
      "execution_count": 35,
      "metadata": {
        "colab": {
          "base_uri": "https://localhost:8080/"
        },
        "id": "0uK_8E8V1Za1",
        "outputId": "8d84ee40-5597-42fa-8c60-8da95969ba77"
      },
      "outputs": [
        {
          "name": "stdout",
          "output_type": "stream",
          "text": [
            "a1, a2, a3, a4 =  [-5.48053513e+01  1.21644641e+01 -1.26644861e+00  4.90848244e-02]\n",
            "b =  133.24714610652134\n"
          ]
        }
      ],
      "source": [
        "# Entrenamos el modelo con los datos de entrenamiento transformados\n",
        "linreg1 = LinearRegression(fit_intercept=True)\n",
        "linreg1.fit(X_train_poly1, y_train1) \n",
        "y_pred1 = linreg1.predict(X_train_poly1)\n",
        "\n",
        "# Calculamos los parametros\n",
        "print('a1, a2, a3, a4 = ', linreg1.coef_)\n",
        "print('b = ', linreg1.intercept_)"
      ]
    },
    {
      "cell_type": "markdown",
      "metadata": {
        "id": "mfDt5HMu4byd"
      },
      "source": [
        "**Modelo generado:**\n",
        "\n",
        "${y} =  -54.8X + 12.16X^2 - 1.27X^3 + 0.05X^4 + 133.25$\n",
        "\n",
        "**Reacomodando los términos:**\n",
        "\n",
        "${y} = 0.05X^4 - 1.27X^3 + 12.16X^2 - 54.8X + 133.25$"
      ]
    },
    {
      "cell_type": "code",
      "execution_count": 36,
      "metadata": {
        "colab": {
          "base_uri": "https://localhost:8080/",
          "height": 414
        },
        "id": "w9tlPzAK6I2i",
        "outputId": "f249b9fa-c9dd-4c9e-b51a-7348c6834f57"
      },
      "outputs": [
        {
          "data": {
            "text/plain": [
              "<matplotlib.legend.Legend at 0x7f6effb27d50>"
            ]
          },
          "execution_count": 36,
          "metadata": {},
          "output_type": "execute_result"
        },
        {
          "data": {
            "image/png": "[encoded data removed]",
            "text/plain": [
              "<Figure size 720x432 with 1 Axes>"
            ]
          },
          "metadata": {
            "needs_background": "light"
          },
          "output_type": "display_data"
        }
      ],
      "source": [
        "# visualizacion\n",
        "X_fit1 = np.linspace(0, 10, 1000).reshape(1000, 1)\n",
        "X_new_poly1 = poly_features1.fit_transform(X_fit1)\n",
        "X_new_poly1\n",
        "y_fit1 = linreg1.predict(X_new_poly1)\n",
        "\n",
        "plt.figure(figsize=[10, 6])\n",
        "plt.scatter(X, y, alpha=0.6)\n",
        "plt.plot(X_fit1, y_fit1, \"r-\", linewidth=2, label=\"Predicciones\")\n",
        " \n",
        "plt.xlabel(\"$X$\", fontsize=18)\n",
        "plt.ylabel(\"$y$\", rotation=0, fontsize=18)\n",
        "plt.legend(loc=\"upper right\", fontsize=15)"
      ]
    },
    {
      "cell_type": "markdown",
      "metadata": {
        "id": "hGVWLPdCPuPW"
      },
      "source": [
        "Calculamos los errores **MAE**, **MSE** y **R²** para los datos de entrenamiento:"
      ]
    },
    {
      "cell_type": "code",
      "execution_count": 37,
      "metadata": {
        "colab": {
          "base_uri": "https://localhost:8080/"
        },
        "id": "v_gMXUqXOhvB",
        "outputId": "179565f7-533f-4f2d-9ad9-fb29f975796d"
      },
      "outputs": [
        {
          "name": "stdout",
          "output_type": "stream",
          "text": [
            "Datos de Entrenamiento:\n",
            "Error medio Absoluto (MAE)= 4.502110629437977\n",
            "Root Mean Squared Error (MSE)= 5.930560933513295\n",
            "R-cuadrada = 0.7061010804308335\n"
          ]
        }
      ],
      "source": [
        "print('Datos de Entrenamiento:')\n",
        "print('Error medio Absoluto (MAE)=', metrics.mean_absolute_error(y_train1, y_pred1))\n",
        "print('Root Mean Squared Error (MSE)=', np.sqrt(metrics.mean_squared_error(y_train1, y_pred1)))\n",
        "print('R-cuadrada =', r2_score(y_train1, y_pred1))"
      ]
    },
    {
      "cell_type": "markdown",
      "metadata": {
        "id": "GE6ON7wJPtmk"
      },
      "source": [
        "Ahora calculamos **MAE**, **MSE** y **R²** de la predicción con datos de prueba:"
      ]
    },
    {
      "cell_type": "code",
      "execution_count": 38,
      "metadata": {
        "id": "wqY1E01QP36X"
      },
      "outputs": [],
      "source": [
        "# Predicciones con los datos de prueba\n",
        "X_test_poly1 = poly_features1.fit_transform(X_test1)\n",
        "\n",
        "y_hat1 = linreg1.predict(X_test_poly1)"
      ]
    },
    {
      "cell_type": "code",
      "execution_count": 39,
      "metadata": {
        "colab": {
          "base_uri": "https://localhost:8080/"
        },
        "id": "vj7Bm4CDP-9P",
        "outputId": "8bc0bf18-7ff0-4b6b-d1f8-24795face5b6"
      },
      "outputs": [
        {
          "name": "stdout",
          "output_type": "stream",
          "text": [
            "Datos de Prueba:\n",
            "Error medio Absoluto (MAE)= 4.245119032434166\n",
            "Root Mean Squared Error (MSE = 5.617974441430531\n",
            "R-cuadrada = 0.6140493952743353\n"
          ]
        }
      ],
      "source": [
        "MAE_polinom = metrics.mean_absolute_error(y_test1, y_hat1)\n",
        "MSE_polinom = np.sqrt(metrics.mean_squared_error(y_test1, y_hat1))\n",
        "R2_polinom = r2_score(y_test1, y_hat1) \n",
        "\n",
        "print('Datos de Prueba:')\n",
        "print('Error medio Absoluto (MAE)=', MAE_polinom)\n",
        "print('Root Mean Squared Error (MSE =', MSE_polinom)\n",
        "print('R-cuadrada =', R2_polinom)"
      ]
    },
    {
      "cell_type": "markdown",
      "metadata": {
        "id": "hGv2ooWt-fWl"
      },
      "source": [
        "###Realiza la regresión con **Ridge** y **Lasso**. Incluye la ecuación de tu modelo, visualización , errores y r cuadrada."
      ]
    },
    {
      "cell_type": "code",
      "execution_count": 40,
      "metadata": {
        "id": "9L0y8sAT_G1P"
      },
      "outputs": [],
      "source": [
        "from sklearn.linear_model import Lasso\n",
        "from sklearn.linear_model import Ridge \n"
      ]
    },
    {
      "cell_type": "markdown",
      "metadata": {
        "id": "7oVuULcHHKye"
      },
      "source": [
        "### **Regresión Ridge**"
      ]
    },
    {
      "cell_type": "code",
      "execution_count": 41,
      "metadata": {
        "colab": {
          "base_uri": "https://localhost:8080/"
        },
        "id": "2OHULHw5CM6D",
        "outputId": "67ffc8cd-788d-4fb2-e278-12bfa5868d3f"
      },
      "outputs": [
        {
          "name": "stdout",
          "output_type": "stream",
          "text": [
            "a1, a2, a3, a4 =  [-3.69736509e+01  6.26806624e+00 -4.74518352e-01  1.21810736e-02]\n",
            "b =  115.15782197498729\n"
          ]
        }
      ],
      "source": [
        "ridge_reg = Ridge(alpha=0.5, solver='auto')\n",
        "ridge_reg.fit(X_train_poly1, y_train1)\n",
        "\n",
        "y_pred_R = ridge_reg.predict(X_train_poly1) \n",
        "\n",
        "# Calculamos los parametros\n",
        "print('a1, a2, a3, a4 = ', ridge_reg.coef_)\n",
        "print('b = ', ridge_reg.intercept_)"
      ]
    },
    {
      "cell_type": "markdown",
      "metadata": {
        "id": "8eZ_7kDwEsIv"
      },
      "source": [
        "**Modelo generado:**\n",
        "\n",
        "${y} =  -36.97X + 6.27X^2 - 0.48X^3 + 0.012X^4 + 115.16$\n",
        "\n",
        "**Reacomodando los términos:**\n",
        "\n",
        "${y} = 0.012X^4 - 0.48X^3 + 6.27X^2 -36.97X + 115.16$"
      ]
    },
    {
      "cell_type": "code",
      "execution_count": 42,
      "metadata": {
        "colab": {
          "base_uri": "https://localhost:8080/",
          "height": 414
        },
        "id": "CRhq1YmFFr_w",
        "outputId": "2f737423-5254-4309-bc1d-521ce936b142"
      },
      "outputs": [
        {
          "data": {
            "text/plain": [
              "<matplotlib.legend.Legend at 0x7f6effaa0d90>"
            ]
          },
          "execution_count": 42,
          "metadata": {},
          "output_type": "execute_result"
        },
        {
          "data": {
            "image/png": "[encoded data removed]",
            "text/plain": [
              "<Figure size 720x432 with 1 Axes>"
            ]
          },
          "metadata": {
            "needs_background": "light"
          },
          "output_type": "display_data"
        }
      ],
      "source": [
        "# visualizacion\n",
        "X_fit2 = np.linspace(0, 10, 1000).reshape(1000, 1)\n",
        "X_new_poly2 = poly_features1.fit_transform(X_fit2)\n",
        "X_new_poly2\n",
        "y_fit2 = ridge_reg.predict(X_new_poly2)\n",
        "\n",
        "plt.figure(figsize=[10, 6])\n",
        "plt.scatter(X, y, alpha=0.6)\n",
        "plt.plot(X_fit2, y_fit2, \"r-\", linewidth=2, label=\"Predicciones (Ridge)\")\n",
        " \n",
        "plt.xlabel(\"$X$\", fontsize=18)\n",
        "plt.ylabel(\"$y$\", rotation=0, fontsize=18)\n",
        "plt.legend(loc=\"upper right\", fontsize=15)"
      ]
    },
    {
      "cell_type": "markdown",
      "metadata": {
        "id": "N3besIGyHFL-"
      },
      "source": [
        "Calculamos los errores **MAE**, **MSE** y **R²** para los datos de entrenamiento:"
      ]
    },
    {
      "cell_type": "code",
      "execution_count": 43,
      "metadata": {
        "colab": {
          "base_uri": "https://localhost:8080/"
        },
        "id": "LEgrOtODHGVd",
        "outputId": "0eb70693-537c-4650-fd9e-264aec3d8ee9"
      },
      "outputs": [
        {
          "name": "stdout",
          "output_type": "stream",
          "text": [
            "Datos de Entrenamiento:\n",
            "Error medio Absoluto (MAE)= 4.50711368434034\n",
            "Root Mean Squared Error (MSE)= 5.967156100728244\n",
            "R-cuadrada = 0.7024628197212527\n"
          ]
        }
      ],
      "source": [
        "print('Datos de Entrenamiento:')\n",
        "print('Error medio Absoluto (MAE)=', metrics.mean_absolute_error(y_train1, y_pred_R))\n",
        "print('Root Mean Squared Error (MSE)=', np.sqrt(metrics.mean_squared_error(y_train1, y_pred_R)))\n",
        "print('R-cuadrada =', r2_score(y_train1, y_pred_R))"
      ]
    },
    {
      "cell_type": "markdown",
      "metadata": {
        "id": "isjIcCPNIfZb"
      },
      "source": [
        "Ahora calculamos **MAE**, **MSE** y **R²** de la predicción con datos de prueba:"
      ]
    },
    {
      "cell_type": "code",
      "execution_count": 44,
      "metadata": {
        "colab": {
          "base_uri": "https://localhost:8080/"
        },
        "id": "nh0Z2R7SI3h8",
        "outputId": "a67a4441-5a77-4a36-c743-7f389891cc4c"
      },
      "outputs": [
        {
          "name": "stdout",
          "output_type": "stream",
          "text": [
            "Datos de Prueba:\n",
            "Error medio Absoluto (MAE)= 4.258474899746155\n",
            "Root Mean Squared Error (MSE)= 5.636448148974497\n",
            "R-cuadrada = 0.6115069624318024\n"
          ]
        }
      ],
      "source": [
        "# Predicciones con los datos de prueba\n",
        "y_hat_R = ridge_reg.predict(X_test_poly1)\n",
        "\n",
        "MAE_ridge = metrics.mean_absolute_error(y_test1, y_hat_R)\n",
        "MSE_ridge = np.sqrt(metrics.mean_squared_error(y_test1, y_hat_R))\n",
        "R2_ridge = r2_score(y_test1, y_hat_R)\n",
        "\n",
        "print('Datos de Prueba:')\n",
        "print('Error medio Absoluto (MAE)=', MAE_ridge)\n",
        "print('Root Mean Squared Error (MSE)=', MSE_ridge)\n",
        "print('R-cuadrada =', R2_ridge)"
      ]
    },
    {
      "cell_type": "markdown",
      "metadata": {
        "id": "aACm9f8OK90C"
      },
      "source": [
        "### **Regresión Lasso**"
      ]
    },
    {
      "cell_type": "code",
      "execution_count": 45,
      "metadata": {
        "colab": {
          "base_uri": "https://localhost:8080/"
        },
        "id": "a56RQI6VLGiV",
        "outputId": "49ae1601-2028-45e6-a6a2-6f38e0a63f45"
      },
      "outputs": [
        {
          "name": "stdout",
          "output_type": "stream",
          "text": [
            "a1, a2, a3, a4 =  [-2.78996308e+01  3.03100352e+00 -1.23079089e-02 -1.04806749e-02]\n",
            "b =  106.8189757370227\n"
          ]
        },
        {
          "name": "stderr",
          "output_type": "stream",
          "text": [
            "/usr/local/lib/python3.7/dist-packages/sklearn/linear_model/_coordinate_descent.py:648: ConvergenceWarning: Objective did not converge. You might want to increase the number of iterations, check the scale of the features or consider increasing regularisation. Duality gap: 1.440e+04, tolerance: 9.574e+00\n",
            "  coef_, l1_reg, l2_reg, X, y, max_iter, tol, rng, random, positive\n"
          ]
        }
      ],
      "source": [
        "lasso_reg = Lasso(alpha=.001)\n",
        "lasso_reg.fit(X_train_poly1, y_train1)\n",
        "\n",
        "y_pred_L = lasso_reg.predict(X_train_poly1) \n",
        "\n",
        "# Calculamos los parametros\n",
        "print('a1, a2, a3, a4 = ', lasso_reg.coef_)\n",
        "print('b = ', lasso_reg.intercept_)"
      ]
    },
    {
      "cell_type": "markdown",
      "metadata": {
        "id": "xRqdTCyDNTFZ"
      },
      "source": [
        "**Modelo generado:**\n",
        "\n",
        "${y} =  -27.90X + 3.03X^2 - 0.012X^3 - 0.01X^4 + 106.82$\n",
        "\n",
        "**Reacomodando los términos:**\n",
        "\n",
        "${y} = - 0.01X^4 - 0.012X^3 + 3.03X^2 -27.90X + 106.82$ "
      ]
    },
    {
      "cell_type": "code",
      "execution_count": 46,
      "metadata": {
        "colab": {
          "base_uri": "https://localhost:8080/",
          "height": 414
        },
        "id": "CTa1q-BXLy3K",
        "outputId": "b9bab868-bced-46b8-f8b3-b338c2635d3b"
      },
      "outputs": [
        {
          "data": {
            "text/plain": [
              "<matplotlib.legend.Legend at 0x7f6eff9e3dd0>"
            ]
          },
          "execution_count": 46,
          "metadata": {},
          "output_type": "execute_result"
        },
        {
          "data": {
            "image/png": "[encoded data removed]",
            "text/plain": [
              "<Figure size 720x432 with 1 Axes>"
            ]
          },
          "metadata": {
            "needs_background": "light"
          },
          "output_type": "display_data"
        }
      ],
      "source": [
        "# visualizacion\n",
        "X_fit3 = np.linspace(0, 10, 1000).reshape(1000, 1)\n",
        "X_new_poly3 = poly_features1.fit_transform(X_fit3)\n",
        "X_new_poly3\n",
        "y_fit3 = lasso_reg.predict(X_new_poly3)\n",
        "\n",
        "plt.figure(figsize=[10, 6])\n",
        "plt.scatter(X, y, alpha=0.6)\n",
        "plt.plot(X_fit3, y_fit3, \"r-\", linewidth=2, label=\"Predicciones (Lasso)\")\n",
        " \n",
        "plt.xlabel(\"$X$\", fontsize=18)\n",
        "plt.ylabel(\"$y$\", rotation=0, fontsize=18)\n",
        "plt.legend(loc=\"upper right\", fontsize=15)"
      ]
    },
    {
      "cell_type": "markdown",
      "metadata": {
        "id": "BrGpSMlCNPL9"
      },
      "source": [
        "Calculamos los errores **MAE**, **MSE** y **R²** para los datos de entrenamiento:"
      ]
    },
    {
      "cell_type": "code",
      "execution_count": 47,
      "metadata": {
        "colab": {
          "base_uri": "https://localhost:8080/"
        },
        "id": "8cH9h2ozNQI8",
        "outputId": "01acc170-b8db-4726-ec3c-46b57c59351e"
      },
      "outputs": [
        {
          "name": "stdout",
          "output_type": "stream",
          "text": [
            "Datos de Entrenamiento:\n",
            "Error medio Absoluto (MAE)= 4.546350988235677\n",
            "Root Mean Squared Error (MSE)= 6.016233955316288\n",
            "R-cuadrada = 0.6975484060562192\n"
          ]
        }
      ],
      "source": [
        "print('Datos de Entrenamiento:')\n",
        "print('Error medio Absoluto (MAE)=', metrics.mean_absolute_error(y_train1, y_pred_L))\n",
        "print('Root Mean Squared Error (MSE)=', np.sqrt(metrics.mean_squared_error(y_train1, y_pred_L)))\n",
        "print('R-cuadrada =', r2_score(y_train1, y_pred_L))"
      ]
    },
    {
      "cell_type": "markdown",
      "metadata": {
        "id": "tPATnUykNQzE"
      },
      "source": [
        "Ahora calculamos **MAE**, **MSE** y **R²** de la predicción con datos de prueba:"
      ]
    },
    {
      "cell_type": "code",
      "execution_count": 48,
      "metadata": {
        "colab": {
          "base_uri": "https://localhost:8080/"
        },
        "id": "FweGGSsjOhiV",
        "outputId": "95962715-c614-4c24-cec4-c45df7d0399c"
      },
      "outputs": [
        {
          "name": "stdout",
          "output_type": "stream",
          "text": [
            "Datos de Prueba:\n",
            "Error medio Absoluto (MAE)= 4.285377856077166\n",
            "Root Mean Squared Error (MSE)= 5.690017211246994\n",
            "R-cuadrada = 0.6040873596938308\n"
          ]
        }
      ],
      "source": [
        "# Predicciones con los datos de prueba\n",
        "y_hat_L = lasso_reg.predict(X_test_poly1)\n",
        "\n",
        "MAE_lasso = metrics.mean_absolute_error(y_test1, y_hat_L)\n",
        "MSE_lasso = np.sqrt(metrics.mean_squared_error(y_test1, y_hat_L))\n",
        "R2_lasso = r2_score(y_test1, y_hat_L)\n",
        "\n",
        "print('Datos de Prueba:')\n",
        "print('Error medio Absoluto (MAE)=', metrics.mean_absolute_error(y_test1, y_hat_L))\n",
        "print('Root Mean Squared Error (MSE)=', np.sqrt(metrics.mean_squared_error(y_test1, y_hat_L)))\n",
        "print('R-cuadrada =', r2_score(y_test1, y_hat_L))"
      ]
    },
    {
      "cell_type": "markdown",
      "metadata": {
        "id": "EOqNQoAmPEgW"
      },
      "source": [
        "### Finalmente grafica :\n",
        "**MAE (de los cuatro métodos)**\n",
        "\n",
        "**R2 (de los cuatro métodos)**"
      ]
    },
    {
      "cell_type": "code",
      "execution_count": 49,
      "metadata": {
        "colab": {
          "base_uri": "https://localhost:8080/",
          "height": 374
        },
        "id": "EsgLLkMgNZjF",
        "outputId": "df35c36a-7487-44e1-e891-d4c56c9876fb"
      },
      "outputs": [
        {
          "data": {
            "text/html": [
              "\n",
              "  <div id=\"df-836e6073-369a-4a61-a33d-ccddfa8b2ab9\">\n",
              "    <div class=\"colab-df-container\">\n",
              "      <div>\n",
              "<style scoped>\n",
              "    .dataframe tbody tr th:only-of-type {\n",
              "        vertical-align: middle;\n",
              "    }\n",
              "\n",
              "    .dataframe tbody tr th {\n",
              "        vertical-align: top;\n",
              "    }\n",
              "\n",
              "    .dataframe thead th {\n",
              "        text-align: right;\n",
              "    }\n",
              "</style>\n",
              "<table border=\"1\" class=\"dataframe\">\n",
              "  <thead>\n",
              "    <tr style=\"text-align: right;\">\n",
              "      <th></th>\n",
              "      <th>0</th>\n",
              "      <th>1</th>\n",
              "      <th>2</th>\n",
              "      <th>3</th>\n",
              "    </tr>\n",
              "  </thead>\n",
              "  <tbody>\n",
              "    <tr>\n",
              "      <th>Regresion</th>\n",
              "      <td>Lineal</td>\n",
              "      <td>Polinomial</td>\n",
              "      <td>Ridge</td>\n",
              "      <td>Lasso</td>\n",
              "    </tr>\n",
              "    <tr>\n",
              "      <th>MAE</th>\n",
              "      <td>4.513944</td>\n",
              "      <td>4.245119</td>\n",
              "      <td>4.258475</td>\n",
              "      <td>4.285378</td>\n",
              "    </tr>\n",
              "  </tbody>\n",
              "</table>\n",
              "</div>\n",
              "      <button class=\"colab-df-convert\" onclick=\"convertToInteractive('df-836e6073-369a-4a61-a33d-ccddfa8b2ab9')\"\n",
              "              title=\"Convert this dataframe to an interactive table.\"\n",
              "              style=\"display:none;\">\n",
              "        \n",
              "  <svg xmlns=\"http://www.w3.org/2000/svg\" height=\"24px\"viewBox=\"0 0 24 24\"\n",
              "       width=\"24px\">\n",
              "    <path d=\"M0 0h24v24H0V0z\" fill=\"none\"/>\n",
              "    <path d=\"M18.56 5.44l.94 2.06.94-2.06 2.06-.94-2.06-.94-.94-2.06-.94 2.06-2.06.94zm-11 1L8.5 8.5l.94-2.06 2.06-.94-2.06-.94L8.5 2.5l-.94 2.06-2.06.94zm10 10l.94 2.06.94-2.06 2.06-.94-2.06-.94-.94-2.06-.94 2.06-2.06.94z\"/><path d=\"M17.41 7.96l-1.37-1.37c-.4-.4-.92-.59-1.43-.59-.52 0-1.04.2-1.43.59L10.3 9.45l-7.72 7.72c-.78.78-.78 2.05 0 2.83L4 21.41c.39.39.9.59 1.41.59.51 0 1.02-.2 1.41-.59l7.78-7.78 2.81-2.81c.8-.78.8-2.07 0-2.86zM5.41 20L4 18.59l7.72-7.72 1.47 1.35L5.41 20z\"/>\n",
              "  </svg>\n",
              "      </button>\n",
              "      \n",
              "  <style>\n",
              "    .colab-df-container {\n",
              "      display:flex;\n",
              "      flex-wrap:wrap;\n",
              "      gap: 12px;\n",
              "    }\n",
              "\n",
              "    .colab-df-convert {\n",
              "      background-color: #E8F0FE;\n",
              "      border: none;\n",
              "      border-radius: 50%;\n",
              "      cursor: pointer;\n",
              "      display: none;\n",
              "      fill: #1967D2;\n",
              "      height: 32px;\n",
              "      padding: 0 0 0 0;\n",
              "      width: 32px;\n",
              "    }\n",
              "\n",
              "    .colab-df-convert:hover {\n",
              "      background-color: #E2EBFA;\n",
              "      box-shadow: 0px 1px 2px rgba(60, 64, 67, 0.3), 0px 1px 3px 1px rgba(60, 64, 67, 0.15);\n",
              "      fill: #174EA6;\n",
              "    }\n",
              "\n",
              "    [theme=dark] .colab-df-convert {\n",
              "      background-color: #3B4455;\n",
              "      fill: #D2E3FC;\n",
              "    }\n",
              "\n",
              "    [theme=dark] .colab-df-convert:hover {\n",
              "      background-color: #434B5C;\n",
              "      box-shadow: 0px 1px 3px 1px rgba(0, 0, 0, 0.15);\n",
              "      filter: drop-shadow(0px 1px 2px rgba(0, 0, 0, 0.3));\n",
              "      fill: #FFFFFF;\n",
              "    }\n",
              "  </style>\n",
              "\n",
              "      <script>\n",
              "        const buttonEl =\n",
              "          document.querySelector('#df-836e6073-369a-4a61-a33d-ccddfa8b2ab9 button.colab-df-convert');\n",
              "        buttonEl.style.display =\n",
              "          google.colab.kernel.accessAllowed ? 'block' : 'none';\n",
              "\n",
              "        async function convertToInteractive(key) {\n",
              "          const element = document.querySelector('#df-836e6073-369a-4a61-a33d-ccddfa8b2ab9');\n",
              "          const dataTable =\n",
              "            await google.colab.kernel.invokeFunction('convertToInteractive',\n",
              "                                                     [key], {});\n",
              "          if (!dataTable) return;\n",
              "\n",
              "          const docLinkHtml = 'Like what you see? Visit the ' +\n",
              "            '<a target=\"_blank\" href=https://colab.research.google.com/notebooks/data_table.ipynb>data table notebook</a>'\n",
              "            + ' to learn more about interactive tables.';\n",
              "          element.innerHTML = '';\n",
              "          dataTable['output_type'] = 'display_data';\n",
              "          await google.colab.output.renderOutput(dataTable, element);\n",
              "          const docLink = document.createElement('div');\n",
              "          docLink.innerHTML = docLinkHtml;\n",
              "          element.appendChild(docLink);\n",
              "        }\n",
              "      </script>\n",
              "    </div>\n",
              "  </div>\n",
              "  "
            ],
            "text/plain": [
              "                  0           1         2         3\n",
              "Regresion    Lineal  Polinomial     Ridge     Lasso\n",
              "MAE        4.513944    4.245119  4.258475  4.285378"
            ]
          },
          "execution_count": 49,
          "metadata": {},
          "output_type": "execute_result"
        },
        {
          "data": {
            "image/png": "[encoded data removed]",
            "text/plain": [
              "<Figure size 432x288 with 1 Axes>"
            ]
          },
          "metadata": {
            "needs_background": "light"
          },
          "output_type": "display_data"
        }
      ],
      "source": [
        "#MAE\n",
        "MAE_list = pd.DataFrame({'Regresion':['Lineal', 'Polinomial', 'Ridge', 'Lasso'], \n",
        "                         'MAE':[MAE_lineal, MAE_polinom, MAE_ridge, MAE_lasso]\n",
        "                         })\n",
        "\n",
        "ax = MAE_list.plot.bar(x='Regresion', y='MAE', rot=0)\n",
        "MAE_list.transpose()"
      ]
    },
    {
      "cell_type": "code",
      "execution_count": 50,
      "metadata": {
        "colab": {
          "base_uri": "https://localhost:8080/",
          "height": 374
        },
        "id": "91jq94yfSXCA",
        "outputId": "a0c9f9d1-c6ac-4802-95c3-3d5e7bab6934"
      },
      "outputs": [
        {
          "data": {
            "text/html": [
              "\n",
              "  <div id=\"df-e5e08b94-2890-489c-90a6-6e9c5edfc01b\">\n",
              "    <div class=\"colab-df-container\">\n",
              "      <div>\n",
              "<style scoped>\n",
              "    .dataframe tbody tr th:only-of-type {\n",
              "        vertical-align: middle;\n",
              "    }\n",
              "\n",
              "    .dataframe tbody tr th {\n",
              "        vertical-align: top;\n",
              "    }\n",
              "\n",
              "    .dataframe thead th {\n",
              "        text-align: right;\n",
              "    }\n",
              "</style>\n",
              "<table border=\"1\" class=\"dataframe\">\n",
              "  <thead>\n",
              "    <tr style=\"text-align: right;\">\n",
              "      <th></th>\n",
              "      <th>0</th>\n",
              "      <th>1</th>\n",
              "      <th>2</th>\n",
              "      <th>3</th>\n",
              "    </tr>\n",
              "  </thead>\n",
              "  <tbody>\n",
              "    <tr>\n",
              "      <th>Regresion</th>\n",
              "      <td>Lineal</td>\n",
              "      <td>Polinomial</td>\n",
              "      <td>Ridge</td>\n",
              "      <td>Lasso</td>\n",
              "    </tr>\n",
              "    <tr>\n",
              "      <th>R2</th>\n",
              "      <td>0.56959</td>\n",
              "      <td>0.614049</td>\n",
              "      <td>0.611507</td>\n",
              "      <td>0.604087</td>\n",
              "    </tr>\n",
              "  </tbody>\n",
              "</table>\n",
              "</div>\n",
              "      <button class=\"colab-df-convert\" onclick=\"convertToInteractive('df-e5e08b94-2890-489c-90a6-6e9c5edfc01b')\"\n",
              "              title=\"Convert this dataframe to an interactive table.\"\n",
              "              style=\"display:none;\">\n",
              "        \n",
              "  <svg xmlns=\"http://www.w3.org/2000/svg\" height=\"24px\"viewBox=\"0 0 24 24\"\n",
              "       width=\"24px\">\n",
              "    <path d=\"M0 0h24v24H0V0z\" fill=\"none\"/>\n",
              "    <path d=\"M18.56 5.44l.94 2.06.94-2.06 2.06-.94-2.06-.94-.94-2.06-.94 2.06-2.06.94zm-11 1L8.5 8.5l.94-2.06 2.06-.94-2.06-.94L8.5 2.5l-.94 2.06-2.06.94zm10 10l.94 2.06.94-2.06 2.06-.94-2.06-.94-.94-2.06-.94 2.06-2.06.94z\"/><path d=\"M17.41 7.96l-1.37-1.37c-.4-.4-.92-.59-1.43-.59-.52 0-1.04.2-1.43.59L10.3 9.45l-7.72 7.72c-.78.78-.78 2.05 0 2.83L4 21.41c.39.39.9.59 1.41.59.51 0 1.02-.2 1.41-.59l7.78-7.78 2.81-2.81c.8-.78.8-2.07 0-2.86zM5.41 20L4 18.59l7.72-7.72 1.47 1.35L5.41 20z\"/>\n",
              "  </svg>\n",
              "      </button>\n",
              "      \n",
              "  <style>\n",
              "    .colab-df-container {\n",
              "      display:flex;\n",
              "      flex-wrap:wrap;\n",
              "      gap: 12px;\n",
              "    }\n",
              "\n",
              "    .colab-df-convert {\n",
              "      background-color: #E8F0FE;\n",
              "      border: none;\n",
              "      border-radius: 50%;\n",
              "      cursor: pointer;\n",
              "      display: none;\n",
              "      fill: #1967D2;\n",
              "      height: 32px;\n",
              "      padding: 0 0 0 0;\n",
              "      width: 32px;\n",
              "    }\n",
              "\n",
              "    .colab-df-convert:hover {\n",
              "      background-color: #E2EBFA;\n",
              "      box-shadow: 0px 1px 2px rgba(60, 64, 67, 0.3), 0px 1px 3px 1px rgba(60, 64, 67, 0.15);\n",
              "      fill: #174EA6;\n",
              "    }\n",
              "\n",
              "    [theme=dark] .colab-df-convert {\n",
              "      background-color: #3B4455;\n",
              "      fill: #D2E3FC;\n",
              "    }\n",
              "\n",
              "    [theme=dark] .colab-df-convert:hover {\n",
              "      background-color: #434B5C;\n",
              "      box-shadow: 0px 1px 3px 1px rgba(0, 0, 0, 0.15);\n",
              "      filter: drop-shadow(0px 1px 2px rgba(0, 0, 0, 0.3));\n",
              "      fill: #FFFFFF;\n",
              "    }\n",
              "  </style>\n",
              "\n",
              "      <script>\n",
              "        const buttonEl =\n",
              "          document.querySelector('#df-e5e08b94-2890-489c-90a6-6e9c5edfc01b button.colab-df-convert');\n",
              "        buttonEl.style.display =\n",
              "          google.colab.kernel.accessAllowed ? 'block' : 'none';\n",
              "\n",
              "        async function convertToInteractive(key) {\n",
              "          const element = document.querySelector('#df-e5e08b94-2890-489c-90a6-6e9c5edfc01b');\n",
              "          const dataTable =\n",
              "            await google.colab.kernel.invokeFunction('convertToInteractive',\n",
              "                                                     [key], {});\n",
              "          if (!dataTable) return;\n",
              "\n",
              "          const docLinkHtml = 'Like what you see? Visit the ' +\n",
              "            '<a target=\"_blank\" href=https://colab.research.google.com/notebooks/data_table.ipynb>data table notebook</a>'\n",
              "            + ' to learn more about interactive tables.';\n",
              "          element.innerHTML = '';\n",
              "          dataTable['output_type'] = 'display_data';\n",
              "          await google.colab.output.renderOutput(dataTable, element);\n",
              "          const docLink = document.createElement('div');\n",
              "          docLink.innerHTML = docLinkHtml;\n",
              "          element.appendChild(docLink);\n",
              "        }\n",
              "      </script>\n",
              "    </div>\n",
              "  </div>\n",
              "  "
            ],
            "text/plain": [
              "                 0           1         2         3\n",
              "Regresion   Lineal  Polinomial     Ridge     Lasso\n",
              "R2         0.56959    0.614049  0.611507  0.604087"
            ]
          },
          "execution_count": 50,
          "metadata": {},
          "output_type": "execute_result"
        },
        {
          "data": {
            "image/png": "[encoded data removed]",
            "text/plain": [
              "<Figure size 432x288 with 1 Axes>"
            ]
          },
          "metadata": {
            "needs_background": "light"
          },
          "output_type": "display_data"
        }
      ],
      "source": [
        "#R-cuadrada\n",
        "R2_list = pd.DataFrame({'Regresion':['Lineal', 'Polinomial', 'Ridge', 'Lasso'], \n",
        "                         'R2':[R2_lineal, R2_polinom, R2_ridge, R2_lasso]\n",
        "                         })\n",
        "\n",
        "ax = R2_list.plot.bar(x='Regresion', y='R2', rot=0)\n",
        "R2_list.transpose()"
      ]
    },
    {
      "cell_type": "markdown",
      "metadata": {
        "id": "JhdVPz6_9wKs"
      },
      "source": [
        "### ¿Qué método conviene más a la empresa, por qué? \n",
        "\n",
        "Podemos observar que el modelo de regresión lineal no se ajusta adecuadamente a los datos. Esto resulta obvio al observar que los datos siguen una curva tipo parabólica, lo cual nos indica que por lo menos necesitamos un modelo cuadrático.  \n",
        "Por lo tanto, el modelo de regresión Polinomial resulta más adecuado, en nuestro caso usamos un grado 4. De acuerdo con las metricas MAE y R2 confirmamos que el modelo polinomial se comporta un poco mejor que Ridge y Lasso. Además, aplicando los métodos de regularización mejora un poco el ajuste del modelo con la regresión Ridge.   \n"
      ]
    },
    {
      "cell_type": "markdown",
      "metadata": {
        "id": "F0RgqPXI_Jso"
      },
      "source": [
        "### ¿Qué porcentajes de entrenamiento y evaluación usaste? \n",
        "Para los cuatro modelos usamos un 80% de los datos para entrenamiento y 20% para evaluación. "
      ]
    },
    {
      "cell_type": "markdown",
      "metadata": {
        "id": "qDeyf8cF_MVB"
      },
      "source": [
        "### ¿Qué error tienes, es bueno, como lo sabes? \n",
        "Evaluamos que tan bueno o malo es nuestro modelo mediante las métricas: Error medio absoluto (MAE) y R2. En general buscamos un bajo error MAE y un R2 cercano a 1. \n",
        "Con ayuda de las graficas de los 4 modelos, vemos que el Polinomial, Ridge y Lasso tienen un valor de MAE muy parecido entre 4.24 y 4.28. Los datos de la variable dependiente (costo de manufactura) estan en el rango de entre 20 y 100, por lo que pudiéramos asumir como aceptable los valores de error MAE. De igual manera, el modelo Polinomial y Ridge tienen un R2 practicamente igual y el modelo Lineal se queda mas abajo."
      ]
    },
    {
      "cell_type": "markdown",
      "metadata": {
        "id": "CfqcmLmxLoe9"
      },
      "source": [
        "# Ejercicio 2\n",
        "Realiza la regresión polinomial de los siguientes datos:"
      ]
    },
    {
      "cell_type": "code",
      "execution_count": 51,
      "metadata": {
        "colab": {
          "base_uri": "https://localhost:8080/",
          "height": 456
        },
        "id": "57bn0j38qGrg",
        "outputId": "9ed76176-f0b8-4e8a-f18f-82da0dbd84d3"
      },
      "outputs": [
        {
          "data": {
            "text/html": [
              "\n",
              "  <div id=\"df-f2e3945a-dfd2-4022-a153-0aa7e8dd3874\">\n",
              "    <div class=\"colab-df-container\">\n",
              "      <div>\n",
              "<style scoped>\n",
              "    .dataframe tbody tr th:only-of-type {\n",
              "        vertical-align: middle;\n",
              "    }\n",
              "\n",
              "    .dataframe tbody tr th {\n",
              "        vertical-align: top;\n",
              "    }\n",
              "\n",
              "    .dataframe thead th {\n",
              "        text-align: right;\n",
              "    }\n",
              "</style>\n",
              "<table border=\"1\" class=\"dataframe\">\n",
              "  <thead>\n",
              "    <tr style=\"text-align: right;\">\n",
              "      <th></th>\n",
              "      <th>id</th>\n",
              "      <th>date</th>\n",
              "      <th>price</th>\n",
              "      <th>bedrooms</th>\n",
              "      <th>bathrooms</th>\n",
              "      <th>sqft_living</th>\n",
              "      <th>sqft_lot</th>\n",
              "      <th>floors</th>\n",
              "      <th>waterfront</th>\n",
              "      <th>view</th>\n",
              "      <th>...</th>\n",
              "      <th>grade</th>\n",
              "      <th>sqft_above</th>\n",
              "      <th>sqft_basement</th>\n",
              "      <th>yr_built</th>\n",
              "      <th>yr_renovated</th>\n",
              "      <th>zipcode</th>\n",
              "      <th>lat</th>\n",
              "      <th>long</th>\n",
              "      <th>sqft_living15</th>\n",
              "      <th>sqft_lot15</th>\n",
              "    </tr>\n",
              "  </thead>\n",
              "  <tbody>\n",
              "    <tr>\n",
              "      <th>5954</th>\n",
              "      <td>7852020250</td>\n",
              "      <td>20140602T000000</td>\n",
              "      <td>725995.0</td>\n",
              "      <td>4</td>\n",
              "      <td>2.50</td>\n",
              "      <td>3190</td>\n",
              "      <td>7869</td>\n",
              "      <td>2.0</td>\n",
              "      <td>0</td>\n",
              "      <td>2</td>\n",
              "      <td>...</td>\n",
              "      <td>9</td>\n",
              "      <td>3190</td>\n",
              "      <td>0</td>\n",
              "      <td>2001</td>\n",
              "      <td>0</td>\n",
              "      <td>98065</td>\n",
              "      <td>47.5317</td>\n",
              "      <td>-121.866</td>\n",
              "      <td>2630</td>\n",
              "      <td>6739</td>\n",
              "    </tr>\n",
              "    <tr>\n",
              "      <th>8610</th>\n",
              "      <td>6392002020</td>\n",
              "      <td>20150324T000000</td>\n",
              "      <td>559000.0</td>\n",
              "      <td>3</td>\n",
              "      <td>1.75</td>\n",
              "      <td>1700</td>\n",
              "      <td>6500</td>\n",
              "      <td>1.0</td>\n",
              "      <td>0</td>\n",
              "      <td>0</td>\n",
              "      <td>...</td>\n",
              "      <td>8</td>\n",
              "      <td>1700</td>\n",
              "      <td>0</td>\n",
              "      <td>1967</td>\n",
              "      <td>0</td>\n",
              "      <td>98115</td>\n",
              "      <td>47.6837</td>\n",
              "      <td>-122.284</td>\n",
              "      <td>1880</td>\n",
              "      <td>6000</td>\n",
              "    </tr>\n",
              "    <tr>\n",
              "      <th>7650</th>\n",
              "      <td>626049058</td>\n",
              "      <td>20150504T000000</td>\n",
              "      <td>275000.0</td>\n",
              "      <td>5</td>\n",
              "      <td>2.50</td>\n",
              "      <td>2570</td>\n",
              "      <td>17234</td>\n",
              "      <td>1.0</td>\n",
              "      <td>0</td>\n",
              "      <td>0</td>\n",
              "      <td>...</td>\n",
              "      <td>7</td>\n",
              "      <td>1300</td>\n",
              "      <td>1270</td>\n",
              "      <td>1959</td>\n",
              "      <td>0</td>\n",
              "      <td>98133</td>\n",
              "      <td>47.7753</td>\n",
              "      <td>-122.355</td>\n",
              "      <td>1760</td>\n",
              "      <td>7969</td>\n",
              "    </tr>\n",
              "    <tr>\n",
              "      <th>5683</th>\n",
              "      <td>2202500255</td>\n",
              "      <td>20150305T000000</td>\n",
              "      <td>335000.0</td>\n",
              "      <td>3</td>\n",
              "      <td>2.00</td>\n",
              "      <td>1210</td>\n",
              "      <td>9926</td>\n",
              "      <td>1.0</td>\n",
              "      <td>0</td>\n",
              "      <td>0</td>\n",
              "      <td>...</td>\n",
              "      <td>7</td>\n",
              "      <td>1210</td>\n",
              "      <td>0</td>\n",
              "      <td>1954</td>\n",
              "      <td>2015</td>\n",
              "      <td>98006</td>\n",
              "      <td>47.5731</td>\n",
              "      <td>-122.135</td>\n",
              "      <td>1690</td>\n",
              "      <td>9737</td>\n",
              "    </tr>\n",
              "    <tr>\n",
              "      <th>20773</th>\n",
              "      <td>7304301231</td>\n",
              "      <td>20140617T000000</td>\n",
              "      <td>345000.0</td>\n",
              "      <td>3</td>\n",
              "      <td>2.50</td>\n",
              "      <td>1680</td>\n",
              "      <td>2229</td>\n",
              "      <td>2.0</td>\n",
              "      <td>0</td>\n",
              "      <td>0</td>\n",
              "      <td>...</td>\n",
              "      <td>7</td>\n",
              "      <td>1680</td>\n",
              "      <td>0</td>\n",
              "      <td>2007</td>\n",
              "      <td>0</td>\n",
              "      <td>98155</td>\n",
              "      <td>47.7484</td>\n",
              "      <td>-122.322</td>\n",
              "      <td>1230</td>\n",
              "      <td>9300</td>\n",
              "    </tr>\n",
              "    <tr>\n",
              "      <th>6959</th>\n",
              "      <td>723000114</td>\n",
              "      <td>20140505T000000</td>\n",
              "      <td>1395000.0</td>\n",
              "      <td>5</td>\n",
              "      <td>3.50</td>\n",
              "      <td>4010</td>\n",
              "      <td>8510</td>\n",
              "      <td>2.0</td>\n",
              "      <td>0</td>\n",
              "      <td>1</td>\n",
              "      <td>...</td>\n",
              "      <td>9</td>\n",
              "      <td>2850</td>\n",
              "      <td>1160</td>\n",
              "      <td>1971</td>\n",
              "      <td>0</td>\n",
              "      <td>98105</td>\n",
              "      <td>47.6578</td>\n",
              "      <td>-122.286</td>\n",
              "      <td>2610</td>\n",
              "      <td>6128</td>\n",
              "    </tr>\n",
              "    <tr>\n",
              "      <th>10784</th>\n",
              "      <td>4104900340</td>\n",
              "      <td>20150204T000000</td>\n",
              "      <td>710000.0</td>\n",
              "      <td>4</td>\n",
              "      <td>2.50</td>\n",
              "      <td>3220</td>\n",
              "      <td>18618</td>\n",
              "      <td>2.0</td>\n",
              "      <td>0</td>\n",
              "      <td>1</td>\n",
              "      <td>...</td>\n",
              "      <td>10</td>\n",
              "      <td>3220</td>\n",
              "      <td>0</td>\n",
              "      <td>1991</td>\n",
              "      <td>0</td>\n",
              "      <td>98056</td>\n",
              "      <td>47.5326</td>\n",
              "      <td>-122.181</td>\n",
              "      <td>2650</td>\n",
              "      <td>11896</td>\n",
              "    </tr>\n",
              "    <tr>\n",
              "      <th>21529</th>\n",
              "      <td>2487200490</td>\n",
              "      <td>20140623T000000</td>\n",
              "      <td>670000.0</td>\n",
              "      <td>3</td>\n",
              "      <td>2.50</td>\n",
              "      <td>3310</td>\n",
              "      <td>5300</td>\n",
              "      <td>2.0</td>\n",
              "      <td>0</td>\n",
              "      <td>2</td>\n",
              "      <td>...</td>\n",
              "      <td>8</td>\n",
              "      <td>2440</td>\n",
              "      <td>870</td>\n",
              "      <td>2008</td>\n",
              "      <td>0</td>\n",
              "      <td>98136</td>\n",
              "      <td>47.5178</td>\n",
              "      <td>-122.389</td>\n",
              "      <td>2140</td>\n",
              "      <td>7500</td>\n",
              "    </tr>\n",
              "    <tr>\n",
              "      <th>12319</th>\n",
              "      <td>2386000070</td>\n",
              "      <td>20141029T000000</td>\n",
              "      <td>795127.0</td>\n",
              "      <td>4</td>\n",
              "      <td>3.25</td>\n",
              "      <td>4360</td>\n",
              "      <td>91158</td>\n",
              "      <td>1.0</td>\n",
              "      <td>0</td>\n",
              "      <td>0</td>\n",
              "      <td>...</td>\n",
              "      <td>10</td>\n",
              "      <td>3360</td>\n",
              "      <td>1000</td>\n",
              "      <td>1993</td>\n",
              "      <td>0</td>\n",
              "      <td>98053</td>\n",
              "      <td>47.6398</td>\n",
              "      <td>-121.985</td>\n",
              "      <td>3540</td>\n",
              "      <td>90940</td>\n",
              "    </tr>\n",
              "    <tr>\n",
              "      <th>19948</th>\n",
              "      <td>293070090</td>\n",
              "      <td>20140711T000000</td>\n",
              "      <td>859990.0</td>\n",
              "      <td>4</td>\n",
              "      <td>2.75</td>\n",
              "      <td>3520</td>\n",
              "      <td>5500</td>\n",
              "      <td>2.0</td>\n",
              "      <td>0</td>\n",
              "      <td>0</td>\n",
              "      <td>...</td>\n",
              "      <td>9</td>\n",
              "      <td>3520</td>\n",
              "      <td>0</td>\n",
              "      <td>2014</td>\n",
              "      <td>0</td>\n",
              "      <td>98074</td>\n",
              "      <td>47.6181</td>\n",
              "      <td>-122.056</td>\n",
              "      <td>3340</td>\n",
              "      <td>5500</td>\n",
              "    </tr>\n",
              "  </tbody>\n",
              "</table>\n",
              "<p>10 rows × 21 columns</p>\n",
              "</div>\n",
              "      <button class=\"colab-df-convert\" onclick=\"convertToInteractive('df-f2e3945a-dfd2-4022-a153-0aa7e8dd3874')\"\n",
              "              title=\"Convert this dataframe to an interactive table.\"\n",
              "              style=\"display:none;\">\n",
              "        \n",
              "  <svg xmlns=\"http://www.w3.org/2000/svg\" height=\"24px\"viewBox=\"0 0 24 24\"\n",
              "       width=\"24px\">\n",
              "    <path d=\"M0 0h24v24H0V0z\" fill=\"none\"/>\n",
              "    <path d=\"M18.56 5.44l.94 2.06.94-2.06 2.06-.94-2.06-.94-.94-2.06-.94 2.06-2.06.94zm-11 1L8.5 8.5l.94-2.06 2.06-.94-2.06-.94L8.5 2.5l-.94 2.06-2.06.94zm10 10l.94 2.06.94-2.06 2.06-.94-2.06-.94-.94-2.06-.94 2.06-2.06.94z\"/><path d=\"M17.41 7.96l-1.37-1.37c-.4-.4-.92-.59-1.43-.59-.52 0-1.04.2-1.43.59L10.3 9.45l-7.72 7.72c-.78.78-.78 2.05 0 2.83L4 21.41c.39.39.9.59 1.41.59.51 0 1.02-.2 1.41-.59l7.78-7.78 2.81-2.81c.8-.78.8-2.07 0-2.86zM5.41 20L4 18.59l7.72-7.72 1.47 1.35L5.41 20z\"/>\n",
              "  </svg>\n",
              "      </button>\n",
              "      \n",
              "  <style>\n",
              "    .colab-df-container {\n",
              "      display:flex;\n",
              "      flex-wrap:wrap;\n",
              "      gap: 12px;\n",
              "    }\n",
              "\n",
              "    .colab-df-convert {\n",
              "      background-color: #E8F0FE;\n",
              "      border: none;\n",
              "      border-radius: 50%;\n",
              "      cursor: pointer;\n",
              "      display: none;\n",
              "      fill: #1967D2;\n",
              "      height: 32px;\n",
              "      padding: 0 0 0 0;\n",
              "      width: 32px;\n",
              "    }\n",
              "\n",
              "    .colab-df-convert:hover {\n",
              "      background-color: #E2EBFA;\n",
              "      box-shadow: 0px 1px 2px rgba(60, 64, 67, 0.3), 0px 1px 3px 1px rgba(60, 64, 67, 0.15);\n",
              "      fill: #174EA6;\n",
              "    }\n",
              "\n",
              "    [theme=dark] .colab-df-convert {\n",
              "      background-color: #3B4455;\n",
              "      fill: #D2E3FC;\n",
              "    }\n",
              "\n",
              "    [theme=dark] .colab-df-convert:hover {\n",
              "      background-color: #434B5C;\n",
              "      box-shadow: 0px 1px 3px 1px rgba(0, 0, 0, 0.15);\n",
              "      filter: drop-shadow(0px 1px 2px rgba(0, 0, 0, 0.3));\n",
              "      fill: #FFFFFF;\n",
              "    }\n",
              "  </style>\n",
              "\n",
              "      <script>\n",
              "        const buttonEl =\n",
              "          document.querySelector('#df-f2e3945a-dfd2-4022-a153-0aa7e8dd3874 button.colab-df-convert');\n",
              "        buttonEl.style.display =\n",
              "          google.colab.kernel.accessAllowed ? 'block' : 'none';\n",
              "\n",
              "        async function convertToInteractive(key) {\n",
              "          const element = document.querySelector('#df-f2e3945a-dfd2-4022-a153-0aa7e8dd3874');\n",
              "          const dataTable =\n",
              "            await google.colab.kernel.invokeFunction('convertToInteractive',\n",
              "                                                     [key], {});\n",
              "          if (!dataTable) return;\n",
              "\n",
              "          const docLinkHtml = 'Like what you see? Visit the ' +\n",
              "            '<a target=\"_blank\" href=https://colab.research.google.com/notebooks/data_table.ipynb>data table notebook</a>'\n",
              "            + ' to learn more about interactive tables.';\n",
              "          element.innerHTML = '';\n",
              "          dataTable['output_type'] = 'display_data';\n",
              "          await google.colab.output.renderOutput(dataTable, element);\n",
              "          const docLink = document.createElement('div');\n",
              "          docLink.innerHTML = docLinkHtml;\n",
              "          element.appendChild(docLink);\n",
              "        }\n",
              "      </script>\n",
              "    </div>\n",
              "  </div>\n",
              "  "
            ],
            "text/plain": [
              "               id             date      price  bedrooms  bathrooms  \\\n",
              "5954   7852020250  20140602T000000   725995.0         4       2.50   \n",
              "8610   6392002020  20150324T000000   559000.0         3       1.75   \n",
              "7650    626049058  20150504T000000   275000.0         5       2.50   \n",
              "5683   2202500255  20150305T000000   335000.0         3       2.00   \n",
              "20773  7304301231  20140617T000000   345000.0         3       2.50   \n",
              "6959    723000114  20140505T000000  1395000.0         5       3.50   \n",
              "10784  4104900340  20150204T000000   710000.0         4       2.50   \n",
              "21529  2487200490  20140623T000000   670000.0         3       2.50   \n",
              "12319  2386000070  20141029T000000   795127.0         4       3.25   \n",
              "19948   293070090  20140711T000000   859990.0         4       2.75   \n",
              "\n",
              "       sqft_living  sqft_lot  floors  waterfront  view  ...  grade  \\\n",
              "5954          3190      7869     2.0           0     2  ...      9   \n",
              "8610          1700      6500     1.0           0     0  ...      8   \n",
              "7650          2570     17234     1.0           0     0  ...      7   \n",
              "5683          1210      9926     1.0           0     0  ...      7   \n",
              "20773         1680      2229     2.0           0     0  ...      7   \n",
              "6959          4010      8510     2.0           0     1  ...      9   \n",
              "10784         3220     18618     2.0           0     1  ...     10   \n",
              "21529         3310      5300     2.0           0     2  ...      8   \n",
              "12319         4360     91158     1.0           0     0  ...     10   \n",
              "19948         3520      5500     2.0           0     0  ...      9   \n",
              "\n",
              "       sqft_above  sqft_basement  yr_built  yr_renovated  zipcode      lat  \\\n",
              "5954         3190              0      2001             0    98065  47.5317   \n",
              "8610         1700              0      1967             0    98115  47.6837   \n",
              "7650         1300           1270      1959             0    98133  47.7753   \n",
              "5683         1210              0      1954          2015    98006  47.5731   \n",
              "20773        1680              0      2007             0    98155  47.7484   \n",
              "6959         2850           1160      1971             0    98105  47.6578   \n",
              "10784        3220              0      1991             0    98056  47.5326   \n",
              "21529        2440            870      2008             0    98136  47.5178   \n",
              "12319        3360           1000      1993             0    98053  47.6398   \n",
              "19948        3520              0      2014             0    98074  47.6181   \n",
              "\n",
              "          long  sqft_living15  sqft_lot15  \n",
              "5954  -121.866           2630        6739  \n",
              "8610  -122.284           1880        6000  \n",
              "7650  -122.355           1760        7969  \n",
              "5683  -122.135           1690        9737  \n",
              "20773 -122.322           1230        9300  \n",
              "6959  -122.286           2610        6128  \n",
              "10784 -122.181           2650       11896  \n",
              "21529 -122.389           2140        7500  \n",
              "12319 -121.985           3540       90940  \n",
              "19948 -122.056           3340        5500  \n",
              "\n",
              "[10 rows x 21 columns]"
            ]
          },
          "execution_count": 51,
          "metadata": {},
          "output_type": "execute_result"
        }
      ],
      "source": [
        "df = pd.read_csv('https://raw.githubusercontent.com/marypazrf/bdd/main/kc_house_data.csv')\n",
        "df.sample(10)"
      ]
    },
    {
      "cell_type": "code",
      "execution_count": 52,
      "metadata": {
        "colab": {
          "base_uri": "https://localhost:8080/"
        },
        "id": "n0fs14KoqI3M",
        "outputId": "908302fd-bd43-4fb8-a9bb-8bdaa0ffc3c7"
      },
      "outputs": [
        {
          "name": "stdout",
          "output_type": "stream",
          "text": [
            "<class 'pandas.core.frame.DataFrame'>\n",
            "RangeIndex: 21613 entries, 0 to 21612\n",
            "Data columns (total 21 columns):\n",
            " #   Column         Non-Null Count  Dtype  \n",
            "---  ------         --------------  -----  \n",
            " 0   id             21613 non-null  int64  \n",
            " 1   date           21613 non-null  object \n",
            " 2   price          21613 non-null  float64\n",
            " 3   bedrooms       21613 non-null  int64  \n",
            " 4   bathrooms      21613 non-null  float64\n",
            " 5   sqft_living    21613 non-null  int64  \n",
            " 6   sqft_lot       21613 non-null  int64  \n",
            " 7   floors         21613 non-null  float64\n",
            " 8   waterfront     21613 non-null  int64  \n",
            " 9   view           21613 non-null  int64  \n",
            " 10  condition      21613 non-null  int64  \n",
            " 11  grade          21613 non-null  int64  \n",
            " 12  sqft_above     21613 non-null  int64  \n",
            " 13  sqft_basement  21613 non-null  int64  \n",
            " 14  yr_built       21613 non-null  int64  \n",
            " 15  yr_renovated   21613 non-null  int64  \n",
            " 16  zipcode        21613 non-null  int64  \n",
            " 17  lat            21613 non-null  float64\n",
            " 18  long           21613 non-null  float64\n",
            " 19  sqft_living15  21613 non-null  int64  \n",
            " 20  sqft_lot15     21613 non-null  int64  \n",
            "dtypes: float64(5), int64(15), object(1)\n",
            "memory usage: 3.5+ MB\n"
          ]
        }
      ],
      "source": [
        "df.info()"
      ]
    },
    {
      "cell_type": "code",
      "execution_count": 53,
      "metadata": {
        "colab": {
          "base_uri": "https://localhost:8080/",
          "height": 364
        },
        "id": "1PNzDJZeqKhe",
        "outputId": "3c91e0f6-4761-43e2-81d9-07dafcac8353"
      },
      "outputs": [
        {
          "data": {
            "text/html": [
              "\n",
              "  <div id=\"df-877ea2d0-074e-4d67-bdb7-449f36ad1543\">\n",
              "    <div class=\"colab-df-container\">\n",
              "      <div>\n",
              "<style scoped>\n",
              "    .dataframe tbody tr th:only-of-type {\n",
              "        vertical-align: middle;\n",
              "    }\n",
              "\n",
              "    .dataframe tbody tr th {\n",
              "        vertical-align: top;\n",
              "    }\n",
              "\n",
              "    .dataframe thead th {\n",
              "        text-align: right;\n",
              "    }\n",
              "</style>\n",
              "<table border=\"1\" class=\"dataframe\">\n",
              "  <thead>\n",
              "    <tr style=\"text-align: right;\">\n",
              "      <th></th>\n",
              "      <th>id</th>\n",
              "      <th>price</th>\n",
              "      <th>bedrooms</th>\n",
              "      <th>bathrooms</th>\n",
              "      <th>sqft_living</th>\n",
              "      <th>sqft_lot</th>\n",
              "      <th>floors</th>\n",
              "      <th>waterfront</th>\n",
              "      <th>view</th>\n",
              "      <th>condition</th>\n",
              "      <th>grade</th>\n",
              "      <th>sqft_above</th>\n",
              "      <th>sqft_basement</th>\n",
              "      <th>yr_built</th>\n",
              "      <th>yr_renovated</th>\n",
              "      <th>zipcode</th>\n",
              "      <th>lat</th>\n",
              "      <th>long</th>\n",
              "      <th>sqft_living15</th>\n",
              "      <th>sqft_lot15</th>\n",
              "    </tr>\n",
              "  </thead>\n",
              "  <tbody>\n",
              "    <tr>\n",
              "      <th>count</th>\n",
              "      <td>2.161300e+04</td>\n",
              "      <td>2.161300e+04</td>\n",
              "      <td>21613.000000</td>\n",
              "      <td>21613.000000</td>\n",
              "      <td>21613.000000</td>\n",
              "      <td>2.161300e+04</td>\n",
              "      <td>21613.000000</td>\n",
              "      <td>21613.000000</td>\n",
              "      <td>21613.000000</td>\n",
              "      <td>21613.000000</td>\n",
              "      <td>21613.000000</td>\n",
              "      <td>21613.000000</td>\n",
              "      <td>21613.000000</td>\n",
              "      <td>21613.000000</td>\n",
              "      <td>21613.000000</td>\n",
              "      <td>21613.000000</td>\n",
              "      <td>21613.000000</td>\n",
              "      <td>21613.000000</td>\n",
              "      <td>21613.000000</td>\n",
              "      <td>21613.000000</td>\n",
              "    </tr>\n",
              "    <tr>\n",
              "      <th>mean</th>\n",
              "      <td>4.580302e+09</td>\n",
              "      <td>5.400881e+05</td>\n",
              "      <td>3.370842</td>\n",
              "      <td>2.114757</td>\n",
              "      <td>2079.899736</td>\n",
              "      <td>1.510697e+04</td>\n",
              "      <td>1.494309</td>\n",
              "      <td>0.007542</td>\n",
              "      <td>0.234303</td>\n",
              "      <td>3.409430</td>\n",
              "      <td>7.656873</td>\n",
              "      <td>1788.390691</td>\n",
              "      <td>291.509045</td>\n",
              "      <td>1971.005136</td>\n",
              "      <td>84.402258</td>\n",
              "      <td>98077.939805</td>\n",
              "      <td>47.560053</td>\n",
              "      <td>-122.213896</td>\n",
              "      <td>1986.552492</td>\n",
              "      <td>12768.455652</td>\n",
              "    </tr>\n",
              "    <tr>\n",
              "      <th>std</th>\n",
              "      <td>2.876566e+09</td>\n",
              "      <td>3.671272e+05</td>\n",
              "      <td>0.930062</td>\n",
              "      <td>0.770163</td>\n",
              "      <td>918.440897</td>\n",
              "      <td>4.142051e+04</td>\n",
              "      <td>0.539989</td>\n",
              "      <td>0.086517</td>\n",
              "      <td>0.766318</td>\n",
              "      <td>0.650743</td>\n",
              "      <td>1.175459</td>\n",
              "      <td>828.090978</td>\n",
              "      <td>442.575043</td>\n",
              "      <td>29.373411</td>\n",
              "      <td>401.679240</td>\n",
              "      <td>53.505026</td>\n",
              "      <td>0.138564</td>\n",
              "      <td>0.140828</td>\n",
              "      <td>685.391304</td>\n",
              "      <td>27304.179631</td>\n",
              "    </tr>\n",
              "    <tr>\n",
              "      <th>min</th>\n",
              "      <td>1.000102e+06</td>\n",
              "      <td>7.500000e+04</td>\n",
              "      <td>0.000000</td>\n",
              "      <td>0.000000</td>\n",
              "      <td>290.000000</td>\n",
              "      <td>5.200000e+02</td>\n",
              "      <td>1.000000</td>\n",
              "      <td>0.000000</td>\n",
              "      <td>0.000000</td>\n",
              "      <td>1.000000</td>\n",
              "      <td>1.000000</td>\n",
              "      <td>290.000000</td>\n",
              "      <td>0.000000</td>\n",
              "      <td>1900.000000</td>\n",
              "      <td>0.000000</td>\n",
              "      <td>98001.000000</td>\n",
              "      <td>47.155900</td>\n",
              "      <td>-122.519000</td>\n",
              "      <td>399.000000</td>\n",
              "      <td>651.000000</td>\n",
              "    </tr>\n",
              "    <tr>\n",
              "      <th>25%</th>\n",
              "      <td>2.123049e+09</td>\n",
              "      <td>3.219500e+05</td>\n",
              "      <td>3.000000</td>\n",
              "      <td>1.750000</td>\n",
              "      <td>1427.000000</td>\n",
              "      <td>5.040000e+03</td>\n",
              "      <td>1.000000</td>\n",
              "      <td>0.000000</td>\n",
              "      <td>0.000000</td>\n",
              "      <td>3.000000</td>\n",
              "      <td>7.000000</td>\n",
              "      <td>1190.000000</td>\n",
              "      <td>0.000000</td>\n",
              "      <td>1951.000000</td>\n",
              "      <td>0.000000</td>\n",
              "      <td>98033.000000</td>\n",
              "      <td>47.471000</td>\n",
              "      <td>-122.328000</td>\n",
              "      <td>1490.000000</td>\n",
              "      <td>5100.000000</td>\n",
              "    </tr>\n",
              "    <tr>\n",
              "      <th>50%</th>\n",
              "      <td>3.904930e+09</td>\n",
              "      <td>4.500000e+05</td>\n",
              "      <td>3.000000</td>\n",
              "      <td>2.250000</td>\n",
              "      <td>1910.000000</td>\n",
              "      <td>7.618000e+03</td>\n",
              "      <td>1.500000</td>\n",
              "      <td>0.000000</td>\n",
              "      <td>0.000000</td>\n",
              "      <td>3.000000</td>\n",
              "      <td>7.000000</td>\n",
              "      <td>1560.000000</td>\n",
              "      <td>0.000000</td>\n",
              "      <td>1975.000000</td>\n",
              "      <td>0.000000</td>\n",
              "      <td>98065.000000</td>\n",
              "      <td>47.571800</td>\n",
              "      <td>-122.230000</td>\n",
              "      <td>1840.000000</td>\n",
              "      <td>7620.000000</td>\n",
              "    </tr>\n",
              "    <tr>\n",
              "      <th>75%</th>\n",
              "      <td>7.308900e+09</td>\n",
              "      <td>6.450000e+05</td>\n",
              "      <td>4.000000</td>\n",
              "      <td>2.500000</td>\n",
              "      <td>2550.000000</td>\n",
              "      <td>1.068800e+04</td>\n",
              "      <td>2.000000</td>\n",
              "      <td>0.000000</td>\n",
              "      <td>0.000000</td>\n",
              "      <td>4.000000</td>\n",
              "      <td>8.000000</td>\n",
              "      <td>2210.000000</td>\n",
              "      <td>560.000000</td>\n",
              "      <td>1997.000000</td>\n",
              "      <td>0.000000</td>\n",
              "      <td>98118.000000</td>\n",
              "      <td>47.678000</td>\n",
              "      <td>-122.125000</td>\n",
              "      <td>2360.000000</td>\n",
              "      <td>10083.000000</td>\n",
              "    </tr>\n",
              "    <tr>\n",
              "      <th>max</th>\n",
              "      <td>9.900000e+09</td>\n",
              "      <td>7.700000e+06</td>\n",
              "      <td>33.000000</td>\n",
              "      <td>8.000000</td>\n",
              "      <td>13540.000000</td>\n",
              "      <td>1.651359e+06</td>\n",
              "      <td>3.500000</td>\n",
              "      <td>1.000000</td>\n",
              "      <td>4.000000</td>\n",
              "      <td>5.000000</td>\n",
              "      <td>13.000000</td>\n",
              "      <td>9410.000000</td>\n",
              "      <td>4820.000000</td>\n",
              "      <td>2015.000000</td>\n",
              "      <td>2015.000000</td>\n",
              "      <td>98199.000000</td>\n",
              "      <td>47.777600</td>\n",
              "      <td>-121.315000</td>\n",
              "      <td>6210.000000</td>\n",
              "      <td>871200.000000</td>\n",
              "    </tr>\n",
              "  </tbody>\n",
              "</table>\n",
              "</div>\n",
              "      <button class=\"colab-df-convert\" onclick=\"convertToInteractive('df-877ea2d0-074e-4d67-bdb7-449f36ad1543')\"\n",
              "              title=\"Convert this dataframe to an interactive table.\"\n",
              "              style=\"display:none;\">\n",
              "        \n",
              "  <svg xmlns=\"http://www.w3.org/2000/svg\" height=\"24px\"viewBox=\"0 0 24 24\"\n",
              "       width=\"24px\">\n",
              "    <path d=\"M0 0h24v24H0V0z\" fill=\"none\"/>\n",
              "    <path d=\"M18.56 5.44l.94 2.06.94-2.06 2.06-.94-2.06-.94-.94-2.06-.94 2.06-2.06.94zm-11 1L8.5 8.5l.94-2.06 2.06-.94-2.06-.94L8.5 2.5l-.94 2.06-2.06.94zm10 10l.94 2.06.94-2.06 2.06-.94-2.06-.94-.94-2.06-.94 2.06-2.06.94z\"/><path d=\"M17.41 7.96l-1.37-1.37c-.4-.4-.92-.59-1.43-.59-.52 0-1.04.2-1.43.59L10.3 9.45l-7.72 7.72c-.78.78-.78 2.05 0 2.83L4 21.41c.39.39.9.59 1.41.59.51 0 1.02-.2 1.41-.59l7.78-7.78 2.81-2.81c.8-.78.8-2.07 0-2.86zM5.41 20L4 18.59l7.72-7.72 1.47 1.35L5.41 20z\"/>\n",
              "  </svg>\n",
              "      </button>\n",
              "      \n",
              "  <style>\n",
              "    .colab-df-container {\n",
              "      display:flex;\n",
              "      flex-wrap:wrap;\n",
              "      gap: 12px;\n",
              "    }\n",
              "\n",
              "    .colab-df-convert {\n",
              "      background-color: #E8F0FE;\n",
              "      border: none;\n",
              "      border-radius: 50%;\n",
              "      cursor: pointer;\n",
              "      display: none;\n",
              "      fill: #1967D2;\n",
              "      height: 32px;\n",
              "      padding: 0 0 0 0;\n",
              "      width: 32px;\n",
              "    }\n",
              "\n",
              "    .colab-df-convert:hover {\n",
              "      background-color: #E2EBFA;\n",
              "      box-shadow: 0px 1px 2px rgba(60, 64, 67, 0.3), 0px 1px 3px 1px rgba(60, 64, 67, 0.15);\n",
              "      fill: #174EA6;\n",
              "    }\n",
              "\n",
              "    [theme=dark] .colab-df-convert {\n",
              "      background-color: #3B4455;\n",
              "      fill: #D2E3FC;\n",
              "    }\n",
              "\n",
              "    [theme=dark] .colab-df-convert:hover {\n",
              "      background-color: #434B5C;\n",
              "      box-shadow: 0px 1px 3px 1px rgba(0, 0, 0, 0.15);\n",
              "      filter: drop-shadow(0px 1px 2px rgba(0, 0, 0, 0.3));\n",
              "      fill: #FFFFFF;\n",
              "    }\n",
              "  </style>\n",
              "\n",
              "      <script>\n",
              "        const buttonEl =\n",
              "          document.querySelector('#df-877ea2d0-074e-4d67-bdb7-449f36ad1543 button.colab-df-convert');\n",
              "        buttonEl.style.display =\n",
              "          google.colab.kernel.accessAllowed ? 'block' : 'none';\n",
              "\n",
              "        async function convertToInteractive(key) {\n",
              "          const element = document.querySelector('#df-877ea2d0-074e-4d67-bdb7-449f36ad1543');\n",
              "          const dataTable =\n",
              "            await google.colab.kernel.invokeFunction('convertToInteractive',\n",
              "                                                     [key], {});\n",
              "          if (!dataTable) return;\n",
              "\n",
              "          const docLinkHtml = 'Like what you see? Visit the ' +\n",
              "            '<a target=\"_blank\" href=https://colab.research.google.com/notebooks/data_table.ipynb>data table notebook</a>'\n",
              "            + ' to learn more about interactive tables.';\n",
              "          element.innerHTML = '';\n",
              "          dataTable['output_type'] = 'display_data';\n",
              "          await google.colab.output.renderOutput(dataTable, element);\n",
              "          const docLink = document.createElement('div');\n",
              "          docLink.innerHTML = docLinkHtml;\n",
              "          element.appendChild(docLink);\n",
              "        }\n",
              "      </script>\n",
              "    </div>\n",
              "  </div>\n",
              "  "
            ],
            "text/plain": [
              "                 id         price      bedrooms     bathrooms   sqft_living  \\\n",
              "count  2.161300e+04  2.161300e+04  21613.000000  21613.000000  21613.000000   \n",
              "mean   4.580302e+09  5.400881e+05      3.370842      2.114757   2079.899736   \n",
              "std    2.876566e+09  3.671272e+05      0.930062      0.770163    918.440897   \n",
              "min    1.000102e+06  7.500000e+04      0.000000      0.000000    290.000000   \n",
              "25%    2.123049e+09  3.219500e+05      3.000000      1.750000   1427.000000   \n",
              "50%    3.904930e+09  4.500000e+05      3.000000      2.250000   1910.000000   \n",
              "75%    7.308900e+09  6.450000e+05      4.000000      2.500000   2550.000000   \n",
              "max    9.900000e+09  7.700000e+06     33.000000      8.000000  13540.000000   \n",
              "\n",
              "           sqft_lot        floors    waterfront          view     condition  \\\n",
              "count  2.161300e+04  21613.000000  21613.000000  21613.000000  21613.000000   \n",
              "mean   1.510697e+04      1.494309      0.007542      0.234303      3.409430   \n",
              "std    4.142051e+04      0.539989      0.086517      0.766318      0.650743   \n",
              "min    5.200000e+02      1.000000      0.000000      0.000000      1.000000   \n",
              "25%    5.040000e+03      1.000000      0.000000      0.000000      3.000000   \n",
              "50%    7.618000e+03      1.500000      0.000000      0.000000      3.000000   \n",
              "75%    1.068800e+04      2.000000      0.000000      0.000000      4.000000   \n",
              "max    1.651359e+06      3.500000      1.000000      4.000000      5.000000   \n",
              "\n",
              "              grade    sqft_above  sqft_basement      yr_built  yr_renovated  \\\n",
              "count  21613.000000  21613.000000   21613.000000  21613.000000  21613.000000   \n",
              "mean       7.656873   1788.390691     291.509045   1971.005136     84.402258   \n",
              "std        1.175459    828.090978     442.575043     29.373411    401.679240   \n",
              "min        1.000000    290.000000       0.000000   1900.000000      0.000000   \n",
              "25%        7.000000   1190.000000       0.000000   1951.000000      0.000000   \n",
              "50%        7.000000   1560.000000       0.000000   1975.000000      0.000000   \n",
              "75%        8.000000   2210.000000     560.000000   1997.000000      0.000000   \n",
              "max       13.000000   9410.000000    4820.000000   2015.000000   2015.000000   \n",
              "\n",
              "            zipcode           lat          long  sqft_living15     sqft_lot15  \n",
              "count  21613.000000  21613.000000  21613.000000   21613.000000   21613.000000  \n",
              "mean   98077.939805     47.560053   -122.213896    1986.552492   12768.455652  \n",
              "std       53.505026      0.138564      0.140828     685.391304   27304.179631  \n",
              "min    98001.000000     47.155900   -122.519000     399.000000     651.000000  \n",
              "25%    98033.000000     47.471000   -122.328000    1490.000000    5100.000000  \n",
              "50%    98065.000000     47.571800   -122.230000    1840.000000    7620.000000  \n",
              "75%    98118.000000     47.678000   -122.125000    2360.000000   10083.000000  \n",
              "max    98199.000000     47.777600   -121.315000    6210.000000  871200.000000  "
            ]
          },
          "execution_count": 53,
          "metadata": {},
          "output_type": "execute_result"
        }
      ],
      "source": [
        "df.describe()"
      ]
    },
    {
      "cell_type": "code",
      "execution_count": 54,
      "metadata": {
        "id": "0KUD8T08qMmq"
      },
      "outputs": [],
      "source": [
        "df.drop('id', axis = 1, inplace = True)\n",
        "df.drop('date', axis = 1, inplace = True)\n",
        "df.drop('zipcode', axis = 1, inplace = True)\n",
        "df.drop('lat', axis = 1, inplace = True)\n",
        "df.drop('long', axis = 1, inplace = True)\n"
      ]
    },
    {
      "cell_type": "code",
      "execution_count": 55,
      "metadata": {
        "colab": {
          "base_uri": "https://localhost:8080/",
          "height": 551
        },
        "id": "r-jk_nHmqKpp",
        "outputId": "00e9ad32-99e4-46fb-8ffa-4ca2a5b5dc06"
      },
      "outputs": [
        {
          "data": {
            "image/png": "[encoded data removed]",
            "text/plain": [
              "<Figure size 864x576 with 2 Axes>"
            ]
          },
          "metadata": {
            "needs_background": "light"
          },
          "output_type": "display_data"
        }
      ],
      "source": [
        "plt.figure(figsize=(12,8)) \n",
        "sns.heatmap(df.corr(), annot=True, cmap='Dark2_r', linewidths = 2)\n",
        "plt.show()"
      ]
    },
    {
      "cell_type": "code",
      "execution_count": 56,
      "metadata": {
        "id": "p4zqCnFwq7Oc"
      },
      "outputs": [],
      "source": [
        "columns = df.columns.drop('price')\n",
        "\n",
        "features = columns\n",
        "label = ['price']\n",
        "\n",
        "X = df[features]\n",
        "y = df[label]"
      ]
    },
    {
      "cell_type": "markdown",
      "metadata": {
        "id": "_Q_ZlgELqgef"
      },
      "source": [
        "## **Inicio del Ejecicio 2**:\n",
        "\n",
        "### Encuentra el mejor regresor para los datos de las casas:\n",
        "\n",
        "Divide los datos. Utiliza la función train_test_split (ya esta en el notebook)."
      ]
    },
    {
      "cell_type": "code",
      "execution_count": 57,
      "metadata": {
        "colab": {
          "base_uri": "https://localhost:8080/"
        },
        "id": "p91PEVPLq93-",
        "outputId": "445c4fb8-9c22-4d0e-fe12-03ed3a3f37b2"
      },
      "outputs": [
        {
          "name": "stdout",
          "output_type": "stream",
          "text": [
            "Numero total de registros en la bdd: 21613\n",
            "**************************************************\n",
            "Numero total de registros en el training set: 19451\n",
            "Tamaño de X_train: (19451, 15)\n",
            "**************************************************\n",
            "Mumero total de registros en el test dataset: 2162\n",
            "Tamaño del X_test: (2162, 15)\n"
          ]
        }
      ],
      "source": [
        "from sklearn.model_selection import train_test_split\n",
        "X_train, X_test, y_train, y_test = train_test_split(X, y, test_size = 0.1, random_state = 101)\n",
        "\n",
        "print(f'Numero total de registros en la bdd: {len(X)}')\n",
        "print(\"*****\"*10)\n",
        "print(f'Numero total de registros en el training set: {len(X_train)}')\n",
        "print(f'Tamaño de X_train: {X_train.shape}')\n",
        "print(\"*****\"*10)\n",
        "print(f'Mumero total de registros en el test dataset: {len(X_test)}')\n",
        "print(f'Tamaño del X_test: {X_test.shape}')"
      ]
    },
    {
      "cell_type": "code",
      "execution_count": 58,
      "metadata": {
        "colab": {
          "base_uri": "https://localhost:8080/",
          "height": 300
        },
        "id": "Y2P7C4KVWdTF",
        "outputId": "312eef74-79ee-419e-c668-ecdac9335ad4"
      },
      "outputs": [
        {
          "data": {
            "text/html": [
              "\n",
              "  <div id=\"df-43921595-4464-455e-96dd-0bb5c2d60d38\">\n",
              "    <div class=\"colab-df-container\">\n",
              "      <div>\n",
              "<style scoped>\n",
              "    .dataframe tbody tr th:only-of-type {\n",
              "        vertical-align: middle;\n",
              "    }\n",
              "\n",
              "    .dataframe tbody tr th {\n",
              "        vertical-align: top;\n",
              "    }\n",
              "\n",
              "    .dataframe thead th {\n",
              "        text-align: right;\n",
              "    }\n",
              "</style>\n",
              "<table border=\"1\" class=\"dataframe\">\n",
              "  <thead>\n",
              "    <tr style=\"text-align: right;\">\n",
              "      <th></th>\n",
              "      <th>price</th>\n",
              "    </tr>\n",
              "  </thead>\n",
              "  <tbody>\n",
              "    <tr>\n",
              "      <th>count</th>\n",
              "      <td>2.161300e+04</td>\n",
              "    </tr>\n",
              "    <tr>\n",
              "      <th>mean</th>\n",
              "      <td>5.400881e+05</td>\n",
              "    </tr>\n",
              "    <tr>\n",
              "      <th>std</th>\n",
              "      <td>3.671272e+05</td>\n",
              "    </tr>\n",
              "    <tr>\n",
              "      <th>min</th>\n",
              "      <td>7.500000e+04</td>\n",
              "    </tr>\n",
              "    <tr>\n",
              "      <th>25%</th>\n",
              "      <td>3.219500e+05</td>\n",
              "    </tr>\n",
              "    <tr>\n",
              "      <th>50%</th>\n",
              "      <td>4.500000e+05</td>\n",
              "    </tr>\n",
              "    <tr>\n",
              "      <th>75%</th>\n",
              "      <td>6.450000e+05</td>\n",
              "    </tr>\n",
              "    <tr>\n",
              "      <th>max</th>\n",
              "      <td>7.700000e+06</td>\n",
              "    </tr>\n",
              "  </tbody>\n",
              "</table>\n",
              "</div>\n",
              "      <button class=\"colab-df-convert\" onclick=\"convertToInteractive('df-43921595-4464-455e-96dd-0bb5c2d60d38')\"\n",
              "              title=\"Convert this dataframe to an interactive table.\"\n",
              "              style=\"display:none;\">\n",
              "        \n",
              "  <svg xmlns=\"http://www.w3.org/2000/svg\" height=\"24px\"viewBox=\"0 0 24 24\"\n",
              "       width=\"24px\">\n",
              "    <path d=\"M0 0h24v24H0V0z\" fill=\"none\"/>\n",
              "    <path d=\"M18.56 5.44l.94 2.06.94-2.06 2.06-.94-2.06-.94-.94-2.06-.94 2.06-2.06.94zm-11 1L8.5 8.5l.94-2.06 2.06-.94-2.06-.94L8.5 2.5l-.94 2.06-2.06.94zm10 10l.94 2.06.94-2.06 2.06-.94-2.06-.94-.94-2.06-.94 2.06-2.06.94z\"/><path d=\"M17.41 7.96l-1.37-1.37c-.4-.4-.92-.59-1.43-.59-.52 0-1.04.2-1.43.59L10.3 9.45l-7.72 7.72c-.78.78-.78 2.05 0 2.83L4 21.41c.39.39.9.59 1.41.59.51 0 1.02-.2 1.41-.59l7.78-7.78 2.81-2.81c.8-.78.8-2.07 0-2.86zM5.41 20L4 18.59l7.72-7.72 1.47 1.35L5.41 20z\"/>\n",
              "  </svg>\n",
              "      </button>\n",
              "      \n",
              "  <style>\n",
              "    .colab-df-container {\n",
              "      display:flex;\n",
              "      flex-wrap:wrap;\n",
              "      gap: 12px;\n",
              "    }\n",
              "\n",
              "    .colab-df-convert {\n",
              "      background-color: #E8F0FE;\n",
              "      border: none;\n",
              "      border-radius: 50%;\n",
              "      cursor: pointer;\n",
              "      display: none;\n",
              "      fill: #1967D2;\n",
              "      height: 32px;\n",
              "      padding: 0 0 0 0;\n",
              "      width: 32px;\n",
              "    }\n",
              "\n",
              "    .colab-df-convert:hover {\n",
              "      background-color: #E2EBFA;\n",
              "      box-shadow: 0px 1px 2px rgba(60, 64, 67, 0.3), 0px 1px 3px 1px rgba(60, 64, 67, 0.15);\n",
              "      fill: #174EA6;\n",
              "    }\n",
              "\n",
              "    [theme=dark] .colab-df-convert {\n",
              "      background-color: #3B4455;\n",
              "      fill: #D2E3FC;\n",
              "    }\n",
              "\n",
              "    [theme=dark] .colab-df-convert:hover {\n",
              "      background-color: #434B5C;\n",
              "      box-shadow: 0px 1px 3px 1px rgba(0, 0, 0, 0.15);\n",
              "      filter: drop-shadow(0px 1px 2px rgba(0, 0, 0, 0.3));\n",
              "      fill: #FFFFFF;\n",
              "    }\n",
              "  </style>\n",
              "\n",
              "      <script>\n",
              "        const buttonEl =\n",
              "          document.querySelector('#df-43921595-4464-455e-96dd-0bb5c2d60d38 button.colab-df-convert');\n",
              "        buttonEl.style.display =\n",
              "          google.colab.kernel.accessAllowed ? 'block' : 'none';\n",
              "\n",
              "        async function convertToInteractive(key) {\n",
              "          const element = document.querySelector('#df-43921595-4464-455e-96dd-0bb5c2d60d38');\n",
              "          const dataTable =\n",
              "            await google.colab.kernel.invokeFunction('convertToInteractive',\n",
              "                                                     [key], {});\n",
              "          if (!dataTable) return;\n",
              "\n",
              "          const docLinkHtml = 'Like what you see? Visit the ' +\n",
              "            '<a target=\"_blank\" href=https://colab.research.google.com/notebooks/data_table.ipynb>data table notebook</a>'\n",
              "            + ' to learn more about interactive tables.';\n",
              "          element.innerHTML = '';\n",
              "          dataTable['output_type'] = 'display_data';\n",
              "          await google.colab.output.renderOutput(dataTable, element);\n",
              "          const docLink = document.createElement('div');\n",
              "          docLink.innerHTML = docLinkHtml;\n",
              "          element.appendChild(docLink);\n",
              "        }\n",
              "      </script>\n",
              "    </div>\n",
              "  </div>\n",
              "  "
            ],
            "text/plain": [
              "              price\n",
              "count  2.161300e+04\n",
              "mean   5.400881e+05\n",
              "std    3.671272e+05\n",
              "min    7.500000e+04\n",
              "25%    3.219500e+05\n",
              "50%    4.500000e+05\n",
              "75%    6.450000e+05\n",
              "max    7.700000e+06"
            ]
          },
          "execution_count": 58,
          "metadata": {},
          "output_type": "execute_result"
        }
      ],
      "source": [
        "y.describe()"
      ]
    },
    {
      "cell_type": "markdown",
      "metadata": {
        "id": "xM3Wts6qq5Ig"
      },
      "source": [
        "### **Regresión Múltiple Lineal.**\n",
        "### Realiza la regresión lineal: modelo generado (ecuación), sus errores y r cuadrada."
      ]
    },
    {
      "cell_type": "code",
      "execution_count": 59,
      "metadata": {
        "colab": {
          "base_uri": "https://localhost:8080/"
        },
        "id": "0faHrN8-rv9V",
        "outputId": "0e21be91-c4c2-41d5-86ab-e9ec0a349d5c"
      },
      "outputs": [
        {
          "name": "stdout",
          "output_type": "stream",
          "text": [
            "Coeficientes:\n",
            " [[-3.82008048e+04  4.14661380e+04  1.07992584e+02  1.71356997e-02\n",
            "   3.16916913e+04  5.52691023e+05  4.12493228e+04  2.12221443e+04\n",
            "   1.19493216e+05  4.77750271e+01  6.02175565e+01 -3.55090216e+03\n",
            "   1.32602215e+01  2.90059284e+01 -5.48132603e-01]]\n",
            "b =  [6151359.2627409]\n"
          ]
        }
      ],
      "source": [
        "#tu codigo aquí\n",
        "mlinreg = LinearRegression(fit_intercept=True)  \n",
        "\n",
        "# Entrenamos el modelo\n",
        "mlinreg.fit(X_train, y_train)\n",
        "\n",
        "# Calculamos los parametros \n",
        "print('Coeficientes:\\n', mlinreg.coef_)     # 15 coeficientes\n",
        "print('b = ', mlinreg.intercept_)"
      ]
    },
    {
      "cell_type": "markdown",
      "metadata": {
        "id": "RdDsY453ByAT"
      },
      "source": [
        "Calculamos los errores **MAE**, **MSE** y **R²** con los datos de prueba:"
      ]
    },
    {
      "cell_type": "code",
      "execution_count": 60,
      "metadata": {
        "colab": {
          "base_uri": "https://localhost:8080/"
        },
        "id": "zEq_L1-t9UEi",
        "outputId": "90858b07-159a-40bf-fe0a-ceb3d16b1744"
      },
      "outputs": [
        {
          "name": "stdout",
          "output_type": "stream",
          "text": [
            "Error medio Absoluto (MAE)= 137480.1388273178\n",
            "Root Mean Squared Error (MSE)= 232133.3676240749\n",
            "R-cuadrada = 0.6579723205007814\n"
          ]
        }
      ],
      "source": [
        "# Predicciones con los datos de prueba\n",
        "y_mhat = mlinreg.predict(X_test)\n",
        "\n",
        "# Calculamos las metricas\n",
        "MAE_lineal2 = metrics.mean_absolute_error(y_test, y_mhat)\n",
        "MSE_lineal2 = np.sqrt(metrics.mean_squared_error(y_test, y_mhat))\n",
        "R2_lineal2 = r2_score(y_test, y_mhat)\n",
        "\n",
        "print('Error medio Absoluto (MAE)=', MAE_lineal2)\n",
        "print('Root Mean Squared Error (MSE)=', MSE_lineal2)\n",
        "print('R-cuadrada =', R2_lineal2)"
      ]
    },
    {
      "cell_type": "markdown",
      "metadata": {
        "id": "XcxnX19k-rSx"
      },
      "source": [
        "### **Regresión Múltiple Polinomial.**\n",
        "### Realiza la regresión lineal: modelo generado (ecuación), sus errores y r cuadrada."
      ]
    },
    {
      "cell_type": "code",
      "execution_count": 61,
      "metadata": {
        "colab": {
          "base_uri": "https://localhost:8080/"
        },
        "id": "fVrNBTWh_a5J",
        "outputId": "87701888-9600-4514-ea4a-debc55311a69"
      },
      "outputs": [
        {
          "data": {
            "text/plain": [
              "array([[5.00000000e+00, 2.75000000e+00, 3.75000000e+03, ...,\n",
              "        9.73440000e+06, 2.26356000e+07, 5.26350250e+07],\n",
              "       [4.00000000e+00, 4.50000000e+00, 5.25000000e+03, ...,\n",
              "        6.25000000e+06, 1.20880000e+08, 2.33791590e+09],\n",
              "       [3.00000000e+00, 2.50000000e+00, 2.88000000e+03, ...,\n",
              "        8.76160000e+06, 3.11214400e+07, 1.10544196e+08],\n",
              "       ...,\n",
              "       [3.00000000e+00, 2.25000000e+00, 1.78000000e+03, ...,\n",
              "        2.28010000e+06, 1.15137500e+07, 5.81406250e+07],\n",
              "       [2.00000000e+00, 1.00000000e+00, 1.15000000e+03, ...,\n",
              "        2.14036900e+06, 6.32016000e+06, 1.86624000e+07],\n",
              "       [3.00000000e+00, 1.00000000e+00, 1.45000000e+03, ...,\n",
              "        1.08160000e+06, 8.04960000e+06, 5.99076000e+07]])"
            ]
          },
          "execution_count": 61,
          "metadata": {},
          "output_type": "execute_result"
        }
      ],
      "source": [
        "#polinomial\n",
        "# Generamos nueva matriz con las combinaciones ploinomiales de grado especificado\n",
        "mpoly_features = PolynomialFeatures(degree=2, include_bias=False)\n",
        "X_train_mpoly = mpoly_features.fit_transform(X_train) \n",
        "\n",
        "X_train_mpoly"
      ]
    },
    {
      "cell_type": "code",
      "execution_count": 62,
      "metadata": {
        "colab": {
          "base_uri": "https://localhost:8080/"
        },
        "id": "hgF0_rjrALBT",
        "outputId": "bcb36593-b7d6-474f-c464-61ee7b148f77"
      },
      "outputs": [
        {
          "name": "stdout",
          "output_type": "stream",
          "text": [
            "Coeficientes:\n",
            " [[ 9.33912834e+05 -1.09330730e+06 -4.56449932e+02 -2.78686288e+01\n",
            "  -2.07407238e+06 -3.95431870e+06 -2.88638026e+05  5.58697570e+05\n",
            "   1.09864510e+06 -2.19758415e+02 -3.82034272e+02 -8.59630908e+04\n",
            "  -2.95351595e+03  3.99965710e+03 -3.40106316e+01  9.57541696e+02\n",
            "   7.49958190e+03 -1.37969466e+01 -1.84926695e-02  8.57699569e+03\n",
            "  -1.14965893e+04 -3.06588900e+02 -5.24628836e+03 -5.36788065e+03\n",
            "  -1.20757669e+00 -1.46068182e+01 -4.67099451e+02 -9.13191519e+00\n",
            "   1.72800642e+01  2.15500198e-01 -9.63429892e+03  1.53879172e+01\n",
            "  -1.35842369e-01 -2.59067293e+04  4.33707238e+04  3.82942459e+03\n",
            "  -1.07592927e+03  2.22971689e+04  1.44292325e+01  1.33928361e+00\n",
            "   5.03401980e+02 -1.70798805e+01 -1.72895923e+01 -5.56785248e-02\n",
            "   1.56185890e+00 -4.34972758e+00  4.83299456e+00  1.60303193e+02\n",
            "  -1.42711737e+01  1.31138593e+01  2.07283397e+01  2.61335089e+00\n",
            "  -4.41381412e+00 -2.20765903e+00  6.36282684e-02  3.53629072e+00\n",
            "   1.88176819e+01  3.06637958e-07  4.40839907e-01 -9.84216136e-02\n",
            "  -9.75869659e-02  9.17233241e-02  1.51960354e-01  4.34904161e+00\n",
            "   4.34926327e+00  1.37650380e-02 -1.48516006e-04  1.76864211e-04\n",
            "   1.05303479e-06  2.16116740e+04 -1.31320713e+05  1.44412938e+04\n",
            "   2.02989005e+04 -4.27844150e+03 -2.82201875e+00  7.66330754e+00\n",
            "   1.03664758e+03  2.59349503e+00 -3.20401882e+01 -5.28612817e-01\n",
            "  -3.95431899e+06 -1.60488762e+04  9.19611219e+03 -1.61637325e+05\n",
            "   1.83103328e+02 -2.28001023e+01  4.42833048e+03 -2.99177258e+01\n",
            "   1.70604193e+02 -8.13533327e-01  7.98448565e+03  7.33999963e+03\n",
            "   1.79556171e+04 -1.24963418e+01 -1.77332663e+00  7.20704241e+01\n",
            "  -9.96831512e+00  4.63359903e+00 -5.24194412e-02 -5.41914699e+02\n",
            "  -6.03821219e+03  1.16309467e+00  1.19544378e+01 -3.07074418e+02\n",
            "  -2.01997367e+01  4.63198881e+01 -2.76877580e-01  7.36624125e+03\n",
            "   9.60665725e+00  1.11459299e+01 -5.71989956e+02 -1.01345126e+01\n",
            "  -2.27554341e+01 -5.08577049e-01 -4.16987537e+00 -1.28789962e+00\n",
            "   2.44718109e+00 -2.54496408e-02 -3.53836487e+00 -1.88174913e+01\n",
            "   2.79020491e+00  2.54821210e+00 -1.88342368e-02 -3.53312599e+00\n",
            "  -1.88181978e+01  2.30599022e+01  4.06969503e-01 -2.04695891e+00\n",
            "   1.88936366e-02  1.11629336e+00  4.71190049e-02  2.55405757e-04\n",
            "   3.31517292e-02  1.11144269e-04  2.35741027e-06]]\n",
            "b =  [80227028.3104757]\n"
          ]
        }
      ],
      "source": [
        "# Entrenamos el modelo con los datos de entrenamiento transformados\n",
        "mlinreg1 = LinearRegression(fit_intercept=True)\n",
        "mlinreg1.fit(X_train_mpoly, y_train) \n",
        "\n",
        "# Calculamos los parametros\n",
        "print('Coeficientes:\\n', mlinreg1.coef_)\n",
        "print('b = ', mlinreg1.intercept_)"
      ]
    },
    {
      "cell_type": "markdown",
      "metadata": {
        "id": "_Tf7-6i9B9Iz"
      },
      "source": [
        "Calculamos los errores **MAE**, **MSE** y **R²** con los datos de prueba:"
      ]
    },
    {
      "cell_type": "code",
      "execution_count": 63,
      "metadata": {
        "colab": {
          "base_uri": "https://localhost:8080/"
        },
        "id": "xxmv9yFeCQmg",
        "outputId": "1e6710fb-8641-4fb2-a8f8-4311563b7814"
      },
      "outputs": [
        {
          "name": "stdout",
          "output_type": "stream",
          "text": [
            "Error medio Absoluto (MAE)= 121314.06948173394\n",
            "Root Mean Squared Error (MSE)= 186261.28575138954\n",
            "R-cuadrada = 0.7797929072570198\n"
          ]
        }
      ],
      "source": [
        "# Predicciones con los datos de prueba\n",
        "X_test_mpoly = mpoly_features.fit_transform(X_test)\n",
        "y_mphat = mlinreg1.predict(X_test_mpoly)\n",
        "\n",
        "# Calculamos las metricas\n",
        "MAE_polinom2 = metrics.mean_absolute_error(y_test, y_mphat)\n",
        "MSE_polinom2 = np.sqrt(metrics.mean_squared_error(y_test, y_mphat))\n",
        "R2_polinom2 = r2_score(y_test, y_mphat) \n",
        "\n",
        "print('Error medio Absoluto (MAE)=', MAE_polinom2)\n",
        "print('Root Mean Squared Error (MSE)=', MSE_polinom2)\n",
        "print('R-cuadrada =', R2_polinom2)"
      ]
    },
    {
      "cell_type": "markdown",
      "metadata": {
        "id": "1eheVuiQNcvx"
      },
      "source": [
        "### Regresión con **Ridge** y **Lasso**. Incluye la ecuación de tu modelo, errores y r cuadrada."
      ]
    },
    {
      "cell_type": "markdown",
      "metadata": {
        "id": "6BGIMRcgOVlg"
      },
      "source": [
        "### **Regresión Múltiple Ridge**"
      ]
    },
    {
      "cell_type": "code",
      "execution_count": 64,
      "metadata": {
        "colab": {
          "base_uri": "https://localhost:8080/"
        },
        "id": "WiQwSA3-NrxK",
        "outputId": "7def3c5f-017e-4a66-f1aa-4207c02fe301"
      },
      "outputs": [
        {
          "name": "stdout",
          "output_type": "stream",
          "text": [
            "Coeficientes:\n",
            " [[ 1.05883462e+04 -3.72731073e+03 -2.51183212e+02 -2.90079119e+01\n",
            "  -4.40783324e+03 -9.94031439e+02 -5.76577038e+03  6.67273054e+03\n",
            "   7.62381495e+03 -3.03802315e+02  5.14341183e+01 -8.29335107e+04\n",
            "  -3.17506601e+03  4.25915446e+03 -3.48969383e+01  8.99745649e+02\n",
            "  -1.00376556e+02 -1.03666506e+01 -1.82326227e-02  3.95607841e+03\n",
            "  -4.56067934e+03 -7.19211670e+02 -3.10143537e+02 -5.43323294e+03\n",
            "  -5.65490036e-01 -1.18121575e+01  4.08864489e+00 -8.83444380e-01\n",
            "   1.39281978e+01  1.81258061e-01 -2.81714265e+03  1.48066907e+01\n",
            "  -1.39114597e-01 -1.13043459e+04  8.75428658e+03  6.30217636e+03\n",
            "  -1.13813717e+04  1.34441683e+04  1.42826262e+01  1.73082390e+00\n",
            "  -1.87747407e+01 -2.73440700e+01 -8.46917818e+00 -1.69309264e-02\n",
            "   7.85468680e-01  5.77305825e-01  1.53166989e+00  1.50225533e+02\n",
            "  -1.32180219e+01  1.31588260e+01  2.49278629e+01 -1.67105129e-01\n",
            "  -1.23779093e-01 -3.88957290e-01  1.11772918e+00  2.78451853e-01\n",
            "   5.09801106e-01  3.37770095e-07  4.61802769e-01  6.15540212e-02\n",
            "  -9.43095283e-02  1.09092028e-01  1.53946497e-01 -5.78000395e-01\n",
            "  -5.77764251e-01  1.43005985e-02 -6.92045183e-05  1.65710793e-04\n",
            "   1.07605537e-06  2.48583396e+04 -1.46541665e+04  8.74135516e+03\n",
            "   5.81861833e+03 -4.35739726e+03 -2.93904438e+00  4.96664221e+00\n",
            "   1.23780339e+01 -2.08593579e+01 -3.41169588e+01 -5.83480186e-01\n",
            "  -9.96192252e+02 -2.67807147e+03 -6.74036515e+03 -6.35499609e+04\n",
            "   1.32034104e+02  2.08734024e+01  3.67571901e+01 -6.16172979e+01\n",
            "   1.21567501e+02 -7.05317938e-01  7.89096680e+03  4.46771621e+03\n",
            "   1.51375563e+04 -9.40874210e+00 -4.15403784e+00 -5.79102216e+01\n",
            "  -1.25872039e+01  6.20373909e+00 -6.80123613e-02  2.22873395e+02\n",
            "   5.65895590e+02  2.92127481e+00  1.08516024e+01 -3.96200100e+01\n",
            "  -1.38600161e+01  4.30926356e+01 -2.99262108e-01  6.04604536e+03\n",
            "   8.65523982e+00  1.67559858e+01 -1.04849217e+01 -1.03445583e+00\n",
            "  -2.62063600e+01 -5.48408860e-01 -6.13945931e-01 -1.25085897e+00\n",
            "   5.46498880e-01 -1.07845424e+00 -2.78579185e-01 -5.09594489e-01\n",
            "  -7.30116876e-01  3.73146150e-01 -1.07705286e+00 -2.77005168e-01\n",
            "  -5.10323609e-01  2.13664710e+01  4.92446068e-01 -2.16467706e+00\n",
            "   1.95298350e-02  1.11466628e+00  4.41854135e-02  1.77478657e-04\n",
            "   3.34872359e-02  1.40483922e-04  2.43147736e-06]]\n",
            "b =  [80719863.13346702]\n"
          ]
        }
      ],
      "source": [
        "# Entrenamos el modelo con los datos de entrenamiento transformados\n",
        "ridge_mreg = Ridge(alpha=100, solver='auto')\n",
        "ridge_mreg.fit(X_train_mpoly, y_train)\n",
        "\n",
        "# Calculamos los parametros\n",
        "print('Coeficientes:\\n', ridge_mreg.coef_)\n",
        "print('b = ', ridge_mreg.intercept_)"
      ]
    },
    {
      "cell_type": "markdown",
      "metadata": {
        "id": "avwoePyoOQSl"
      },
      "source": [
        "Calculamos los errores **MAE**, **MSE** y **R²** con los datos de prueba:"
      ]
    },
    {
      "cell_type": "code",
      "execution_count": 65,
      "metadata": {
        "colab": {
          "base_uri": "https://localhost:8080/"
        },
        "id": "DYwn6kj0OjRY",
        "outputId": "c8190a17-ef9c-494b-fa5b-1d56841902c8"
      },
      "outputs": [
        {
          "name": "stdout",
          "output_type": "stream",
          "text": [
            "Error medio Absoluto (MAE)= 121627.41130752185\n",
            "Root Mean Squared Error (MSE)= 185728.54438512796\n",
            "R-cuadrada = 0.7810507709943969\n"
          ]
        }
      ],
      "source": [
        "# Predicciones con los datos de prueba\n",
        "y_mhat_R = ridge_mreg.predict(X_test_mpoly)\n",
        "\n",
        "# Calculamos las metricas\n",
        "MAE_ridge2 = metrics.mean_absolute_error(y_test, y_mhat_R)\n",
        "MSE_ridge2 = np.sqrt(metrics.mean_squared_error(y_test, y_mhat_R))\n",
        "R2_ridge2 = r2_score(y_test, y_mhat_R)\n",
        "\n",
        "print('Error medio Absoluto (MAE)=', MAE_ridge2)\n",
        "print('Root Mean Squared Error (MSE)=', MSE_ridge2)\n",
        "print('R-cuadrada =', R2_ridge2) "
      ]
    },
    {
      "cell_type": "markdown",
      "metadata": {
        "id": "IQ_JhIoWRChB"
      },
      "source": [
        "### **Regresión Múltiple Lasso**"
      ]
    },
    {
      "cell_type": "code",
      "execution_count": 66,
      "metadata": {
        "colab": {
          "base_uri": "https://localhost:8080/"
        },
        "id": "1XopJ10BRL72",
        "outputId": "426df783-667c-4547-9237-483bdb5278ff"
      },
      "outputs": [
        {
          "name": "stdout",
          "output_type": "stream",
          "text": [
            "Coeficientes:\n",
            " [ 1.19306835e+05  1.49217598e+05  8.48214251e+01 -3.03878039e+00\n",
            " -3.66223414e+04 -0.00000000e+00  7.34036924e+04  1.19666181e+05\n",
            "  1.74998176e+05 -1.80789467e+02 -4.46857190e+01 -3.92558810e+03\n",
            " -2.45628023e+02  1.38816393e+02 -1.51936264e+00  1.06046824e+03\n",
            " -2.84340791e+03 -2.03175958e+01 -1.79572975e-01  7.77909744e+03\n",
            " -2.12704799e+04 -6.79694982e+01 -1.45602376e+03 -3.67975937e+03\n",
            "  7.19634907e+00 -1.89952327e-01 -6.00163597e+01  7.00002426e-02\n",
            "  1.86486169e+01  2.66961369e-01  9.69582341e+02  4.60258135e+01\n",
            " -2.41349269e-02 -2.65912708e+04  4.95437249e+04  6.30096413e+03\n",
            " -1.98047201e+04  1.81085397e+04 -1.36671907e+01 -3.79422200e+01\n",
            " -6.67659882e+01 -2.71786209e+01 -3.40445546e+01  1.39945072e-01\n",
            "  1.92075169e-02 -1.75927110e-04  2.84996875e+00  2.03695648e+00\n",
            "  3.28872838e+01 -1.35624896e+01  2.23771739e+01 -5.31467482e-02\n",
            "  2.61758490e-02 -5.39539122e-02 -1.99662429e-03  1.81428212e-03\n",
            " -4.67364641e-04 -8.88255197e-09  4.65475626e-01 -2.15636157e-01\n",
            " -1.00705239e-01  7.86192794e-02  2.40818149e-01 -3.78460566e-04\n",
            " -3.16100881e-04  1.02686411e-03 -3.67319506e-04  3.87507399e-05\n",
            "  1.75585131e-06  2.68008904e+04 -8.91281859e+04  1.11216780e+04\n",
            "  8.80804849e+03  6.37103455e+03 -3.15144468e+00  2.78069072e+01\n",
            "  1.67905497e+01 -3.07803598e+01 -5.73713520e+01 -4.58672170e-01\n",
            " -0.00000000e+00 -1.96591827e+04 -1.73975306e+04 -1.10296390e+05\n",
            "  3.24203645e+02  1.61083496e+02  2.46672299e+02 -7.13376982e+01\n",
            "  1.52192136e+02 -1.12386153e+00  7.28582923e+03  4.06648596e+03\n",
            "  1.59157577e+04 -5.97968923e+01 -5.48503196e+01 -1.02695342e+02\n",
            " -1.49178890e+01  1.15462942e+01 -1.00774731e-01  1.41650053e+03\n",
            " -2.03072727e+03  3.01767236e+01  4.28713773e+01 -1.10103708e+02\n",
            " -2.44828913e+01  7.07153405e+01 -6.18830463e-01  6.26503053e+03\n",
            "  2.33346267e+00  1.82044182e+01 -9.97221635e+01  1.96208243e+00\n",
            " -2.63428070e+01 -4.94072380e-01  4.39005715e-02  2.15349697e-02\n",
            " -6.01532197e-03  3.25047750e-02  2.03840690e-03  4.24069452e-04\n",
            " -1.11130772e-01 -1.10071045e-01  3.69122197e-02  7.24007061e-03\n",
            " -2.03100875e-04  7.00327883e-01  9.58939212e-02 -8.56244219e-02\n",
            "  2.76544721e-03  1.88153129e-02  8.25481015e-02 -3.86147993e-05\n",
            "  3.00543105e-02  2.68993570e-04  2.06157229e-06]\n",
            "b =  [5344493.16165051]\n"
          ]
        },
        {
          "name": "stderr",
          "output_type": "stream",
          "text": [
            "/usr/local/lib/python3.7/dist-packages/sklearn/linear_model/_coordinate_descent.py:648: ConvergenceWarning: Objective did not converge. You might want to increase the number of iterations, check the scale of the features or consider increasing regularisation. Duality gap: 3.358e+14, tolerance: 2.572e+11\n",
            "  coef_, l1_reg, l2_reg, X, y, max_iter, tol, rng, random, positive\n"
          ]
        }
      ],
      "source": [
        "# Entrenamos el modelo con los datos de entrenamiento transformados\n",
        "lasso_mreg = Lasso(alpha=10)\n",
        "lasso_mreg.fit(X_train_mpoly, y_train)\n",
        "\n",
        "# Calculamos los parametros\n",
        "print('Coeficientes:\\n', lasso_mreg.coef_)\n",
        "print('b = ', lasso_mreg.intercept_)"
      ]
    },
    {
      "cell_type": "markdown",
      "metadata": {
        "id": "QT1u0Vr8RrHk"
      },
      "source": [
        "Calculamos los errores **MAE**, **MSE** y **R²** con los datos de prueba:"
      ]
    },
    {
      "cell_type": "code",
      "execution_count": 67,
      "metadata": {
        "colab": {
          "base_uri": "https://localhost:8080/"
        },
        "id": "gAS_oXxtTMbm",
        "outputId": "573e1cc6-5706-4d1f-dea7-c8fb1ac08afa"
      },
      "outputs": [
        {
          "name": "stdout",
          "output_type": "stream",
          "text": [
            "Error medio Absoluto (MAE)= 122462.24084413491\n",
            "Root Mean Squared Error (MSE)= 187920.37605650985\n",
            "R-cuadrada = 0.7758525224569095\n"
          ]
        }
      ],
      "source": [
        "# Predicciones con los datos de prueba\n",
        "y_mhat_L = lasso_mreg.predict(X_test_mpoly)\n",
        "\n",
        "# Calculamos las metricas\n",
        "MAE_lasso2 = metrics.mean_absolute_error(y_test, y_mhat_L)\n",
        "MSE_lasso2 = np.sqrt(metrics.mean_squared_error(y_test, y_mhat_L))\n",
        "R2_lasso2 = r2_score(y_test, y_mhat_L)\n",
        "\n",
        "print('Error medio Absoluto (MAE)=', MAE_lasso2)\n",
        "print('Root Mean Squared Error (MSE)=', MSE_lasso2)\n",
        "print('R-cuadrada =', R2_lasso2)  "
      ]
    },
    {
      "cell_type": "markdown",
      "metadata": {
        "id": "HwxkzLT3TfTH"
      },
      "source": [
        "### Finalmente grafica :\n",
        "**MAE (de los cuatro métodos)**\n",
        "\n",
        "**R2 (de los cuatro métodos)**"
      ]
    },
    {
      "cell_type": "code",
      "execution_count": 68,
      "metadata": {
        "colab": {
          "base_uri": "https://localhost:8080/",
          "height": 374
        },
        "id": "R_TmKHgcTkww",
        "outputId": "2e32b44e-0fb4-43da-9896-fa2a1e4c86f2"
      },
      "outputs": [
        {
          "data": {
            "text/html": [
              "\n",
              "  <div id=\"df-d082fc24-6c19-4d2d-abbc-6dbf108069fe\">\n",
              "    <div class=\"colab-df-container\">\n",
              "      <div>\n",
              "<style scoped>\n",
              "    .dataframe tbody tr th:only-of-type {\n",
              "        vertical-align: middle;\n",
              "    }\n",
              "\n",
              "    .dataframe tbody tr th {\n",
              "        vertical-align: top;\n",
              "    }\n",
              "\n",
              "    .dataframe thead th {\n",
              "        text-align: right;\n",
              "    }\n",
              "</style>\n",
              "<table border=\"1\" class=\"dataframe\">\n",
              "  <thead>\n",
              "    <tr style=\"text-align: right;\">\n",
              "      <th></th>\n",
              "      <th>0</th>\n",
              "      <th>1</th>\n",
              "      <th>2</th>\n",
              "      <th>3</th>\n",
              "    </tr>\n",
              "  </thead>\n",
              "  <tbody>\n",
              "    <tr>\n",
              "      <th>Regresion</th>\n",
              "      <td>Lineal</td>\n",
              "      <td>Polinomial</td>\n",
              "      <td>Ridge</td>\n",
              "      <td>Lasso</td>\n",
              "    </tr>\n",
              "    <tr>\n",
              "      <th>MAE</th>\n",
              "      <td>137480.138827</td>\n",
              "      <td>121314.069482</td>\n",
              "      <td>121627.411308</td>\n",
              "      <td>122462.240844</td>\n",
              "    </tr>\n",
              "  </tbody>\n",
              "</table>\n",
              "</div>\n",
              "      <button class=\"colab-df-convert\" onclick=\"convertToInteractive('df-d082fc24-6c19-4d2d-abbc-6dbf108069fe')\"\n",
              "              title=\"Convert this dataframe to an interactive table.\"\n",
              "              style=\"display:none;\">\n",
              "        \n",
              "  <svg xmlns=\"http://www.w3.org/2000/svg\" height=\"24px\"viewBox=\"0 0 24 24\"\n",
              "       width=\"24px\">\n",
              "    <path d=\"M0 0h24v24H0V0z\" fill=\"none\"/>\n",
              "    <path d=\"M18.56 5.44l.94 2.06.94-2.06 2.06-.94-2.06-.94-.94-2.06-.94 2.06-2.06.94zm-11 1L8.5 8.5l.94-2.06 2.06-.94-2.06-.94L8.5 2.5l-.94 2.06-2.06.94zm10 10l.94 2.06.94-2.06 2.06-.94-2.06-.94-.94-2.06-.94 2.06-2.06.94z\"/><path d=\"M17.41 7.96l-1.37-1.37c-.4-.4-.92-.59-1.43-.59-.52 0-1.04.2-1.43.59L10.3 9.45l-7.72 7.72c-.78.78-.78 2.05 0 2.83L4 21.41c.39.39.9.59 1.41.59.51 0 1.02-.2 1.41-.59l7.78-7.78 2.81-2.81c.8-.78.8-2.07 0-2.86zM5.41 20L4 18.59l7.72-7.72 1.47 1.35L5.41 20z\"/>\n",
              "  </svg>\n",
              "      </button>\n",
              "      \n",
              "  <style>\n",
              "    .colab-df-container {\n",
              "      display:flex;\n",
              "      flex-wrap:wrap;\n",
              "      gap: 12px;\n",
              "    }\n",
              "\n",
              "    .colab-df-convert {\n",
              "      background-color: #E8F0FE;\n",
              "      border: none;\n",
              "      border-radius: 50%;\n",
              "      cursor: pointer;\n",
              "      display: none;\n",
              "      fill: #1967D2;\n",
              "      height: 32px;\n",
              "      padding: 0 0 0 0;\n",
              "      width: 32px;\n",
              "    }\n",
              "\n",
              "    .colab-df-convert:hover {\n",
              "      background-color: #E2EBFA;\n",
              "      box-shadow: 0px 1px 2px rgba(60, 64, 67, 0.3), 0px 1px 3px 1px rgba(60, 64, 67, 0.15);\n",
              "      fill: #174EA6;\n",
              "    }\n",
              "\n",
              "    [theme=dark] .colab-df-convert {\n",
              "      background-color: #3B4455;\n",
              "      fill: #D2E3FC;\n",
              "    }\n",
              "\n",
              "    [theme=dark] .colab-df-convert:hover {\n",
              "      background-color: #434B5C;\n",
              "      box-shadow: 0px 1px 3px 1px rgba(0, 0, 0, 0.15);\n",
              "      filter: drop-shadow(0px 1px 2px rgba(0, 0, 0, 0.3));\n",
              "      fill: #FFFFFF;\n",
              "    }\n",
              "  </style>\n",
              "\n",
              "      <script>\n",
              "        const buttonEl =\n",
              "          document.querySelector('#df-d082fc24-6c19-4d2d-abbc-6dbf108069fe button.colab-df-convert');\n",
              "        buttonEl.style.display =\n",
              "          google.colab.kernel.accessAllowed ? 'block' : 'none';\n",
              "\n",
              "        async function convertToInteractive(key) {\n",
              "          const element = document.querySelector('#df-d082fc24-6c19-4d2d-abbc-6dbf108069fe');\n",
              "          const dataTable =\n",
              "            await google.colab.kernel.invokeFunction('convertToInteractive',\n",
              "                                                     [key], {});\n",
              "          if (!dataTable) return;\n",
              "\n",
              "          const docLinkHtml = 'Like what you see? Visit the ' +\n",
              "            '<a target=\"_blank\" href=https://colab.research.google.com/notebooks/data_table.ipynb>data table notebook</a>'\n",
              "            + ' to learn more about interactive tables.';\n",
              "          element.innerHTML = '';\n",
              "          dataTable['output_type'] = 'display_data';\n",
              "          await google.colab.output.renderOutput(dataTable, element);\n",
              "          const docLink = document.createElement('div');\n",
              "          docLink.innerHTML = docLinkHtml;\n",
              "          element.appendChild(docLink);\n",
              "        }\n",
              "      </script>\n",
              "    </div>\n",
              "  </div>\n",
              "  "
            ],
            "text/plain": [
              "                       0              1              2              3\n",
              "Regresion         Lineal     Polinomial          Ridge          Lasso\n",
              "MAE        137480.138827  121314.069482  121627.411308  122462.240844"
            ]
          },
          "execution_count": 68,
          "metadata": {},
          "output_type": "execute_result"
        },
        {
          "data": {
            "image/png": "[encoded data removed]",
            "text/plain": [
              "<Figure size 432x288 with 1 Axes>"
            ]
          },
          "metadata": {
            "needs_background": "light"
          },
          "output_type": "display_data"
        }
      ],
      "source": [
        "#MAE\n",
        "MAE_list2 = pd.DataFrame({'Regresion':['Lineal', 'Polinomial', 'Ridge', 'Lasso'], \n",
        "                         'MAE':[MAE_lineal2, MAE_polinom2, MAE_ridge2, MAE_lasso2]\n",
        "                         })\n",
        "\n",
        "ax = MAE_list2.plot.bar(x='Regresion', y='MAE', rot=0)\n",
        "MAE_list2.transpose()"
      ]
    },
    {
      "cell_type": "code",
      "execution_count": 69,
      "metadata": {
        "colab": {
          "base_uri": "https://localhost:8080/",
          "height": 374
        },
        "id": "F9RtKGHtUCE6",
        "outputId": "ea2d56dd-723f-42b3-bca1-d3104b3b6d56"
      },
      "outputs": [
        {
          "data": {
            "text/html": [
              "\n",
              "  <div id=\"df-37ac5094-ff34-4b46-8f5e-7c7d5315a13f\">\n",
              "    <div class=\"colab-df-container\">\n",
              "      <div>\n",
              "<style scoped>\n",
              "    .dataframe tbody tr th:only-of-type {\n",
              "        vertical-align: middle;\n",
              "    }\n",
              "\n",
              "    .dataframe tbody tr th {\n",
              "        vertical-align: top;\n",
              "    }\n",
              "\n",
              "    .dataframe thead th {\n",
              "        text-align: right;\n",
              "    }\n",
              "</style>\n",
              "<table border=\"1\" class=\"dataframe\">\n",
              "  <thead>\n",
              "    <tr style=\"text-align: right;\">\n",
              "      <th></th>\n",
              "      <th>0</th>\n",
              "      <th>1</th>\n",
              "      <th>2</th>\n",
              "      <th>3</th>\n",
              "    </tr>\n",
              "  </thead>\n",
              "  <tbody>\n",
              "    <tr>\n",
              "      <th>Regresion</th>\n",
              "      <td>Lineal</td>\n",
              "      <td>Polinomial</td>\n",
              "      <td>Ridge</td>\n",
              "      <td>Lasso</td>\n",
              "    </tr>\n",
              "    <tr>\n",
              "      <th>R2</th>\n",
              "      <td>0.657972</td>\n",
              "      <td>0.779793</td>\n",
              "      <td>0.781051</td>\n",
              "      <td>0.775853</td>\n",
              "    </tr>\n",
              "  </tbody>\n",
              "</table>\n",
              "</div>\n",
              "      <button class=\"colab-df-convert\" onclick=\"convertToInteractive('df-37ac5094-ff34-4b46-8f5e-7c7d5315a13f')\"\n",
              "              title=\"Convert this dataframe to an interactive table.\"\n",
              "              style=\"display:none;\">\n",
              "        \n",
              "  <svg xmlns=\"http://www.w3.org/2000/svg\" height=\"24px\"viewBox=\"0 0 24 24\"\n",
              "       width=\"24px\">\n",
              "    <path d=\"M0 0h24v24H0V0z\" fill=\"none\"/>\n",
              "    <path d=\"M18.56 5.44l.94 2.06.94-2.06 2.06-.94-2.06-.94-.94-2.06-.94 2.06-2.06.94zm-11 1L8.5 8.5l.94-2.06 2.06-.94-2.06-.94L8.5 2.5l-.94 2.06-2.06.94zm10 10l.94 2.06.94-2.06 2.06-.94-2.06-.94-.94-2.06-.94 2.06-2.06.94z\"/><path d=\"M17.41 7.96l-1.37-1.37c-.4-.4-.92-.59-1.43-.59-.52 0-1.04.2-1.43.59L10.3 9.45l-7.72 7.72c-.78.78-.78 2.05 0 2.83L4 21.41c.39.39.9.59 1.41.59.51 0 1.02-.2 1.41-.59l7.78-7.78 2.81-2.81c.8-.78.8-2.07 0-2.86zM5.41 20L4 18.59l7.72-7.72 1.47 1.35L5.41 20z\"/>\n",
              "  </svg>\n",
              "      </button>\n",
              "      \n",
              "  <style>\n",
              "    .colab-df-container {\n",
              "      display:flex;\n",
              "      flex-wrap:wrap;\n",
              "      gap: 12px;\n",
              "    }\n",
              "\n",
              "    .colab-df-convert {\n",
              "      background-color: #E8F0FE;\n",
              "      border: none;\n",
              "      border-radius: 50%;\n",
              "      cursor: pointer;\n",
              "      display: none;\n",
              "      fill: #1967D2;\n",
              "      height: 32px;\n",
              "      padding: 0 0 0 0;\n",
              "      width: 32px;\n",
              "    }\n",
              "\n",
              "    .colab-df-convert:hover {\n",
              "      background-color: #E2EBFA;\n",
              "      box-shadow: 0px 1px 2px rgba(60, 64, 67, 0.3), 0px 1px 3px 1px rgba(60, 64, 67, 0.15);\n",
              "      fill: #174EA6;\n",
              "    }\n",
              "\n",
              "    [theme=dark] .colab-df-convert {\n",
              "      background-color: #3B4455;\n",
              "      fill: #D2E3FC;\n",
              "    }\n",
              "\n",
              "    [theme=dark] .colab-df-convert:hover {\n",
              "      background-color: #434B5C;\n",
              "      box-shadow: 0px 1px 3px 1px rgba(0, 0, 0, 0.15);\n",
              "      filter: drop-shadow(0px 1px 2px rgba(0, 0, 0, 0.3));\n",
              "      fill: #FFFFFF;\n",
              "    }\n",
              "  </style>\n",
              "\n",
              "      <script>\n",
              "        const buttonEl =\n",
              "          document.querySelector('#df-37ac5094-ff34-4b46-8f5e-7c7d5315a13f button.colab-df-convert');\n",
              "        buttonEl.style.display =\n",
              "          google.colab.kernel.accessAllowed ? 'block' : 'none';\n",
              "\n",
              "        async function convertToInteractive(key) {\n",
              "          const element = document.querySelector('#df-37ac5094-ff34-4b46-8f5e-7c7d5315a13f');\n",
              "          const dataTable =\n",
              "            await google.colab.kernel.invokeFunction('convertToInteractive',\n",
              "                                                     [key], {});\n",
              "          if (!dataTable) return;\n",
              "\n",
              "          const docLinkHtml = 'Like what you see? Visit the ' +\n",
              "            '<a target=\"_blank\" href=https://colab.research.google.com/notebooks/data_table.ipynb>data table notebook</a>'\n",
              "            + ' to learn more about interactive tables.';\n",
              "          element.innerHTML = '';\n",
              "          dataTable['output_type'] = 'display_data';\n",
              "          await google.colab.output.renderOutput(dataTable, element);\n",
              "          const docLink = document.createElement('div');\n",
              "          docLink.innerHTML = docLinkHtml;\n",
              "          element.appendChild(docLink);\n",
              "        }\n",
              "      </script>\n",
              "    </div>\n",
              "  </div>\n",
              "  "
            ],
            "text/plain": [
              "                  0           1         2         3\n",
              "Regresion    Lineal  Polinomial     Ridge     Lasso\n",
              "R2         0.657972    0.779793  0.781051  0.775853"
            ]
          },
          "execution_count": 69,
          "metadata": {},
          "output_type": "execute_result"
        },
        {
          "data": {
            "image/png": "[encoded data removed]",
            "text/plain": [
              "<Figure size 432x288 with 1 Axes>"
            ]
          },
          "metadata": {
            "needs_background": "light"
          },
          "output_type": "display_data"
        }
      ],
      "source": [
        "#R-cuadrada\n",
        "R2_list2 = pd.DataFrame({'Regresion':['Lineal', 'Polinomial', 'Ridge', 'Lasso'], \n",
        "                         'R2':[R2_lineal2, R2_polinom2, R2_ridge2, R2_lasso2]\n",
        "                         })\n",
        "\n",
        "ax = R2_list2.plot.bar(x='Regresion', y='R2', rot=0)\n",
        "R2_list2.transpose()"
      ]
    },
    {
      "cell_type": "markdown",
      "metadata": {
        "id": "Leolh25yCgB4"
      },
      "source": [
        "### ¿Qué método se aproxima mejor, por qué? \n",
        "Para este ejercicio encontramos que los métodos Polinomial y Ridge se aproximan mejor a los datos. En este caso no es posible visualizar la distribucion de todas las variables utilizadas, pero con los resultados de las métricas, encontramos que ambos modelos tienen un error MAE mas bajo y R2 mas alto.  "
      ]
    },
    {
      "cell_type": "markdown",
      "metadata": {
        "id": "2GLRU2OWEAEa"
      },
      "source": [
        "### ¿Qué porcentajes de entrenamiento y evaluación usaste? \n",
        "Para los cuatro modelos usamos un 80% de los datos para entrenamiento y 20% para evaluación "
      ]
    },
    {
      "cell_type": "markdown",
      "metadata": {
        "id": "EoPQbMdFEGEs"
      },
      "source": [
        "### ¿Qué error tienes, es bueno, como lo sabes? \n",
        "Comparando la métrica de error MAE de los modelos, tenemos un error entre 121,600 y 121,300 para Ridge y Polinomial respectivamente. La mediana del precio de las casas es de 450,000 por lo que el error de nuestro modelo puede no ser tan bueno para determinar el precio de casas en rangos bajos.   "
      ]
    },
    {
      "cell_type": "markdown",
      "metadata": {
        "id": "Zt28NKWcIFwc"
      },
      "source": [
        "### Conclusion\n",
        "En particular para estos dos ejercicios vemos que el modelo lineal es algo limitado en comparación con los modelos polinomiales. Observamos también que aplicar regularización como Ridge o Lasso pueden ayudar al ajuste del modelo, pero se debe tener precaución de no sobre-entrenar nuestro modelo.  "
      ]
    },
    {
      "cell_type": "markdown",
      "metadata": {
        "id": "VoYPdUJi7qhh"
      },
      "source": [
        "_ _ _\n",
        "_ _ _"
      ]
    }
  ],
  "metadata": {
    "colab": {
      "collapsed_sections": [
        "WUO-kdryVQwK"
      ],
      "provenance": []
    },
    "gpuClass": "standard",
    "kernelspec": {
      "display_name": "Python 3",
      "language": "python",
      "name": "python3"
    },
    "language_info": {
      "codemirror_mode": {
        "name": "ipython",
        "version": 3
      },
      "file_extension": ".py",
      "mimetype": "text/x-python",
      "name": "python",
      "nbconvert_exporter": "python",
      "pygments_lexer": "ipython3",
      "version": "3.7.7"
    }
  },
  "nbformat": 4,
  "nbformat_minor": 0
}
